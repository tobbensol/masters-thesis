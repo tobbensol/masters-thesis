{
 "cells": [
  {
   "cell_type": "code",
   "id": "initial_id",
   "metadata": {
    "collapsed": true,
    "ExecuteTime": {
     "end_time": "2024-10-29T16:49:44.733652Z",
     "start_time": "2024-10-29T16:49:37.305878Z"
    }
   },
   "source": [
    "import gudhi\n",
    "import numpy as np\n",
    "import pandas as pd\n",
    "\n",
    "from functions.data_loading import get_filtered_data_range, get_data_range, get_flight_persistence, get_wind_direction\n",
    "from functions.data_filtering import complete_flight_filter\n",
    "from functions.data_processing import get_takeoff_and_landing_directions, prepare_wind_data\n",
    "\n",
    "from sklearn.model_selection import train_test_split\n",
    "\n",
    "from datetime import datetime\n",
    "from tqdm import tqdm\n",
    "from traffic.core import Traffic, Flight"
   ],
   "outputs": [],
   "execution_count": 1
  },
  {
   "metadata": {
    "ExecuteTime": {
     "end_time": "2024-10-29T16:50:31.827314Z",
     "start_time": "2024-10-29T16:49:44.741658Z"
    }
   },
   "cell_type": "code",
   "source": [
    "origin = \"bergen\"\n",
    "destination = \"oslo\"\n",
    "\n",
    "unfiltered_data, file_name = get_data_range(origin, destination, datetime(year=2023, month=1, day=1), datetime(year=2024, month=1, day=1))\n",
    "filtered_flights, file_name = get_filtered_data_range(unfiltered_data, file_name, complete_flight_filter(origin, destination))\n",
    "persistences, _ = get_flight_persistence(filtered_flights, file_name)\n",
    "\n",
    "directions = list(get_takeoff_and_landing_directions(filtered_flights))"
   ],
   "id": "f3115cf9e990a8df",
   "outputs": [],
   "execution_count": 2
  },
  {
   "metadata": {
    "ExecuteTime": {
     "end_time": "2024-10-29T16:51:38.933403Z",
     "start_time": "2024-10-29T16:50:44.857183Z"
    }
   },
   "cell_type": "code",
   "source": [
    "origin = \"FLESLAND\"\n",
    "destination = \"GARDERMOEN\"\n",
    "\n",
    "origin_wind = prepare_wind_data(get_wind_direction(origin))\n",
    "destination_wind = prepare_wind_data(get_wind_direction(destination))\n",
    "\n",
    "directions = list(get_takeoff_and_landing_directions(filtered_flights))\n",
    "dataset = pd.DataFrame(directions)\n",
    "\n",
    "dataset.rename({0: \"start_time\",  1: \"end_time\", 2: \"start_direction\", 3: \"end_direction\"}, axis=1, inplace=True)\n",
    "dataset['start_x'], dataset['start_y']  = np.sin(dataset['start_direction']), np.cos(dataset['start_direction'])\n",
    "dataset['end_x'], dataset['end_y'] = np.sin(dataset['end_direction']), np.cos(dataset['end_direction'])\n",
    "dataset['start_time'] = pd.to_datetime(dataset['start_time']).dt.round(\"s\")\n",
    "dataset['end_time'] = pd.to_datetime(dataset['end_time']).dt.round(\"s\")\n",
    "\n",
    "merged_start = pd.merge(origin_wind, dataset, how=\"right\", left_on=\"time\", right_on=\"start_time\")\n",
    "merged_end = pd.merge(destination_wind, dataset, how=\"right\", left_on=\"time\", right_on=\"end_time\")\n",
    "\n",
    "final_dataset = pd.DataFrame({\n",
    "    'start_wind_x': merged_start['x'],\n",
    "    'start_wind_y': merged_start['y'],\n",
    "    'start_wind_speed': merged_start['wind_speed'],\n",
    "    'end_wind_x': merged_end['x'],\n",
    "    'end_wind_y': merged_end['y'],\n",
    "    'end_wind_speed': merged_end['wind_speed']\n",
    "}).to_numpy()"
   ],
   "id": "7395f080db06ae8d",
   "outputs": [],
   "execution_count": 3
  },
  {
   "metadata": {
    "ExecuteTime": {
     "end_time": "2024-10-29T16:57:03.494169Z",
     "start_time": "2024-10-29T16:56:58.425782Z"
    }
   },
   "cell_type": "code",
   "source": [
    "rows = []\n",
    "for flight, wind in tqdm(zip(filtered_flights, final_dataset)):\n",
    "    data = flight.data.copy(deep=True)\n",
    "    \n",
    "    unwrapped = np.unwrap(np.deg2rad(data[\"heading\"]), period=2 * np.pi, discont=np.pi)\n",
    "    unwrapped_diff = unwrapped.max() - unwrapped.min()\n",
    "    \n",
    "    length = (data[\"timestamp\"].max() - data[\"timestamp\"].min()).total_seconds()\n",
    "    \n",
    "    max_velocity = data[\"velocity\"].max()\n",
    "    min_velocity = data[\"velocity\"].min()\n",
    "    \n",
    "    start_wind_x = wind[0]\n",
    "    start_wind_y = wind[1]\n",
    "    start_wind_speed = wind[2]\n",
    "    end_wind_x = wind[0]\n",
    "    end_wind_y = wind[1]\n",
    "    end_wind_speed = wind[2]\n",
    "    \n",
    "    row = [unwrapped_diff, length, start_wind_x, start_wind_y, start_wind_speed, end_wind_x, end_wind_y, end_wind_speed]\n",
    "    rows.append(row)\n",
    "\n",
    "# Convert the list of rows into a NumPy array\n",
    "final_array = np.array(rows)\n",
    "\n",
    "final_array"
   ],
   "id": "4b68e582fe83a138",
   "outputs": [
    {
     "name": "stderr",
     "output_type": "stream",
     "text": [
      "3219it [00:05, 636.28it/s] \n"
     ]
    },
    {
     "data": {
      "text/plain": [
       "array([[ 2.28846671e+00,  2.78500000e+03, -3.09385839e-01, ...,\n",
       "        -3.09385839e-01, -9.50936592e-01,  4.19888889e+00],\n",
       "       [ 2.71179772e+00,  2.12500000e+03,  1.24832987e-01, ...,\n",
       "         1.24832987e-01,  9.92177769e-01,  5.01555556e-01],\n",
       "       [ 2.23689375e+00,  2.04600000e+03, -4.12971972e-01, ...,\n",
       "        -4.12971972e-01, -9.10743735e-01,  2.86350000e+00],\n",
       "       ...,\n",
       "       [ 2.75720188e+00,  2.22100000e+03,  9.99666402e-01, ...,\n",
       "         9.99666402e-01, -2.58280005e-02,  1.50800000e+00],\n",
       "       [ 2.24563463e+00,  2.15100000e+03, -4.39939170e-01, ...,\n",
       "        -4.39939170e-01, -8.98027576e-01,  3.47800000e+00],\n",
       "       [ 2.24450425e+00,  2.01300000e+03, -5.48293230e-01, ...,\n",
       "        -5.48293230e-01, -8.36286156e-01,  3.72500000e+00]])"
      ]
     },
     "execution_count": 15,
     "metadata": {},
     "output_type": "execute_result"
    }
   ],
   "execution_count": 15
  },
  {
   "metadata": {
    "ExecuteTime": {
     "end_time": "2024-10-29T16:51:57.128232Z",
     "start_time": "2024-10-29T16:51:43.909972Z"
    }
   },
   "cell_type": "code",
   "source": [
    "|labels = []\n",
    "for tree in persistences:\n",
    "    persistence = tree.persistence()\n",
    "\n",
    "    more_than_00001 = len([x for x in persistence if  x[0] == 1 and x[1][1] - x[1][0] > 0.0001])\n",
    "    labels.append(more_than_00001)\n",
    "labels = np.array(labels)"
   ],
   "id": "f4b26ba16df8b992",
   "outputs": [],
   "execution_count": 5
  },
  {
   "metadata": {
    "ExecuteTime": {
     "end_time": "2024-10-29T17:07:24.413919Z",
     "start_time": "2024-10-29T17:07:24.409902Z"
    }
   },
   "cell_type": "code",
   "source": [
    "x_train, x_val_test, y_train, y_val_test = train_test_split(final_array, labels, test_size=0.3, random_state=42)\n",
    "x_val, x_test, y_val, y_test = train_test_split(x_val_test, y_val_test, test_size=0.5, random_state=42)"
   ],
   "id": "e377fe120fbcdb76",
   "outputs": [],
   "execution_count": 42
  },
  {
   "metadata": {
    "ExecuteTime": {
     "end_time": "2024-10-29T16:58:34.744660Z",
     "start_time": "2024-10-29T16:58:34.741088Z"
    }
   },
   "cell_type": "code",
   "source": [
    "from sklearn.neural_network import MLPRegressor\n",
    "from sklearn.dummy import DummyRegressor\n",
    "from sklearn.ensemble import RandomForestRegressor\n",
    "from sklearn.tree import DecisionTreeRegressor\n",
    "from sklearn.neighbors import KNeighborsRegressor\n",
    "\n",
    "models = {\n",
    "    \"Base line\" : [DummyRegressor(strategy = \"mean\"), {\n",
    "    \n",
    "    }],\n",
    "    \"Multi-layer Perception\" : [MLPRegressor(random_state=42, max_iter = 10000), {\n",
    "        \"hidden_layer_sizes\" : [10, 25, 50], \n",
    "    }],\n",
    "    \"K Nearest Neighbors\" : [KNeighborsRegressor(), {\n",
    "        \"n_neighbors\" : [5, 10, 20, 40], \n",
    "        \"p\": [1, 2, 3]\n",
    "    }],\n",
    "    \"Random Forrest Regressor\" : [RandomForestRegressor(random_state=42), {\n",
    "        \"max_depth\": [2, 3], \n",
    "        \"n_estimators\" : [50, 100, 300]\n",
    "    }],\n",
    "    \"Decision Tree Regressor\" : [DecisionTreeRegressor(random_state=42), {\n",
    "        \"min_samples_split\" : [2, 3, 4],\n",
    "        \"min_samples_leaf\" : [1, 2, 3]\n",
    "    }],\n",
    "}"
   ],
   "id": "8c43a7ae8cd1b91",
   "outputs": [],
   "execution_count": 21
  },
  {
   "metadata": {
    "ExecuteTime": {
     "end_time": "2024-10-29T17:07:44.387731Z",
     "start_time": "2024-10-29T17:07:26.254842Z"
    }
   },
   "cell_type": "code",
   "source": [
    "from sklearn.metrics import accuracy_score\n",
    "from sklearn.model_selection import GridSearchCV\n",
    "from sklearn.metrics import root_mean_squared_error\n",
    "\n",
    "datalist = []\n",
    "\n",
    "for i in models.keys():\n",
    "    model = GridSearchCV(models[i][0], models[i][1])\n",
    "    prediction = model.fit(x_train, y_train).predict(x_test)\n",
    "    \n",
    "    error = root_mean_squared_error(y_test, prediction)\n",
    "    rounded_error = root_mean_squared_error(y_test, np.round(prediction))\n",
    "    datalist.append([model.best_estimator_, error, rounded_error])"
   ],
   "id": "bb837b2266b2f743",
   "outputs": [],
   "execution_count": 43
  },
  {
   "metadata": {
    "ExecuteTime": {
     "end_time": "2024-10-29T17:07:44.396959Z",
     "start_time": "2024-10-29T17:07:44.393735Z"
    }
   },
   "cell_type": "code",
   "source": [
    "for i, j, k in datalist:\n",
    "    print(f\"{i.__repr__(): <70}: {j: .3}, {k: .3}\")"
   ],
   "id": "24237c54e6d70a19",
   "outputs": [
    {
     "name": "stdout",
     "output_type": "stream",
     "text": [
      "DummyRegressor()                                                      :  0.222,  0.223\n",
      "MLPRegressor(hidden_layer_sizes=50, max_iter=10000, random_state=42)  :  0.158,  0.144\n",
      "KNeighborsRegressor(p=1)                                              :  0.211,  0.236\n",
      "RandomForestRegressor(max_depth=2, random_state=42)                   :  0.0743,  0.0788\n",
      "DecisionTreeRegressor(min_samples_leaf=3, random_state=42)            :  0.082,  0.0788\n"
     ]
    }
   ],
   "execution_count": 44
  },
  {
   "metadata": {
    "ExecuteTime": {
     "end_time": "2024-10-29T17:07:51.165334Z",
     "start_time": "2024-10-29T17:07:51.162571Z"
    }
   },
   "cell_type": "code",
   "source": "best_model = sorted(datalist, key=lambda x: x[1])[0][0]",
   "id": "29b16af00dd079f8",
   "outputs": [],
   "execution_count": 45
  },
  {
   "metadata": {
    "ExecuteTime": {
     "end_time": "2024-10-29T17:07:51.938120Z",
     "start_time": "2024-10-29T17:07:51.748070Z"
    }
   },
   "cell_type": "code",
   "source": [
    "x_train_test = np.concatenate([x_train, x_test])\n",
    "y_train_test = np.concatenate([y_train, y_test])\n",
    "\n",
    "prediction = best_model.fit(x_train_test, y_train_test).predict(x_val)\n",
    "rounded_error = root_mean_squared_error(y_val, np.round(prediction))\n",
    "print(f\"{best_model.__class__.__name__}: {rounded_error: .3}\")"
   ],
   "id": "5bf8a9955b7809f2",
   "outputs": [
    {
     "name": "stdout",
     "output_type": "stream",
     "text": [
      "RandomForestRegressor:  0.091\n"
     ]
    }
   ],
   "execution_count": 46
  },
  {
   "metadata": {},
   "cell_type": "code",
   "outputs": [],
   "execution_count": null,
   "source": "",
   "id": "78e1a629c99e742f"
  }
 ],
 "metadata": {
  "kernelspec": {
   "display_name": "Python 3",
   "language": "python",
   "name": "python3"
  },
  "language_info": {
   "codemirror_mode": {
    "name": "ipython",
    "version": 2
   },
   "file_extension": ".py",
   "mimetype": "text/x-python",
   "name": "python",
   "nbconvert_exporter": "python",
   "pygments_lexer": "ipython2",
   "version": "2.7.6"
  }
 },
 "nbformat": 4,
 "nbformat_minor": 5
}
