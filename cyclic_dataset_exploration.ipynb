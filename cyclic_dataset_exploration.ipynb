{
 "cells": [
  {
   "cell_type": "code",
   "id": "initial_id",
   "metadata": {
    "collapsed": true,
    "ExecuteTime": {
     "end_time": "2025-01-23T20:10:20.208969Z",
     "start_time": "2025-01-23T20:10:20.206011Z"
    }
   },
   "source": [
    "import datetime\n",
    "import gudhi\n",
    "import pickle\n",
    "import os\n",
    "\n",
    "import numpy as np\n",
    "import pandas as pd\n",
    "\n",
    "from typing import List\n",
    "from tqdm.auto import tqdm\n",
    "\n",
    "from traffic.core import Traffic, Flight\n",
    "from functions.data_filtering import ICAO_codes, large_gap_filter\n",
    "from functions.data_processing import flight_pers, remove_outliers_z_score, remove_outliers_dbscan\n",
    "from functions.data_loading import linkage_cluster_persistances, flights_from_query\n",
    "\n",
    "from scipy.cluster.hierarchy import linkage, fcluster"
   ],
   "outputs": [],
   "execution_count": 20
  },
  {
   "metadata": {
    "ExecuteTime": {
     "end_time": "2025-01-23T20:10:49.198900Z",
     "start_time": "2025-01-23T20:10:20.260277Z"
    }
   },
   "cell_type": "code",
   "source": [
    "# load minimum data set\n",
    "df = pd.read_csv(\"data/go_arounds_augmented.csv\", low_memory=False)\n",
    "df[\"time\"] = pd.to_datetime(df[\"time\"])\n",
    "\n",
    "start = datetime.datetime(year=2019, month=1, day=1).replace(\n",
    "    tzinfo=datetime.timezone.utc\n",
    ")\n",
    "stop = datetime.datetime(year=2019, month=1, day=15).replace(\n",
    "    tzinfo=datetime.timezone.utc\n",
    ")\n",
    "\n",
    "with_GA = df.query(f\"has_ga & (@start <= time <= @stop)\")\n",
    "without_GA = df.query(f\"not has_ga & (@start <= time <= @stop)\")"
   ],
   "id": "edc4f95f0e6d96af",
   "outputs": [],
   "execution_count": 21
  },
  {
   "metadata": {
    "ExecuteTime": {
     "end_time": "2025-01-23T20:10:53.324817Z",
     "start_time": "2025-01-23T20:10:49.201003Z"
    }
   },
   "cell_type": "code",
   "source": [
    "# The flights can be converted into a Traffic object\n",
    "count = with_GA.shape[0]\n",
    "with_GA_flights = flights_from_query(with_GA, count, \"data/with_GA_flights.pkl\")\n",
    "without_GA_flights = flights_from_query(without_GA, count, \"data/without_GA_flights.pkl\")"
   ],
   "id": "c9c85b5cd6edcf98",
   "outputs": [],
   "execution_count": 22
  },
  {
   "metadata": {
    "ExecuteTime": {
     "end_time": "2025-01-23T20:11:22.668717Z",
     "start_time": "2025-01-23T20:10:53.363654Z"
    }
   },
   "cell_type": "code",
   "source": [
    "with_GA_flights = list(filter(large_gap_filter, with_GA_flights))\n",
    "without_GA_flights = list(filter(large_gap_filter, without_GA_flights))\n",
    "\n",
    "with_GA_labels = np.ones(len(with_GA_flights))\n",
    "without_GA_labels = np.zeros(len(without_GA_flights))\n",
    "\n",
    "flights = with_GA_flights + without_GA_flights\n",
    "labels = np.concatenate((with_GA_labels, without_GA_labels))\n",
    "\n",
    "trees = flight_pers(flights)"
   ],
   "id": "bb585c25cfff2882",
   "outputs": [
    {
     "name": "stderr",
     "output_type": "stream",
     "text": [
      "100%|██████████| 1389/1389 [00:22<00:00, 61.04it/s]\n"
     ]
    }
   ],
   "execution_count": 23
  },
  {
   "metadata": {
    "ExecuteTime": {
     "end_time": "2025-01-23T20:11:22.708112Z",
     "start_time": "2025-01-23T20:11:22.705106Z"
    }
   },
   "cell_type": "code",
   "source": [
    "print(len(with_GA_flights))\n",
    "print(len(without_GA_flights))"
   ],
   "id": "14a59ab4e4746d56",
   "outputs": [
    {
     "name": "stdout",
     "output_type": "stream",
     "text": [
      "705\n",
      "684\n"
     ]
    }
   ],
   "execution_count": 24
  },
  {
   "metadata": {
    "ExecuteTime": {
     "end_time": "2025-01-23T20:11:22.781070Z",
     "start_time": "2025-01-23T20:11:22.778346Z"
    }
   },
   "cell_type": "code",
   "source": "Z = linkage_cluster_persistances(trees, file_name=\"cyclic_dataset\", load_results=True)",
   "id": "4185a40948eb14b8",
   "outputs": [],
   "execution_count": 25
  },
  {
   "metadata": {
    "ExecuteTime": {
     "end_time": "2025-01-23T20:11:22.820971Z",
     "start_time": "2025-01-23T20:11:22.816113Z"
    }
   },
   "cell_type": "code",
   "source": [
    "clustering = fcluster(Z, t=10, criterion='maxclust')\n",
    "\n",
    "for i in range(1, len(np.unique(clustering))+1):\n",
    "    print(f\"{i}: {sum(clustering == i)}\")"
   ],
   "id": "516e8670df07928",
   "outputs": [
    {
     "name": "stdout",
     "output_type": "stream",
     "text": [
      "1: 2\n",
      "2: 8\n",
      "3: 4\n",
      "4: 1351\n",
      "5: 18\n",
      "6: 2\n",
      "7: 1\n",
      "8: 1\n",
      "9: 1\n",
      "10: 1\n"
     ]
    }
   ],
   "execution_count": 26
  },
  {
   "metadata": {
    "ExecuteTime": {
     "end_time": "2025-01-23T20:11:23.054486Z",
     "start_time": "2025-01-23T20:11:22.886085Z"
    }
   },
   "cell_type": "code",
   "source": [
    "from matplotlib import pyplot as plt\n",
    "\n",
    "flight = flights[np.where(clustering == 10)[0][0]]\n",
    "before = flight.data[[\"longitude\", \"latitude\"]].to_numpy()\n",
    "\n",
    "dbscan_paths        = before[remove_outliers_dbscan(before)]\n",
    "z_score_paths       = before[remove_outliers_z_score(before)]\n",
    "both_bethods_paths  = dbscan_paths[remove_outliers_z_score(dbscan_paths)]\n",
    "\n",
    "paths = []\n",
    "paths.append((before, \"original\"))\n",
    "paths.append((z_score_paths, \"z-score\"))\n",
    "paths.append((dbscan_paths, \"dbscan\"))\n",
    "paths.append((both_bethods_paths, \"dbscan + z-score\"))\n",
    "\n",
    "fig, axs = plt.subplots((len(paths)+1)//2, 2, sharex=True, sharey=True)\n",
    "for i, (path, name) in enumerate(paths):\n",
    "    axs[i//2, i%2].plot(path[:, 0], path[:, 1])\n",
    "    axs[i//2][i%2].set_title(name)\n",
    "\n",
    "fig.set_figheight(6)\n",
    "fig.set_figwidth(6)"
   ],
   "id": "cd925375fb071144",
   "outputs": [
    {
     "data": {
      "text/plain": [
       "<Figure size 600x600 with 4 Axes>"
      ],
      "image/png": "[encoded data removed]"
     },
     "metadata": {},
     "output_type": "display_data"
    }
   ],
   "execution_count": 27
  },
  {
   "metadata": {
    "ExecuteTime": {
     "end_time": "2025-01-23T20:11:23.092240Z",
     "start_time": "2025-01-23T20:11:23.089859Z"
    }
   },
   "cell_type": "code",
   "source": "",
   "id": "d5532421a59dc5b7",
   "outputs": [],
   "execution_count": null
  }
 ],
 "metadata": {
  "kernelspec": {
   "display_name": "Python 3",
   "language": "python",
   "name": "python3"
  },
  "language_info": {
   "codemirror_mode": {
    "name": "ipython",
    "version": 2
   },
   "file_extension": ".py",
   "mimetype": "text/x-python",
   "name": "python",
   "nbconvert_exporter": "python",
   "pygments_lexer": "ipython2",
   "version": "2.7.6"
  }
 },
 "nbformat": 4,
 "nbformat_minor": 5
}
