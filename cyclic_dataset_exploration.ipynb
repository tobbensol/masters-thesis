{
 "cells": [
  {
   "cell_type": "code",
   "id": "initial_id",
   "metadata": {
    "collapsed": true,
    "ExecuteTime": {
     "end_time": "2025-05-01T20:00:46.657087Z",
     "start_time": "2025-05-01T20:00:41.644986Z"
    }
   },
   "source": [
    "%load_ext autoreload\n",
    "%autoreload 2\n",
    "\n",
    "import datetime\n",
    "\n",
    "import numpy as np\n",
    "import pandas as pd\n",
    "import gudhi\n",
    "\n",
    "from traffic.core import Traffic, Flight\n",
    "from functions.data_filtering import ICAO_codes, large_gap_filter\n",
    "from functions.data_processing import flight_persistence, sublevelset_persistence, remove_outliers_z_score, remove_outliers_dbscan\n",
    "from functions.data_loading import linkage_cluster_persistances, flights_from_query, get_landing_labels, get_flight_persistances\n",
    "\n",
    "from scipy.cluster.hierarchy import fcluster\n",
    "from matplotlib import pyplot as plt"
   ],
   "outputs": [],
   "execution_count": 1
  },
  {
   "metadata": {
    "ExecuteTime": {
     "end_time": "2025-05-01T20:17:08.232244Z",
     "start_time": "2025-05-01T20:16:32.611384Z"
    }
   },
   "cell_type": "code",
   "source": [
    "# load minimum data set\n",
    "df = pd.read_csv(\"data/go_arounds_augmented.csv\", low_memory=False)\n",
    "df[\"time\"] = pd.to_datetime(df[\"time\"])\n",
    "\n",
    "start = datetime.datetime(year=2019, month=1, day=1).replace(\n",
    "    tzinfo=datetime.timezone.utc\n",
    ")\n",
    "stop = datetime.datetime(year=2019, month=3, day=1).replace(\n",
    "    tzinfo=datetime.timezone.utc\n",
    ")"
   ],
   "id": "7216eca7a9aefc03",
   "outputs": [],
   "execution_count": 11
  },
  {
   "metadata": {
    "ExecuteTime": {
     "end_time": "2025-05-01T20:17:08.672176Z",
     "start_time": "2025-05-01T20:17:08.237734Z"
    }
   },
   "cell_type": "code",
   "source": [
    "with_GA = df.query(f\"has_ga & (@start <= time <= @stop)\")\n",
    "without_GA = df.query(f\"not has_ga & (@start <= time <= @stop)\")\n",
    "\n",
    "plt.hist(with_GA[\"n_approaches\"])"
   ],
   "id": "27d16911b5f1cc94",
   "outputs": [
    {
     "data": {
      "text/plain": [
       "(array([5.096e+03, 1.000e+02, 5.700e+01, 3.500e+01, 1.000e+01, 1.000e+00,\n",
       "        8.000e+00, 0.000e+00, 2.000e+00, 1.000e+00]),\n",
       " array([ 2. ,  4.3,  6.6,  8.9, 11.2, 13.5, 15.8, 18.1, 20.4, 22.7, 25. ]),\n",
       " <BarContainer object of 10 artists>)"
      ]
     },
     "execution_count": 12,
     "metadata": {},
     "output_type": "execute_result"
    },
    {
     "data": {
      "text/plain": [
       "<Figure size 640x480 with 1 Axes>"
      ],
      "image/png": "[encoded data removed]"
     },
     "metadata": {},
     "output_type": "display_data"
    }
   ],
   "execution_count": 12
  },
  {
   "metadata": {
    "ExecuteTime": {
     "end_time": "2025-05-01T20:17:08.821343Z",
     "start_time": "2025-05-01T20:17:08.714247Z"
    }
   },
   "cell_type": "code",
   "source": [
    "without_GA = without_GA.sample(n=with_GA.shape[0], random_state=42)\n",
    "query = pd.concat([with_GA, without_GA], axis=0)"
   ],
   "id": "1243999d9d4fcb8a",
   "outputs": [],
   "execution_count": 13
  },
  {
   "metadata": {
    "ExecuteTime": {
     "end_time": "2025-05-01T21:44:52.106649Z",
     "start_time": "2025-05-01T21:44:01.364975Z"
    }
   },
   "cell_type": "code",
   "source": [
    "file_name = \"balanced1_2\"\n",
    "flights = flights_from_query(query, file_name, load_results=True)\n",
    "data = get_landing_labels(query, file_name, load_results=True)"
   ],
   "id": "47bec179313d30e9",
   "outputs": [
    {
     "name": "stderr",
     "output_type": "stream",
     "text": [
      " 13%|█▎        | 1425/10620 [00:21<02:19, 65.75it/s]\n"
     ]
    },
    {
     "ename": "ValueError",
     "evalue": "polyorder must be less than window_length.",
     "output_type": "error",
     "traceback": [
      "\u001B[1;31m---------------------------------------------------------------------------\u001B[0m",
      "\u001B[1;31mValueError\u001B[0m                                Traceback (most recent call last)",
      "Cell \u001B[1;32mIn[15], line 4\u001B[0m\n\u001B[0;32m      2\u001B[0m flights \u001B[38;5;241m=\u001B[39m flights_from_query(query, file_name, load_results\u001B[38;5;241m=\u001B[39m\u001B[38;5;28;01mTrue\u001B[39;00m)\n\u001B[0;32m      3\u001B[0m data \u001B[38;5;241m=\u001B[39m get_landing_labels(query, file_name, load_results\u001B[38;5;241m=\u001B[39m\u001B[38;5;28;01mTrue\u001B[39;00m)\n\u001B[1;32m----> 4\u001B[0m persistence \u001B[38;5;241m=\u001B[39m \u001B[43mget_flight_persistances\u001B[49m\u001B[43m(\u001B[49m\u001B[43mflights\u001B[49m\u001B[43m,\u001B[49m\u001B[43m \u001B[49m\u001B[43mfile_name\u001B[49m\u001B[43m,\u001B[49m\u001B[43m \u001B[49m\u001B[43mload_results\u001B[49m\u001B[38;5;241;43m=\u001B[39;49m\u001B[38;5;28;43;01mTrue\u001B[39;49;00m\u001B[43m)\u001B[49m\n",
      "File \u001B[1;32m~\\Desktop\\programering\\masters-thesis\\functions\\data_loading.py:236\u001B[0m, in \u001B[0;36mget_flight_persistances\u001B[1;34m(flights, file_name, load_results)\u001B[0m\n\u001B[0;32m    233\u001B[0m     \u001B[38;5;28;01mwith\u001B[39;00m \u001B[38;5;28mopen\u001B[39m(path, \u001B[38;5;124m\"\u001B[39m\u001B[38;5;124mrb\u001B[39m\u001B[38;5;124m\"\u001B[39m) \u001B[38;5;28;01mas\u001B[39;00m file:\n\u001B[0;32m    234\u001B[0m         \u001B[38;5;28;01mreturn\u001B[39;00m pickle\u001B[38;5;241m.\u001B[39mload(file)\n\u001B[1;32m--> 236\u001B[0m LL_persistence, LL_paths \u001B[38;5;241m=\u001B[39m \u001B[43mflight_persistence\u001B[49m\u001B[43m(\u001B[49m\u001B[43mflights\u001B[49m\u001B[43m)\u001B[49m\n\u001B[0;32m    237\u001B[0m LL_data \u001B[38;5;241m=\u001B[39m PersistenceData(LL_persistence, LL_paths, \u001B[38;5;124m\"\u001B[39m\u001B[38;5;124mLL\u001B[39m\u001B[38;5;124m\"\u001B[39m)\n\u001B[0;32m    239\u001B[0m A_persistence, A_paths \u001B[38;5;241m=\u001B[39m sublevelset_persistence(flights, \u001B[38;5;124m\"\u001B[39m\u001B[38;5;124mgeoaltitude\u001B[39m\u001B[38;5;124m\"\u001B[39m)\n",
      "File \u001B[1;32m~\\Desktop\\programering\\masters-thesis\\functions\\data_processing.py:36\u001B[0m, in \u001B[0;36mflight_persistence\u001B[1;34m(flights)\u001B[0m\n\u001B[0;32m     33\u001B[0m f \u001B[38;5;241m=\u001B[39m (\u001B[38;5;28;01mlambda\u001B[39;00m x: remove_outliers_dbscan(x, min_samples\u001B[38;5;241m=\u001B[39m\u001B[38;5;241m25\u001B[39m, eps \u001B[38;5;241m=\u001B[39m \u001B[38;5;241m0.05\u001B[39m))\n\u001B[0;32m     35\u001B[0m data \u001B[38;5;241m=\u001B[39m get_columns_timestamp_index(flights[i], [\u001B[38;5;124m'\u001B[39m\u001B[38;5;124mlatitude\u001B[39m\u001B[38;5;124m'\u001B[39m, \u001B[38;5;124m'\u001B[39m\u001B[38;5;124mlongitude\u001B[39m\u001B[38;5;124m'\u001B[39m])\n\u001B[1;32m---> 36\u001B[0m data \u001B[38;5;241m=\u001B[39m \u001B[43mclean_flight_data\u001B[49m\u001B[43m(\u001B[49m\u001B[43mdata\u001B[49m\u001B[43m,\u001B[49m\u001B[43m \u001B[49m\u001B[43mdrop_duplicates\u001B[49m\u001B[38;5;241;43m=\u001B[39;49m\u001B[38;5;28;43;01mTrue\u001B[39;49;00m\u001B[43m,\u001B[49m\u001B[43m \u001B[49m\u001B[43mf\u001B[49m\u001B[38;5;241;43m=\u001B[39;49m\u001B[43mf\u001B[49m\u001B[43m)\u001B[49m\n\u001B[0;32m     38\u001B[0m alpha_complex: gudhi\u001B[38;5;241m.\u001B[39malpha_complex \u001B[38;5;241m=\u001B[39m AlphaComplex(points\u001B[38;5;241m=\u001B[39mdata)\n\u001B[0;32m     39\u001B[0m tree: gudhi\u001B[38;5;241m.\u001B[39msimplex_tree\u001B[38;5;241m.\u001B[39mSimplexTree \u001B[38;5;241m=\u001B[39m alpha_complex\u001B[38;5;241m.\u001B[39mcreate_simplex_tree()\n",
      "File \u001B[1;32m~\\Desktop\\programering\\masters-thesis\\functions\\data_processing.py:104\u001B[0m, in \u001B[0;36mclean_flight_data\u001B[1;34m(data, drop_duplicates, f)\u001B[0m\n\u001B[0;32m    102\u001B[0m \u001B[38;5;28;01mfor\u001B[39;00m i \u001B[38;5;129;01min\u001B[39;00m data\u001B[38;5;241m.\u001B[39mcolumns:\n\u001B[0;32m    103\u001B[0m     col \u001B[38;5;241m=\u001B[39m data[i]\u001B[38;5;241m.\u001B[39mto_numpy()\n\u001B[1;32m--> 104\u001B[0m     cols\u001B[38;5;241m.\u001B[39mappend(\u001B[43msavgol_filter\u001B[49m\u001B[43m(\u001B[49m\u001B[43mx\u001B[49m\u001B[38;5;241;43m=\u001B[39;49m\u001B[43mcol\u001B[49m\u001B[43m,\u001B[49m\u001B[43m \u001B[49m\u001B[43mwindow_length\u001B[49m\u001B[38;5;241;43m=\u001B[39;49m\u001B[38;5;28;43mmin\u001B[39;49m\u001B[43m(\u001B[49m\u001B[38;5;28;43mlen\u001B[39;49m\u001B[43m(\u001B[49m\u001B[43mdata\u001B[49m\u001B[43m)\u001B[49m\u001B[38;5;241;43m-\u001B[39;49m\u001B[38;5;241;43m5\u001B[39;49m\u001B[43m,\u001B[49m\u001B[43m \u001B[49m\u001B[38;5;241;43m25\u001B[39;49m\u001B[43m)\u001B[49m\u001B[43m,\u001B[49m\u001B[43m \u001B[49m\u001B[43mpolyorder\u001B[49m\u001B[38;5;241;43m=\u001B[39;49m\u001B[38;5;241;43m2\u001B[39;49m\u001B[43m)\u001B[49m)\n\u001B[0;32m    105\u001B[0m data \u001B[38;5;241m=\u001B[39m np\u001B[38;5;241m.\u001B[39marray(cols)\u001B[38;5;241m.\u001B[39mT\n\u001B[0;32m    106\u001B[0m \u001B[38;5;28;01mreturn\u001B[39;00m data\n",
      "File \u001B[1;32m~\\Desktop\\programering\\masters-thesis\\venv\\Lib\\site-packages\\scipy\\signal\\_savitzky_golay.py:341\u001B[0m, in \u001B[0;36msavgol_filter\u001B[1;34m(x, window_length, polyorder, deriv, delta, axis, mode, cval)\u001B[0m\n\u001B[0;32m    338\u001B[0m \u001B[38;5;28;01mif\u001B[39;00m x\u001B[38;5;241m.\u001B[39mdtype \u001B[38;5;241m!=\u001B[39m np\u001B[38;5;241m.\u001B[39mfloat64 \u001B[38;5;129;01mand\u001B[39;00m x\u001B[38;5;241m.\u001B[39mdtype \u001B[38;5;241m!=\u001B[39m np\u001B[38;5;241m.\u001B[39mfloat32:\n\u001B[0;32m    339\u001B[0m     x \u001B[38;5;241m=\u001B[39m x\u001B[38;5;241m.\u001B[39mastype(np\u001B[38;5;241m.\u001B[39mfloat64)\n\u001B[1;32m--> 341\u001B[0m coeffs \u001B[38;5;241m=\u001B[39m \u001B[43msavgol_coeffs\u001B[49m\u001B[43m(\u001B[49m\u001B[43mwindow_length\u001B[49m\u001B[43m,\u001B[49m\u001B[43m \u001B[49m\u001B[43mpolyorder\u001B[49m\u001B[43m,\u001B[49m\u001B[43m \u001B[49m\u001B[43mderiv\u001B[49m\u001B[38;5;241;43m=\u001B[39;49m\u001B[43mderiv\u001B[49m\u001B[43m,\u001B[49m\u001B[43m \u001B[49m\u001B[43mdelta\u001B[49m\u001B[38;5;241;43m=\u001B[39;49m\u001B[43mdelta\u001B[49m\u001B[43m)\u001B[49m\n\u001B[0;32m    343\u001B[0m \u001B[38;5;28;01mif\u001B[39;00m mode \u001B[38;5;241m==\u001B[39m \u001B[38;5;124m\"\u001B[39m\u001B[38;5;124minterp\u001B[39m\u001B[38;5;124m\"\u001B[39m:\n\u001B[0;32m    344\u001B[0m     \u001B[38;5;28;01mif\u001B[39;00m window_length \u001B[38;5;241m>\u001B[39m x\u001B[38;5;241m.\u001B[39mshape[axis]:\n",
      "File \u001B[1;32m~\\Desktop\\programering\\masters-thesis\\venv\\Lib\\site-packages\\scipy\\signal\\_savitzky_golay.py:101\u001B[0m, in \u001B[0;36msavgol_coeffs\u001B[1;34m(window_length, polyorder, deriv, delta, pos, use)\u001B[0m\n\u001B[0;32m     88\u001B[0m \u001B[38;5;66;03m# An alternative method for finding the coefficients when deriv=0 is\u001B[39;00m\n\u001B[0;32m     89\u001B[0m \u001B[38;5;66;03m#    t = np.arange(window_length)\u001B[39;00m\n\u001B[0;32m     90\u001B[0m \u001B[38;5;66;03m#    unit = (t == pos).astype(int)\u001B[39;00m\n\u001B[1;32m   (...)\u001B[0m\n\u001B[0;32m     97\u001B[0m \u001B[38;5;66;03m#    pos = nL + 1\u001B[39;00m\n\u001B[0;32m     98\u001B[0m \u001B[38;5;66;03m#    c = savgol_coeffs(window_length, M, pos=pos, use='dot')\u001B[39;00m\n\u001B[0;32m    100\u001B[0m \u001B[38;5;28;01mif\u001B[39;00m polyorder \u001B[38;5;241m>\u001B[39m\u001B[38;5;241m=\u001B[39m window_length:\n\u001B[1;32m--> 101\u001B[0m     \u001B[38;5;28;01mraise\u001B[39;00m \u001B[38;5;167;01mValueError\u001B[39;00m(\u001B[38;5;124m\"\u001B[39m\u001B[38;5;124mpolyorder must be less than window_length.\u001B[39m\u001B[38;5;124m\"\u001B[39m)\n\u001B[0;32m    103\u001B[0m halflen, rem \u001B[38;5;241m=\u001B[39m \u001B[38;5;28mdivmod\u001B[39m(window_length, \u001B[38;5;241m2\u001B[39m)\n\u001B[0;32m    105\u001B[0m \u001B[38;5;28;01mif\u001B[39;00m pos \u001B[38;5;129;01mis\u001B[39;00m \u001B[38;5;28;01mNone\u001B[39;00m:\n",
      "\u001B[1;31mValueError\u001B[0m: polyorder must be less than window_length."
     ]
    }
   ],
   "execution_count": 15
  },
  {
   "metadata": {
    "ExecuteTime": {
     "end_time": "2025-05-01T21:45:44.100004Z",
     "start_time": "2025-05-01T21:45:42.873453Z"
    }
   },
   "cell_type": "code",
   "source": [
    "approach_1 = df.query(f\"n_approaches==1 & (@start <= time <= @stop)\")\n",
    "approach_2 = df.query(f\"n_approaches==2 & (@start <= time <= @stop)\")\n",
    "approach_3 = df.query(f\"n_approaches==3 & (@start <= time <= @stop)\")\n",
    "approach_4 = df.query(f\"n_approaches==4 & (@start <= time <= @stop)\")\n",
    "\n",
    "count_4 = approach_4.shape[0]\n",
    "count_3 = min(approach_3.shape[0], count_4*2)\n",
    "count_2 = min(approach_2.shape[0], count_3*2)\n",
    "count_1 = min(approach_1.shape[0], count_2*2)\n",
    "\n",
    "approach_3 = approach_3.sample(n=count_3, random_state=42)\n",
    "approach_2 = approach_2.sample(n=count_2, random_state=42)\n",
    "approach_1 = approach_1.sample(n=count_1, random_state=42)\n",
    "query = pd.concat([approach_1, approach_2, approach_3, approach_4], axis=0)"
   ],
   "id": "d2992107122859a6",
   "outputs": [],
   "execution_count": 16
  },
  {
   "metadata": {
    "ExecuteTime": {
     "end_time": "2025-05-01T21:46:29.644828Z",
     "start_time": "2025-05-01T21:46:26.997256Z"
    }
   },
   "cell_type": "code",
   "source": [
    "file_name = \"unbalanced1_2_3_4\"\n",
    "flights = flights_from_query(query, file_name, load_results=True)\n",
    "data = get_landing_labels(query, file_name, load_results=True)"
   ],
   "id": "bce037abe1f20720",
   "outputs": [
    {
     "name": "stderr",
     "output_type": "stream",
     "text": [
      "  2%|▏         | 30/1215 [00:00<00:11, 103.86it/s]\n"
     ]
    },
    {
     "ename": "ValueError",
     "evalue": "polyorder must be less than window_length.",
     "output_type": "error",
     "traceback": [
      "\u001B[1;31m---------------------------------------------------------------------------\u001B[0m",
      "\u001B[1;31mValueError\u001B[0m                                Traceback (most recent call last)",
      "Cell \u001B[1;32mIn[18], line 4\u001B[0m\n\u001B[0;32m      2\u001B[0m flights \u001B[38;5;241m=\u001B[39m flights_from_query(query, file_name, load_results\u001B[38;5;241m=\u001B[39m\u001B[38;5;28;01mTrue\u001B[39;00m)\n\u001B[0;32m      3\u001B[0m data \u001B[38;5;241m=\u001B[39m get_landing_labels(query, file_name, load_results\u001B[38;5;241m=\u001B[39m\u001B[38;5;28;01mTrue\u001B[39;00m)\n\u001B[1;32m----> 4\u001B[0m persistence \u001B[38;5;241m=\u001B[39m \u001B[43mget_flight_persistances\u001B[49m\u001B[43m(\u001B[49m\u001B[43mflights\u001B[49m\u001B[43m,\u001B[49m\u001B[43m \u001B[49m\u001B[43mfile_name\u001B[49m\u001B[43m,\u001B[49m\u001B[43m \u001B[49m\u001B[43mload_results\u001B[49m\u001B[38;5;241;43m=\u001B[39;49m\u001B[38;5;28;43;01mTrue\u001B[39;49;00m\u001B[43m)\u001B[49m\n",
      "File \u001B[1;32m~\\Desktop\\programering\\masters-thesis\\functions\\data_loading.py:236\u001B[0m, in \u001B[0;36mget_flight_persistances\u001B[1;34m(flights, file_name, load_results)\u001B[0m\n\u001B[0;32m    233\u001B[0m     \u001B[38;5;28;01mwith\u001B[39;00m \u001B[38;5;28mopen\u001B[39m(path, \u001B[38;5;124m\"\u001B[39m\u001B[38;5;124mrb\u001B[39m\u001B[38;5;124m\"\u001B[39m) \u001B[38;5;28;01mas\u001B[39;00m file:\n\u001B[0;32m    234\u001B[0m         \u001B[38;5;28;01mreturn\u001B[39;00m pickle\u001B[38;5;241m.\u001B[39mload(file)\n\u001B[1;32m--> 236\u001B[0m LL_persistence, LL_paths \u001B[38;5;241m=\u001B[39m \u001B[43mflight_persistence\u001B[49m\u001B[43m(\u001B[49m\u001B[43mflights\u001B[49m\u001B[43m)\u001B[49m\n\u001B[0;32m    237\u001B[0m LL_data \u001B[38;5;241m=\u001B[39m PersistenceData(LL_persistence, LL_paths, \u001B[38;5;124m\"\u001B[39m\u001B[38;5;124mLL\u001B[39m\u001B[38;5;124m\"\u001B[39m)\n\u001B[0;32m    239\u001B[0m A_persistence, A_paths \u001B[38;5;241m=\u001B[39m sublevelset_persistence(flights, \u001B[38;5;124m\"\u001B[39m\u001B[38;5;124mgeoaltitude\u001B[39m\u001B[38;5;124m\"\u001B[39m)\n",
      "File \u001B[1;32m~\\Desktop\\programering\\masters-thesis\\functions\\data_processing.py:36\u001B[0m, in \u001B[0;36mflight_persistence\u001B[1;34m(flights)\u001B[0m\n\u001B[0;32m     33\u001B[0m f \u001B[38;5;241m=\u001B[39m (\u001B[38;5;28;01mlambda\u001B[39;00m x: remove_outliers_dbscan(x, min_samples\u001B[38;5;241m=\u001B[39m\u001B[38;5;241m25\u001B[39m, eps \u001B[38;5;241m=\u001B[39m \u001B[38;5;241m0.05\u001B[39m))\n\u001B[0;32m     35\u001B[0m data \u001B[38;5;241m=\u001B[39m get_columns_timestamp_index(flights[i], [\u001B[38;5;124m'\u001B[39m\u001B[38;5;124mlatitude\u001B[39m\u001B[38;5;124m'\u001B[39m, \u001B[38;5;124m'\u001B[39m\u001B[38;5;124mlongitude\u001B[39m\u001B[38;5;124m'\u001B[39m])\n\u001B[1;32m---> 36\u001B[0m data \u001B[38;5;241m=\u001B[39m \u001B[43mclean_flight_data\u001B[49m\u001B[43m(\u001B[49m\u001B[43mdata\u001B[49m\u001B[43m,\u001B[49m\u001B[43m \u001B[49m\u001B[43mdrop_duplicates\u001B[49m\u001B[38;5;241;43m=\u001B[39;49m\u001B[38;5;28;43;01mTrue\u001B[39;49;00m\u001B[43m,\u001B[49m\u001B[43m \u001B[49m\u001B[43mf\u001B[49m\u001B[38;5;241;43m=\u001B[39;49m\u001B[43mf\u001B[49m\u001B[43m)\u001B[49m\n\u001B[0;32m     38\u001B[0m alpha_complex: gudhi\u001B[38;5;241m.\u001B[39malpha_complex \u001B[38;5;241m=\u001B[39m AlphaComplex(points\u001B[38;5;241m=\u001B[39mdata)\n\u001B[0;32m     39\u001B[0m tree: gudhi\u001B[38;5;241m.\u001B[39msimplex_tree\u001B[38;5;241m.\u001B[39mSimplexTree \u001B[38;5;241m=\u001B[39m alpha_complex\u001B[38;5;241m.\u001B[39mcreate_simplex_tree()\n",
      "File \u001B[1;32m~\\Desktop\\programering\\masters-thesis\\functions\\data_processing.py:104\u001B[0m, in \u001B[0;36mclean_flight_data\u001B[1;34m(data, drop_duplicates, f)\u001B[0m\n\u001B[0;32m    102\u001B[0m \u001B[38;5;28;01mfor\u001B[39;00m i \u001B[38;5;129;01min\u001B[39;00m data\u001B[38;5;241m.\u001B[39mcolumns:\n\u001B[0;32m    103\u001B[0m     col \u001B[38;5;241m=\u001B[39m data[i]\u001B[38;5;241m.\u001B[39mto_numpy()\n\u001B[1;32m--> 104\u001B[0m     cols\u001B[38;5;241m.\u001B[39mappend(\u001B[43msavgol_filter\u001B[49m\u001B[43m(\u001B[49m\u001B[43mx\u001B[49m\u001B[38;5;241;43m=\u001B[39;49m\u001B[43mcol\u001B[49m\u001B[43m,\u001B[49m\u001B[43m \u001B[49m\u001B[43mwindow_length\u001B[49m\u001B[38;5;241;43m=\u001B[39;49m\u001B[38;5;28;43mmin\u001B[39;49m\u001B[43m(\u001B[49m\u001B[38;5;28;43mlen\u001B[39;49m\u001B[43m(\u001B[49m\u001B[43mdata\u001B[49m\u001B[43m)\u001B[49m\u001B[38;5;241;43m-\u001B[39;49m\u001B[38;5;241;43m1\u001B[39;49m\u001B[43m,\u001B[49m\u001B[43m \u001B[49m\u001B[38;5;241;43m25\u001B[39;49m\u001B[43m)\u001B[49m\u001B[43m,\u001B[49m\u001B[43m \u001B[49m\u001B[43mpolyorder\u001B[49m\u001B[38;5;241;43m=\u001B[39;49m\u001B[38;5;241;43m2\u001B[39;49m\u001B[43m)\u001B[49m)\n\u001B[0;32m    105\u001B[0m data \u001B[38;5;241m=\u001B[39m np\u001B[38;5;241m.\u001B[39marray(cols)\u001B[38;5;241m.\u001B[39mT\n\u001B[0;32m    106\u001B[0m \u001B[38;5;28;01mreturn\u001B[39;00m data\n",
      "File \u001B[1;32m~\\Desktop\\programering\\masters-thesis\\venv\\Lib\\site-packages\\scipy\\signal\\_savitzky_golay.py:341\u001B[0m, in \u001B[0;36msavgol_filter\u001B[1;34m(x, window_length, polyorder, deriv, delta, axis, mode, cval)\u001B[0m\n\u001B[0;32m    338\u001B[0m \u001B[38;5;28;01mif\u001B[39;00m x\u001B[38;5;241m.\u001B[39mdtype \u001B[38;5;241m!=\u001B[39m np\u001B[38;5;241m.\u001B[39mfloat64 \u001B[38;5;129;01mand\u001B[39;00m x\u001B[38;5;241m.\u001B[39mdtype \u001B[38;5;241m!=\u001B[39m np\u001B[38;5;241m.\u001B[39mfloat32:\n\u001B[0;32m    339\u001B[0m     x \u001B[38;5;241m=\u001B[39m x\u001B[38;5;241m.\u001B[39mastype(np\u001B[38;5;241m.\u001B[39mfloat64)\n\u001B[1;32m--> 341\u001B[0m coeffs \u001B[38;5;241m=\u001B[39m \u001B[43msavgol_coeffs\u001B[49m\u001B[43m(\u001B[49m\u001B[43mwindow_length\u001B[49m\u001B[43m,\u001B[49m\u001B[43m \u001B[49m\u001B[43mpolyorder\u001B[49m\u001B[43m,\u001B[49m\u001B[43m \u001B[49m\u001B[43mderiv\u001B[49m\u001B[38;5;241;43m=\u001B[39;49m\u001B[43mderiv\u001B[49m\u001B[43m,\u001B[49m\u001B[43m \u001B[49m\u001B[43mdelta\u001B[49m\u001B[38;5;241;43m=\u001B[39;49m\u001B[43mdelta\u001B[49m\u001B[43m)\u001B[49m\n\u001B[0;32m    343\u001B[0m \u001B[38;5;28;01mif\u001B[39;00m mode \u001B[38;5;241m==\u001B[39m \u001B[38;5;124m\"\u001B[39m\u001B[38;5;124minterp\u001B[39m\u001B[38;5;124m\"\u001B[39m:\n\u001B[0;32m    344\u001B[0m     \u001B[38;5;28;01mif\u001B[39;00m window_length \u001B[38;5;241m>\u001B[39m x\u001B[38;5;241m.\u001B[39mshape[axis]:\n",
      "File \u001B[1;32m~\\Desktop\\programering\\masters-thesis\\venv\\Lib\\site-packages\\scipy\\signal\\_savitzky_golay.py:101\u001B[0m, in \u001B[0;36msavgol_coeffs\u001B[1;34m(window_length, polyorder, deriv, delta, pos, use)\u001B[0m\n\u001B[0;32m     88\u001B[0m \u001B[38;5;66;03m# An alternative method for finding the coefficients when deriv=0 is\u001B[39;00m\n\u001B[0;32m     89\u001B[0m \u001B[38;5;66;03m#    t = np.arange(window_length)\u001B[39;00m\n\u001B[0;32m     90\u001B[0m \u001B[38;5;66;03m#    unit = (t == pos).astype(int)\u001B[39;00m\n\u001B[1;32m   (...)\u001B[0m\n\u001B[0;32m     97\u001B[0m \u001B[38;5;66;03m#    pos = nL + 1\u001B[39;00m\n\u001B[0;32m     98\u001B[0m \u001B[38;5;66;03m#    c = savgol_coeffs(window_length, M, pos=pos, use='dot')\u001B[39;00m\n\u001B[0;32m    100\u001B[0m \u001B[38;5;28;01mif\u001B[39;00m polyorder \u001B[38;5;241m>\u001B[39m\u001B[38;5;241m=\u001B[39m window_length:\n\u001B[1;32m--> 101\u001B[0m     \u001B[38;5;28;01mraise\u001B[39;00m \u001B[38;5;167;01mValueError\u001B[39;00m(\u001B[38;5;124m\"\u001B[39m\u001B[38;5;124mpolyorder must be less than window_length.\u001B[39m\u001B[38;5;124m\"\u001B[39m)\n\u001B[0;32m    103\u001B[0m halflen, rem \u001B[38;5;241m=\u001B[39m \u001B[38;5;28mdivmod\u001B[39m(window_length, \u001B[38;5;241m2\u001B[39m)\n\u001B[0;32m    105\u001B[0m \u001B[38;5;28;01mif\u001B[39;00m pos \u001B[38;5;129;01mis\u001B[39;00m \u001B[38;5;28;01mNone\u001B[39;00m:\n",
      "\u001B[1;31mValueError\u001B[0m: polyorder must be less than window_length."
     ]
    }
   ],
   "execution_count": 18
  },
  {
   "metadata": {
    "ExecuteTime": {
     "end_time": "2025-05-01T21:50:49.451154Z",
     "start_time": "2025-05-01T21:50:48.811163Z"
    }
   },
   "cell_type": "code",
   "source": [
    "approach_1 = df.query(f\"n_approaches==1 & (@start <= time <= @stop)\")\n",
    "approach_2 = df.query(f\"n_approaches==2 & (@start <= time <= @stop)\")\n",
    "approach_3 = df.query(f\"n_approaches==3 & (@start <= time <= @stop)\")\n",
    "\n",
    "count = approach_3.shape[0]\n",
    "\n",
    "approach_2 = approach_2.sample(n=count, random_state=42)\n",
    "approach_1 = approach_1.sample(n=count, random_state=42)\n",
    "query = pd.concat([approach_1, approach_2, approach_3], axis=0)"
   ],
   "id": "22af8a38437839f8",
   "outputs": [],
   "execution_count": 19
  },
  {
   "metadata": {
    "ExecuteTime": {
     "end_time": "2025-05-01T21:51:03.651991Z",
     "start_time": "2025-05-01T21:50:53.190668Z"
    }
   },
   "cell_type": "code",
   "source": [
    "file_name = \"balanced1_2_3\"\n",
    "flights = flights_from_query(query, file_name, load_results=True)\n",
    "data = get_landing_labels(query, file_name, load_results=True)"
   ],
   "id": "ad5d5d423021267f",
   "outputs": [
    {
     "name": "stderr",
     "output_type": "stream",
     "text": [
      "100%|██████████| 840/840 [00:05<00:00, 160.71it/s]\n",
      "100%|██████████| 840/840 [00:00<00:00, 53852.86it/s]\n",
      "  4%|▎         | 30/840 [00:00<00:07, 105.61it/s]\n"
     ]
    },
    {
     "ename": "ValueError",
     "evalue": "polyorder must be less than window_length.",
     "output_type": "error",
     "traceback": [
      "\u001B[1;31m---------------------------------------------------------------------------\u001B[0m",
      "\u001B[1;31mValueError\u001B[0m                                Traceback (most recent call last)",
      "Cell \u001B[1;32mIn[20], line 4\u001B[0m\n\u001B[0;32m      2\u001B[0m flights \u001B[38;5;241m=\u001B[39m flights_from_query(query, file_name, load_results\u001B[38;5;241m=\u001B[39m\u001B[38;5;28;01mTrue\u001B[39;00m)\n\u001B[0;32m      3\u001B[0m data \u001B[38;5;241m=\u001B[39m get_landing_labels(query, file_name, load_results\u001B[38;5;241m=\u001B[39m\u001B[38;5;28;01mTrue\u001B[39;00m)\n\u001B[1;32m----> 4\u001B[0m persistence \u001B[38;5;241m=\u001B[39m \u001B[43mget_flight_persistances\u001B[49m\u001B[43m(\u001B[49m\u001B[43mflights\u001B[49m\u001B[43m,\u001B[49m\u001B[43m \u001B[49m\u001B[43mfile_name\u001B[49m\u001B[43m,\u001B[49m\u001B[43m \u001B[49m\u001B[43mload_results\u001B[49m\u001B[38;5;241;43m=\u001B[39;49m\u001B[38;5;28;43;01mTrue\u001B[39;49;00m\u001B[43m)\u001B[49m\n",
      "File \u001B[1;32m~\\Desktop\\programering\\masters-thesis\\functions\\data_loading.py:236\u001B[0m, in \u001B[0;36mget_flight_persistances\u001B[1;34m(flights, file_name, load_results)\u001B[0m\n\u001B[0;32m    233\u001B[0m     \u001B[38;5;28;01mwith\u001B[39;00m \u001B[38;5;28mopen\u001B[39m(path, \u001B[38;5;124m\"\u001B[39m\u001B[38;5;124mrb\u001B[39m\u001B[38;5;124m\"\u001B[39m) \u001B[38;5;28;01mas\u001B[39;00m file:\n\u001B[0;32m    234\u001B[0m         \u001B[38;5;28;01mreturn\u001B[39;00m pickle\u001B[38;5;241m.\u001B[39mload(file)\n\u001B[1;32m--> 236\u001B[0m LL_persistence, LL_paths \u001B[38;5;241m=\u001B[39m \u001B[43mflight_persistence\u001B[49m\u001B[43m(\u001B[49m\u001B[43mflights\u001B[49m\u001B[43m)\u001B[49m\n\u001B[0;32m    237\u001B[0m LL_data \u001B[38;5;241m=\u001B[39m PersistenceData(LL_persistence, LL_paths, \u001B[38;5;124m\"\u001B[39m\u001B[38;5;124mLL\u001B[39m\u001B[38;5;124m\"\u001B[39m)\n\u001B[0;32m    239\u001B[0m A_persistence, A_paths \u001B[38;5;241m=\u001B[39m sublevelset_persistence(flights, \u001B[38;5;124m\"\u001B[39m\u001B[38;5;124mgeoaltitude\u001B[39m\u001B[38;5;124m\"\u001B[39m)\n",
      "File \u001B[1;32m~\\Desktop\\programering\\masters-thesis\\functions\\data_processing.py:36\u001B[0m, in \u001B[0;36mflight_persistence\u001B[1;34m(flights)\u001B[0m\n\u001B[0;32m     33\u001B[0m f \u001B[38;5;241m=\u001B[39m (\u001B[38;5;28;01mlambda\u001B[39;00m x: remove_outliers_dbscan(x, min_samples\u001B[38;5;241m=\u001B[39m\u001B[38;5;241m25\u001B[39m, eps \u001B[38;5;241m=\u001B[39m \u001B[38;5;241m0.05\u001B[39m))\n\u001B[0;32m     35\u001B[0m data \u001B[38;5;241m=\u001B[39m get_columns_timestamp_index(flights[i], [\u001B[38;5;124m'\u001B[39m\u001B[38;5;124mlatitude\u001B[39m\u001B[38;5;124m'\u001B[39m, \u001B[38;5;124m'\u001B[39m\u001B[38;5;124mlongitude\u001B[39m\u001B[38;5;124m'\u001B[39m])\n\u001B[1;32m---> 36\u001B[0m data \u001B[38;5;241m=\u001B[39m \u001B[43mclean_flight_data\u001B[49m\u001B[43m(\u001B[49m\u001B[43mdata\u001B[49m\u001B[43m,\u001B[49m\u001B[43m \u001B[49m\u001B[43mdrop_duplicates\u001B[49m\u001B[38;5;241;43m=\u001B[39;49m\u001B[38;5;28;43;01mTrue\u001B[39;49;00m\u001B[43m,\u001B[49m\u001B[43m \u001B[49m\u001B[43mf\u001B[49m\u001B[38;5;241;43m=\u001B[39;49m\u001B[43mf\u001B[49m\u001B[43m)\u001B[49m\n\u001B[0;32m     38\u001B[0m alpha_complex: gudhi\u001B[38;5;241m.\u001B[39malpha_complex \u001B[38;5;241m=\u001B[39m AlphaComplex(points\u001B[38;5;241m=\u001B[39mdata)\n\u001B[0;32m     39\u001B[0m tree: gudhi\u001B[38;5;241m.\u001B[39msimplex_tree\u001B[38;5;241m.\u001B[39mSimplexTree \u001B[38;5;241m=\u001B[39m alpha_complex\u001B[38;5;241m.\u001B[39mcreate_simplex_tree()\n",
      "File \u001B[1;32m~\\Desktop\\programering\\masters-thesis\\functions\\data_processing.py:104\u001B[0m, in \u001B[0;36mclean_flight_data\u001B[1;34m(data, drop_duplicates, f)\u001B[0m\n\u001B[0;32m    102\u001B[0m \u001B[38;5;28;01mfor\u001B[39;00m i \u001B[38;5;129;01min\u001B[39;00m data\u001B[38;5;241m.\u001B[39mcolumns:\n\u001B[0;32m    103\u001B[0m     col \u001B[38;5;241m=\u001B[39m data[i]\u001B[38;5;241m.\u001B[39mto_numpy()\n\u001B[1;32m--> 104\u001B[0m     cols\u001B[38;5;241m.\u001B[39mappend(\u001B[43msavgol_filter\u001B[49m\u001B[43m(\u001B[49m\u001B[43mx\u001B[49m\u001B[38;5;241;43m=\u001B[39;49m\u001B[43mcol\u001B[49m\u001B[43m,\u001B[49m\u001B[43m \u001B[49m\u001B[43mwindow_length\u001B[49m\u001B[38;5;241;43m=\u001B[39;49m\u001B[38;5;28;43mmin\u001B[39;49m\u001B[43m(\u001B[49m\u001B[38;5;28;43mlen\u001B[39;49m\u001B[43m(\u001B[49m\u001B[43mdata\u001B[49m\u001B[43m)\u001B[49m\u001B[38;5;241;43m-\u001B[39;49m\u001B[38;5;241;43m1\u001B[39;49m\u001B[43m,\u001B[49m\u001B[43m \u001B[49m\u001B[38;5;241;43m25\u001B[39;49m\u001B[43m)\u001B[49m\u001B[43m,\u001B[49m\u001B[43m \u001B[49m\u001B[43mpolyorder\u001B[49m\u001B[38;5;241;43m=\u001B[39;49m\u001B[38;5;241;43m2\u001B[39;49m\u001B[43m)\u001B[49m)\n\u001B[0;32m    105\u001B[0m data \u001B[38;5;241m=\u001B[39m np\u001B[38;5;241m.\u001B[39marray(cols)\u001B[38;5;241m.\u001B[39mT\n\u001B[0;32m    106\u001B[0m \u001B[38;5;28;01mreturn\u001B[39;00m data\n",
      "File \u001B[1;32m~\\Desktop\\programering\\masters-thesis\\venv\\Lib\\site-packages\\scipy\\signal\\_savitzky_golay.py:341\u001B[0m, in \u001B[0;36msavgol_filter\u001B[1;34m(x, window_length, polyorder, deriv, delta, axis, mode, cval)\u001B[0m\n\u001B[0;32m    338\u001B[0m \u001B[38;5;28;01mif\u001B[39;00m x\u001B[38;5;241m.\u001B[39mdtype \u001B[38;5;241m!=\u001B[39m np\u001B[38;5;241m.\u001B[39mfloat64 \u001B[38;5;129;01mand\u001B[39;00m x\u001B[38;5;241m.\u001B[39mdtype \u001B[38;5;241m!=\u001B[39m np\u001B[38;5;241m.\u001B[39mfloat32:\n\u001B[0;32m    339\u001B[0m     x \u001B[38;5;241m=\u001B[39m x\u001B[38;5;241m.\u001B[39mastype(np\u001B[38;5;241m.\u001B[39mfloat64)\n\u001B[1;32m--> 341\u001B[0m coeffs \u001B[38;5;241m=\u001B[39m \u001B[43msavgol_coeffs\u001B[49m\u001B[43m(\u001B[49m\u001B[43mwindow_length\u001B[49m\u001B[43m,\u001B[49m\u001B[43m \u001B[49m\u001B[43mpolyorder\u001B[49m\u001B[43m,\u001B[49m\u001B[43m \u001B[49m\u001B[43mderiv\u001B[49m\u001B[38;5;241;43m=\u001B[39;49m\u001B[43mderiv\u001B[49m\u001B[43m,\u001B[49m\u001B[43m \u001B[49m\u001B[43mdelta\u001B[49m\u001B[38;5;241;43m=\u001B[39;49m\u001B[43mdelta\u001B[49m\u001B[43m)\u001B[49m\n\u001B[0;32m    343\u001B[0m \u001B[38;5;28;01mif\u001B[39;00m mode \u001B[38;5;241m==\u001B[39m \u001B[38;5;124m\"\u001B[39m\u001B[38;5;124minterp\u001B[39m\u001B[38;5;124m\"\u001B[39m:\n\u001B[0;32m    344\u001B[0m     \u001B[38;5;28;01mif\u001B[39;00m window_length \u001B[38;5;241m>\u001B[39m x\u001B[38;5;241m.\u001B[39mshape[axis]:\n",
      "File \u001B[1;32m~\\Desktop\\programering\\masters-thesis\\venv\\Lib\\site-packages\\scipy\\signal\\_savitzky_golay.py:101\u001B[0m, in \u001B[0;36msavgol_coeffs\u001B[1;34m(window_length, polyorder, deriv, delta, pos, use)\u001B[0m\n\u001B[0;32m     88\u001B[0m \u001B[38;5;66;03m# An alternative method for finding the coefficients when deriv=0 is\u001B[39;00m\n\u001B[0;32m     89\u001B[0m \u001B[38;5;66;03m#    t = np.arange(window_length)\u001B[39;00m\n\u001B[0;32m     90\u001B[0m \u001B[38;5;66;03m#    unit = (t == pos).astype(int)\u001B[39;00m\n\u001B[1;32m   (...)\u001B[0m\n\u001B[0;32m     97\u001B[0m \u001B[38;5;66;03m#    pos = nL + 1\u001B[39;00m\n\u001B[0;32m     98\u001B[0m \u001B[38;5;66;03m#    c = savgol_coeffs(window_length, M, pos=pos, use='dot')\u001B[39;00m\n\u001B[0;32m    100\u001B[0m \u001B[38;5;28;01mif\u001B[39;00m polyorder \u001B[38;5;241m>\u001B[39m\u001B[38;5;241m=\u001B[39m window_length:\n\u001B[1;32m--> 101\u001B[0m     \u001B[38;5;28;01mraise\u001B[39;00m \u001B[38;5;167;01mValueError\u001B[39;00m(\u001B[38;5;124m\"\u001B[39m\u001B[38;5;124mpolyorder must be less than window_length.\u001B[39m\u001B[38;5;124m\"\u001B[39m)\n\u001B[0;32m    103\u001B[0m halflen, rem \u001B[38;5;241m=\u001B[39m \u001B[38;5;28mdivmod\u001B[39m(window_length, \u001B[38;5;241m2\u001B[39m)\n\u001B[0;32m    105\u001B[0m \u001B[38;5;28;01mif\u001B[39;00m pos \u001B[38;5;129;01mis\u001B[39;00m \u001B[38;5;28;01mNone\u001B[39;00m:\n",
      "\u001B[1;31mValueError\u001B[0m: polyorder must be less than window_length."
     ]
    }
   ],
   "execution_count": 20
  },
  {
   "metadata": {
    "ExecuteTime": {
     "end_time": "2025-04-02T12:52:05.717404Z",
     "start_time": "2025-04-02T12:51:59.361166Z"
    }
   },
   "cell_type": "code",
   "source": "trees, paths = sublevelset_persistence(flights[:1000], \"geoaltitude\")",
   "id": "bb585c25cfff2882",
   "outputs": [
    {
     "name": "stderr",
     "output_type": "stream",
     "text": [
      "100%|██████████| 1000/1000 [00:06<00:00, 159.82it/s]\n"
     ]
    }
   ],
   "execution_count": 32
  },
  {
   "metadata": {
    "ExecuteTime": {
     "end_time": "2025-04-02T12:55:51.776059Z",
     "start_time": "2025-04-02T12:52:05.722918Z"
    }
   },
   "cell_type": "code",
   "source": [
    "path = f\"../../data/linkage_clustering/cyclic_dataset.pkl\"\n",
    "Z = linkage_cluster_persistances(trees, path=path, load_results=False)"
   ],
   "id": "4185a40948eb14b8",
   "outputs": [
    {
     "name": "stderr",
     "output_type": "stream",
     "text": [
      "100%|██████████| 1000/1000 [03:45<00:00,  4.43it/s]\n"
     ]
    }
   ],
   "execution_count": 33
  },
  {
   "metadata": {
    "ExecuteTime": {
     "end_time": "2025-04-02T12:57:14.113217Z",
     "start_time": "2025-04-02T12:57:14.046722Z"
    }
   },
   "cell_type": "code",
   "source": [
    "clustering = fcluster(Z, t=10, criterion='maxclust')\n",
    "\n",
    "for i in range(1, len(np.unique(clustering))+1):\n",
    "    print(f\"{i}: {sum(clustering == i)}\")"
   ],
   "id": "516e8670df07928",
   "outputs": [
    {
     "name": "stdout",
     "output_type": "stream",
     "text": [
      "1: 55\n",
      "2: 12\n",
      "3: 554\n",
      "4: 345\n",
      "5: 11\n",
      "6: 6\n",
      "7: 3\n",
      "8: 1\n",
      "9: 2\n",
      "10: 11\n"
     ]
    }
   ],
   "execution_count": 34
  },
  {
   "metadata": {
    "ExecuteTime": {
     "end_time": "2025-04-02T12:58:04.196678Z",
     "start_time": "2025-04-02T12:58:04.125144Z"
    }
   },
   "cell_type": "code",
   "source": [
    "from matplotlib import pyplot as plt\n",
    "\n",
    "ind = 10\n",
    "\n",
    "flight = flights[np.where(clustering == ind)[0][0]]\n",
    "tree = trees[np.where(clustering == ind)[0][0]]\n",
    "points = paths[np.where(clustering == ind)[0][0]]\n",
    "before = flight.data[[\"geoaltitude\"]].to_numpy()\n",
    "before = np.column_stack((np.arange(len(data)), before))\n",
    "\n",
    "dbscan_paths        = before[remove_outliers_dbscan(before, 25, eps = 0.05)]\n",
    "z_score_paths       = before[remove_outliers_z_score(before)]\n",
    "\n",
    "path_filters = [(before, \"before\"), (z_score_paths, \"z-score\"), (dbscan_paths, \"dbscan\")]\n",
    "\n",
    "fig, axs = plt.subplots(3)#, sharex=True, sharey=True)\n",
    "for i, (path, name) in enumerate(path_filters):\n",
    "    axs[i].scatter(path[:, 0], path[:, 1])\n",
    "    axs[i].set_title(name)\n",
    "\n",
    "fig.set_figheight(10)\n",
    "fig.set_figwidth(10)"
   ],
   "id": "cd925375fb071144",
   "outputs": [
    {
     "ename": "ValueError",
     "evalue": "all the input array dimensions except for the concatenation axis must match exactly, but along dimension 0, the array at index 0 has size 10620 and the array at index 1 has size 1800",
     "output_type": "error",
     "traceback": [
      "\u001B[1;31m---------------------------------------------------------------------------\u001B[0m",
      "\u001B[1;31mValueError\u001B[0m                                Traceback (most recent call last)",
      "Cell \u001B[1;32mIn[38], line 9\u001B[0m\n\u001B[0;32m      7\u001B[0m points \u001B[38;5;241m=\u001B[39m paths[np\u001B[38;5;241m.\u001B[39mwhere(clustering \u001B[38;5;241m==\u001B[39m ind)[\u001B[38;5;241m0\u001B[39m][\u001B[38;5;241m0\u001B[39m]]\n\u001B[0;32m      8\u001B[0m before \u001B[38;5;241m=\u001B[39m flight\u001B[38;5;241m.\u001B[39mdata[[\u001B[38;5;124m\"\u001B[39m\u001B[38;5;124mgeoaltitude\u001B[39m\u001B[38;5;124m\"\u001B[39m]]\u001B[38;5;241m.\u001B[39mto_numpy()\n\u001B[1;32m----> 9\u001B[0m before \u001B[38;5;241m=\u001B[39m \u001B[43mnp\u001B[49m\u001B[38;5;241;43m.\u001B[39;49m\u001B[43mcolumn_stack\u001B[49m\u001B[43m(\u001B[49m\u001B[43m(\u001B[49m\u001B[43mnp\u001B[49m\u001B[38;5;241;43m.\u001B[39;49m\u001B[43marange\u001B[49m\u001B[43m(\u001B[49m\u001B[38;5;28;43mlen\u001B[39;49m\u001B[43m(\u001B[49m\u001B[43mdata\u001B[49m\u001B[43m)\u001B[49m\u001B[43m)\u001B[49m\u001B[43m,\u001B[49m\u001B[43m \u001B[49m\u001B[43mbefore\u001B[49m\u001B[43m)\u001B[49m\u001B[43m)\u001B[49m\n\u001B[0;32m     11\u001B[0m dbscan_paths        \u001B[38;5;241m=\u001B[39m before[remove_outliers_dbscan(before, \u001B[38;5;241m25\u001B[39m, eps \u001B[38;5;241m=\u001B[39m \u001B[38;5;241m0.05\u001B[39m)]\n\u001B[0;32m     12\u001B[0m z_score_paths       \u001B[38;5;241m=\u001B[39m before[remove_outliers_z_score(before)]\n",
      "File \u001B[1;32m~\\Desktop\\programering\\masters-thesis\\venv\\Lib\\site-packages\\numpy\\lib\\shape_base.py:652\u001B[0m, in \u001B[0;36mcolumn_stack\u001B[1;34m(tup)\u001B[0m\n\u001B[0;32m    650\u001B[0m         arr \u001B[38;5;241m=\u001B[39m array(arr, copy\u001B[38;5;241m=\u001B[39m\u001B[38;5;28;01mFalse\u001B[39;00m, subok\u001B[38;5;241m=\u001B[39m\u001B[38;5;28;01mTrue\u001B[39;00m, ndmin\u001B[38;5;241m=\u001B[39m\u001B[38;5;241m2\u001B[39m)\u001B[38;5;241m.\u001B[39mT\n\u001B[0;32m    651\u001B[0m     arrays\u001B[38;5;241m.\u001B[39mappend(arr)\n\u001B[1;32m--> 652\u001B[0m \u001B[38;5;28;01mreturn\u001B[39;00m \u001B[43m_nx\u001B[49m\u001B[38;5;241;43m.\u001B[39;49m\u001B[43mconcatenate\u001B[49m\u001B[43m(\u001B[49m\u001B[43marrays\u001B[49m\u001B[43m,\u001B[49m\u001B[43m \u001B[49m\u001B[38;5;241;43m1\u001B[39;49m\u001B[43m)\u001B[49m\n",
      "\u001B[1;31mValueError\u001B[0m: all the input array dimensions except for the concatenation axis must match exactly, but along dimension 0, the array at index 0 has size 10620 and the array at index 1 has size 1800"
     ]
    }
   ],
   "execution_count": 38
  },
  {
   "metadata": {
    "ExecuteTime": {
     "end_time": "2025-03-31T14:17:06.651745600Z",
     "start_time": "2025-03-27T14:19:12.702408Z"
    }
   },
   "cell_type": "code",
   "source": [
    "gudhi.persistence_graphical_tools.plot_persistence_diagram(tree, axes=axs[1])\n",
    "print(tree)"
   ],
   "id": "d5532421a59dc5b7",
   "outputs": [
    {
     "name": "stderr",
     "output_type": "stream",
     "text": [
      "C:\\Users\\tobso\\Desktop\\programering\\masters-thesis\\venv\\Lib\\site-packages\\gudhi\\persistence_graphical_tools.py:105: UserWarning: This function is not available.\n",
      "ModuleNotFoundError: No module named 'matplotlib'.\n",
      "  warnings.warn(f\"This function is not available.\\nModuleNotFoundError: No module named '{import_error.name}'.\")\n"
     ]
    },
    {
     "ename": "AttributeError",
     "evalue": "'numpy.ndarray' object has no attribute 'add_patch'",
     "output_type": "error",
     "traceback": [
      "\u001B[1;31m---------------------------------------------------------------------------\u001B[0m",
      "\u001B[1;31mAttributeError\u001B[0m                            Traceback (most recent call last)",
      "Cell \u001B[1;32mIn[8], line 1\u001B[0m\n\u001B[1;32m----> 1\u001B[0m \u001B[43mgudhi\u001B[49m\u001B[38;5;241;43m.\u001B[39;49m\u001B[43mpersistence_graphical_tools\u001B[49m\u001B[38;5;241;43m.\u001B[39;49m\u001B[43mplot_persistence_diagram\u001B[49m\u001B[43m(\u001B[49m\u001B[43mtree\u001B[49m\u001B[43m,\u001B[49m\u001B[43m \u001B[49m\u001B[43maxes\u001B[49m\u001B[38;5;241;43m=\u001B[39;49m\u001B[43maxs\u001B[49m\u001B[43m[\u001B[49m\u001B[38;5;241;43m1\u001B[39;49m\u001B[43m]\u001B[49m\u001B[43m)\u001B[49m\n\u001B[0;32m      2\u001B[0m \u001B[38;5;28mprint\u001B[39m(tree)\n",
      "File \u001B[1;32m~\\Desktop\\programering\\masters-thesis\\venv\\Lib\\site-packages\\gudhi\\persistence_graphical_tools.py:332\u001B[0m, in \u001B[0;36mplot_persistence_diagram\u001B[1;34m(persistence, persistence_file, alpha, band, max_intervals, inf_delta, legend, colormap, axes, fontsize, greyblock)\u001B[0m\n\u001B[0;32m    330\u001B[0m \u001B[38;5;66;03m# lower diag patch\u001B[39;00m\n\u001B[0;32m    331\u001B[0m \u001B[38;5;28;01mif\u001B[39;00m greyblock:\n\u001B[1;32m--> 332\u001B[0m     \u001B[43maxes\u001B[49m\u001B[38;5;241;43m.\u001B[39;49m\u001B[43madd_patch\u001B[49m(\n\u001B[0;32m    333\u001B[0m         mpatches\u001B[38;5;241m.\u001B[39mPolygon(\n\u001B[0;32m    334\u001B[0m             [[axis_start, axis_start], [axis_end, axis_start], [axis_end, axis_end]],\n\u001B[0;32m    335\u001B[0m             fill\u001B[38;5;241m=\u001B[39m\u001B[38;5;28;01mTrue\u001B[39;00m,\n\u001B[0;32m    336\u001B[0m             color\u001B[38;5;241m=\u001B[39m\u001B[38;5;124m\"\u001B[39m\u001B[38;5;124mlightgrey\u001B[39m\u001B[38;5;124m\"\u001B[39m,\n\u001B[0;32m    337\u001B[0m         )\n\u001B[0;32m    338\u001B[0m     )\n\u001B[0;32m    339\u001B[0m \u001B[38;5;66;03m# line display of equation : birth = death\u001B[39;00m\n\u001B[0;32m    340\u001B[0m axes\u001B[38;5;241m.\u001B[39mplot([axis_start, axis_end], [axis_start, axis_end], linewidth\u001B[38;5;241m=\u001B[39m\u001B[38;5;241m1.0\u001B[39m, color\u001B[38;5;241m=\u001B[39m\u001B[38;5;124m\"\u001B[39m\u001B[38;5;124mk\u001B[39m\u001B[38;5;124m\"\u001B[39m)\n",
      "\u001B[1;31mAttributeError\u001B[0m: 'numpy.ndarray' object has no attribute 'add_patch'"
     ]
    }
   ],
   "execution_count": 8
  },
  {
   "metadata": {},
   "cell_type": "code",
   "source": [
    "fig = plt.scatter(points[:, 1], points[:, 0])\n",
    "plt.show()"
   ],
   "id": "1cd0f9e20081d280",
   "outputs": [],
   "execution_count": null
  },
  {
   "metadata": {},
   "cell_type": "code",
   "source": "",
   "id": "6427b4cad39d0eb2",
   "outputs": [],
   "execution_count": null
  }
 ],
 "metadata": {
  "kernelspec": {
   "display_name": "Python 3",
   "language": "python",
   "name": "python3"
  },
  "language_info": {
   "codemirror_mode": {
    "name": "ipython",
    "version": 2
   },
   "file_extension": ".py",
   "mimetype": "text/x-python",
   "name": "python",
   "nbconvert_exporter": "python",
   "pygments_lexer": "ipython2",
   "version": "2.7.6"
  }
 },
 "nbformat": 4,
 "nbformat_minor": 5
}
