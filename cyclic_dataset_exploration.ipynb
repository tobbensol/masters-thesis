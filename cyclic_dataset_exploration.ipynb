{
 "cells": [
  {
   "cell_type": "code",
   "id": "initial_id",
   "metadata": {
    "collapsed": true,
    "ExecuteTime": {
     "end_time": "2024-11-25T12:19:47.165250Z",
     "start_time": "2024-11-25T12:19:42.544576Z"
    }
   },
   "source": [
    "import datetime\n",
    "from tqdm.auto import tqdm\n",
    "import pandas as pd\n",
    "from traffic.data import opensky\n",
    "from traffic.core import Traffic\n",
    "from functions.data_filtering import ICAO_codes"
   ],
   "outputs": [],
   "execution_count": 1
  },
  {
   "metadata": {
    "ExecuteTime": {
     "end_time": "2024-11-25T12:20:17.151299Z",
     "start_time": "2024-11-25T12:19:47.174765Z"
    }
   },
   "cell_type": "code",
   "source": [
    "# load minimum data set\n",
    "df = pd.read_csv(\"data/go_arounds_augmented.csv\", low_memory=False)\n",
    "df[\"time\"] = pd.to_datetime(df[\"time\"])\n",
    "\n",
    "# select London City Airport, go-arounds, and 2019-01-04\n",
    "airport = ICAO_codes[\"heathrow\"]\n",
    "start = datetime.datetime(year=2019, month=1, day=1).replace(\n",
    "    tzinfo=datetime.timezone.utc\n",
    ")\n",
    "stop = datetime.datetime(year=2019, month=2, day=1).replace(\n",
    "    tzinfo=datetime.timezone.utc\n",
    ")\n",
    "\n",
    "df_selection = df.query(f\"airport==@airport & has_ga & (@start <= time <= @stop)\")"
   ],
   "id": "edc4f95f0e6d96af",
   "outputs": [],
   "execution_count": 2
  },
  {
   "metadata": {
    "ExecuteTime": {
     "end_time": "2024-11-25T13:49:09.342404Z",
     "start_time": "2024-11-25T13:49:01.938134Z"
    }
   },
   "cell_type": "code",
   "source": [
    "from functions.data_processing import split_flights\n",
    "\n",
    "# iterate over flights and pull the data from OpenSky Network\n",
    "flights = []\n",
    "delta_time = pd.Timedelta(days=1)\n",
    "for _, row in tqdm(df_selection.iterrows(), total=df_selection.shape[0]):\n",
    "    # take at most 10 minutes before and 10 minutes after the landing or go-around\n",
    "    start_time = row[\"time\"] - delta_time\n",
    "    stop_time = row[\"time\"] + delta_time\n",
    "\n",
    "    # fetch the data from OpenSky Network\n",
    "    flights.append(\n",
    "        opensky.history(\n",
    "            start=start_time.strftime(\"%Y-%m-%d %H:%M:%S\"),\n",
    "            stop=stop_time.strftime(\"%Y-%m-%d %H:%M:%S\"),\n",
    "            callsign=row[\"callsign\"],\n",
    "            return_flight=True,\n",
    "        )\n",
    "    )\n",
    "# The flights can be converted into a Traffic object\n",
    "traffic = Traffic.from_flights(flights)\n",
    "fixed_flights = []\n",
    "final_list = split_flights(flights)"
   ],
   "id": "c9c85b5cd6edcf98",
   "outputs": [
    {
     "data": {
      "text/plain": [
       "  0%|          | 0/75 [00:00<?, ?it/s]"
      ],
      "application/vnd.jupyter.widget-view+json": {
       "version_major": 2,
       "version_minor": 0,
       "model_id": "c38c71c90f864ab98d236bc39ead3266"
      }
     },
     "metadata": {},
     "output_type": "display_data"
    }
   ],
   "execution_count": 17
  },
  {
   "metadata": {
    "ExecuteTime": {
     "end_time": "2024-11-25T13:47:02.429622Z",
     "start_time": "2024-11-25T13:46:48.515365Z"
    }
   },
   "cell_type": "code",
   "source": "traffic.map_leaflet()",
   "id": "86e6cff091195c4b",
   "outputs": [
    {
     "data": {
      "text/plain": [
       "Map(center=[48.55966298927035, 5.366837409618487], controls=(ZoomControl(options=['position', 'zoom_in_text', …"
      ],
      "application/vnd.jupyter.widget-view+json": {
       "version_major": 2,
       "version_minor": 0,
       "model_id": "2c3fdbc8a454440bb2d29559fb2843b4"
      }
     },
     "execution_count": 15,
     "metadata": {},
     "output_type": "execute_result"
    }
   ],
   "execution_count": 15
  },
  {
   "metadata": {
    "ExecuteTime": {
     "end_time": "2024-11-25T13:50:30.157738Z",
     "start_time": "2024-11-25T13:50:30.038645Z"
    }
   },
   "cell_type": "code",
   "source": "final_list[3].map_leaflet()",
   "id": "36cf93fb6f1d45d3",
   "outputs": [
    {
     "data": {
      "text/plain": [
       "Map(center=[54.71463501621589, 21.554543801317838], controls=(ZoomControl(options=['position', 'zoom_in_text',…"
      ],
      "application/vnd.jupyter.widget-view+json": {
       "version_major": 2,
       "version_minor": 0,
       "model_id": "f0b046548a864f999023900aec76b674"
      }
     },
     "execution_count": 28,
     "metadata": {},
     "output_type": "execute_result"
    }
   ],
   "execution_count": 28
  }
 ],
 "metadata": {
  "kernelspec": {
   "display_name": "Python 3",
   "language": "python",
   "name": "python3"
  },
  "language_info": {
   "codemirror_mode": {
    "name": "ipython",
    "version": 2
   },
   "file_extension": ".py",
   "mimetype": "text/x-python",
   "name": "python",
   "nbconvert_exporter": "python",
   "pygments_lexer": "ipython2",
   "version": "2.7.6"
  }
 },
 "nbformat": 4,
 "nbformat_minor": 5
}
