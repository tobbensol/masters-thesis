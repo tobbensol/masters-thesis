{
 "cells": [
  {
   "cell_type": "code",
   "id": "initial_id",
   "metadata": {
    "collapsed": true,
    "ExecuteTime": {
     "end_time": "2025-01-16T17:38:22.347060Z",
     "start_time": "2025-01-16T17:38:22.343332Z"
    }
   },
   "source": [
    "import datetime\n",
    "import gudhi\n",
    "import pickle\n",
    "import os\n",
    "\n",
    "import numpy as np\n",
    "import pandas as pd\n",
    "\n",
    "from tqdm.auto import tqdm\n",
    "\n",
    "from traffic.data import opensky\n",
    "from traffic.core import Traffic\n",
    "from functions.data_filtering import ICAO_codes\n",
    "from functions.data_processing import flight_pers\n",
    "\n",
    "from scipy.cluster.hierarchy import linkage, fcluster, dendrogram"
   ],
   "outputs": [],
   "execution_count": 53
  },
  {
   "metadata": {
    "ExecuteTime": {
     "end_time": "2025-01-16T17:38:53.739180Z",
     "start_time": "2025-01-16T17:38:22.358068Z"
    }
   },
   "cell_type": "code",
   "source": [
    "# load minimum data set\n",
    "df = pd.read_csv(\"data/go_arounds_augmented.csv\", low_memory=False)\n",
    "df[\"time\"] = pd.to_datetime(df[\"time\"])\n",
    "\n",
    "start = datetime.datetime(year=2019, month=1, day=1).replace(\n",
    "    tzinfo=datetime.timezone.utc\n",
    ")\n",
    "stop = datetime.datetime(year=2019, month=1, day=10).replace(\n",
    "    tzinfo=datetime.timezone.utc\n",
    ")\n",
    "\n",
    "with_GA = df.query(f\"has_ga & (@start <= time <= @stop)\")\n",
    "without_GA = df.query(f\"not has_ga & (@start <= time <= @stop)\")"
   ],
   "id": "edc4f95f0e6d96af",
   "outputs": [],
   "execution_count": 54
  },
  {
   "metadata": {
    "ExecuteTime": {
     "end_time": "2025-01-16T17:50:44.126927Z",
     "start_time": "2025-01-16T17:50:41.355703Z"
    }
   },
   "cell_type": "code",
   "source": [
    "def flights_from_query(query, n:int, file_name:str, delta_time:pd.Timedelta = pd.Timedelta(minutes=15)):\n",
    "    if os.path.isfile(file_name):\n",
    "        with open(file_name, \"rb\") as file:\n",
    "            return pickle.load(file)\n",
    "        \n",
    "    flights = []\n",
    "    for _, row in tqdm(query.sample(n=n, random_state=42).iterrows(), total=n):\n",
    "        # take at most 10 minutes before and 10 minutes after the landing or go-around\n",
    "        start_time = row[\"time\"] - delta_time\n",
    "        stop_time = row[\"time\"] + delta_time\n",
    "    \n",
    "        # fetch the data from OpenSky Network\n",
    "        flights.append(\n",
    "            opensky.history(\n",
    "                start=start_time.strftime(\"%Y-%m-%d %H:%M:%S\"),\n",
    "                stop=stop_time.strftime(\"%Y-%m-%d %H:%M:%S\"),\n",
    "                callsign=row[\"callsign\"],\n",
    "                return_flight=True,\n",
    "            )\n",
    "        )\n",
    "        \n",
    "    with open(file_name, \"wb\") as file:\n",
    "        pickle.dump(flights, file)\n",
    "    return flights\n",
    "\n",
    "\n",
    "# The flights can be converted into a Traffic object\n",
    "count = with_GA.shape[0]\n",
    "with_GA_flights = flights_from_query(with_GA, count, \"with_GA_flights.pkl\")\n",
    "without_GA_flights = flights_from_query(without_GA, count, \"without_GA_flights.pkl\")"
   ],
   "id": "c9c85b5cd6edcf98",
   "outputs": [],
   "execution_count": 67
  },
  {
   "metadata": {
    "ExecuteTime": {
     "end_time": "2025-01-16T17:39:09.795234Z",
     "start_time": "2025-01-16T17:39:09.792425Z"
    }
   },
   "cell_type": "code",
   "source": "#Traffic.from_flights(with_GA_flights).map_leaflet()",
   "id": "86e6cff091195c4b",
   "outputs": [],
   "execution_count": 56
  },
  {
   "metadata": {
    "ExecuteTime": {
     "end_time": "2025-01-16T17:39:09.822912Z",
     "start_time": "2025-01-16T17:39:09.820381Z"
    }
   },
   "cell_type": "code",
   "source": "#Traffic.from_flights(without_GA_flights).map_leaflet()",
   "id": "e7e76e7303377c2",
   "outputs": [],
   "execution_count": 57
  },
  {
   "metadata": {
    "ExecuteTime": {
     "end_time": "2025-01-16T17:39:09.847868Z",
     "start_time": "2025-01-16T17:39:09.845140Z"
    }
   },
   "cell_type": "code",
   "source": "i = 0",
   "id": "1f2c586a6aa3f968",
   "outputs": [],
   "execution_count": 58
  },
  {
   "metadata": {
    "ExecuteTime": {
     "end_time": "2025-01-16T17:39:09.980870Z",
     "start_time": "2025-01-16T17:39:09.868934Z"
    }
   },
   "cell_type": "code",
   "source": [
    "i += 1\n",
    "with_GA_flights[i].map_leaflet()"
   ],
   "id": "36cf93fb6f1d45d3",
   "outputs": [
    {
     "data": {
      "text/plain": [
       "Map(center=[55.91086593714756, -3.2108927757564656], controls=(ZoomControl(options=['position', 'zoom_in_text'…"
      ],
      "application/vnd.jupyter.widget-view+json": {
       "version_major": 2,
       "version_minor": 0,
       "model_id": "d4177e6212594cbfbf5af00d085d3266"
      }
     },
     "execution_count": 59,
     "metadata": {},
     "output_type": "execute_result"
    }
   ],
   "execution_count": 59
  },
  {
   "metadata": {
    "ExecuteTime": {
     "end_time": "2025-01-16T17:39:10.010451Z",
     "start_time": "2025-01-16T17:39:10.007101Z"
    }
   },
   "cell_type": "code",
   "source": "len(with_GA_flights)",
   "id": "bb585c25cfff2882",
   "outputs": [
    {
     "data": {
      "text/plain": [
       "714"
      ]
     },
     "execution_count": 60,
     "metadata": {},
     "output_type": "execute_result"
    }
   ],
   "execution_count": 60
  },
  {
   "metadata": {
    "ExecuteTime": {
     "end_time": "2025-01-16T17:39:28.450670Z",
     "start_time": "2025-01-16T17:39:10.036152Z"
    }
   },
   "cell_type": "code",
   "source": [
    "from functions.data_processing import generate_alpha_tree\n",
    "trees = flight_pers(with_GA_flights)\n",
    "trees.extend(flight_pers(without_GA_flights))"
   ],
   "id": "9a681c0f0b90d13",
   "outputs": [
    {
     "name": "stderr",
     "output_type": "stream",
     "text": [
      "100%|██████████| 714/714 [00:10<00:00, 65.17it/s]\n",
      "100%|██████████| 714/714 [00:06<00:00, 112.69it/s]\n"
     ]
    }
   ],
   "execution_count": 61
  },
  {
   "metadata": {
    "ExecuteTime": {
     "end_time": "2025-01-16T17:39:28.474789Z",
     "start_time": "2025-01-16T17:39:28.471853Z"
    }
   },
   "cell_type": "code",
   "source": [
    "with_GA_labels = np.ones(len(with_GA))\n",
    "without_GA_labels = np.zeros(len(without_GA))\n",
    "labels = np.concatenate((with_GA_labels, without_GA_labels))"
   ],
   "id": "17784bf32c96f0b",
   "outputs": [],
   "execution_count": 62
  },
  {
   "metadata": {
    "ExecuteTime": {
     "end_time": "2025-01-16T17:46:41.197915Z",
     "start_time": "2025-01-16T17:39:28.500677Z"
    }
   },
   "cell_type": "code",
   "source": [
    "condensed_distance_matrix = []\n",
    "for i in tqdm(range(len(trees))):\n",
    "    for j in range(i+1, len(trees)):\n",
    "        pers_i = trees[i].persistence_intervals_in_dimension(0)\n",
    "        pers_j = trees[j].persistence_intervals_in_dimension(0)\n",
    "        dist = gudhi.bottleneck_distance(np.array(pers_i), np.array(pers_j), 0.0001)\n",
    "        condensed_distance_matrix.append(dist)"
   ],
   "id": "d340747ec284194c",
   "outputs": [
    {
     "data": {
      "text/plain": [
       "  0%|          | 0/1428 [00:00<?, ?it/s]"
      ],
      "application/vnd.jupyter.widget-view+json": {
       "version_major": 2,
       "version_minor": 0,
       "model_id": "bb451325d94f48dd9e6fae880efbc89a"
      }
     },
     "metadata": {},
     "output_type": "display_data"
    }
   ],
   "execution_count": 63
  },
  {
   "metadata": {
    "ExecuteTime": {
     "end_time": "2025-01-16T17:46:41.345865Z",
     "start_time": "2025-01-16T17:46:41.265850Z"
    }
   },
   "cell_type": "code",
   "source": [
    "Z = linkage(condensed_distance_matrix, \"complete\")\n",
    "\n",
    "#fig = plt.figure(figsize=(100, 10))\n",
    "#dn = dendrogram(Z)\n",
    "\n",
    "clustering = fcluster(Z, t=2.7, criterion='inconsistent', depth=4)\n"
   ],
   "id": "516e8670df07928",
   "outputs": [],
   "execution_count": 64
  },
  {
   "metadata": {
    "ExecuteTime": {
     "end_time": "2025-01-16T17:46:41.372861Z",
     "start_time": "2025-01-16T17:46:41.369759Z"
    }
   },
   "cell_type": "code",
   "source": [
    "for i in range(1, len(np.unique(clustering))+1):\n",
    "    print(f\"{i}: {sum(clustering == i)}\")"
   ],
   "id": "21f552ebf3b5ed45",
   "outputs": [
    {
     "name": "stdout",
     "output_type": "stream",
     "text": [
      "1: 1428\n"
     ]
    }
   ],
   "execution_count": 65
  },
  {
   "metadata": {
    "ExecuteTime": {
     "end_time": "2025-01-16T17:46:41.397314Z",
     "start_time": "2025-01-16T17:46:41.394930Z"
    }
   },
   "cell_type": "code",
   "source": "",
   "id": "89b52ab310c8d12c",
   "outputs": [],
   "execution_count": null
  }
 ],
 "metadata": {
  "kernelspec": {
   "display_name": "Python 3",
   "language": "python",
   "name": "python3"
  },
  "language_info": {
   "codemirror_mode": {
    "name": "ipython",
    "version": 2
   },
   "file_extension": ".py",
   "mimetype": "text/x-python",
   "name": "python",
   "nbconvert_exporter": "python",
   "pygments_lexer": "ipython2",
   "version": "2.7.6"
  }
 },
 "nbformat": 4,
 "nbformat_minor": 5
}
