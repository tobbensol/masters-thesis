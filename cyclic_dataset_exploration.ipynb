{
 "cells": [
  {
   "cell_type": "code",
   "id": "initial_id",
   "metadata": {
    "collapsed": true,
    "ExecuteTime": {
     "end_time": "2025-09-03T19:44:49.825035Z",
     "start_time": "2025-09-03T19:44:44.770394Z"
    }
   },
   "source": [
    "%load_ext autoreload\n",
    "%autoreload 2\n",
    "binary = True\n",
    "\n",
    "\n",
    "import datetime\n",
    "import gudhi\n",
    "import numpy as np\n",
    "import pandas as pd\n",
    "\n",
    "from functions.data_processing import sublevelset_persistence, remove_outliers_z_score, remove_outliers_dbscan\n",
    "from functions.data_loading import get_condensed_distance_matrix, flights_from_query, get_flight_persistances\n",
    "from functions.plotting import plot_scatter_matrix\n",
    "\n",
    "from scipy.cluster.hierarchy import fcluster, linkage\n",
    "from matplotlib import pyplot as plt\n",
    "from sklearn.model_selection import train_test_split\n",
    "\n",
    "from traffic.core import Traffic, Flight"
   ],
   "outputs": [],
   "execution_count": 1
  },
  {
   "metadata": {
    "ExecuteTime": {
     "end_time": "2025-09-05T14:27:46.368208Z",
     "start_time": "2025-09-05T14:27:46.204058Z"
    }
   },
   "cell_type": "code",
   "source": [
    "# load minimum data set\n",
    "df = pd.read_csv(\"data/go_arounds_augmented.csv\", low_memory=False)\n",
    "df[\"time\"] = pd.to_datetime(df[\"time\"])\n",
    "\n",
    "start = datetime.datetime(year=2019, month=1, day=1).replace(\n",
    ")\n",
    "stop = datetime.datetime(year=2019, month=6, day=1).replace(\n",
    "    tzinfo=datetime.timezone.utc\n",
    ")"
   ],
   "id": "7216eca7a9aefc03",
   "outputs": [
    {
     "ename": "NameError",
     "evalue": "name 'pd' is not defined",
     "output_type": "error",
     "traceback": [
      "\u001B[31m---------------------------------------------------------------------------\u001B[39m",
      "\u001B[31mNameError\u001B[39m                                 Traceback (most recent call last)",
      "\u001B[36mCell\u001B[39m\u001B[36m \u001B[39m\u001B[32mIn[1]\u001B[39m\u001B[32m, line 2\u001B[39m\n\u001B[32m      1\u001B[39m \u001B[38;5;66;03m# load minimum data set\u001B[39;00m\n\u001B[32m----> \u001B[39m\u001B[32m2\u001B[39m df = \u001B[43mpd\u001B[49m.read_csv(\u001B[33m\"\u001B[39m\u001B[33mdata/go_arounds_augmented.csv\u001B[39m\u001B[33m\"\u001B[39m, low_memory=\u001B[38;5;28;01mFalse\u001B[39;00m)\n\u001B[32m      3\u001B[39m df[\u001B[33m\"\u001B[39m\u001B[33mtime\u001B[39m\u001B[33m\"\u001B[39m] = pd.to_datetime(df[\u001B[33m\"\u001B[39m\u001B[33mtime\u001B[39m\u001B[33m\"\u001B[39m])\n\u001B[32m      5\u001B[39m start = datetime.datetime(year=\u001B[32m2019\u001B[39m, month=\u001B[32m1\u001B[39m, day=\u001B[32m1\u001B[39m).replace(\n\u001B[32m      6\u001B[39m )\n",
      "\u001B[31mNameError\u001B[39m: name 'pd' is not defined"
     ]
    }
   ],
   "execution_count": 1
  },
  {
   "metadata": {
    "ExecuteTime": {
     "end_time": "2025-09-03T19:45:20.464172Z",
     "start_time": "2025-09-03T19:45:19.734670Z"
    }
   },
   "cell_type": "code",
   "source": [
    "if binary:\n",
    "    data = (df[\"n_approaches\"] != 1)\n",
    "    bins = np.arange(0, max(data) + 2)\n",
    "else:\n",
    "    data = (df[\"n_approaches\"])\n",
    "    bins = np.arange(1, max(data) + 2)\n",
    "\n",
    "plt.figure()\n",
    "plt.hist(data, log=True, bins=bins, edgecolor = \"black\", bottom=1)\n",
    "\n",
    "plt.ylabel(\"Frequency (log 10)\")\n",
    "\n",
    "if binary:\n",
    "    plt.xlabel(\"contains GA\")\n",
    "    plt.savefig(\"./Thesis plots/experiment2/binary_approach_histogram.svg\", format=\"svg\")\n",
    "else:\n",
    "    plt.xlabel(\"Number of approaches\")\n",
    "    plt.savefig(\"./Thesis plots/experiment3/approach_histogram.svg\", format=\"svg\")\n",
    "#plt.close()"
   ],
   "id": "8bd57cb8cb768e3b",
   "outputs": [
    {
     "name": "stderr",
     "output_type": "stream",
     "text": [
      "C:\\Users\\tobso\\Desktop\\programering\\masters-thesis\\venv1\\Lib\\site-packages\\matplotlib\\axes\\_axes.py:7001: RuntimeWarning: Converting input from bool to <class 'numpy.uint8'> for compatibility.\n",
      "  m, bins = np.histogram(x[i], bins, weights=w[i], **hist_kwargs)\n"
     ]
    },
    {
     "data": {
      "text/plain": [
       "<Figure size 640x480 with 1 Axes>"
      ],
      "image/png": "[encoded data removed]"
     },
     "metadata": {},
     "output_type": "display_data"
    }
   ],
   "execution_count": 3
  },
  {
   "metadata": {
    "ExecuteTime": {
     "end_time": "2025-09-05T14:27:46.383789Z",
     "start_time": "2025-09-03T19:45:20.479173Z"
    }
   },
   "cell_type": "code",
   "source": [
    "approach_1 = df.query(f\"n_approaches==1 & (@start <= time <= @stop)\")\n",
    "approach_2 = df.query(f\"n_approaches==2 & (@start <= time <= @stop)\")\n",
    "approach_3 = df.query(f\"n_approaches==3 & (@start <= time <= @stop)\")\n",
    "approach_4 = df.query(f\"n_approaches==4 & (@start <= time <= @stop)\")\n",
    "\n",
    "len_4 = approach_4.shape[0]\n",
    "len_3 = approach_3.shape[0]\n",
    "len_2 = (len_4 + len_3) * 2\n",
    "len_1 = (len_4 + len_3 + len_2) * 2\n",
    "\n",
    "approach_4 = approach_4.sample(n=len_4, random_state=42)\n",
    "approach_3 = approach_3.sample(n=len_3, random_state=42)\n",
    "approach_2 = approach_2.sample(n=len_2, random_state=42)\n",
    "approach_1 = approach_1.sample(n=len_1, random_state=42)\n",
    "\n",
    "query = pd.concat([approach_1, approach_2, approach_3, approach_4], axis=0)"
   ],
   "id": "d2992107122859a6",
   "outputs": [],
   "execution_count": 4
  },
  {
   "metadata": {
    "ExecuteTime": {
     "end_time": "2025-09-03T19:45:22.007066Z",
     "start_time": "2025-09-03T19:45:21.320349Z"
    }
   },
   "cell_type": "code",
   "source": [
    "if binary:\n",
    "    data = df[\"n_approaches\"] != 1\n",
    "    bins = np.arange(0, max(data) + 2)\n",
    "else:\n",
    "    data = query[\"n_approaches\"]\n",
    "    bins = np.arange(1, max(data) + 2)\n",
    "\n",
    "\n",
    "fig, ax = plt.subplots()\n",
    "sampled_hist, bin_edges, _ = ax.hist(data, bins=bins, log=True, edgecolor=\"black\", bottom=1)\n",
    "\n",
    "# Compute bin centers\n",
    "bin_centers = 0.5 * (bin_edges[:-1] + bin_edges[1:])\n",
    "ax.set_xticks(bin_centers)\n",
    "ax.set_xticklabels([str(int(x)) for x in bin_centers])  # optional: force integer labels\n",
    "\n",
    "ax.set_xlabel(\"Contains GA\")\n",
    "ax.set_ylabel(\"Frequency (log 10)\")\n",
    "\n",
    "if binary:\n",
    "    plt.savefig(\"./Thesis plots/experiment2/binary_approach_histogram.svg\", format=\"svg\", bbox_inches=\"tight\")\n",
    "else:\n",
    "    plt.savefig(\"./Thesis plots/experiment3/unbalanced_approach_histogram.svg\", format=\"svg\", bbox_inches=\"tight\")\n",
    "\n",
    "baseline_ylim = ax.get_ylim()"
   ],
   "id": "e927f0de416ac864",
   "outputs": [
    {
     "name": "stderr",
     "output_type": "stream",
     "text": [
      "C:\\Users\\tobso\\Desktop\\programering\\masters-thesis\\venv1\\Lib\\site-packages\\matplotlib\\axes\\_axes.py:7001: RuntimeWarning: Converting input from bool to <class 'numpy.uint8'> for compatibility.\n",
      "  m, bins = np.histogram(x[i], bins, weights=w[i], **hist_kwargs)\n"
     ]
    },
    {
     "data": {
      "text/plain": [
       "<Figure size 640x480 with 1 Axes>"
      ],
      "image/png": "[encoded data removed]"
     },
     "metadata": {},
     "output_type": "display_data"
    }
   ],
   "execution_count": 5
  },
  {
   "metadata": {
    "ExecuteTime": {
     "end_time": "2025-09-03T19:45:22.083655Z",
     "start_time": "2025-09-03T19:45:22.011070Z"
    }
   },
   "cell_type": "code",
   "source": "train, test = train_test_split(query, train_size=0.8, test_size=0.2, random_state=42)",
   "id": "38c8a782fc099479",
   "outputs": [],
   "execution_count": 6
  },
  {
   "metadata": {},
   "cell_type": "code",
   "source": [
    "file_name = \"unbalanced_train\"\n",
    "flights, train_labels, stats = flights_from_query(train, file_name, load_results=False)\n",
    "data = get_flight_persistances(flights, file_name, load_results=False)"
   ],
   "id": "66583af7d5d2c53d",
   "outputs": [
    {
     "name": "stderr",
     "output_type": "stream",
     "text": [
      "100%|██████████| 4261/4261 [00:48<00:00, 88.35it/s] \n",
      "100%|██████████| 4261/4261 [00:35<00:00, 121.06it/s]\n",
      "100%|██████████| 4261/4261 [01:03<00:00, 66.90it/s]\n",
      "100%|██████████| 4261/4261 [00:16<00:00, 264.05it/s]\n"
     ]
    }
   ],
   "execution_count": 7
  },
  {
   "metadata": {},
   "cell_type": "code",
   "source": [
    "file_name = \"unbalanced_test\"\n",
    "flights, test_labels, stats = flights_from_query(test, file_name, load_results=False)\n",
    "data = get_flight_persistances(flights, file_name, load_results=False)"
   ],
   "id": "bce037abe1f20720",
   "outputs": [],
   "execution_count": null
  },
  {
   "metadata": {
    "ExecuteTime": {
     "end_time": "2025-08-27T18:51:00.743131Z",
     "start_time": "2025-08-27T18:51:00.474793Z"
    }
   },
   "cell_type": "code",
   "source": [
    "binary = False\n",
    "if binary:\n",
    "    before_data = train[\"n_approaches\"] != 1\n",
    "    after_data = (train_labels[:, 0] != 1)\n",
    "    bins =np.arange(0, max(before_data) + 2)\n",
    "else:\n",
    "    before_data = train[\"n_approaches\"]\n",
    "    after_data = train_labels[:, 0]\n",
    "    bins = np.arange(1, max(before_data) + 2)\n",
    "\n",
    "fig, ax = plt.subplots(nrows=1, ncols=1)\n",
    "sampled_hist, bin_edges, p = ax.hist(before_data, bins=bins, log=True, edgecolor=\"black\", bottom=1)\n",
    "p.set_label(\"before\")\n",
    "\n",
    "# Compute bin centers\n",
    "bin_centers = 0.5 * (bin_edges[:-1] + bin_edges[1:])\n",
    "ax.set_xticks(bin_centers)\n",
    "ax.set_xticklabels([str(int(x)) for x in bin_centers])  # optional: force integer labels\n",
    "\n",
    "ax.set_xlabel(\"Contains GA\")\n",
    "ax.set_ylabel(\"Frequency (log 10)\")\n",
    "\n",
    "baseline_ylim = ax.get_ylim()\n",
    "\n",
    "data = train_labels[:, 0] != 1\n",
    "sampled_hist, bin_edges, p = ax.hist(after_data, bins=bins, log=True, edgecolor=\"black\", bottom=1)\n",
    "p.set_label(\"After\")\n",
    "ax.legend()\n",
    "\n",
    "if binary:\n",
    "    plt.savefig(\"./Thesis plots/experiment2/binary_approach_filter_histogram.svg\", format=\"svg\", bbox_inches=\"tight\")\n",
    "else:\n",
    "    plt.savefig(\"./Thesis plots/experiment3/unbalanced_approach_filter_histogram.svg\", format=\"svg\", bbox_inches=\"tight\")"
   ],
   "id": "fe1f9b257bd1ed5c",
   "outputs": [
    {
     "data": {
      "text/plain": [
       "<Figure size 640x480 with 1 Axes>"
      ],
      "image/png": "[encoded data removed]"
     },
     "metadata": {},
     "output_type": "display_data"
    }
   ],
   "execution_count": 9
  },
  {
   "metadata": {
    "ExecuteTime": {
     "end_time": "2025-08-27T18:51:02.334414Z",
     "start_time": "2025-08-27T18:51:02.267686Z"
    }
   },
   "cell_type": "code",
   "source": "(train_labels[:, 0] == 4).sum() / sum(train[\"n_approaches\"] == 4)",
   "id": "b64e6e186b9d24b0",
   "outputs": [
    {
     "data": {
      "text/plain": [
       "0.3787878787878788"
      ]
     },
     "execution_count": 10,
     "metadata": {},
     "output_type": "execute_result"
    }
   ],
   "execution_count": 10
  },
  {
   "metadata": {
    "ExecuteTime": {
     "end_time": "2025-08-27T18:51:14.895199Z",
     "start_time": "2025-08-27T18:51:14.507523Z"
    }
   },
   "cell_type": "code",
   "source": [
    "fig, ax = plt.subplots()\n",
    "bins = np.arange(1, max(data) + 2)\n",
    "train_hist, bin_edges, _ = ax.hist(data, bins=bins, log=True, edgecolor=\"black\")\n",
    "\n",
    "# Compute bin centers\n",
    "bin_centers = 0.5 * (bin_edges[:-1] + bin_edges[1:])\n",
    "ax.set_xticks(bin_centers)\n",
    "ax.set_xticklabels([str(int(x)) for x in bin_centers])  # optional: force integer labels\n",
    "\n",
    "ax.set_ylim(baseline_ylim)\n",
    "ax.set_xlabel(\"Contains GA\")\n",
    "ax.set_ylabel(\"Frequency (log 10)\")\n",
    "plt.savefig(\"filtered_approach_histogram_approaches.svg\", format=\"svg\", bbox_inches=\"tight\")"
   ],
   "id": "e0019f81ab4ba8d9",
   "outputs": [
    {
     "ename": "NameError",
     "evalue": "name 'filtered_data' is not defined",
     "output_type": "error",
     "traceback": [
      "\u001B[31m---------------------------------------------------------------------------\u001B[39m",
      "\u001B[31mNameError\u001B[39m                                 Traceback (most recent call last)",
      "\u001B[36mCell\u001B[39m\u001B[36m \u001B[39m\u001B[32mIn[11]\u001B[39m\u001B[32m, line 1\u001B[39m\n\u001B[32m----> \u001B[39m\u001B[32m1\u001B[39m data = (\u001B[43mfiltered_data\u001B[49m)\n\u001B[32m      3\u001B[39m fig, ax = plt.subplots()\n\u001B[32m      4\u001B[39m bins = np.arange(\u001B[32m1\u001B[39m, \u001B[38;5;28mmax\u001B[39m(data) + \u001B[32m2\u001B[39m)\n",
      "\u001B[31mNameError\u001B[39m: name 'filtered_data' is not defined"
     ]
    }
   ],
   "execution_count": 11
  },
  {
   "metadata": {
    "ExecuteTime": {
     "end_time": "2025-08-02T13:48:34.343547Z",
     "start_time": "2025-07-16T14:20:04.047348Z"
    }
   },
   "cell_type": "code",
   "source": [
    "train_data = train_labels[:, 0] > 1\n",
    "test_data = test_labels[:, 0] > 1\n",
    "\n",
    "fig, (ax1, ax2) = plt.subplots(1, 2, figsize=(12, 5))\n",
    "bins = np.arange(0, max(data) + 2)\n",
    "bin_centers = 0.5 * (bin_edges[:-1] + bin_edges[1:])\n",
    "\n",
    "train_hist, _, _ = ax1.hist(train_data, log=True, bins=bins, edgecolor = \"black\", bottom=1)\n",
    "ax1.set_ylim(baseline_ylim)\n",
    "ax1.set_ylabel(\"Frequency (log 10)\")\n",
    "ax1.set_title(\"Train Dataset GA Distribution\")\n",
    "ax1.set_xticks(bin_centers)\n",
    "ax1.set_xticklabels([str(int(x)) for x in bin_centers])\n",
    "ax1.set_xlabel(\"Contains GA\")\n",
    "\n",
    "test_hist, _, _ = ax2.hist(test_data, log=True, bins=bins, edgecolor = \"black\")\n",
    "ax2.set_ylim(baseline_ylim)\n",
    "ax2.set_title(\"Test Dataset GA Distribution\")\n",
    "ax2.set_xticks(bin_centers)\n",
    "ax2.set_xticklabels([str(int(x)) for x in bin_centers])\n",
    "ax2.set_xlabel(\"Contains GA\")\n",
    "\n",
    "plt.savefig(\"split_approach_histogram.svg\", format=\"svg\")"
   ],
   "id": "dd1a2defec2e3a48",
   "outputs": [
    {
     "name": "stderr",
     "output_type": "stream",
     "text": [
      "C:\\Users\\tobso\\Desktop\\programering\\masters-thesis\\venv\\Lib\\site-packages\\matplotlib\\axes\\_axes.py:7001: RuntimeWarning: Converting input from bool to <class 'numpy.uint8'> for compatibility.\n",
      "  m, bins = np.histogram(x[i], bins, weights=w[i], **hist_kwargs)\n",
      "C:\\Users\\tobso\\Desktop\\programering\\masters-thesis\\venv\\Lib\\site-packages\\matplotlib\\axes\\_axes.py:7001: RuntimeWarning: Converting input from bool to <class 'numpy.uint8'> for compatibility.\n",
      "  m, bins = np.histogram(x[i], bins, weights=w[i], **hist_kwargs)\n"
     ]
    },
    {
     "data": {
      "text/plain": [
       "<Figure size 1200x500 with 2 Axes>"
      ],
      "image/png": "[encoded data removed]"
     },
     "metadata": {},
     "output_type": "display_data"
    }
   ],
   "execution_count": 119
  },
  {
   "metadata": {
    "ExecuteTime": {
     "end_time": "2025-09-03T19:45:22.197263Z",
     "start_time": "2025-09-03T19:45:22.110354Z"
    }
   },
   "cell_type": "code",
   "source": [
    "approach_1 = train.query(f\"n_approaches==1 & (@start <= time <= @stop)\")\n",
    "approach_2 = train.query(f\"n_approaches==2 & (@start <= time <= @stop)\")\n",
    "approach_3 = train.query(f\"n_approaches==3 & (@start <= time <= @stop)\")\n",
    "\n",
    "len_3 = approach_3.shape[0]\n",
    "\n",
    "approach_3 = approach_3.sample(n=len_3, random_state=42)\n",
    "approach_2 = approach_2.sample(n=len_3, random_state=42)\n",
    "approach_1 = approach_1.sample(n=len_3, random_state=42)\n",
    "\n",
    "balanced_train = pd.concat([approach_1, approach_2, approach_3], axis=0)"
   ],
   "id": "22af8a38437839f8",
   "outputs": [],
   "execution_count": 7
  },
  {
   "metadata": {
    "ExecuteTime": {
     "end_time": "2025-09-03T19:45:22.369381Z",
     "start_time": "2025-09-03T19:45:22.254771Z"
    }
   },
   "cell_type": "code",
   "source": [
    "approach_1 = test.query(f\"n_approaches==1 & (@start <= time <= @stop)\")\n",
    "approach_2 = test.query(f\"n_approaches==2 & (@start <= time <= @stop)\")\n",
    "approach_3 = test.query(f\"n_approaches==3 & (@start <= time <= @stop)\")\n",
    "\n",
    "balanced_test = pd.concat([approach_1, approach_2, approach_3], axis=0)"
   ],
   "id": "a67d54961cace68b",
   "outputs": [],
   "execution_count": 8
  },
  {
   "metadata": {
    "ExecuteTime": {
     "end_time": "2025-09-03T20:24:37.289291Z",
     "start_time": "2025-09-03T20:23:43.381223Z"
    }
   },
   "cell_type": "code",
   "source": [
    "file_name = \"balanced_train\"\n",
    "balanced_train_flights, balanced_train_labels, balanced_train_stats = flights_from_query(balanced_train, file_name, load_results=True)\n",
    "balanced_train_data = get_flight_persistances(balanced_train_flights, file_name, load_results=False)"
   ],
   "id": "b1494f6dc705ac56",
   "outputs": [
    {
     "name": "stderr",
     "output_type": "stream",
     "text": [
      "100%|██████████| 1041/1041 [00:13<00:00, 79.38it/s]\n",
      "100%|██████████| 1041/1041 [00:11<00:00, 87.11it/s]\n",
      "100%|██████████| 1041/1041 [00:19<00:00, 54.71it/s]\n",
      "100%|██████████| 1041/1041 [00:03<00:00, 261.89it/s]\n"
     ]
    }
   ],
   "execution_count": 13
  },
  {
   "metadata": {},
   "cell_type": "code",
   "source": [
    "file_name = \"balanced_test\"\n",
    "balanced_test_flights, balanced_test_labels, balanced_test_stats = flights_from_query(balanced_test, file_name, load_results=False)\n",
    "balanced_test_data = get_flight_persistances(balanced_test_flights, file_name, load_results=False)"
   ],
   "id": "9b9aae7f70d57f86",
   "outputs": [
    {
     "name": "stderr",
     "output_type": "stream",
     "text": [
      "\n",
      "RUNNING: : 96.0% [00:08, 934%/s]\u001B[A\n",
      "RUNNING: : 96.0% [00:08, 934%/s]\u001B[A\n",
      "RUNNING: : 96.0% [00:08, 934%/s]\u001B[A\n",
      "RUNNING: : 96.0% [00:08, 934%/s]\u001B[A\n",
      "RUNNING: : 96.0% [00:08, 934%/s]\u001B[A\n",
      "RUNNING: : 96.0% [00:08, 934%/s]\u001B[A\n",
      "RUNNING: : 96.0% [00:08, 934%/s]\u001B[A\n",
      "RUNNING: : 96.0% [00:08, 934%/s]\u001B[A\n",
      "RUNNING: : 96.0% [00:08, 934%/s]\u001B[A\n",
      "FINISHED: : 96.0% [00:09, 934%/s]\u001B[A\n",
      "FINISHED: : 100% [00:09, 10.8%/s]\u001B[A\n",
      "\n",
      "DOWNLOAD: 1.80klines [00:00, 189klines/s]\n",
      " 99%|█████████▉| 1295/1311 [11:31<02:32,  9.53s/it]\n",
      "0.00% [00:00, ?%/s]\u001B[A\n",
      "RUNNING: : 0.00% [00:00, ?%/s]\u001B[A\n",
      "RUNNING: : 96.3% [00:00, 946%/s]\u001B[A\n",
      "RUNNING: : 96.3% [00:00, 946%/s]\u001B[A\n",
      "RUNNING: : 96.3% [00:00, 946%/s]\u001B[A\n",
      "RUNNING: : 96.3% [00:00, 946%/s]\u001B[A\n",
      "RUNNING: : 96.3% [00:00, 946%/s]\u001B[A\n",
      "RUNNING: : 96.3% [00:00, 946%/s]\u001B[A\n",
      "RUNNING: : 96.3% [00:00, 946%/s]\u001B[A\n",
      "RUNNING: : 96.3% [00:00, 946%/s]\u001B[A\n",
      "RUNNING: : 96.3% [00:00, 946%/s]\u001B[A\n",
      "RUNNING: : 96.3% [00:00, 946%/s]\u001B[A\n",
      "RUNNING: : 96.3% [00:01, 946%/s]\u001B[A\n",
      "RUNNING: : 96.3% [00:01, 946%/s]\u001B[A\n",
      "RUNNING: : 96.3% [00:01, 946%/s]\u001B[A\n",
      "RUNNING: : 96.3% [00:01, 946%/s]\u001B[A\n",
      "RUNNING: : 96.3% [00:01, 946%/s]\u001B[A\n",
      "RUNNING: : 96.3% [00:01, 946%/s]\u001B[A\n",
      "RUNNING: : 96.3% [00:01, 946%/s]\u001B[A\n",
      "RUNNING: : 96.3% [00:01, 946%/s]\u001B[A\n",
      "RUNNING: : 96.3% [00:01, 946%/s]\u001B[A\n",
      "RUNNING: : 96.3% [00:01, 946%/s]\u001B[A\n",
      "RUNNING: : 96.3% [00:02, 946%/s]\u001B[A\n",
      "RUNNING: : 96.3% [00:02, 946%/s]\u001B[A\n",
      "RUNNING: : 96.3% [00:02, 946%/s]\u001B[A\n",
      "RUNNING: : 96.3% [00:02, 946%/s]\u001B[A\n",
      "RUNNING: : 96.3% [00:02, 946%/s]\u001B[A\n",
      "RUNNING: : 96.3% [00:02, 946%/s]\u001B[A\n",
      "RUNNING: : 96.3% [00:02, 946%/s]\u001B[A\n",
      "RUNNING: : 96.3% [00:02, 946%/s]\u001B[A\n",
      "RUNNING: : 96.3% [00:02, 946%/s]\u001B[A\n",
      "RUNNING: : 96.3% [00:02, 946%/s]\u001B[A\n",
      "RUNNING: : 96.3% [00:03, 946%/s]\u001B[A\n",
      "RUNNING: : 96.3% [00:03, 946%/s]\u001B[A\n",
      "RUNNING: : 96.3% [00:03, 946%/s]\u001B[A\n",
      "RUNNING: : 96.3% [00:03, 946%/s]\u001B[A\n",
      "RUNNING: : 96.3% [00:03, 946%/s]\u001B[A\n",
      "RUNNING: : 96.3% [00:03, 946%/s]\u001B[A\n",
      "RUNNING: : 96.3% [00:03, 946%/s]\u001B[A\n",
      "RUNNING: : 96.3% [00:03, 946%/s]\u001B[A\n",
      "RUNNING: : 96.3% [00:03, 946%/s]\u001B[A\n",
      "RUNNING: : 96.3% [00:03, 946%/s]\u001B[A\n",
      "RUNNING: : 96.3% [00:04, 946%/s]\u001B[A\n",
      "RUNNING: : 96.3% [00:04, 946%/s]\u001B[A\n",
      "RUNNING: : 96.3% [00:04, 946%/s]\u001B[A\n",
      "RUNNING: : 96.3% [00:04, 946%/s]\u001B[A\n",
      "RUNNING: : 96.3% [00:04, 946%/s]\u001B[A\n",
      "RUNNING: : 96.3% [00:04, 946%/s]\u001B[A\n",
      "RUNNING: : 96.3% [00:04, 946%/s]\u001B[A\n",
      "RUNNING: : 96.3% [00:04, 946%/s]\u001B[A\n",
      "RUNNING: : 96.3% [00:04, 946%/s]\u001B[A\n",
      "RUNNING: : 96.3% [00:04, 946%/s]\u001B[A\n",
      "RUNNING: : 96.3% [00:05, 946%/s]\u001B[A\n",
      "RUNNING: : 96.3% [00:05, 946%/s]\u001B[A\n",
      "RUNNING: : 96.3% [00:05, 946%/s]\u001B[A\n",
      "RUNNING: : 96.3% [00:05, 946%/s]\u001B[A\n",
      "RUNNING: : 96.3% [00:05, 946%/s]\u001B[A\n",
      "RUNNING: : 96.3% [00:05, 946%/s]\u001B[A\n",
      "RUNNING: : 96.3% [00:05, 946%/s]\u001B[A\n",
      "RUNNING: : 96.3% [00:05, 946%/s]\u001B[A\n",
      "RUNNING: : 96.3% [00:05, 946%/s]\u001B[A\n",
      "RUNNING: : 96.3% [00:06, 946%/s]\u001B[A\n",
      "RUNNING: : 96.3% [00:06, 946%/s]\u001B[A\n",
      "RUNNING: : 96.3% [00:06, 946%/s]\u001B[A\n",
      "RUNNING: : 96.3% [00:06, 946%/s]\u001B[A\n",
      "RUNNING: : 96.3% [00:06, 946%/s]\u001B[A\n",
      "RUNNING: : 96.3% [00:06, 946%/s]\u001B[A\n",
      "RUNNING: : 96.3% [00:06, 946%/s]\u001B[A\n",
      "RUNNING: : 96.3% [00:06, 946%/s]\u001B[A\n",
      "RUNNING: : 96.3% [00:06, 946%/s]\u001B[A\n",
      "RUNNING: : 96.3% [00:06, 946%/s]\u001B[A\n",
      "RUNNING: : 96.3% [00:07, 946%/s]\u001B[A\n",
      "RUNNING: : 96.3% [00:07, 946%/s]\u001B[A\n",
      "RUNNING: : 96.3% [00:07, 946%/s]\u001B[A\n",
      "RUNNING: : 96.3% [00:07, 946%/s]\u001B[A\n",
      "RUNNING: : 96.3% [00:07, 946%/s]\u001B[A\n",
      "RUNNING: : 96.3% [00:07, 946%/s]\u001B[A\n",
      "RUNNING: : 96.3% [00:07, 946%/s]\u001B[A\n",
      "RUNNING: : 96.3% [00:07, 946%/s]\u001B[A\n",
      "RUNNING: : 96.3% [00:07, 946%/s]\u001B[A\n",
      "RUNNING: : 96.3% [00:07, 946%/s]\u001B[A\n",
      "RUNNING: : 96.3% [00:08, 946%/s]\u001B[A\n",
      "RUNNING: : 96.3% [00:08, 946%/s]\u001B[A\n",
      "RUNNING: : 96.3% [00:08, 946%/s]\u001B[A\n",
      "RUNNING: : 96.3% [00:08, 946%/s]\u001B[A\n",
      "RUNNING: : 96.3% [00:08, 946%/s]\u001B[A\n",
      "RUNNING: : 96.3% [00:08, 946%/s]\u001B[A\n",
      "RUNNING: : 96.3% [00:08, 946%/s]\u001B[A\n",
      "RUNNING: : 96.3% [00:08, 946%/s]\u001B[A\n",
      "RUNNING: : 96.3% [00:08, 946%/s]\u001B[A\n",
      "RUNNING: : 96.3% [00:08, 946%/s]\u001B[A\n",
      "RUNNING: : 96.3% [00:09, 946%/s]\u001B[A\n",
      "RUNNING: : 96.3% [00:09, 946%/s]\u001B[A\n",
      "RUNNING: : 96.3% [00:09, 946%/s]\u001B[A\n",
      "RUNNING: : 96.3% [00:09, 946%/s]\u001B[A\n",
      "RUNNING: : 96.3% [00:09, 946%/s]\u001B[A\n",
      "RUNNING: : 96.3% [00:09, 946%/s]\u001B[A\n",
      "RUNNING: : 96.3% [00:09, 946%/s]\u001B[A\n",
      "RUNNING: : 96.3% [00:09, 946%/s]\u001B[A\n",
      "RUNNING: : 96.3% [00:09, 946%/s]\u001B[A\n",
      "RUNNING: : 96.3% [00:09, 946%/s]\u001B[A\n",
      "RUNNING: : 96.3% [00:10, 946%/s]\u001B[A\n",
      "RUNNING: : 96.3% [00:10, 946%/s]\u001B[A\n",
      "RUNNING: : 96.3% [00:10, 946%/s]\u001B[A\n",
      "RUNNING: : 96.3% [00:10, 946%/s]\u001B[A\n",
      "RUNNING: : 96.3% [00:10, 946%/s]\u001B[A\n",
      "RUNNING: : 96.3% [00:10, 946%/s]\u001B[A\n",
      "RUNNING: : 96.3% [00:10, 946%/s]\u001B[A\n",
      "RUNNING: : 96.3% [00:10, 946%/s]\u001B[A\n",
      "RUNNING: : 96.3% [00:10, 946%/s]\u001B[A\n",
      "RUNNING: : 96.3% [00:10, 946%/s]\u001B[A\n",
      "RUNNING: : 96.3% [00:11, 946%/s]\u001B[A\n",
      "RUNNING: : 96.3% [00:11, 946%/s]\u001B[A\n",
      "RUNNING: : 96.3% [00:11, 946%/s]\u001B[A\n",
      "RUNNING: : 96.3% [00:11, 946%/s]\u001B[A\n",
      "RUNNING: : 96.3% [00:11, 946%/s]\u001B[A\n",
      "RUNNING: : 96.3% [00:11, 946%/s]\u001B[A\n",
      "RUNNING: : 96.3% [00:11, 946%/s]\u001B[A\n",
      "RUNNING: : 96.3% [00:11, 946%/s]\u001B[A\n",
      "RUNNING: : 96.3% [00:11, 946%/s]\u001B[A\n",
      "FINISHED: : 96.3% [00:11, 8.03%/s][A\n",
      "\n",
      "DOWNLOAD: 1.80klines [00:00, 300klines/s]\n",
      " 99%|█████████▉| 1297/1311 [12:19<03:13, 13.82s/it]\n",
      "0.00% [00:00, ?%/s]\u001B[A\n",
      "RUNNING: : 0.00% [00:00, ?%/s]\u001B[A\n",
      "RUNNING: : 96.6% [00:00, 948%/s]\u001B[A\n",
      "RUNNING: : 96.6% [00:00, 948%/s]\u001B[A\n",
      "RUNNING: : 96.6% [00:00, 948%/s]\u001B[A\n",
      "RUNNING: : 96.6% [00:00, 948%/s]\u001B[A\n",
      "RUNNING: : 96.6% [00:00, 948%/s]\u001B[A\n",
      "RUNNING: : 96.6% [00:00, 948%/s]\u001B[A\n",
      "RUNNING: : 96.6% [00:00, 948%/s]\u001B[A\n",
      "RUNNING: : 96.6% [00:00, 948%/s]\u001B[A\n",
      "RUNNING: : 96.6% [00:00, 948%/s]\u001B[A\n",
      "RUNNING: : 96.6% [00:00, 948%/s]\u001B[A\n",
      "RUNNING: : 96.6% [00:01, 948%/s]\u001B[A\n",
      "RUNNING: : 96.6% [00:01, 948%/s]\u001B[A\n",
      "RUNNING: : 96.6% [00:01, 948%/s]\u001B[A\n",
      "RUNNING: : 96.6% [00:01, 948%/s]\u001B[A\n",
      "RUNNING: : 96.6% [00:01, 948%/s]\u001B[A\n",
      "RUNNING: : 96.6% [00:01, 948%/s]\u001B[A\n",
      "RUNNING: : 96.6% [00:01, 948%/s]\u001B[A\n",
      "RUNNING: : 96.6% [00:01, 948%/s]\u001B[A\n",
      "RUNNING: : 96.6% [00:01, 948%/s]\u001B[A\n",
      "RUNNING: : 96.6% [00:01, 948%/s]\u001B[A\n",
      "RUNNING: : 96.6% [00:02, 948%/s]\u001B[A\n",
      "RUNNING: : 96.6% [00:02, 948%/s]\u001B[A\n",
      "RUNNING: : 96.6% [00:02, 948%/s]\u001B[A\n",
      "RUNNING: : 96.6% [00:02, 948%/s]\u001B[A\n",
      "RUNNING: : 96.6% [00:02, 948%/s]\u001B[A\n",
      "RUNNING: : 96.6% [00:02, 948%/s]\u001B[A\n",
      "RUNNING: : 96.6% [00:02, 948%/s]\u001B[A\n",
      "RUNNING: : 96.6% [00:02, 948%/s]\u001B[A\n",
      "RUNNING: : 96.6% [00:02, 948%/s]\u001B[A\n",
      "RUNNING: : 96.6% [00:02, 948%/s]\u001B[A\n",
      "RUNNING: : 96.6% [00:03, 948%/s]\u001B[A\n",
      "RUNNING: : 96.6% [00:03, 948%/s]\u001B[A\n",
      "RUNNING: : 96.6% [00:03, 948%/s]\u001B[A\n",
      "RUNNING: : 96.6% [00:03, 948%/s]\u001B[A\n",
      "RUNNING: : 96.6% [00:03, 948%/s]\u001B[A\n",
      "RUNNING: : 96.6% [00:03, 948%/s]\u001B[A\n",
      "RUNNING: : 96.6% [00:03, 948%/s]\u001B[A\n",
      "RUNNING: : 96.6% [00:03, 948%/s]\u001B[A\n",
      "RUNNING: : 96.6% [00:03, 948%/s]\u001B[A\n",
      "RUNNING: : 96.6% [00:03, 948%/s]\u001B[A\n",
      "RUNNING: : 96.6% [00:04, 948%/s]\u001B[A\n",
      "RUNNING: : 96.6% [00:04, 948%/s]\u001B[A\n",
      "RUNNING: : 96.6% [00:04, 948%/s]\u001B[A\n",
      "RUNNING: : 96.6% [00:04, 948%/s]\u001B[A\n",
      "RUNNING: : 96.6% [00:04, 948%/s]\u001B[A\n",
      "RUNNING: : 96.6% [00:04, 948%/s]\u001B[A\n",
      "RUNNING: : 96.6% [00:04, 948%/s]\u001B[A\n",
      "RUNNING: : 96.6% [00:04, 948%/s]\u001B[A\n",
      "RUNNING: : 96.6% [00:04, 948%/s]\u001B[A\n",
      "RUNNING: : 96.6% [00:04, 948%/s]\u001B[A\n",
      "RUNNING: : 96.6% [00:05, 948%/s]\u001B[A\n",
      "RUNNING: : 96.6% [00:05, 948%/s]\u001B[A\n",
      "RUNNING: : 96.6% [00:05, 948%/s]\u001B[A\n",
      "RUNNING: : 96.6% [00:05, 948%/s]\u001B[A\n",
      "RUNNING: : 96.6% [00:05, 948%/s]\u001B[A\n",
      "RUNNING: : 96.6% [00:05, 948%/s]\u001B[A\n",
      "RUNNING: : 96.6% [00:05, 948%/s]\u001B[A\n",
      "RUNNING: : 96.6% [00:05, 948%/s]\u001B[A\n",
      "RUNNING: : 96.6% [00:05, 948%/s]\u001B[A\n",
      "RUNNING: : 96.6% [00:05, 948%/s]\u001B[A\n",
      "RUNNING: : 96.6% [00:06, 948%/s]\u001B[A\n",
      "RUNNING: : 96.6% [00:06, 948%/s]\u001B[A\n",
      "RUNNING: : 96.6% [00:06, 948%/s]\u001B[A\n",
      "RUNNING: : 96.6% [00:06, 948%/s]\u001B[A\n",
      "RUNNING: : 96.6% [00:06, 948%/s]\u001B[A\n",
      "RUNNING: : 96.6% [00:06, 948%/s]\u001B[A\n",
      "RUNNING: : 96.6% [00:06, 948%/s]\u001B[A\n",
      "RUNNING: : 96.6% [00:06, 948%/s]\u001B[A\n",
      "RUNNING: : 96.6% [00:06, 948%/s]\u001B[A\n",
      "FINISHED: : 96.6% [00:07, 13.7%/s][A\n",
      "\n",
      "DOWNLOAD: 1.63klines [00:00, 326klines/s]\n",
      " 99%|█████████▉| 1298/1311 [13:42<05:38, 26.05s/it]\n",
      "0.00% [00:00, ?%/s]\u001B[A\n",
      "RUNNING: : 0.00% [00:00, ?%/s]\u001B[A\n",
      "FINISHED: : 93.8% [00:00, 512%/s]\u001B[A\n",
      "FINISHED: : 100% [00:00, 543%/s] \u001B[A\n",
      "FINISHED: : 100% [00:00, 350%/s]\u001B[A\n",
      "\n",
      "DOWNLOAD: 1.37klines [00:00, 228klines/s]\n",
      " 99%|█████████▉| 1300/1311 [13:50<03:25, 18.66s/it]\n",
      "0.00% [00:00, ?%/s]\u001B[A\n",
      "FINISHED: : 0.00% [00:00, ?%/s]\u001B[A\n",
      "FINISHED: : 100% [00:00, 656%/s]\u001B[A\n",
      "FINISHED: : 100% [00:00, 652%/s]\u001B[A\n",
      "FINISHED: : 100% [00:00, 391%/s]\u001B[A\n",
      "\n",
      "DOWNLOAD: 1.80klines [00:00, 300klines/s]\n",
      " 99%|█████████▉| 1301/1311 [13:54<02:38, 15.89s/it]\n",
      "0.00% [00:00, ?%/s]\u001B[A\n",
      "RUNNING: : 0.00% [00:00, ?%/s]\u001B[A\n",
      "RUNNING: : 96.0% [00:00, 945%/s]\u001B[A\n",
      "RUNNING: : 96.0% [00:00, 936%/s]\u001B[A\n",
      "RUNNING: : 96.0% [00:00, 936%/s]\u001B[A\n",
      "FINISHED: : 96.0% [00:00, 936%/s]\u001B[A\n",
      "FINISHED: : 100% [00:00, 194%/s] \u001B[A\n",
      "\n",
      "DOWNLOAD: 1.80klines [00:00, 277klines/s]\n",
      " 99%|█████████▉| 1302/1311 [13:59<02:01, 13.52s/it]\n",
      "0.00% [00:00, ?%/s]\u001B[A\n",
      "RUNNING: : 0.00% [00:00, ?%/s]\u001B[A\n",
      "RUNNING: : 31.0% [00:00, 307%/s]\u001B[A\n",
      "RUNNING: : 31.0% [00:00, 304%/s]\u001B[A\n",
      "RUNNING: : 31.0% [00:00, 304%/s]\u001B[A\n",
      "RUNNING: : 31.0% [00:00, 304%/s]\u001B[A\n",
      "RUNNING: : 31.0% [00:00, 304%/s]\u001B[A\n",
      "RUNNING: : 31.0% [00:00, 304%/s]\u001B[A\n",
      "RUNNING: : 31.0% [00:00, 304%/s]\u001B[A\n",
      "RUNNING: : 31.0% [00:00, 304%/s]\u001B[A\n",
      "RUNNING: : 65.5% [00:00, 82.7%/s]\u001B[A\n",
      "FINISHED: : 65.5% [00:00, 82.7%/s]\u001B[A\n",
      "FINISHED: : 100% [00:00, 106%/s]  \u001B[A\n",
      "FINISHED: : 100% [00:01, 96.7%/s][A\n",
      "\n",
      "DOWNLOAD: 1.80klines [00:00, 300klines/s]\n",
      " 99%|█████████▉| 1304/1311 [14:04<01:04,  9.26s/it]\n",
      "0.00% [00:00, ?%/s]\u001B[A\n",
      "RUNNING: : 0.00% [00:00, ?%/s]\u001B[A\n",
      "RUNNING: : 66.7% [00:00, 656%/s]\u001B[A\n",
      "RUNNING: : 66.7% [00:00, 650%/s]\u001B[A\n",
      "RUNNING: : 66.7% [00:00, 650%/s]\u001B[A\n",
      "RUNNING: : 66.7% [00:00, 650%/s]\u001B[A\n",
      "RUNNING: : 66.7% [00:00, 650%/s]\u001B[A\n",
      "FINISHED: : 66.7% [00:00, 650%/s]\u001B[A\n",
      "FINISHED: : 100% [00:00, 162%/s] \u001B[A\n",
      "\n",
      "DOWNLOAD: 1.41klines [00:00, 256klines/s]\n",
      "100%|██████████| 1311/1311 [14:07<00:00,  1.55it/s]\n",
      "100%|██████████| 1067/1067 [00:10<00:00, 102.75it/s]\n",
      "100%|██████████| 1067/1067 [00:09<00:00, 114.61it/s]\n",
      "100%|██████████| 1067/1067 [00:15<00:00, 68.09it/s]\n",
      "100%|██████████| 1067/1067 [00:03<00:00, 267.11it/s]\n"
     ]
    }
   ],
   "execution_count": 14
  },
  {
   "metadata": {},
   "cell_type": "code",
   "source": [
    "data = (balanced_train[\"n_approaches\"])\n",
    "\n",
    "fig, ax = plt.subplots(nrows=1, ncols=1)\n",
    "bins = np.arange(1, max(data) + 2)\n",
    "sampled_hist, bin_edges, p = ax.hist(data, bins=bins, log=True, edgecolor=\"black\", bottom=1)\n",
    "p.set_label(\"Before\")\n",
    "\n",
    "# Compute bin centers\n",
    "bin_centers = 0.5 * (bin_edges[:-1] + bin_edges[1:])\n",
    "ax.set_xticks(bin_centers)\n",
    "ax.set_xticklabels([str(int(x)) for x in bin_centers])  # optional: force integer labels\n",
    "\n",
    "ax.set_xlabel(\"Contains GA\")\n",
    "ax.set_ylabel(\"Frequency (log 10)\")\n",
    "\n",
    "baseline_ylim = ax.get_ylim()\n",
    "\n",
    "data = balanced_train_labels[:, 0]\n",
    "sampled_hist, bin_edges, p = ax.hist(data, bins=bins, log=True, edgecolor=\"black\", bottom=1)\n",
    "p.set_label(\"After\")\n",
    "ax.legend(loc='lower right')\n",
    "\n",
    "plt.savefig(\"balanced_approach_histogram.svg\", format=\"svg\", bbox_inches=\"tight\")"
   ],
   "id": "e6540c32afe63865",
   "outputs": [],
   "execution_count": null
  },
  {
   "metadata": {
    "ExecuteTime": {
     "end_time": "2025-08-02T13:48:34.351057800Z",
     "start_time": "2025-07-30T12:53:50.615705Z"
    }
   },
   "cell_type": "code",
   "source": "(balanced_train_labels[:, 0] == 1).sum() / sum(balanced_train[\"n_approaches\"] == 1)",
   "id": "9cb6cd0157dd8fe4",
   "outputs": [
    {
     "data": {
      "text/plain": [
       "0.8170212765957446"
      ]
     },
     "execution_count": 88,
     "metadata": {},
     "output_type": "execute_result"
    }
   ],
   "execution_count": 88
  },
  {
   "metadata": {},
   "cell_type": "code",
   "outputs": [],
   "execution_count": null,
   "source": [
    "data = labels[:, 0]\n",
    "\n",
    "plt.figure()\n",
    "y, _, _ = plt.hist(data, log=True, bins=range(1, 5), edgecolor = \"black\")\n",
    "plt.xlabel(\"Number of Approaches\")\n",
    "plt.ylabel(\"Frequency (log 10)\")\n",
    "plt.ylim(1, max(y)*1.25 )\n",
    "plt.title(\"# of Approaches in Landings of Balanced Dataset\")\n",
    "plt.savefig(\"balanced_1_2_3_approach_histogram.svg\", format=\"svg\")\n",
    "#plt.close()"
   ],
   "id": "fd71394a2761803f"
  },
  {
   "metadata": {},
   "cell_type": "code",
   "outputs": [],
   "execution_count": null,
   "source": [
    "index = 1500\n",
    "\n",
    "flight_data = flights[index].data[[\"latitude\", \"longitude\", \"groundspeed\", \"vertical_rate\", \"geoaltitude\"]]\n",
    "\n",
    "plot_scatter_matrix(flight_data)"
   ],
   "id": "9a2fc863518db940"
  },
  {
   "metadata": {},
   "cell_type": "code",
   "outputs": [],
   "execution_count": null,
   "source": "trees, paths = sublevelset_persistence(flights[:1000], \"geoaltitude\")",
   "id": "54f9452ad43faf1a"
  },
  {
   "metadata": {},
   "cell_type": "code",
   "outputs": [],
   "execution_count": null,
   "source": [
    "condensed_distance_matrix = get_condensed_distance_matrix(trees, file_name=file_name, load_results=True)\n",
    "\n",
    "Z = linkage(condensed_distance_matrix, \"complete\")"
   ],
   "id": "8d0deb6b92628816"
  },
  {
   "metadata": {},
   "cell_type": "code",
   "outputs": [],
   "execution_count": null,
   "source": [
    "clustering = fcluster(Z, t=10, criterion='maxclust')\n",
    "\n",
    "for i in range(1, len(np.unique(clustering))+1):\n",
    "    print(f\"{i}: {sum(clustering == i)}\")"
   ],
   "id": "d87356d8c5bcec55"
  },
  {
   "metadata": {},
   "cell_type": "code",
   "outputs": [],
   "execution_count": null,
   "source": [
    "from matplotlib import pyplot as plt\n",
    "\n",
    "ind = 10\n",
    "\n",
    "flight = flights[np.where(clustering == ind)[0][0]]\n",
    "tree = trees[np.where(clustering == ind)[0][0]]\n",
    "points = paths[np.where(clustering == ind)[0][0]]\n",
    "before = flight.data[[\"geoaltitude\"]].to_numpy()\n",
    "before = np.column_stack((np.arange(len(data)), before))\n",
    "\n",
    "dbscan_paths  = before[remove_outliers_dbscan(before, 25, eps = 0.05)]\n",
    "z_score_paths = before[remove_outliers_z_score(before)]\n",
    "\n",
    "path_filters  = [(before, \"before\"), (z_score_paths, \"z-score\"), (dbscan_paths, \"dbscan\")]\n",
    "\n",
    "fig, axs = plt.subplots(3)#, sharex=True, sharey=True)\n",
    "for i, (path, name) in enumerate(path_filters):\n",
    "    axs[i].scatter(path[:, 0], path[:, 1])\n",
    "    axs[i].set_title(name)\n",
    "\n",
    "fig.set_figheight(10)\n",
    "fig.set_figwidth(10)"
   ],
   "id": "607094ade568ce1"
  },
  {
   "metadata": {},
   "cell_type": "code",
   "outputs": [],
   "execution_count": null,
   "source": [
    "gudhi.persistence_graphical_tools.plot_persistence_diagram(tree, axes=axs[1])\n",
    "print(tree)"
   ],
   "id": "f592e9a8fd57991"
  },
  {
   "metadata": {},
   "cell_type": "code",
   "outputs": [],
   "execution_count": null,
   "source": [
    "fig = plt.scatter(points[:, 1], points[:, 0])\n",
    "plt.show()"
   ],
   "id": "aaf78dc00faacc36"
  },
  {
   "metadata": {
    "ExecuteTime": {
     "end_time": "2025-08-02T13:48:34.356565700Z",
     "start_time": "2025-07-16T14:34:50.574708Z"
    }
   },
   "cell_type": "code",
   "source": "2220 - 1376",
   "id": "6b20eafb0199fceb",
   "outputs": [
    {
     "data": {
      "text/plain": [
       "844"
      ]
     },
     "execution_count": 121,
     "metadata": {},
     "output_type": "execute_result"
    }
   ],
   "execution_count": 121
  },
  {
   "metadata": {
    "ExecuteTime": {
     "end_time": "2025-08-02T13:48:34.356565700Z",
     "start_time": "2025-07-16T14:37:10.239526Z"
    }
   },
   "cell_type": "code",
   "source": "3576/4440",
   "id": "85f50d4493a77905",
   "outputs": [
    {
     "data": {
      "text/plain": [
       "0.8054054054054054"
      ]
     },
     "execution_count": 123,
     "metadata": {},
     "output_type": "execute_result"
    }
   ],
   "execution_count": 123
  }
 ],
 "metadata": {
  "kernelspec": {
   "display_name": "Python 3",
   "language": "python",
   "name": "python3"
  },
  "language_info": {
   "codemirror_mode": {
    "name": "ipython",
    "version": 2
   },
   "file_extension": ".py",
   "mimetype": "text/x-python",
   "name": "python",
   "nbconvert_exporter": "python",
   "pygments_lexer": "ipython2",
   "version": "2.7.6"
  }
 },
 "nbformat": 4,
 "nbformat_minor": 5
}
