{
 "cells": [
  {
   "cell_type": "code",
   "id": "initial_id",
   "metadata": {
    "collapsed": true,
    "ExecuteTime": {
     "end_time": "2024-12-12T13:08:26.602680Z",
     "start_time": "2024-12-12T13:08:21.536263Z"
    }
   },
   "source": [
    "import datetime\n",
    "from tqdm.auto import tqdm\n",
    "import pandas as pd\n",
    "from traffic.data import opensky\n",
    "from traffic.core import Traffic\n",
    "from functions.data_filtering import ICAO_codes"
   ],
   "outputs": [],
   "execution_count": 1
  },
  {
   "metadata": {
    "ExecuteTime": {
     "end_time": "2024-12-12T13:09:02.912082Z",
     "start_time": "2024-12-12T13:08:34.530153Z"
    }
   },
   "cell_type": "code",
   "source": [
    "# load minimum data set\n",
    "df = pd.read_csv(\"data/go_arounds_augmented.csv\", low_memory=False)\n",
    "df[\"time\"] = pd.to_datetime(df[\"time\"])\n",
    "\n",
    "start = datetime.datetime(year=2019, month=1, day=1).replace(\n",
    "    tzinfo=datetime.timezone.utc\n",
    ")\n",
    "stop = datetime.datetime(year=2019, month=2, day=1).replace(\n",
    "    tzinfo=datetime.timezone.utc\n",
    ")\n",
    "\n",
    "df_selection = df.query(f\"!has_ga & (@start <= time <= @stop)\")"
   ],
   "id": "edc4f95f0e6d96af",
   "outputs": [
    {
     "ename": "SyntaxError",
     "evalue": "Python keyword not valid identifier in numexpr query (<unknown>, line 1)",
     "output_type": "error",
     "traceback": [
      "Traceback \u001B[1;36m(most recent call last)\u001B[0m:\n",
      "\u001B[0m  File \u001B[0;32m~\\Desktop\\programering\\masters-thesis\\venv\\Lib\\site-packages\\IPython\\core\\interactiveshell.py:3577\u001B[0m in \u001B[0;35mrun_code\u001B[0m\n    exec(code_obj, self.user_global_ns, self.user_ns)\u001B[0m\n",
      "\u001B[0m  Cell \u001B[0;32mIn[3], line 12\u001B[0m\n    df_selection = df.query(f\"!has_ga & (@start <= time <= @stop)\")\u001B[0m\n",
      "\u001B[0m  File \u001B[0;32m~\\Desktop\\programering\\masters-thesis\\venv\\Lib\\site-packages\\pandas\\core\\frame.py:4823\u001B[0m in \u001B[0;35mquery\u001B[0m\n    res = self.eval(expr, **kwargs)\u001B[0m\n",
      "\u001B[0m  File \u001B[0;32m~\\Desktop\\programering\\masters-thesis\\venv\\Lib\\site-packages\\pandas\\core\\frame.py:4949\u001B[0m in \u001B[0;35meval\u001B[0m\n    return _eval(expr, inplace=inplace, **kwargs)\u001B[0m\n",
      "\u001B[0m  File \u001B[0;32m~\\Desktop\\programering\\masters-thesis\\venv\\Lib\\site-packages\\pandas\\core\\computation\\eval.py:336\u001B[0m in \u001B[0;35meval\u001B[0m\n    parsed_expr = Expr(expr, engine=engine, parser=parser, env=env)\u001B[0m\n",
      "\u001B[0m  File \u001B[0;32m~\\Desktop\\programering\\masters-thesis\\venv\\Lib\\site-packages\\pandas\\core\\computation\\expr.py:805\u001B[0m in \u001B[0;35m__init__\u001B[0m\n    self.terms = self.parse()\u001B[0m\n",
      "\u001B[0m  File \u001B[0;32m~\\Desktop\\programering\\masters-thesis\\venv\\Lib\\site-packages\\pandas\\core\\computation\\expr.py:824\u001B[0m in \u001B[0;35mparse\u001B[0m\n    return self._visitor.visit(self.expr)\u001B[0m\n",
      "\u001B[0m  File \u001B[0;32m~\\Desktop\\programering\\masters-thesis\\venv\\Lib\\site-packages\\pandas\\core\\computation\\expr.py:407\u001B[0m in \u001B[0;35mvisit\u001B[0m\n    raise e\u001B[0m\n",
      "\u001B[0m  File \u001B[0;32m~\\Desktop\\programering\\masters-thesis\\venv\\Lib\\site-packages\\pandas\\core\\computation\\expr.py:403\u001B[0m in \u001B[0;35mvisit\u001B[0m\n    node = ast.fix_missing_locations(ast.parse(clean))\u001B[0m\n",
      "\u001B[1;36m  File \u001B[1;32m~\\AppData\\Local\\Programs\\Python\\Python312\\Lib\\ast.py:52\u001B[1;36m in \u001B[1;35mparse\u001B[1;36m\n\u001B[1;33m    return compile(source, filename, mode, flags,\u001B[1;36m\n",
      "\u001B[1;36m  File \u001B[1;32m<unknown>:1\u001B[1;36m\u001B[0m\n\u001B[1;33m    !has_ga and (__pd_eval_local_start <=time <=__pd_eval_local_stop )\u001B[0m\n\u001B[1;37m    ^\u001B[0m\n\u001B[1;31mSyntaxError\u001B[0m\u001B[1;31m:\u001B[0m Python keyword not valid identifier in numexpr query\n"
     ]
    }
   ],
   "execution_count": 3
  },
  {
   "metadata": {
    "ExecuteTime": {
     "end_time": "2024-12-12T13:08:33.354518600Z",
     "start_time": "2024-12-11T17:58:41.381937Z"
    }
   },
   "cell_type": "code",
   "source": [
    "from functions.data_processing import split_flights\n",
    "\n",
    "# iterate over flights and pull the data from OpenSky Network\n",
    "flights = []\n",
    "delta_time = pd.Timedelta(days=1)\n",
    "for _, row in tqdm(df_selection.head(100).iterrows(), total=100):\n",
    "    # take at most 10 minutes before and 10 minutes after the landing or go-around\n",
    "    start_time = row[\"time\"] - delta_time\n",
    "    stop_time = row[\"time\"] + delta_time\n",
    "\n",
    "    # fetch the data from OpenSky Network\n",
    "    flights.append(\n",
    "        opensky.history(\n",
    "            start=start_time.strftime(\"%Y-%m-%d %H:%M:%S\"),\n",
    "            stop=stop_time.strftime(\"%Y-%m-%d %H:%M:%S\"),\n",
    "            callsign=row[\"callsign\"],\n",
    "            return_flight=True,\n",
    "        )\n",
    "    )\n",
    "# The flights can be converted into a Traffic object\n",
    "traffic = Traffic.from_flights(flights)\n",
    "fixed_flights = []\n",
    "final_list = split_flights(flights)"
   ],
   "id": "c9c85b5cd6edcf98",
   "outputs": [
    {
     "data": {
      "text/plain": [
       "  0%|          | 0/100 [00:00<?, ?it/s]"
      ],
      "application/vnd.jupyter.widget-view+json": {
       "version_major": 2,
       "version_minor": 0,
       "model_id": "01c5ca79cf4345dfb96dccb2ccb51fd7"
      }
     },
     "metadata": {},
     "output_type": "display_data"
    }
   ],
   "execution_count": 7
  },
  {
   "metadata": {
    "ExecuteTime": {
     "end_time": "2024-12-11T17:59:06.923348Z",
     "start_time": "2024-12-11T17:58:53.592467Z"
    }
   },
   "cell_type": "code",
   "source": "traffic.map_leaflet()",
   "id": "86e6cff091195c4b",
   "outputs": [
    {
     "data": {
      "text/plain": [
       "Map(center=[23.257305738401275, 13.296193655474095], controls=(ZoomControl(options=['position', 'zoom_in_text'…"
      ],
      "application/vnd.jupyter.widget-view+json": {
       "version_major": 2,
       "version_minor": 0,
       "model_id": "ef586dd1492043c8916232f0e1c2ac0d"
      }
     },
     "execution_count": 8,
     "metadata": {},
     "output_type": "execute_result"
    }
   ],
   "execution_count": 8
  },
  {
   "metadata": {
    "ExecuteTime": {
     "end_time": "2024-11-25T13:50:30.157738Z",
     "start_time": "2024-11-25T13:50:30.038645Z"
    }
   },
   "cell_type": "code",
   "source": "final_list[3].map_leaflet()",
   "id": "36cf93fb6f1d45d3",
   "outputs": [
    {
     "data": {
      "text/plain": [
       "Map(center=[54.71463501621589, 21.554543801317838], controls=(ZoomControl(options=['position', 'zoom_in_text',…"
      ],
      "application/vnd.jupyter.widget-view+json": {
       "version_major": 2,
       "version_minor": 0,
       "model_id": "f0b046548a864f999023900aec76b674"
      }
     },
     "execution_count": 28,
     "metadata": {},
     "output_type": "execute_result"
    }
   ],
   "execution_count": 28
  },
  {
   "metadata": {},
   "cell_type": "code",
   "outputs": [],
   "execution_count": null,
   "source": "",
   "id": "bb585c25cfff2882"
  }
 ],
 "metadata": {
  "kernelspec": {
   "display_name": "Python 3",
   "language": "python",
   "name": "python3"
  },
  "language_info": {
   "codemirror_mode": {
    "name": "ipython",
    "version": 2
   },
   "file_extension": ".py",
   "mimetype": "text/x-python",
   "name": "python",
   "nbconvert_exporter": "python",
   "pygments_lexer": "ipython2",
   "version": "2.7.6"
  }
 },
 "nbformat": 4,
 "nbformat_minor": 5
}
