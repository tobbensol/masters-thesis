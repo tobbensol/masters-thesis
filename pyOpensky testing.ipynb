{
 "cells": [
  {
   "cell_type": "code",
   "id": "initial_id",
   "metadata": {
    "collapsed": true,
    "ExecuteTime": {
     "end_time": "2024-09-12T12:30:45.703828Z",
     "start_time": "2024-09-12T12:30:42.559045Z"
    }
   },
   "source": [
    "from pyopensky.trino import Trino\n",
    "from traffic.core import Traffic\n",
    "\n",
    "from datetime import datetime, timedelta\n",
    "from functions.data_loading import get_data_range\n",
    "\n",
    "ICAO_codes = {\"bergen\": \"ENBR\",\n",
    "              \"oslo\": \"ENGM\",\n",
    "              \"gatwick\":\"EGKK\",\n",
    "              \"heathrow\":\"EGLL\",\n",
    "              \"new york\": \"KJFK\",\n",
    "              \"cape town\":\"FACT\",\n",
    "              \"los angeles\": \"KLAX\"}\n",
    "query = Trino()\n",
    "\n",
    "# query status: https://trino.opensky-network.org/ui/ "
   ],
   "outputs": [],
   "execution_count": 1
  },
  {
   "metadata": {
    "ExecuteTime": {
     "end_time": "2024-09-12T12:31:01.756110Z",
     "start_time": "2024-09-12T12:30:45.703828Z"
    }
   },
   "cell_type": "code",
   "source": "flights: Traffic = get_data_range('bergen', 'oslo', datetime(year=2023, month=1, day=1), datetime(year=2024, month=1, day=1))",
   "id": "5b05d9761b0f8911",
   "outputs": [],
   "execution_count": 2
  },
  {
   "metadata": {
    "ExecuteTime": {
     "end_time": "2024-09-12T12:31:07.019354Z",
     "start_time": "2024-09-12T12:31:01.756110Z"
    }
   },
   "cell_type": "code",
   "source": "flights[0].map_leaflet(zoom=4)",
   "id": "ece792ebf56e1b67",
   "outputs": [
    {
     "data": {
      "text/plain": [
       "Map(center=[60.237251323733126, 8.071345117434724], controls=(ZoomControl(options=['position', 'zoom_in_text',…"
      ],
      "application/vnd.jupyter.widget-view+json": {
       "version_major": 2,
       "version_minor": 0,
       "model_id": "ba166f388c2847d681c9a65dde37a69a"
      }
     },
     "execution_count": 3,
     "metadata": {},
     "output_type": "execute_result"
    }
   ],
   "execution_count": 3
  },
  {
   "metadata": {
    "ExecuteTime": {
     "end_time": "2024-09-12T12:37:32.482001Z",
     "start_time": "2024-09-12T12:31:07.020359Z"
    }
   },
   "cell_type": "code",
   "source": "ny_heathrow: Traffic = get_data_range(origin=\"new york\", destination=\"heathrow\", start=datetime.now()-timedelta(weeks=1), stop=datetime.now())",
   "id": "e51f2ce5b3acbd67",
   "outputs": [
    {
     "name": "stderr",
     "output_type": "stream",
     "text": [
      "RUNNING: : 54.7% [00:10, 5.30%/s]\n",
      "DOWNLOAD: 264klines [00:41, 6.38klines/s]\n",
      "RUNNING: : 55.3% [00:16, 3.43%/s]\n",
      "DOWNLOAD: 242klines [00:32, 7.40klines/s]\n",
      "RUNNING: : 54.8% [00:09, 5.79%/s]\n",
      "DOWNLOAD: 247klines [00:35, 6.88klines/s]\n",
      "RUNNING: : 54.7% [00:10, 5.03%/s]\n",
      "DOWNLOAD: 238klines [00:40, 5.82klines/s]\n",
      "RUNNING: : 54.8% [00:12, 4.49%/s]\n",
      "DOWNLOAD: 225klines [00:31, 7.07klines/s]\n",
      "RUNNING: : 53.8% [00:13, 3.85%/s]\n",
      "DOWNLOAD: 212klines [00:30, 7.05klines/s]\n",
      "FINISHED: : 100% [00:40, 2.46%/s] \n",
      "DOWNLOAD: 25.8klines [00:00, 591klines/s]\n"
     ]
    }
   ],
   "execution_count": 4
  },
  {
   "metadata": {
    "ExecuteTime": {
     "end_time": "2024-09-12T12:37:50.380727Z",
     "start_time": "2024-09-12T12:37:49.878044Z"
    }
   },
   "cell_type": "code",
   "source": "ny_heathrow[3].map_leaflet(zoom=2)",
   "id": "7790df3f2cb5c99f",
   "outputs": [
    {
     "data": {
      "text/plain": [
       "Map(center=[44.78352577418392, -68.53626447042633], controls=(ZoomControl(options=['position', 'zoom_in_text',…"
      ],
      "application/vnd.jupyter.widget-view+json": {
       "version_major": 2,
       "version_minor": 0,
       "model_id": "da3a94e22f184ecc91ded01ab9f2a002"
      }
     },
     "execution_count": 8,
     "metadata": {},
     "output_type": "execute_result"
    }
   ],
   "execution_count": 8
  },
  {
   "metadata": {
    "jupyter": {
     "is_executing": true
    },
    "ExecuteTime": {
     "start_time": "2024-09-12T12:37:55.525497Z"
    }
   },
   "cell_type": "code",
   "source": "la_ny: Traffic = get_data_range(origin=\"los angeles\", destination=\"new york\", start=datetime.now()-timedelta(weeks=1), stop=datetime.now())",
   "id": "cd65864691fcc090",
   "outputs": [],
   "execution_count": null
  },
  {
   "metadata": {
    "jupyter": {
     "is_executing": true
    }
   },
   "cell_type": "code",
   "source": "la_ny[0].map_leaflet()",
   "id": "67836b6361418956",
   "outputs": [],
   "execution_count": null
  },
  {
   "metadata": {},
   "cell_type": "code",
   "outputs": [],
   "execution_count": null,
   "source": "",
   "id": "d87188d763858a25"
  }
 ],
 "metadata": {
  "kernelspec": {
   "display_name": "Python 3",
   "language": "python",
   "name": "python3"
  },
  "language_info": {
   "codemirror_mode": {
    "name": "ipython",
    "version": 2
   },
   "file_extension": ".py",
   "mimetype": "text/x-python",
   "name": "python",
   "nbconvert_exporter": "python",
   "pygments_lexer": "ipython2",
   "version": "2.7.6"
  }
 },
 "nbformat": 4,
 "nbformat_minor": 5
}
