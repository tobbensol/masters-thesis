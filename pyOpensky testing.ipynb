{
 "cells": [
  {
   "cell_type": "code",
   "id": "initial_id",
   "metadata": {
    "collapsed": true,
    "ExecuteTime": {
     "end_time": "2024-09-19T13:04:22.230785Z",
     "start_time": "2024-09-19T13:04:14.633093Z"
    }
   },
   "source": [
    "from pyopensky.trino import Trino\n",
    "from traffic.core import Traffic\n",
    "\n",
    "from datetime import datetime, timedelta\n",
    "from functions.data_loading import get_data_range\n",
    "\n",
    "ICAO_codes = {\"bergen\": \"ENBR\",\n",
    "              \"oslo\": \"ENGM\",\n",
    "              \"gatwick\":\"EGKK\",\n",
    "              \"heathrow\":\"EGLL\",\n",
    "              \"new york\": \"KJFK\",\n",
    "              \"cape town\":\"FACT\",\n",
    "              \"los angeles\": \"KLAX\"}\n",
    "query = Trino()\n",
    "\n",
    "# query status: https://trino.opensky-network.org/ui/ "
   ],
   "outputs": [],
   "execution_count": 1
  },
  {
   "metadata": {
    "ExecuteTime": {
     "end_time": "2024-09-19T13:05:31.721662Z",
     "start_time": "2024-09-19T13:04:22.234606Z"
    }
   },
   "cell_type": "code",
   "source": "flights: Traffic = get_data_range('bergen', 'oslo', datetime(year=2023, month=1, day=1), datetime(year=2024, month=1, day=1))",
   "id": "5b05d9761b0f8911",
   "outputs": [],
   "execution_count": 2
  },
  {
   "metadata": {
    "ExecuteTime": {
     "end_time": "2024-09-19T13:06:15.764260Z",
     "start_time": "2024-09-19T13:06:03.694350Z"
    }
   },
   "cell_type": "code",
   "source": "flights[1].map_leaflet(zoom=4)",
   "id": "ece792ebf56e1b67",
   "outputs": [
    {
     "data": {
      "text/plain": [
       "Map(center=[60.227116936096806, 8.228152475134355], controls=(ZoomControl(options=['position', 'zoom_in_text',…"
      ],
      "application/vnd.jupyter.widget-view+json": {
       "version_major": 2,
       "version_minor": 0,
       "model_id": "1d2614896ced4dfd962a870190cf5290"
      }
     },
     "execution_count": 3,
     "metadata": {},
     "output_type": "execute_result"
    }
   ],
   "execution_count": 3
  },
  {
   "metadata": {},
   "cell_type": "code",
   "source": "ny_heathrow: Traffic = get_data_range(origin=\"new york\", destination=\"heathrow\", start=datetime.now()-timedelta(weeks=1), stop=datetime.now())",
   "id": "e51f2ce5b3acbd67",
   "outputs": [],
   "execution_count": null
  },
  {
   "metadata": {},
   "cell_type": "code",
   "source": "ny_heathrow[3].map_leaflet(zoom=2)",
   "id": "7790df3f2cb5c99f",
   "outputs": [],
   "execution_count": null
  },
  {
   "metadata": {},
   "cell_type": "code",
   "source": "la_ny: Traffic = get_data_range(origin=\"los angeles\", destination=\"new york\", start=datetime.now()-timedelta(weeks=1), stop=datetime.now())",
   "id": "cd65864691fcc090",
   "outputs": [],
   "execution_count": null
  },
  {
   "metadata": {},
   "cell_type": "code",
   "source": "la_ny[0].map_leaflet()",
   "id": "67836b6361418956",
   "outputs": [],
   "execution_count": null
  },
  {
   "metadata": {},
   "cell_type": "code",
   "source": "flights[0].map_leaflet(zoom=4)",
   "id": "d87188d763858a25",
   "outputs": [],
   "execution_count": null
  },
  {
   "metadata": {
    "ExecuteTime": {
     "end_time": "2024-09-12T19:53:18.856913Z",
     "start_time": "2024-09-12T19:53:18.552518Z"
    }
   },
   "cell_type": "code",
   "source": "flights",
   "id": "6ce66c13b95ebb85",
   "outputs": [
    {
     "data": {
      "text/plain": [
       "   icao24 callsign   count\n",
       "0  478dd9     AKK2  154057\n",
       "1  4ac958   SAS252   64652\n",
       "2  47a48c   BNO93J   57318\n",
       "3  47c1c6     BNOG   56390\n",
       "4  478777     MDT1   51530\n",
       "5  47808d   WIF156   48028\n",
       "6  47a48c   BNO92J   43902\n",
       "7  47885f     BNON   42620\n",
       "8  4783cc    WIF29   40217\n",
       "9  47873a   WIF156   40145"
      ],
      "text/html": [
       "<h4><b>Traffic</b></h4> with 2267 identifiers<style type=\"text/css\">\n",
       "#T_6e236_row0_col0 {\n",
       "  width: 10em;\n",
       "  background: linear-gradient(90deg, #5fba7d 100.0%, transparent 100.0%);\n",
       "}\n",
       "#T_6e236_row1_col0 {\n",
       "  width: 10em;\n",
       "  background: linear-gradient(90deg, #5fba7d 42.0%, transparent 42.0%);\n",
       "}\n",
       "#T_6e236_row2_col0 {\n",
       "  width: 10em;\n",
       "  background: linear-gradient(90deg, #5fba7d 37.2%, transparent 37.2%);\n",
       "}\n",
       "#T_6e236_row3_col0 {\n",
       "  width: 10em;\n",
       "  background: linear-gradient(90deg, #5fba7d 36.6%, transparent 36.6%);\n",
       "}\n",
       "#T_6e236_row4_col0 {\n",
       "  width: 10em;\n",
       "  background: linear-gradient(90deg, #5fba7d 33.4%, transparent 33.4%);\n",
       "}\n",
       "#T_6e236_row5_col0 {\n",
       "  width: 10em;\n",
       "  background: linear-gradient(90deg, #5fba7d 31.2%, transparent 31.2%);\n",
       "}\n",
       "#T_6e236_row6_col0 {\n",
       "  width: 10em;\n",
       "  background: linear-gradient(90deg, #5fba7d 28.5%, transparent 28.5%);\n",
       "}\n",
       "#T_6e236_row7_col0 {\n",
       "  width: 10em;\n",
       "  background: linear-gradient(90deg, #5fba7d 27.7%, transparent 27.7%);\n",
       "}\n",
       "#T_6e236_row8_col0, #T_6e236_row9_col0 {\n",
       "  width: 10em;\n",
       "  background: linear-gradient(90deg, #5fba7d 26.1%, transparent 26.1%);\n",
       "}\n",
       "</style>\n",
       "<table id=\"T_6e236\">\n",
       "  <thead>\n",
       "    <tr>\n",
       "      <th class=\"blank\" >&nbsp;</th>\n",
       "      <th class=\"blank level0\" >&nbsp;</th>\n",
       "      <th id=\"T_6e236_level0_col0\" class=\"col_heading level0 col0\" >count</th>\n",
       "    </tr>\n",
       "    <tr>\n",
       "      <th class=\"index_name level0\" >icao24</th>\n",
       "      <th class=\"index_name level1\" >callsign</th>\n",
       "      <th class=\"blank col0\" >&nbsp;</th>\n",
       "    </tr>\n",
       "  </thead>\n",
       "  <tbody>\n",
       "    <tr>\n",
       "      <th id=\"T_6e236_level0_row0\" class=\"row_heading level0 row0\" >478dd9</th>\n",
       "      <th id=\"T_6e236_level1_row0\" class=\"row_heading level1 row0\" >AKK2</th>\n",
       "      <td id=\"T_6e236_row0_col0\" class=\"data row0 col0\" >154057</td>\n",
       "    </tr>\n",
       "    <tr>\n",
       "      <th id=\"T_6e236_level0_row1\" class=\"row_heading level0 row1\" >4ac958</th>\n",
       "      <th id=\"T_6e236_level1_row1\" class=\"row_heading level1 row1\" >SAS252</th>\n",
       "      <td id=\"T_6e236_row1_col0\" class=\"data row1 col0\" >64652</td>\n",
       "    </tr>\n",
       "    <tr>\n",
       "      <th id=\"T_6e236_level0_row2\" class=\"row_heading level0 row2\" >47a48c</th>\n",
       "      <th id=\"T_6e236_level1_row2\" class=\"row_heading level1 row2\" >BNO93J</th>\n",
       "      <td id=\"T_6e236_row2_col0\" class=\"data row2 col0\" >57318</td>\n",
       "    </tr>\n",
       "    <tr>\n",
       "      <th id=\"T_6e236_level0_row3\" class=\"row_heading level0 row3\" >47c1c6</th>\n",
       "      <th id=\"T_6e236_level1_row3\" class=\"row_heading level1 row3\" >BNOG</th>\n",
       "      <td id=\"T_6e236_row3_col0\" class=\"data row3 col0\" >56390</td>\n",
       "    </tr>\n",
       "    <tr>\n",
       "      <th id=\"T_6e236_level0_row4\" class=\"row_heading level0 row4\" >478777</th>\n",
       "      <th id=\"T_6e236_level1_row4\" class=\"row_heading level1 row4\" >MDT1</th>\n",
       "      <td id=\"T_6e236_row4_col0\" class=\"data row4 col0\" >51530</td>\n",
       "    </tr>\n",
       "    <tr>\n",
       "      <th id=\"T_6e236_level0_row5\" class=\"row_heading level0 row5\" >47808d</th>\n",
       "      <th id=\"T_6e236_level1_row5\" class=\"row_heading level1 row5\" >WIF156</th>\n",
       "      <td id=\"T_6e236_row5_col0\" class=\"data row5 col0\" >48028</td>\n",
       "    </tr>\n",
       "    <tr>\n",
       "      <th id=\"T_6e236_level0_row6\" class=\"row_heading level0 row6\" >47a48c</th>\n",
       "      <th id=\"T_6e236_level1_row6\" class=\"row_heading level1 row6\" >BNO92J</th>\n",
       "      <td id=\"T_6e236_row6_col0\" class=\"data row6 col0\" >43902</td>\n",
       "    </tr>\n",
       "    <tr>\n",
       "      <th id=\"T_6e236_level0_row7\" class=\"row_heading level0 row7\" >47885f</th>\n",
       "      <th id=\"T_6e236_level1_row7\" class=\"row_heading level1 row7\" >BNON</th>\n",
       "      <td id=\"T_6e236_row7_col0\" class=\"data row7 col0\" >42620</td>\n",
       "    </tr>\n",
       "    <tr>\n",
       "      <th id=\"T_6e236_level0_row8\" class=\"row_heading level0 row8\" >4783cc</th>\n",
       "      <th id=\"T_6e236_level1_row8\" class=\"row_heading level1 row8\" >WIF29</th>\n",
       "      <td id=\"T_6e236_row8_col0\" class=\"data row8 col0\" >40217</td>\n",
       "    </tr>\n",
       "    <tr>\n",
       "      <th id=\"T_6e236_level0_row9\" class=\"row_heading level0 row9\" >47873a</th>\n",
       "      <th id=\"T_6e236_level1_row9\" class=\"row_heading level1 row9\" >WIF156</th>\n",
       "      <td id=\"T_6e236_row9_col0\" class=\"data row9 col0\" >40145</td>\n",
       "    </tr>\n",
       "  </tbody>\n",
       "</table>\n"
      ]
     },
     "execution_count": 5,
     "metadata": {},
     "output_type": "execute_result"
    }
   ],
   "execution_count": 5
  },
  {
   "metadata": {},
   "cell_type": "code",
   "outputs": [],
   "execution_count": null,
   "source": "",
   "id": "f4000e6a79728125"
  }
 ],
 "metadata": {
  "kernelspec": {
   "display_name": "Python 3",
   "language": "python",
   "name": "python3"
  },
  "language_info": {
   "codemirror_mode": {
    "name": "ipython",
    "version": 2
   },
   "file_extension": ".py",
   "mimetype": "text/x-python",
   "name": "python",
   "nbconvert_exporter": "python",
   "pygments_lexer": "ipython2",
   "version": "2.7.6"
  }
 },
 "nbformat": 4,
 "nbformat_minor": 5
}
