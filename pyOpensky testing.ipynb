{
 "cells": [
  {
   "cell_type": "code",
   "id": "initial_id",
   "metadata": {
    "collapsed": true,
    "ExecuteTime": {
     "end_time": "2024-09-05T13:32:48.282751Z",
     "start_time": "2024-09-05T13:32:48.280219Z"
    }
   },
   "source": [
    "from pyopensky.trino import Trino\n",
    "from traffic.core import Traffic\n",
    "\n",
    "from datetime import datetime, timedelta\n",
    "\n",
    "ICAO_codes = {\"bergen\": \"ENBR\",\n",
    "              \"oslo\": \"ENGM\",\n",
    "              \"gatwick\":\"EGKK\",\n",
    "              \"heathrow\":\"EGLL\",\n",
    "              \"new york\": \"KJFK\",\n",
    "              \"cape town\":\"FACT\",\n",
    "              \"los angeles\": \"KLAX\"}\n",
    "query = Trino()\n",
    "\n",
    "# query status: https://trino.opensky-network.org/ui/ "
   ],
   "outputs": [],
   "execution_count": 152
  },
  {
   "metadata": {},
   "cell_type": "code",
   "source": "result = query.history(start=datetime.now()-timedelta(days=7), departure_airport=ICAO_codes[\"oslo\"], arrival_airport=ICAO_codes[\"bergen\"])",
   "id": "5b05d9761b0f8911",
   "outputs": [],
   "execution_count": null
  },
  {
   "metadata": {
    "ExecuteTime": {
     "end_time": "2024-09-05T12:45:27.045073Z",
     "start_time": "2024-09-05T12:45:27.036369Z"
    }
   },
   "cell_type": "code",
   "source": [
    "result = result.rename(columns={'time': 'timestamp', 'lat': 'latitude', 'lon': 'longitude'})\n",
    "flights = Traffic(result)"
   ],
   "id": "33bd0fadffb2fb48",
   "outputs": [],
   "execution_count": 3
  },
  {
   "metadata": {
    "ExecuteTime": {
     "end_time": "2024-09-05T12:45:27.226045Z",
     "start_time": "2024-09-05T12:45:27.046076Z"
    }
   },
   "cell_type": "code",
   "source": "flights",
   "id": "f700be343b71e4d8",
   "outputs": [
    {
     "data": {
      "text/plain": [
       "   icao24 callsign  count\n",
       "0  4ac9f9   SAS88E   2406\n",
       "1  4794f2   NOZ1TT   2382\n",
       "2  4aca73   SAS271   2369\n",
       "3  4aca6e   SAS263   2350\n",
       "4  4aca6e   SAS251   2344\n",
       "5  47a039   NOZ616   2342\n",
       "6  4acb5a   SAS269   2293\n",
       "7  4aca70   SAS43D   2289\n",
       "8  47a22c   NOZ4HF   2287\n",
       "9  47a185   NOZ620   2282"
      ],
      "text/html": [
       "<h4><b>Traffic</b></h4> with 28 identifiers<style type=\"text/css\">\n",
       "#T_1d1c8_row0_col0 {\n",
       "  width: 10em;\n",
       "  background: linear-gradient(90deg, #5fba7d 100.0%, transparent 100.0%);\n",
       "}\n",
       "#T_1d1c8_row1_col0 {\n",
       "  width: 10em;\n",
       "  background: linear-gradient(90deg, #5fba7d 99.0%, transparent 99.0%);\n",
       "}\n",
       "#T_1d1c8_row2_col0 {\n",
       "  width: 10em;\n",
       "  background: linear-gradient(90deg, #5fba7d 98.5%, transparent 98.5%);\n",
       "}\n",
       "#T_1d1c8_row3_col0 {\n",
       "  width: 10em;\n",
       "  background: linear-gradient(90deg, #5fba7d 97.7%, transparent 97.7%);\n",
       "}\n",
       "#T_1d1c8_row4_col0 {\n",
       "  width: 10em;\n",
       "  background: linear-gradient(90deg, #5fba7d 97.4%, transparent 97.4%);\n",
       "}\n",
       "#T_1d1c8_row5_col0 {\n",
       "  width: 10em;\n",
       "  background: linear-gradient(90deg, #5fba7d 97.3%, transparent 97.3%);\n",
       "}\n",
       "#T_1d1c8_row6_col0 {\n",
       "  width: 10em;\n",
       "  background: linear-gradient(90deg, #5fba7d 95.3%, transparent 95.3%);\n",
       "}\n",
       "#T_1d1c8_row7_col0, #T_1d1c8_row8_col0 {\n",
       "  width: 10em;\n",
       "  background: linear-gradient(90deg, #5fba7d 95.1%, transparent 95.1%);\n",
       "}\n",
       "#T_1d1c8_row9_col0 {\n",
       "  width: 10em;\n",
       "  background: linear-gradient(90deg, #5fba7d 94.8%, transparent 94.8%);\n",
       "}\n",
       "</style>\n",
       "<table id=\"T_1d1c8\">\n",
       "  <thead>\n",
       "    <tr>\n",
       "      <th class=\"blank\" >&nbsp;</th>\n",
       "      <th class=\"blank level0\" >&nbsp;</th>\n",
       "      <th id=\"T_1d1c8_level0_col0\" class=\"col_heading level0 col0\" >count</th>\n",
       "    </tr>\n",
       "    <tr>\n",
       "      <th class=\"index_name level0\" >icao24</th>\n",
       "      <th class=\"index_name level1\" >callsign</th>\n",
       "      <th class=\"blank col0\" >&nbsp;</th>\n",
       "    </tr>\n",
       "  </thead>\n",
       "  <tbody>\n",
       "    <tr>\n",
       "      <th id=\"T_1d1c8_level0_row0\" class=\"row_heading level0 row0\" >4ac9f9</th>\n",
       "      <th id=\"T_1d1c8_level1_row0\" class=\"row_heading level1 row0\" >SAS88E</th>\n",
       "      <td id=\"T_1d1c8_row0_col0\" class=\"data row0 col0\" >2406</td>\n",
       "    </tr>\n",
       "    <tr>\n",
       "      <th id=\"T_1d1c8_level0_row1\" class=\"row_heading level0 row1\" >4794f2</th>\n",
       "      <th id=\"T_1d1c8_level1_row1\" class=\"row_heading level1 row1\" >NOZ1TT</th>\n",
       "      <td id=\"T_1d1c8_row1_col0\" class=\"data row1 col0\" >2382</td>\n",
       "    </tr>\n",
       "    <tr>\n",
       "      <th id=\"T_1d1c8_level0_row2\" class=\"row_heading level0 row2\" >4aca73</th>\n",
       "      <th id=\"T_1d1c8_level1_row2\" class=\"row_heading level1 row2\" >SAS271</th>\n",
       "      <td id=\"T_1d1c8_row2_col0\" class=\"data row2 col0\" >2369</td>\n",
       "    </tr>\n",
       "    <tr>\n",
       "      <th id=\"T_1d1c8_level0_row3\" class=\"row_heading level0 row3\" rowspan=\"2\">4aca6e</th>\n",
       "      <th id=\"T_1d1c8_level1_row3\" class=\"row_heading level1 row3\" >SAS263</th>\n",
       "      <td id=\"T_1d1c8_row3_col0\" class=\"data row3 col0\" >2350</td>\n",
       "    </tr>\n",
       "    <tr>\n",
       "      <th id=\"T_1d1c8_level1_row4\" class=\"row_heading level1 row4\" >SAS251</th>\n",
       "      <td id=\"T_1d1c8_row4_col0\" class=\"data row4 col0\" >2344</td>\n",
       "    </tr>\n",
       "    <tr>\n",
       "      <th id=\"T_1d1c8_level0_row5\" class=\"row_heading level0 row5\" >47a039</th>\n",
       "      <th id=\"T_1d1c8_level1_row5\" class=\"row_heading level1 row5\" >NOZ616</th>\n",
       "      <td id=\"T_1d1c8_row5_col0\" class=\"data row5 col0\" >2342</td>\n",
       "    </tr>\n",
       "    <tr>\n",
       "      <th id=\"T_1d1c8_level0_row6\" class=\"row_heading level0 row6\" >4acb5a</th>\n",
       "      <th id=\"T_1d1c8_level1_row6\" class=\"row_heading level1 row6\" >SAS269</th>\n",
       "      <td id=\"T_1d1c8_row6_col0\" class=\"data row6 col0\" >2293</td>\n",
       "    </tr>\n",
       "    <tr>\n",
       "      <th id=\"T_1d1c8_level0_row7\" class=\"row_heading level0 row7\" >4aca70</th>\n",
       "      <th id=\"T_1d1c8_level1_row7\" class=\"row_heading level1 row7\" >SAS43D</th>\n",
       "      <td id=\"T_1d1c8_row7_col0\" class=\"data row7 col0\" >2289</td>\n",
       "    </tr>\n",
       "    <tr>\n",
       "      <th id=\"T_1d1c8_level0_row8\" class=\"row_heading level0 row8\" >47a22c</th>\n",
       "      <th id=\"T_1d1c8_level1_row8\" class=\"row_heading level1 row8\" >NOZ4HF</th>\n",
       "      <td id=\"T_1d1c8_row8_col0\" class=\"data row8 col0\" >2287</td>\n",
       "    </tr>\n",
       "    <tr>\n",
       "      <th id=\"T_1d1c8_level0_row9\" class=\"row_heading level0 row9\" >47a185</th>\n",
       "      <th id=\"T_1d1c8_level1_row9\" class=\"row_heading level1 row9\" >NOZ620</th>\n",
       "      <td id=\"T_1d1c8_row9_col0\" class=\"data row9 col0\" >2282</td>\n",
       "    </tr>\n",
       "  </tbody>\n",
       "</table>\n"
      ]
     },
     "execution_count": 4,
     "metadata": {},
     "output_type": "execute_result"
    }
   ],
   "execution_count": 4
  },
  {
   "metadata": {
    "ExecuteTime": {
     "end_time": "2024-09-05T12:45:27.258923Z",
     "start_time": "2024-09-05T12:45:27.226045Z"
    }
   },
   "cell_type": "code",
   "source": "flights[7].data",
   "id": "dc57c6ed99312bfe",
   "outputs": [
    {
     "data": {
      "text/plain": [
       "                      timestamp  icao24   latitude  longitude   velocity  \\\n",
       "15641 2024-08-29 20:02:17+00:00  47a185  60.197960  11.120627        NaN   \n",
       "15642 2024-08-29 20:02:18+00:00  47a185  60.183943  11.112573  76.035102   \n",
       "15643 2024-08-29 20:02:19+00:00  47a185  60.183152  11.112082  79.144162   \n",
       "15644 2024-08-29 20:02:20+00:00  47a185  60.183152  11.112082  79.144162   \n",
       "15645 2024-08-29 20:02:21+00:00  47a185  60.183152  11.112082  79.144162   \n",
       "...                         ...     ...        ...        ...        ...   \n",
       "17883 2024-08-29 20:39:39+00:00  47a185  60.314941   5.210855  71.465141   \n",
       "17884 2024-08-29 20:39:40+00:00  47a185  60.314026   5.211213  71.465141   \n",
       "17885 2024-08-29 20:39:41+00:00  47a185  60.314026   5.211213  71.552115   \n",
       "17886 2024-08-29 20:39:42+00:00  47a185  60.313293   5.211497  71.552115   \n",
       "17887 2024-08-29 20:39:43+00:00  47a185  60.312241   5.211781  71.552115   \n",
       "\n",
       "          heading  vertrate callsign  onground  alert    spi squawk  \\\n",
       "15641         NaN       NaN   NOZ638      True  False  False   None   \n",
       "15642  196.105142   0.32512   NOZ638     False  False  False   None   \n",
       "15643  195.843082   0.32512   NOZ638     False  False  False   None   \n",
       "15644  195.843082   0.32512   NOZ638     False  False  False   None   \n",
       "15645  195.843082   0.32512   NOZ638     False  False  False   None   \n",
       "...           ...       ...      ...       ...    ...    ...    ...   \n",
       "17883  170.469872  -3.57632   NOZ638     False  False  False   None   \n",
       "17884  170.469872  -3.57632   NOZ638     False  False  False   None   \n",
       "17885  170.063610  -3.57632   NOZ638     False  False  False   None   \n",
       "17886  170.063610  -3.57632   NOZ638     False  False  False   None   \n",
       "17887  170.063610  -3.57632   NOZ638     False  False  False   None   \n",
       "\n",
       "       baroaltitude  geoaltitude  lastposupdate   lastcontact  \\\n",
       "15641           NaN          NaN   1.724962e+09  1.724962e+09   \n",
       "15642        220.98          NaN   1.724962e+09  1.724962e+09   \n",
       "15643        220.98       251.46   1.724962e+09  1.724962e+09   \n",
       "15644        220.98       251.46   1.724962e+09  1.724962e+09   \n",
       "15645        220.98       251.46   1.724962e+09  1.724962e+09   \n",
       "...             ...          ...            ...           ...   \n",
       "17883        129.54       182.88   1.724964e+09  1.724964e+09   \n",
       "17884        129.54       182.88   1.724964e+09  1.724964e+09   \n",
       "17885        129.54       175.26   1.724964e+09  1.724964e+09   \n",
       "17886        121.92       175.26   1.724964e+09  1.724964e+09   \n",
       "17887        114.30       175.26   1.724964e+09  1.724964e+09   \n",
       "\n",
       "                                       serials                      hour  \n",
       "15641                                       [] 2024-08-29 20:00:00+00:00  \n",
       "15642                            [-1408233889] 2024-08-29 20:00:00+00:00  \n",
       "15643                            [-1408233889] 2024-08-29 20:00:00+00:00  \n",
       "15644                            [-1408233889] 2024-08-29 20:00:00+00:00  \n",
       "15645                            [-1408233889] 2024-08-29 20:00:00+00:00  \n",
       "...                                        ...                       ...  \n",
       "17883  [-1408229962, -1408232008, -1408233365] 2024-08-29 20:00:00+00:00  \n",
       "17884  [-1408229962, -1408232008, -1408233365] 2024-08-29 20:00:00+00:00  \n",
       "17885  [-1408229962, -1408232008, -1408233365] 2024-08-29 20:00:00+00:00  \n",
       "17886  [-1408229962, -1408232008, -1408233365] 2024-08-29 20:00:00+00:00  \n",
       "17887  [-1408229962, -1408232008, -1408233365] 2024-08-29 20:00:00+00:00  \n",
       "\n",
       "[2247 rows x 18 columns]"
      ],
      "text/html": [
       "<div>\n",
       "<style scoped>\n",
       "    .dataframe tbody tr th:only-of-type {\n",
       "        vertical-align: middle;\n",
       "    }\n",
       "\n",
       "    .dataframe tbody tr th {\n",
       "        vertical-align: top;\n",
       "    }\n",
       "\n",
       "    .dataframe thead th {\n",
       "        text-align: right;\n",
       "    }\n",
       "</style>\n",
       "<table border=\"1\" class=\"dataframe\">\n",
       "  <thead>\n",
       "    <tr style=\"text-align: right;\">\n",
       "      <th></th>\n",
       "      <th>timestamp</th>\n",
       "      <th>icao24</th>\n",
       "      <th>latitude</th>\n",
       "      <th>longitude</th>\n",
       "      <th>velocity</th>\n",
       "      <th>heading</th>\n",
       "      <th>vertrate</th>\n",
       "      <th>callsign</th>\n",
       "      <th>onground</th>\n",
       "      <th>alert</th>\n",
       "      <th>spi</th>\n",
       "      <th>squawk</th>\n",
       "      <th>baroaltitude</th>\n",
       "      <th>geoaltitude</th>\n",
       "      <th>lastposupdate</th>\n",
       "      <th>lastcontact</th>\n",
       "      <th>serials</th>\n",
       "      <th>hour</th>\n",
       "    </tr>\n",
       "  </thead>\n",
       "  <tbody>\n",
       "    <tr>\n",
       "      <th>15641</th>\n",
       "      <td>2024-08-29 20:02:17+00:00</td>\n",
       "      <td>47a185</td>\n",
       "      <td>60.197960</td>\n",
       "      <td>11.120627</td>\n",
       "      <td>NaN</td>\n",
       "      <td>NaN</td>\n",
       "      <td>NaN</td>\n",
       "      <td>NOZ638</td>\n",
       "      <td>True</td>\n",
       "      <td>False</td>\n",
       "      <td>False</td>\n",
       "      <td>None</td>\n",
       "      <td>NaN</td>\n",
       "      <td>NaN</td>\n",
       "      <td>1.724962e+09</td>\n",
       "      <td>1.724962e+09</td>\n",
       "      <td>[]</td>\n",
       "      <td>2024-08-29 20:00:00+00:00</td>\n",
       "    </tr>\n",
       "    <tr>\n",
       "      <th>15642</th>\n",
       "      <td>2024-08-29 20:02:18+00:00</td>\n",
       "      <td>47a185</td>\n",
       "      <td>60.183943</td>\n",
       "      <td>11.112573</td>\n",
       "      <td>76.035102</td>\n",
       "      <td>196.105142</td>\n",
       "      <td>0.32512</td>\n",
       "      <td>NOZ638</td>\n",
       "      <td>False</td>\n",
       "      <td>False</td>\n",
       "      <td>False</td>\n",
       "      <td>None</td>\n",
       "      <td>220.98</td>\n",
       "      <td>NaN</td>\n",
       "      <td>1.724962e+09</td>\n",
       "      <td>1.724962e+09</td>\n",
       "      <td>[-1408233889]</td>\n",
       "      <td>2024-08-29 20:00:00+00:00</td>\n",
       "    </tr>\n",
       "    <tr>\n",
       "      <th>15643</th>\n",
       "      <td>2024-08-29 20:02:19+00:00</td>\n",
       "      <td>47a185</td>\n",
       "      <td>60.183152</td>\n",
       "      <td>11.112082</td>\n",
       "      <td>79.144162</td>\n",
       "      <td>195.843082</td>\n",
       "      <td>0.32512</td>\n",
       "      <td>NOZ638</td>\n",
       "      <td>False</td>\n",
       "      <td>False</td>\n",
       "      <td>False</td>\n",
       "      <td>None</td>\n",
       "      <td>220.98</td>\n",
       "      <td>251.46</td>\n",
       "      <td>1.724962e+09</td>\n",
       "      <td>1.724962e+09</td>\n",
       "      <td>[-1408233889]</td>\n",
       "      <td>2024-08-29 20:00:00+00:00</td>\n",
       "    </tr>\n",
       "    <tr>\n",
       "      <th>15644</th>\n",
       "      <td>2024-08-29 20:02:20+00:00</td>\n",
       "      <td>47a185</td>\n",
       "      <td>60.183152</td>\n",
       "      <td>11.112082</td>\n",
       "      <td>79.144162</td>\n",
       "      <td>195.843082</td>\n",
       "      <td>0.32512</td>\n",
       "      <td>NOZ638</td>\n",
       "      <td>False</td>\n",
       "      <td>False</td>\n",
       "      <td>False</td>\n",
       "      <td>None</td>\n",
       "      <td>220.98</td>\n",
       "      <td>251.46</td>\n",
       "      <td>1.724962e+09</td>\n",
       "      <td>1.724962e+09</td>\n",
       "      <td>[-1408233889]</td>\n",
       "      <td>2024-08-29 20:00:00+00:00</td>\n",
       "    </tr>\n",
       "    <tr>\n",
       "      <th>15645</th>\n",
       "      <td>2024-08-29 20:02:21+00:00</td>\n",
       "      <td>47a185</td>\n",
       "      <td>60.183152</td>\n",
       "      <td>11.112082</td>\n",
       "      <td>79.144162</td>\n",
       "      <td>195.843082</td>\n",
       "      <td>0.32512</td>\n",
       "      <td>NOZ638</td>\n",
       "      <td>False</td>\n",
       "      <td>False</td>\n",
       "      <td>False</td>\n",
       "      <td>None</td>\n",
       "      <td>220.98</td>\n",
       "      <td>251.46</td>\n",
       "      <td>1.724962e+09</td>\n",
       "      <td>1.724962e+09</td>\n",
       "      <td>[-1408233889]</td>\n",
       "      <td>2024-08-29 20:00:00+00:00</td>\n",
       "    </tr>\n",
       "    <tr>\n",
       "      <th>...</th>\n",
       "      <td>...</td>\n",
       "      <td>...</td>\n",
       "      <td>...</td>\n",
       "      <td>...</td>\n",
       "      <td>...</td>\n",
       "      <td>...</td>\n",
       "      <td>...</td>\n",
       "      <td>...</td>\n",
       "      <td>...</td>\n",
       "      <td>...</td>\n",
       "      <td>...</td>\n",
       "      <td>...</td>\n",
       "      <td>...</td>\n",
       "      <td>...</td>\n",
       "      <td>...</td>\n",
       "      <td>...</td>\n",
       "      <td>...</td>\n",
       "      <td>...</td>\n",
       "    </tr>\n",
       "    <tr>\n",
       "      <th>17883</th>\n",
       "      <td>2024-08-29 20:39:39+00:00</td>\n",
       "      <td>47a185</td>\n",
       "      <td>60.314941</td>\n",
       "      <td>5.210855</td>\n",
       "      <td>71.465141</td>\n",
       "      <td>170.469872</td>\n",
       "      <td>-3.57632</td>\n",
       "      <td>NOZ638</td>\n",
       "      <td>False</td>\n",
       "      <td>False</td>\n",
       "      <td>False</td>\n",
       "      <td>None</td>\n",
       "      <td>129.54</td>\n",
       "      <td>182.88</td>\n",
       "      <td>1.724964e+09</td>\n",
       "      <td>1.724964e+09</td>\n",
       "      <td>[-1408229962, -1408232008, -1408233365]</td>\n",
       "      <td>2024-08-29 20:00:00+00:00</td>\n",
       "    </tr>\n",
       "    <tr>\n",
       "      <th>17884</th>\n",
       "      <td>2024-08-29 20:39:40+00:00</td>\n",
       "      <td>47a185</td>\n",
       "      <td>60.314026</td>\n",
       "      <td>5.211213</td>\n",
       "      <td>71.465141</td>\n",
       "      <td>170.469872</td>\n",
       "      <td>-3.57632</td>\n",
       "      <td>NOZ638</td>\n",
       "      <td>False</td>\n",
       "      <td>False</td>\n",
       "      <td>False</td>\n",
       "      <td>None</td>\n",
       "      <td>129.54</td>\n",
       "      <td>182.88</td>\n",
       "      <td>1.724964e+09</td>\n",
       "      <td>1.724964e+09</td>\n",
       "      <td>[-1408229962, -1408232008, -1408233365]</td>\n",
       "      <td>2024-08-29 20:00:00+00:00</td>\n",
       "    </tr>\n",
       "    <tr>\n",
       "      <th>17885</th>\n",
       "      <td>2024-08-29 20:39:41+00:00</td>\n",
       "      <td>47a185</td>\n",
       "      <td>60.314026</td>\n",
       "      <td>5.211213</td>\n",
       "      <td>71.552115</td>\n",
       "      <td>170.063610</td>\n",
       "      <td>-3.57632</td>\n",
       "      <td>NOZ638</td>\n",
       "      <td>False</td>\n",
       "      <td>False</td>\n",
       "      <td>False</td>\n",
       "      <td>None</td>\n",
       "      <td>129.54</td>\n",
       "      <td>175.26</td>\n",
       "      <td>1.724964e+09</td>\n",
       "      <td>1.724964e+09</td>\n",
       "      <td>[-1408229962, -1408232008, -1408233365]</td>\n",
       "      <td>2024-08-29 20:00:00+00:00</td>\n",
       "    </tr>\n",
       "    <tr>\n",
       "      <th>17886</th>\n",
       "      <td>2024-08-29 20:39:42+00:00</td>\n",
       "      <td>47a185</td>\n",
       "      <td>60.313293</td>\n",
       "      <td>5.211497</td>\n",
       "      <td>71.552115</td>\n",
       "      <td>170.063610</td>\n",
       "      <td>-3.57632</td>\n",
       "      <td>NOZ638</td>\n",
       "      <td>False</td>\n",
       "      <td>False</td>\n",
       "      <td>False</td>\n",
       "      <td>None</td>\n",
       "      <td>121.92</td>\n",
       "      <td>175.26</td>\n",
       "      <td>1.724964e+09</td>\n",
       "      <td>1.724964e+09</td>\n",
       "      <td>[-1408229962, -1408232008, -1408233365]</td>\n",
       "      <td>2024-08-29 20:00:00+00:00</td>\n",
       "    </tr>\n",
       "    <tr>\n",
       "      <th>17887</th>\n",
       "      <td>2024-08-29 20:39:43+00:00</td>\n",
       "      <td>47a185</td>\n",
       "      <td>60.312241</td>\n",
       "      <td>5.211781</td>\n",
       "      <td>71.552115</td>\n",
       "      <td>170.063610</td>\n",
       "      <td>-3.57632</td>\n",
       "      <td>NOZ638</td>\n",
       "      <td>False</td>\n",
       "      <td>False</td>\n",
       "      <td>False</td>\n",
       "      <td>None</td>\n",
       "      <td>114.30</td>\n",
       "      <td>175.26</td>\n",
       "      <td>1.724964e+09</td>\n",
       "      <td>1.724964e+09</td>\n",
       "      <td>[-1408229962, -1408232008, -1408233365]</td>\n",
       "      <td>2024-08-29 20:00:00+00:00</td>\n",
       "    </tr>\n",
       "  </tbody>\n",
       "</table>\n",
       "<p>2247 rows × 18 columns</p>\n",
       "</div>"
      ]
     },
     "execution_count": 5,
     "metadata": {},
     "output_type": "execute_result"
    }
   ],
   "execution_count": 5
  },
  {
   "metadata": {
    "ExecuteTime": {
     "end_time": "2024-09-05T12:46:18.008242Z",
     "start_time": "2024-09-05T12:46:16.905893Z"
    }
   },
   "cell_type": "code",
   "source": "flights.map_leaflet()",
   "id": "804bc24afa46cb3a",
   "outputs": [
    {
     "data": {
      "text/plain": [
       "Map(center=[60.25531309117478, 7.86236742015477], controls=(ZoomControl(options=['position', 'zoom_in_text', '…"
      ],
      "application/vnd.jupyter.widget-view+json": {
       "version_major": 2,
       "version_minor": 0,
       "model_id": "7be1f033a4e848fabdfc07ffb7a225ea"
      }
     },
     "execution_count": 8,
     "metadata": {},
     "output_type": "execute_result"
    }
   ],
   "execution_count": 8
  },
  {
   "metadata": {
    "ExecuteTime": {
     "end_time": "2024-09-05T14:53:12.532697Z",
     "start_time": "2024-09-05T14:53:12.530662Z"
    }
   },
   "cell_type": "code",
   "source": "i = -1",
   "id": "23571785e8bc98f5",
   "outputs": [],
   "execution_count": 171
  },
  {
   "metadata": {
    "ExecuteTime": {
     "end_time": "2024-09-05T14:53:30.435487Z",
     "start_time": "2024-09-05T14:53:30.163129Z"
    }
   },
   "cell_type": "code",
   "source": "flights[i].map_leaflet(zoom=4)",
   "id": "ece792ebf56e1b67",
   "outputs": [
    {
     "data": {
      "text/plain": [
       "Map(center=[36.82802449425024, -93.81348126578375], controls=(ZoomControl(options=['position', 'zoom_in_text',…"
      ],
      "application/vnd.jupyter.widget-view+json": {
       "version_major": 2,
       "version_minor": 0,
       "model_id": "a7347e3dddc7471a838f2737761e0822"
      }
     },
     "execution_count": 175,
     "metadata": {},
     "output_type": "execute_result"
    }
   ],
   "execution_count": 175
  },
  {
   "metadata": {
    "ExecuteTime": {
     "end_time": "2024-09-05T13:14:34.093424Z",
     "start_time": "2024-09-05T12:57:02.255111Z"
    }
   },
   "cell_type": "code",
   "source": "result = query.history(start=datetime.now()-timedelta(days=7), departure_airport=ICAO_codes[\"new york\"], arrival_airport=ICAO_codes[\"heathrow\"])",
   "id": "e51f2ce5b3acbd67",
   "outputs": [
    {
     "name": "stderr",
     "output_type": "stream",
     "text": [
      "RUNNING: : 54.7% [00:09, 5.76%/s]\n",
      "DOWNLOAD: 246klines [00:49, 4.92klines/s]\n"
     ]
    }
   ],
   "execution_count": 12
  },
  {
   "metadata": {
    "ExecuteTime": {
     "end_time": "2024-09-05T13:14:55.329039Z",
     "start_time": "2024-09-05T13:14:55.291324Z"
    }
   },
   "cell_type": "code",
   "source": [
    "result = result.rename(columns={'time': 'timestamp', 'lat': 'latitude', 'lon': 'longitude'})\n",
    "flights = Traffic(result)"
   ],
   "id": "de1f08c557a24e84",
   "outputs": [],
   "execution_count": 13
  },
  {
   "metadata": {
    "ExecuteTime": {
     "end_time": "2024-09-05T13:18:38.130444Z",
     "start_time": "2024-09-05T13:18:35.035811Z"
    }
   },
   "cell_type": "code",
   "source": [
    "\n",
    "flights.map_leaflet(zoom=2)"
   ],
   "id": "7790df3f2cb5c99f",
   "outputs": [
    {
     "data": {
      "text/plain": [
       "Map(center=[45.856671334318015, -30.6614147515407], controls=(ZoomControl(options=['position', 'zoom_in_text',…"
      ],
      "application/vnd.jupyter.widget-view+json": {
       "version_major": 2,
       "version_minor": 0,
       "model_id": "f7364b1238474f439f2234d72a1952ff"
      }
     },
     "execution_count": 148,
     "metadata": {},
     "output_type": "execute_result"
    }
   ],
   "execution_count": 148
  },
  {
   "metadata": {
    "ExecuteTime": {
     "end_time": "2024-09-05T13:34:04.163340Z",
     "start_time": "2024-09-05T13:32:51.994531Z"
    }
   },
   "cell_type": "code",
   "source": "result = query.history(start=datetime.now()-timedelta(days=7), departure_airport=ICAO_codes[\"los angeles\"], arrival_airport=ICAO_codes[\"new york\"])",
   "id": "cd65864691fcc090",
   "outputs": [
    {
     "name": "stderr",
     "output_type": "stream",
     "text": [
      "RUNNING: : 54.4% [00:08, 6.49%/s]\n",
      "DOWNLOAD: 544klines [00:57, 9.49klines/s]\n"
     ]
    }
   ],
   "execution_count": 153
  },
  {
   "metadata": {
    "ExecuteTime": {
     "end_time": "2024-09-05T14:53:02.155125Z",
     "start_time": "2024-09-05T14:53:01.892673Z"
    }
   },
   "cell_type": "code",
   "source": [
    "result = result.rename(columns={'time': 'timestamp', 'lat': 'latitude', 'lon': 'longitude'})\n",
    "flights = Traffic(result)\n",
    "flights[9].map_leaflet()"
   ],
   "id": "67836b6361418956",
   "outputs": [
    {
     "data": {
      "text/plain": [
       "Map(center=[37.22228977066118, -108.97150347613159], controls=(ZoomControl(options=['position', 'zoom_in_text'…"
      ],
      "application/vnd.jupyter.widget-view+json": {
       "version_major": 2,
       "version_minor": 0,
       "model_id": "1fb128f44f2c4fd3940f3e9653d154ab"
      }
     },
     "execution_count": 169,
     "metadata": {},
     "output_type": "execute_result"
    }
   ],
   "execution_count": 169
  },
  {
   "metadata": {
    "ExecuteTime": {
     "end_time": "2024-09-05T13:38:16.304383Z",
     "start_time": "2024-09-05T13:38:16.150171Z"
    }
   },
   "cell_type": "code",
   "source": [
    "for i in flights:\n",
    "    if i.emergency:\n",
    "        break\n",
    "i.emergency()"
   ],
   "id": "a14dac8110f2fdc5",
   "outputs": [
    {
     "data": {
      "text/plain": [
       "FlightIterator()"
      ],
      "text/html": [
       "<h3><b>FlightIterator</b></h3>Empty sequence"
      ]
     },
     "execution_count": 159,
     "metadata": {},
     "output_type": "execute_result"
    }
   ],
   "execution_count": 159
  },
  {
   "metadata": {
    "ExecuteTime": {
     "end_time": "2024-09-05T15:03:23.816693Z",
     "start_time": "2024-09-05T15:03:23.809637Z"
    }
   },
   "cell_type": "code",
   "source": "flights",
   "id": "643761e85d6c2729",
   "outputs": [
    {
     "data": {
      "text/plain": [
       "   icao24 callsign  count\n",
       "0  ad2445  JBU1114  22005\n",
       "1  a01880    AAL10  20196\n",
       "2  ad9ac9  JBU1524  19416\n",
       "3  add734   JBU524  19414\n",
       "4  a03235    AAL28  19190\n",
       "5  a13af4   DAL951  19170\n",
       "6  a0275c  AAL2201  19146\n",
       "7  a11380   DAL960  19131\n",
       "8  acca19  JBU1124  19015\n",
       "9  a1bc92   JBU424  19004"
      ],
      "text/html": [
       "<h4><b>Traffic</b></h4> with 35 identifiers<style type=\"text/css\">\n",
       "#T_0cf85_row0_col0 {\n",
       "  width: 10em;\n",
       "  background: linear-gradient(90deg, #5fba7d 100.0%, transparent 100.0%);\n",
       "}\n",
       "#T_0cf85_row1_col0 {\n",
       "  width: 10em;\n",
       "  background: linear-gradient(90deg, #5fba7d 91.8%, transparent 91.8%);\n",
       "}\n",
       "#T_0cf85_row2_col0, #T_0cf85_row3_col0 {\n",
       "  width: 10em;\n",
       "  background: linear-gradient(90deg, #5fba7d 88.2%, transparent 88.2%);\n",
       "}\n",
       "#T_0cf85_row4_col0 {\n",
       "  width: 10em;\n",
       "  background: linear-gradient(90deg, #5fba7d 87.2%, transparent 87.2%);\n",
       "}\n",
       "#T_0cf85_row5_col0 {\n",
       "  width: 10em;\n",
       "  background: linear-gradient(90deg, #5fba7d 87.1%, transparent 87.1%);\n",
       "}\n",
       "#T_0cf85_row6_col0 {\n",
       "  width: 10em;\n",
       "  background: linear-gradient(90deg, #5fba7d 87.0%, transparent 87.0%);\n",
       "}\n",
       "#T_0cf85_row7_col0 {\n",
       "  width: 10em;\n",
       "  background: linear-gradient(90deg, #5fba7d 86.9%, transparent 86.9%);\n",
       "}\n",
       "#T_0cf85_row8_col0, #T_0cf85_row9_col0 {\n",
       "  width: 10em;\n",
       "  background: linear-gradient(90deg, #5fba7d 86.4%, transparent 86.4%);\n",
       "}\n",
       "</style>\n",
       "<table id=\"T_0cf85\">\n",
       "  <thead>\n",
       "    <tr>\n",
       "      <th class=\"blank\" >&nbsp;</th>\n",
       "      <th class=\"blank level0\" >&nbsp;</th>\n",
       "      <th id=\"T_0cf85_level0_col0\" class=\"col_heading level0 col0\" >count</th>\n",
       "    </tr>\n",
       "    <tr>\n",
       "      <th class=\"index_name level0\" >icao24</th>\n",
       "      <th class=\"index_name level1\" >callsign</th>\n",
       "      <th class=\"blank col0\" >&nbsp;</th>\n",
       "    </tr>\n",
       "  </thead>\n",
       "  <tbody>\n",
       "    <tr>\n",
       "      <th id=\"T_0cf85_level0_row0\" class=\"row_heading level0 row0\" >ad2445</th>\n",
       "      <th id=\"T_0cf85_level1_row0\" class=\"row_heading level1 row0\" >JBU1114</th>\n",
       "      <td id=\"T_0cf85_row0_col0\" class=\"data row0 col0\" >22005</td>\n",
       "    </tr>\n",
       "    <tr>\n",
       "      <th id=\"T_0cf85_level0_row1\" class=\"row_heading level0 row1\" >a01880</th>\n",
       "      <th id=\"T_0cf85_level1_row1\" class=\"row_heading level1 row1\" >AAL10</th>\n",
       "      <td id=\"T_0cf85_row1_col0\" class=\"data row1 col0\" >20196</td>\n",
       "    </tr>\n",
       "    <tr>\n",
       "      <th id=\"T_0cf85_level0_row2\" class=\"row_heading level0 row2\" >ad9ac9</th>\n",
       "      <th id=\"T_0cf85_level1_row2\" class=\"row_heading level1 row2\" >JBU1524</th>\n",
       "      <td id=\"T_0cf85_row2_col0\" class=\"data row2 col0\" >19416</td>\n",
       "    </tr>\n",
       "    <tr>\n",
       "      <th id=\"T_0cf85_level0_row3\" class=\"row_heading level0 row3\" >add734</th>\n",
       "      <th id=\"T_0cf85_level1_row3\" class=\"row_heading level1 row3\" >JBU524</th>\n",
       "      <td id=\"T_0cf85_row3_col0\" class=\"data row3 col0\" >19414</td>\n",
       "    </tr>\n",
       "    <tr>\n",
       "      <th id=\"T_0cf85_level0_row4\" class=\"row_heading level0 row4\" >a03235</th>\n",
       "      <th id=\"T_0cf85_level1_row4\" class=\"row_heading level1 row4\" >AAL28</th>\n",
       "      <td id=\"T_0cf85_row4_col0\" class=\"data row4 col0\" >19190</td>\n",
       "    </tr>\n",
       "    <tr>\n",
       "      <th id=\"T_0cf85_level0_row5\" class=\"row_heading level0 row5\" >a13af4</th>\n",
       "      <th id=\"T_0cf85_level1_row5\" class=\"row_heading level1 row5\" >DAL951</th>\n",
       "      <td id=\"T_0cf85_row5_col0\" class=\"data row5 col0\" >19170</td>\n",
       "    </tr>\n",
       "    <tr>\n",
       "      <th id=\"T_0cf85_level0_row6\" class=\"row_heading level0 row6\" >a0275c</th>\n",
       "      <th id=\"T_0cf85_level1_row6\" class=\"row_heading level1 row6\" >AAL2201</th>\n",
       "      <td id=\"T_0cf85_row6_col0\" class=\"data row6 col0\" >19146</td>\n",
       "    </tr>\n",
       "    <tr>\n",
       "      <th id=\"T_0cf85_level0_row7\" class=\"row_heading level0 row7\" >a11380</th>\n",
       "      <th id=\"T_0cf85_level1_row7\" class=\"row_heading level1 row7\" >DAL960</th>\n",
       "      <td id=\"T_0cf85_row7_col0\" class=\"data row7 col0\" >19131</td>\n",
       "    </tr>\n",
       "    <tr>\n",
       "      <th id=\"T_0cf85_level0_row8\" class=\"row_heading level0 row8\" >acca19</th>\n",
       "      <th id=\"T_0cf85_level1_row8\" class=\"row_heading level1 row8\" >JBU1124</th>\n",
       "      <td id=\"T_0cf85_row8_col0\" class=\"data row8 col0\" >19015</td>\n",
       "    </tr>\n",
       "    <tr>\n",
       "      <th id=\"T_0cf85_level0_row9\" class=\"row_heading level0 row9\" >a1bc92</th>\n",
       "      <th id=\"T_0cf85_level1_row9\" class=\"row_heading level1 row9\" >JBU424</th>\n",
       "      <td id=\"T_0cf85_row9_col0\" class=\"data row9 col0\" >19004</td>\n",
       "    </tr>\n",
       "  </tbody>\n",
       "</table>\n"
      ]
     },
     "execution_count": 176,
     "metadata": {},
     "output_type": "execute_result"
    }
   ],
   "execution_count": 176
  },
  {
   "metadata": {},
   "cell_type": "code",
   "outputs": [],
   "execution_count": null,
   "source": "",
   "id": "d87188d763858a25"
  }
 ],
 "metadata": {
  "kernelspec": {
   "display_name": "Python 3",
   "language": "python",
   "name": "python3"
  },
  "language_info": {
   "codemirror_mode": {
    "name": "ipython",
    "version": 2
   },
   "file_extension": ".py",
   "mimetype": "text/x-python",
   "name": "python",
   "nbconvert_exporter": "python",
   "pygments_lexer": "ipython2",
   "version": "2.7.6"
  }
 },
 "nbformat": 4,
 "nbformat_minor": 5
}
