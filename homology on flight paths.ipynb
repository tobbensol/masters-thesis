{
 "cells": [
  {
   "cell_type": "code",
   "id": "initial_id",
   "metadata": {
    "collapsed": true,
    "ExecuteTime": {
     "end_time": "2024-10-17T14:55:54.907385Z",
     "start_time": "2024-10-17T14:55:54.904444Z"
    }
   },
   "source": [
    "import gudhi\n",
    "import numpy as np\n",
    "\n",
    "from functions.data_loading import get_filtered_data_range, get_data_range, get_flight_persistence\n",
    "from functions.data_filtering import complete_flight_filter\n",
    "\n",
    "from datetime import datetime\n",
    "from tqdm import tqdm\n",
    "from traffic.core import Traffic, Flight"
   ],
   "outputs": [],
   "execution_count": 9
  },
  {
   "metadata": {
    "ExecuteTime": {
     "end_time": "2024-10-17T14:56:28.295844Z",
     "start_time": "2024-10-17T14:55:55.174102Z"
    }
   },
   "cell_type": "code",
   "source": [
    "origin = \"bergen\"\n",
    "destination = \"oslo\"\n",
    "\n",
    "unfiltered_data, file_name = get_data_range(destination, origin, datetime(year=2023, month=1, day=1), datetime(year=2024, month=1, day=1))\n",
    "print(file_name)\n",
    "filtered_flights, file_name = get_filtered_data_range(unfiltered_data, file_name, complete_flight_filter(origin, destination))\n",
    "print(file_name)\n",
    "persistences, _ = get_flight_persistence(filtered_flights, file_name)\n",
    "print(_)"
   ],
   "id": "de28a2e72f5d6107",
   "outputs": [
    {
     "name": "stdout",
     "output_type": "stream",
     "text": [
      "oslo-bergen-2023-01-01-2024-01-01.pkl\n",
      "complete_flights/oslo-bergen-2023-01-01-2024-01-01.pkl\n",
      "persistence/complete_flights/oslo-bergen-2023-01-01-2024-01-01.pkl\n"
     ]
    }
   ],
   "execution_count": 10
  },
  {
   "metadata": {
    "ExecuteTime": {
     "end_time": "2024-10-17T14:56:28.935939Z",
     "start_time": "2024-10-17T14:56:28.311921Z"
    }
   },
   "cell_type": "code",
   "source": "filtered_flights",
   "id": "4adb1114aa36f80b",
   "outputs": [
    {
     "data": {
      "text/plain": [
       "   icao24 callsign   count\n",
       "0  478dd9     AKK2  112609\n",
       "1  47a48c   BNO91J   69564\n",
       "2  4ac958   SAS251   34303\n",
       "3  47c1c6     BNOG   34080\n",
       "4  47885f     BNON   28628\n",
       "5  4783cc   WIF3TX   27708\n",
       "6  4aca6c   SAS269   24919\n",
       "7  47878c   NOZ632   20862\n",
       "8  4ac9ec   SAS281   20686\n",
       "9  45ac32   SAS277   20576"
      ],
      "text/html": [
       "<h4><b>Traffic</b></h4> with 1588 identifiers<style type=\"text/css\">\n",
       "#T_fb34c_row0_col0 {\n",
       "  width: 10em;\n",
       "  background: linear-gradient(90deg, #5fba7d 100.0%, transparent 100.0%);\n",
       "}\n",
       "#T_fb34c_row1_col0 {\n",
       "  width: 10em;\n",
       "  background: linear-gradient(90deg, #5fba7d 61.8%, transparent 61.8%);\n",
       "}\n",
       "#T_fb34c_row2_col0 {\n",
       "  width: 10em;\n",
       "  background: linear-gradient(90deg, #5fba7d 30.5%, transparent 30.5%);\n",
       "}\n",
       "#T_fb34c_row3_col0 {\n",
       "  width: 10em;\n",
       "  background: linear-gradient(90deg, #5fba7d 30.3%, transparent 30.3%);\n",
       "}\n",
       "#T_fb34c_row4_col0 {\n",
       "  width: 10em;\n",
       "  background: linear-gradient(90deg, #5fba7d 25.4%, transparent 25.4%);\n",
       "}\n",
       "#T_fb34c_row5_col0 {\n",
       "  width: 10em;\n",
       "  background: linear-gradient(90deg, #5fba7d 24.6%, transparent 24.6%);\n",
       "}\n",
       "#T_fb34c_row6_col0 {\n",
       "  width: 10em;\n",
       "  background: linear-gradient(90deg, #5fba7d 22.1%, transparent 22.1%);\n",
       "}\n",
       "#T_fb34c_row7_col0 {\n",
       "  width: 10em;\n",
       "  background: linear-gradient(90deg, #5fba7d 18.5%, transparent 18.5%);\n",
       "}\n",
       "#T_fb34c_row8_col0 {\n",
       "  width: 10em;\n",
       "  background: linear-gradient(90deg, #5fba7d 18.4%, transparent 18.4%);\n",
       "}\n",
       "#T_fb34c_row9_col0 {\n",
       "  width: 10em;\n",
       "  background: linear-gradient(90deg, #5fba7d 18.3%, transparent 18.3%);\n",
       "}\n",
       "</style>\n",
       "<table id=\"T_fb34c\">\n",
       "  <thead>\n",
       "    <tr>\n",
       "      <th class=\"blank\" >&nbsp;</th>\n",
       "      <th class=\"blank level0\" >&nbsp;</th>\n",
       "      <th id=\"T_fb34c_level0_col0\" class=\"col_heading level0 col0\" >count</th>\n",
       "    </tr>\n",
       "    <tr>\n",
       "      <th class=\"index_name level0\" >icao24</th>\n",
       "      <th class=\"index_name level1\" >callsign</th>\n",
       "      <th class=\"blank col0\" >&nbsp;</th>\n",
       "    </tr>\n",
       "  </thead>\n",
       "  <tbody>\n",
       "    <tr>\n",
       "      <th id=\"T_fb34c_level0_row0\" class=\"row_heading level0 row0\" >478dd9</th>\n",
       "      <th id=\"T_fb34c_level1_row0\" class=\"row_heading level1 row0\" >AKK2</th>\n",
       "      <td id=\"T_fb34c_row0_col0\" class=\"data row0 col0\" >112609</td>\n",
       "    </tr>\n",
       "    <tr>\n",
       "      <th id=\"T_fb34c_level0_row1\" class=\"row_heading level0 row1\" >47a48c</th>\n",
       "      <th id=\"T_fb34c_level1_row1\" class=\"row_heading level1 row1\" >BNO91J</th>\n",
       "      <td id=\"T_fb34c_row1_col0\" class=\"data row1 col0\" >69564</td>\n",
       "    </tr>\n",
       "    <tr>\n",
       "      <th id=\"T_fb34c_level0_row2\" class=\"row_heading level0 row2\" >4ac958</th>\n",
       "      <th id=\"T_fb34c_level1_row2\" class=\"row_heading level1 row2\" >SAS251</th>\n",
       "      <td id=\"T_fb34c_row2_col0\" class=\"data row2 col0\" >34303</td>\n",
       "    </tr>\n",
       "    <tr>\n",
       "      <th id=\"T_fb34c_level0_row3\" class=\"row_heading level0 row3\" >47c1c6</th>\n",
       "      <th id=\"T_fb34c_level1_row3\" class=\"row_heading level1 row3\" >BNOG</th>\n",
       "      <td id=\"T_fb34c_row3_col0\" class=\"data row3 col0\" >34080</td>\n",
       "    </tr>\n",
       "    <tr>\n",
       "      <th id=\"T_fb34c_level0_row4\" class=\"row_heading level0 row4\" >47885f</th>\n",
       "      <th id=\"T_fb34c_level1_row4\" class=\"row_heading level1 row4\" >BNON</th>\n",
       "      <td id=\"T_fb34c_row4_col0\" class=\"data row4 col0\" >28628</td>\n",
       "    </tr>\n",
       "    <tr>\n",
       "      <th id=\"T_fb34c_level0_row5\" class=\"row_heading level0 row5\" >4783cc</th>\n",
       "      <th id=\"T_fb34c_level1_row5\" class=\"row_heading level1 row5\" >WIF3TX</th>\n",
       "      <td id=\"T_fb34c_row5_col0\" class=\"data row5 col0\" >27708</td>\n",
       "    </tr>\n",
       "    <tr>\n",
       "      <th id=\"T_fb34c_level0_row6\" class=\"row_heading level0 row6\" >4aca6c</th>\n",
       "      <th id=\"T_fb34c_level1_row6\" class=\"row_heading level1 row6\" >SAS269</th>\n",
       "      <td id=\"T_fb34c_row6_col0\" class=\"data row6 col0\" >24919</td>\n",
       "    </tr>\n",
       "    <tr>\n",
       "      <th id=\"T_fb34c_level0_row7\" class=\"row_heading level0 row7\" >47878c</th>\n",
       "      <th id=\"T_fb34c_level1_row7\" class=\"row_heading level1 row7\" >NOZ632</th>\n",
       "      <td id=\"T_fb34c_row7_col0\" class=\"data row7 col0\" >20862</td>\n",
       "    </tr>\n",
       "    <tr>\n",
       "      <th id=\"T_fb34c_level0_row8\" class=\"row_heading level0 row8\" >4ac9ec</th>\n",
       "      <th id=\"T_fb34c_level1_row8\" class=\"row_heading level1 row8\" >SAS281</th>\n",
       "      <td id=\"T_fb34c_row8_col0\" class=\"data row8 col0\" >20686</td>\n",
       "    </tr>\n",
       "    <tr>\n",
       "      <th id=\"T_fb34c_level0_row9\" class=\"row_heading level0 row9\" >45ac32</th>\n",
       "      <th id=\"T_fb34c_level1_row9\" class=\"row_heading level1 row9\" >SAS277</th>\n",
       "      <td id=\"T_fb34c_row9_col0\" class=\"data row9 col0\" >20576</td>\n",
       "    </tr>\n",
       "  </tbody>\n",
       "</table>\n"
      ]
     },
     "execution_count": 11,
     "metadata": {},
     "output_type": "execute_result"
    }
   ],
   "execution_count": 11
  },
  {
   "metadata": {
    "ExecuteTime": {
     "end_time": "2024-10-17T14:57:07.994449Z",
     "start_time": "2024-10-17T14:56:58.984248Z"
    }
   },
   "cell_type": "code",
   "source": [
    "circly_flights=[]\n",
    "for i, tree in enumerate(persistences):\n",
    "    persistence = tree.persistence()\n",
    "\n",
    "    more_than_00001 = len(list(filter(lambda x: x[0] == 1 and x[1][1] - x[1][0] > 0.0001, persistence)))\n",
    "    more_than_00005 = len(list(filter(lambda x: x[0] == 1 and x[1][1] - x[1][0] > 0.0005, persistence)))\n",
    "    if more_than_00001 > 0:\n",
    "        circly_flights.append(i)"
   ],
   "id": "16a987042baf860a",
   "outputs": [],
   "execution_count": 13
  },
  {
   "metadata": {
    "ExecuteTime": {
     "end_time": "2024-10-17T14:59:30.920546Z",
     "start_time": "2024-10-17T14:57:30.829862Z"
    }
   },
   "cell_type": "code",
   "source": [
    "from collections import Counter\n",
    "\n",
    "codes = Counter()\n",
    "for flight in circly_flights:\n",
    "    codes.update(filtered_flights[flight].squawk)\n",
    "\n",
    "codes"
   ],
   "id": "568248bca5425c1b",
   "outputs": [
    {
     "data": {
      "text/plain": [
       "Counter({None: 43,\n",
       "         '4540': 2,\n",
       "         '4201': 2,\n",
       "         '4125': 1,\n",
       "         '4105': 1,\n",
       "         '5623': 1,\n",
       "         '0202': 1,\n",
       "         '2575': 1,\n",
       "         '5311': 1,\n",
       "         '6012': 1,\n",
       "         '7044': 1,\n",
       "         '5260': 1,\n",
       "         '0236': 1,\n",
       "         '2141': 1,\n",
       "         '4324': 1,\n",
       "         '7226': 1,\n",
       "         '5347': 1,\n",
       "         '4412': 1,\n",
       "         '3220': 1,\n",
       "         '2501': 1,\n",
       "         '3315': 1,\n",
       "         '6160': 1,\n",
       "         '0253': 1,\n",
       "         '3536': 1,\n",
       "         '7200': 1,\n",
       "         '5316': 1,\n",
       "         '3023': 1,\n",
       "         '7400': 1,\n",
       "         '1571': 1,\n",
       "         '7245': 1,\n",
       "         '2257': 1,\n",
       "         '2212': 1,\n",
       "         '5344': 1,\n",
       "         '5621': 1,\n",
       "         '6536': 1,\n",
       "         '0313': 1,\n",
       "         '0270': 1,\n",
       "         '5306': 1,\n",
       "         '0434': 1,\n",
       "         '5012': 1,\n",
       "         '5007': 1,\n",
       "         '2402': 1,\n",
       "         '5333': 1,\n",
       "         '5323': 1,\n",
       "         '7004': 1,\n",
       "         '5270': 1,\n",
       "         '5040': 1,\n",
       "         '0732': 1,\n",
       "         '7405': 1,\n",
       "         '0740': 1,\n",
       "         '1170': 1,\n",
       "         '3771': 1,\n",
       "         '6234': 1,\n",
       "         '5074': 1,\n",
       "         '3501': 1,\n",
       "         '1715': 1,\n",
       "         '0120': 1,\n",
       "         '2640': 1,\n",
       "         '4552': 1,\n",
       "         '1661': 1,\n",
       "         '0614': 1,\n",
       "         '2677': 1,\n",
       "         '7735': 1,\n",
       "         '4467': 1,\n",
       "         '4000': 1,\n",
       "         '7665': 1,\n",
       "         '7440': 1,\n",
       "         '2522': 1,\n",
       "         '1137': 1,\n",
       "         '6415': 1,\n",
       "         '0141': 1,\n",
       "         '2601': 1,\n",
       "         '2563': 1,\n",
       "         '7423': 1,\n",
       "         '4656': 1,\n",
       "         '1443': 1,\n",
       "         '3214': 1,\n",
       "         '5703': 1,\n",
       "         '3175': 1,\n",
       "         '6053': 1,\n",
       "         '5760': 1,\n",
       "         '1163': 1,\n",
       "         '6152': 1,\n",
       "         '0451': 1,\n",
       "         '2516': 1,\n",
       "         '4152': 1,\n",
       "         '2515': 1,\n",
       "         '6504': 1,\n",
       "         '0425': 1,\n",
       "         '2577': 1,\n",
       "         '0444': 1})"
      ]
     },
     "execution_count": 15,
     "metadata": {},
     "output_type": "execute_result"
    }
   ],
   "execution_count": 15
  },
  {
   "metadata": {
    "ExecuteTime": {
     "end_time": "2024-10-17T15:01:09.458580Z",
     "start_time": "2024-10-17T15:01:02.144376Z"
    }
   },
   "cell_type": "code",
   "source": [
    "bool_array = np.zeros(len(persistences))\n",
    "for i in circly_flights:\n",
    "    bool_array[i] = 1\n",
    "\n",
    "from functions.data_filtering import filter_by_bools, filter_flights\n",
    "loopy_flights = filter_flights(filter_by_bools(bool_array), filtered_flights)\n",
    "\n",
    "loopy_flights.map_leaflet()"
   ],
   "id": "72c14bb0acd5c9a4",
   "outputs": [
    {
     "data": {
      "text/plain": [
       "Map(center=[60.319091798935105, 7.526391599862434], controls=(ZoomControl(options=['position', 'zoom_in_text',…"
      ],
      "application/vnd.jupyter.widget-view+json": {
       "version_major": 2,
       "version_minor": 0,
       "model_id": "efd6b591d2ba447890f6d31f7ec433e8"
      }
     },
     "execution_count": 16,
     "metadata": {},
     "output_type": "execute_result"
    }
   ],
   "execution_count": 16
  },
  {
   "metadata": {
    "ExecuteTime": {
     "end_time": "2024-10-17T15:03:23.382871Z",
     "start_time": "2024-10-17T15:03:23.282428Z"
    }
   },
   "cell_type": "code",
   "source": "loopy_flights[38].map_leaflet()",
   "id": "21d354ebd3f25d0e",
   "outputs": [
    {
     "data": {
      "text/plain": [
       "Map(center=[60.21636576930588, 8.215045846679192], controls=(ZoomControl(options=['position', 'zoom_in_text', …"
      ],
      "application/vnd.jupyter.widget-view+json": {
       "version_major": 2,
       "version_minor": 0,
       "model_id": "e6a5f01d3c184c359505438fefe837f7"
      }
     },
     "execution_count": 58,
     "metadata": {},
     "output_type": "execute_result"
    }
   ],
   "execution_count": 58
  }
 ],
 "metadata": {
  "kernelspec": {
   "display_name": "Python 3",
   "language": "python",
   "name": "python3"
  },
  "language_info": {
   "codemirror_mode": {
    "name": "ipython",
    "version": 2
   },
   "file_extension": ".py",
   "mimetype": "text/x-python",
   "name": "python",
   "nbconvert_exporter": "python",
   "pygments_lexer": "ipython2",
   "version": "2.7.6"
  }
 },
 "nbformat": 4,
 "nbformat_minor": 5
}
