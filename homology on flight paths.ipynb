{
 "cells": [
  {
   "cell_type": "code",
   "id": "initial_id",
   "metadata": {
    "collapsed": true,
    "ExecuteTime": {
     "end_time": "2024-10-23T12:03:47.098718Z",
     "start_time": "2024-10-23T12:03:43.777177Z"
    }
   },
   "source": [
    "import gudhi\n",
    "import numpy as np\n",
    "\n",
    "from functions.data_loading import get_filtered_data_range, get_data_range, get_flight_persistence\n",
    "from functions.data_filtering import complete_flight_filter\n",
    "\n",
    "from datetime import datetime\n",
    "from collections import Counter\n",
    "from tqdm import tqdm\n",
    "from traffic.core import Traffic, Flight"
   ],
   "outputs": [],
   "execution_count": 2
  },
  {
   "metadata": {
    "ExecuteTime": {
     "end_time": "2024-10-23T12:26:25.008939Z",
     "start_time": "2024-10-23T12:23:53.736916Z"
    }
   },
   "cell_type": "code",
   "source": [
    "origin = \"bergen\"\n",
    "destination = \"oslo\"\n",
    "\n",
    "unfiltered_data, file_name = get_data_range(origin, destination, datetime(year=2023, month=1, day=1), datetime(year=2024, month=1, day=1))\n",
    "filtered_flights, file_name = get_filtered_data_range(unfiltered_data, file_name, complete_flight_filter(origin, destination))\n",
    "persistences, _ = get_flight_persistence(filtered_flights, file_name)"
   ],
   "id": "de28a2e72f5d6107",
   "outputs": [
    {
     "name": "stdout",
     "output_type": "stream",
     "text": [
      "data/complete_flights/bergen-oslo-2023-01-01-2024-01-01.pkl\n"
     ]
    }
   ],
   "execution_count": 5
  },
  {
   "metadata": {
    "ExecuteTime": {
     "end_time": "2024-10-23T10:42:18.599983Z",
     "start_time": "2024-10-23T10:42:08.331317Z"
    }
   },
   "cell_type": "code",
   "source": [
    "circly_flights=[]\n",
    "for i, tree in enumerate(persistences):\n",
    "    persistence = tree.persistence()\n",
    "\n",
    "    more_than_00001 = len([x for x in persistence if  x[0] == 1 and x[1][1] - x[1][0] > 0.0001])\n",
    "    #more_than_00005 = len([x for x in persistence if  x[0] == 1 and x[1][1] - x[1][0] > 0.0005])\n",
    "    if more_than_00001 > 0:\n",
    "        circly_flights.append(i)"
   ],
   "id": "16a987042baf860a",
   "outputs": [],
   "execution_count": 11
  },
  {
   "metadata": {
    "ExecuteTime": {
     "end_time": "2024-10-23T10:41:18.268415Z",
     "start_time": "2024-10-23T10:41:18.264696Z"
    }
   },
   "cell_type": "code",
   "source": [
    "\"\"\"\n",
    "codes = Counter()\n",
    "for flight in circly_flights:\n",
    "    codes.update(filtered_flights[flight].squawk)\n",
    "\n",
    "codes\n",
    "\"\"\""
   ],
   "id": "568248bca5425c1b",
   "outputs": [
    {
     "data": {
      "text/plain": [
       "'\\ncodes = Counter()\\nfor flight in circly_flights:\\n    codes.update(filtered_flights[flight].squawk)\\n\\ncodes\\n'"
      ]
     },
     "execution_count": 4,
     "metadata": {},
     "output_type": "execute_result"
    }
   ],
   "execution_count": 4
  },
  {
   "metadata": {
    "ExecuteTime": {
     "end_time": "2024-10-21T12:27:00.857482Z",
     "start_time": "2024-10-21T12:24:11.273093Z"
    }
   },
   "cell_type": "code",
   "source": [
    "bool_array = np.zeros(len(persistences))\n",
    "for i in circly_flights:\n",
    "    bool_array[i] = 1\n",
    "\n",
    "from functions.data_filtering import filter_by_bools, filter_flights\n",
    "loopy_flights = filter_flights(filter_by_bools(bool_array), filtered_flights)\n",
    "\n",
    "loopy_flights.map_leaflet()"
   ],
   "id": "72c14bb0acd5c9a4",
   "outputs": [
    {
     "data": {
      "text/plain": [
       "Map(center=[60.30966211197027, 8.530049425198623], controls=(ZoomControl(options=['position', 'zoom_in_text', …"
      ],
      "application/vnd.jupyter.widget-view+json": {
       "version_major": 2,
       "version_minor": 0,
       "model_id": "9d7d8db3ed6a429b938253e5fc5a8fa5"
      }
     },
     "execution_count": 5,
     "metadata": {},
     "output_type": "execute_result"
    }
   ],
   "execution_count": 5
  },
  {
   "metadata": {
    "ExecuteTime": {
     "end_time": "2024-10-21T12:27:06.049124Z",
     "start_time": "2024-10-21T12:27:04.157877Z"
    }
   },
   "cell_type": "code",
   "source": "loopy_flights[38].map_leaflet()",
   "id": "21d354ebd3f25d0e",
   "outputs": [
    {
     "data": {
      "text/plain": [
       "Map(center=[60.37987787859019, 8.593328916812911], controls=(ZoomControl(options=['position', 'zoom_in_text', …"
      ],
      "application/vnd.jupyter.widget-view+json": {
       "version_major": 2,
       "version_minor": 0,
       "model_id": "0e7e490070104178b0bc1481fc979a59"
      }
     },
     "execution_count": 6,
     "metadata": {},
     "output_type": "execute_result"
    }
   ],
   "execution_count": 6
  },
  {
   "metadata": {
    "ExecuteTime": {
     "start_time": "2024-10-23T10:39:50.041323Z"
    }
   },
   "cell_type": "code",
   "source": [
    "flight_amount = len(persistences)\n",
    "distance_matrix = np.zeros((flight_amount, flight_amount), dtype=float)\n",
    "\n",
    "for i in tqdm(range(197, flight_amount)):\n",
    "    for j in range(i+1, flight_amount):\n",
    "        print(i, j)\n",
    "        tree_i = persistences[i]\n",
    "        tree_j = persistences[j]\n",
    "        pers_i = [x for x in tree_i.persistence_intervals_in_dimension(1) if  x[1] - x[0] > 0.0001]\n",
    "        pers_j = [x for x in tree_j.persistence_intervals_in_dimension(1) if  x[1] - x[0] > 0.0001]\n",
    "        dist = gudhi.bottleneck_distance(pers_i, pers_j, 0.001)\n",
    "        distance_matrix[i, j] = dist\n",
    "        distance_matrix[j, i] = dist"
   ],
   "id": "bd8284d5cd61513a",
   "outputs": [
    {
     "name": "stderr",
     "output_type": "stream",
     "text": [
      "  0%|          | 0/3022 [00:00<?, ?it/s]"
     ]
    },
    {
     "name": "stdout",
     "output_type": "stream",
     "text": [
      "197 198\n",
      "197 199\n",
      "197 200\n",
      "197 201\n",
      "197 202\n",
      "197 203\n",
      "197 204\n",
      "197 205\n",
      "197 206\n",
      "197 207\n",
      "197 208\n",
      "197 209\n",
      "197 210\n",
      "197 211\n",
      "197 212\n",
      "197 213\n",
      "197 214\n",
      "197 215\n",
      "197 216\n",
      "197 217\n",
      "197 218\n",
      "197 219\n",
      "197 220\n",
      "197 221\n",
      "197 222\n",
      "197 223\n",
      "197 224\n",
      "197 225\n",
      "197 226\n",
      "197 227\n",
      "197 228\n",
      "197 229\n",
      "197 230\n",
      "197 231\n",
      "197 232\n",
      "197 233\n",
      "197 234\n",
      "197 235\n",
      "197 236\n",
      "197 237\n",
      "197 238\n",
      "197 239\n",
      "197 240\n",
      "197 241\n",
      "197 242\n",
      "197 243\n",
      "197 244\n",
      "197 245\n",
      "197 246\n",
      "197 247\n",
      "197 248\n",
      "197 249\n",
      "197 250\n",
      "197 251\n",
      "197 252\n",
      "197 253\n",
      "197 254\n",
      "197 255\n",
      "197 256\n",
      "197 257\n",
      "197 258\n",
      "197 259\n",
      "197 260\n",
      "197 261\n",
      "197 262\n",
      "197 263\n",
      "197 264\n",
      "197 265\n",
      "197 266\n",
      "197 267\n",
      "197 268\n",
      "197 269\n",
      "197 270\n",
      "197 271\n",
      "197 272\n",
      "197 273\n",
      "197 274\n",
      "197 275\n",
      "197 276\n",
      "197 277\n",
      "197 278\n",
      "197 279\n",
      "197 280\n",
      "197 281\n",
      "197 282\n",
      "197 283\n",
      "197 284\n",
      "197 285\n",
      "197 286\n",
      "197 287\n",
      "197 288\n",
      "197 289\n",
      "197 290\n",
      "197 291\n",
      "197 292\n",
      "197 293\n",
      "197 294\n",
      "197 295\n",
      "197 296\n",
      "197 297\n",
      "197 298\n",
      "197 299\n",
      "197 300\n",
      "197 301\n",
      "197 302\n",
      "197 303\n",
      "197 304\n",
      "197 305\n",
      "197 306\n",
      "197 307\n",
      "197 308\n",
      "197 309\n",
      "197 310\n",
      "197 311\n",
      "197 312\n",
      "197 313\n",
      "197 314\n",
      "197 315\n",
      "197 316\n",
      "197 317\n",
      "197 318\n",
      "197 319\n",
      "197 320\n",
      "197 321\n",
      "197 322\n",
      "197 323\n",
      "197 324\n",
      "197 325\n",
      "197 326\n",
      "197 327\n",
      "197 328\n",
      "197 329\n",
      "197 330\n",
      "197 331\n",
      "197 332\n",
      "197 333\n",
      "197 334\n",
      "197 335\n",
      "197 336\n",
      "197 337\n",
      "197 338\n",
      "197 339\n",
      "197 340\n",
      "197 341\n",
      "197 342\n",
      "197 343\n",
      "197 344\n",
      "197 345\n",
      "197 346\n",
      "197 347\n",
      "197 348\n",
      "197 349\n",
      "197 350\n",
      "197 351\n",
      "197 352\n",
      "197 353\n",
      "197 354\n",
      "197 355\n",
      "197 356\n",
      "197 357\n",
      "197 358\n",
      "197 359\n",
      "197 360\n",
      "197 361\n",
      "197 362\n",
      "197 363\n",
      "197 364\n",
      "197 365\n",
      "197 366\n",
      "197 367\n",
      "197 368\n",
      "197 369\n",
      "197 370\n",
      "197 371\n",
      "197 372\n",
      "197 373\n",
      "197 374\n",
      "197 375\n",
      "197 376\n",
      "197 377\n",
      "197 378\n",
      "197 379\n",
      "197 380\n",
      "197 381\n",
      "197 382\n",
      "197 383\n",
      "197 384\n",
      "197 385\n",
      "197 386\n",
      "197 387\n",
      "197 388\n",
      "197 389\n",
      "197 390\n",
      "197 391\n",
      "197 392\n",
      "197 393\n",
      "197 394\n",
      "197 395\n",
      "197 396\n",
      "197 397\n",
      "197 398\n",
      "197 399\n",
      "197 400\n",
      "197 401\n",
      "197 402\n",
      "197 403\n",
      "197 404\n",
      "197 405\n",
      "197 406\n",
      "197 407\n",
      "197 408\n",
      "197 409\n",
      "197 410\n",
      "197 411\n",
      "197 412\n",
      "197 413\n",
      "197 414\n",
      "197 415\n",
      "197 416\n",
      "197 417\n",
      "197 418\n",
      "197 419\n",
      "197 420\n",
      "197 421\n",
      "197 422\n",
      "197 423\n",
      "197 424\n",
      "197 425\n",
      "197 426\n",
      "197 427\n",
      "197 428\n",
      "197 429\n",
      "197 430\n",
      "197 431\n",
      "197 432\n",
      "197 433\n",
      "197 434\n",
      "197 435\n",
      "197 436\n",
      "197 437\n",
      "197 438\n",
      "197 439\n",
      "197 440\n",
      "197 441\n",
      "197 442\n",
      "197 443\n",
      "197 444\n",
      "197 445\n",
      "197 446\n",
      "197 447\n",
      "197 448\n"
     ]
    }
   ],
   "execution_count": null
  },
  {
   "metadata": {
    "ExecuteTime": {
     "end_time": "2024-10-23T10:36:07.912434Z",
     "start_time": "2024-10-23T10:36:07.882986Z"
    }
   },
   "cell_type": "code",
   "source": "print(sum(sum(distance_matrix)))",
   "id": "f834353220a2473d",
   "outputs": [
    {
     "name": "stdout",
     "output_type": "stream",
     "text": [
      "0.0\n"
     ]
    }
   ],
   "execution_count": 5
  },
  {
   "metadata": {
    "ExecuteTime": {
     "end_time": "2024-10-21T14:08:29.700648Z",
     "start_time": "2024-10-21T14:08:29.653084Z"
    }
   },
   "cell_type": "code",
   "source": "distance_matrix.nonzero()",
   "id": "86c3fdd3a3a5bbe5",
   "outputs": [
    {
     "data": {
      "text/plain": [
       "(array([], dtype=int64), array([], dtype=int64))"
      ]
     },
     "execution_count": 8,
     "metadata": {},
     "output_type": "execute_result"
    }
   ],
   "execution_count": 8
  },
  {
   "metadata": {
    "ExecuteTime": {
     "end_time": "2024-10-20T16:19:50.397048Z",
     "start_time": "2024-10-20T16:19:50.238957Z"
    }
   },
   "cell_type": "code",
   "source": [
    "pers_i = persistences[197].persistence_intervals_in_dimension(1)\n",
    "pers_j = persistences[448].persistence_intervals_in_dimension(1)\n",
    "dist = gudhi.bottleneck_distance(pers_i, pers_j)\n",
    "dist"
   ],
   "id": "eeb363c04e4539f5",
   "outputs": [
    {
     "ename": "NameError",
     "evalue": "name 'persistences' is not defined",
     "output_type": "error",
     "traceback": [
      "\u001B[1;31m---------------------------------------------------------------------------\u001B[0m",
      "\u001B[1;31mNameError\u001B[0m                                 Traceback (most recent call last)",
      "Cell \u001B[1;32mIn[1], line 1\u001B[0m\n\u001B[1;32m----> 1\u001B[0m pers_i \u001B[38;5;241m=\u001B[39m \u001B[43mpersistences\u001B[49m[\u001B[38;5;241m69\u001B[39m]\u001B[38;5;241m.\u001B[39mpersistence_intervals_in_dimension(\u001B[38;5;241m1\u001B[39m)\n\u001B[0;32m      2\u001B[0m pers_j \u001B[38;5;241m=\u001B[39m persistences[\u001B[38;5;241m69\u001B[39m]\u001B[38;5;241m.\u001B[39mpersistence_intervals_in_dimension(\u001B[38;5;241m1\u001B[39m)\n\u001B[0;32m      3\u001B[0m dist \u001B[38;5;241m=\u001B[39m gudhi\u001B[38;5;241m.\u001B[39mbottleneck_distance(pers_i, pers_j)\n",
      "\u001B[1;31mNameError\u001B[0m: name 'persistences' is not defined"
     ]
    }
   ],
   "execution_count": 1
  },
  {
   "metadata": {
    "ExecuteTime": {
     "end_time": "2024-10-23T10:42:20.591711Z",
     "start_time": "2024-10-23T10:42:20.588626Z"
    }
   },
   "cell_type": "code",
   "source": [
    "pers_i = [x for x in persistences[197].persistence_intervals_in_dimension(1) if  x[1] - x[0] > 0.0001]\n",
    "pers_j = [x for x in persistences[448].persistence_intervals_in_dimension(1) if  x[1] - x[0] > 0.0001]\n",
    "print(pers_i)\n",
    "print(pers_j)"
   ],
   "id": "88a69500d057414a",
   "outputs": [
    {
     "name": "stdout",
     "output_type": "stream",
     "text": [
      "[array([8.33126906e-07, 1.26088065e-04]), array([8.82459141e-05, 7.50946700e-03])]\n",
      "[array([0.00016188, 0.00220959]), array([5.88552650e-05, 2.50344004e-03])]\n"
     ]
    }
   ],
   "execution_count": 12
  },
  {
   "metadata": {
    "ExecuteTime": {
     "end_time": "2024-10-23T10:57:59.680516500Z",
     "start_time": "2024-10-23T10:42:34.944394Z"
    }
   },
   "cell_type": "code",
   "source": "print(gudhi.bottleneck_distance(pers_i, pers_j, 0.001))",
   "id": "71037860681cc8d3",
   "outputs": [],
   "execution_count": null
  },
  {
   "metadata": {
    "ExecuteTime": {
     "end_time": "2024-10-21T12:17:04.516342Z",
     "start_time": "2024-10-21T12:17:04.513674Z"
    }
   },
   "cell_type": "code",
   "source": [
    "print(persistences[98].persistence_intervals_in_dimension(1))\n",
    "\n",
    "print"
   ],
   "id": "1ec488b5d993f70b",
   "outputs": [
    {
     "name": "stdout",
     "output_type": "stream",
     "text": [
      "[[0.00829266 0.00829277]\n",
      " [0.00829325 0.00829325]\n",
      " [0.00829328 0.00829335]\n",
      " [0.00829229 0.00833566]]\n"
     ]
    }
   ],
   "execution_count": 7
  },
  {
   "metadata": {
    "ExecuteTime": {
     "end_time": "2024-10-21T14:43:55.394269Z",
     "start_time": "2024-10-21T14:43:55.384569Z"
    }
   },
   "cell_type": "code",
   "source": "persistences[circly_flights[0]].persistence_intervals_in_dimension(1)",
   "id": "f94a8f4b884e0599",
   "outputs": [
    {
     "ename": "IndexError",
     "evalue": "list index out of range",
     "output_type": "error",
     "traceback": [
      "\u001B[1;31m---------------------------------------------------------------------------\u001B[0m",
      "\u001B[1;31mIndexError\u001B[0m                                Traceback (most recent call last)",
      "Cell \u001B[1;32mIn[32], line 1\u001B[0m\n\u001B[1;32m----> 1\u001B[0m persistences[\u001B[43mcircly_flights\u001B[49m\u001B[43m[\u001B[49m\u001B[38;5;241;43m0\u001B[39;49m\u001B[43m]\u001B[49m]\u001B[38;5;241m.\u001B[39mpersistence_intervals_in_dimension(\u001B[38;5;241m1\u001B[39m)\n",
      "\u001B[1;31mIndexError\u001B[0m: list index out of range"
     ]
    }
   ],
   "execution_count": 32
  },
  {
   "metadata": {
    "ExecuteTime": {
     "end_time": "2024-10-21T14:13:51.373475Z",
     "start_time": "2024-10-21T14:13:51.343585Z"
    }
   },
   "cell_type": "code",
   "source": "sum(sum(distance_matrix))",
   "id": "a24ae51566ceb26a",
   "outputs": [
    {
     "data": {
      "text/plain": [
       "0.0"
      ]
     },
     "execution_count": 21,
     "metadata": {},
     "output_type": "execute_result"
    }
   ],
   "execution_count": 21
  }
 ],
 "metadata": {
  "kernelspec": {
   "display_name": "Python 3",
   "language": "python",
   "name": "python3"
  },
  "language_info": {
   "codemirror_mode": {
    "name": "ipython",
    "version": 2
   },
   "file_extension": ".py",
   "mimetype": "text/x-python",
   "name": "python",
   "nbconvert_exporter": "python",
   "pygments_lexer": "ipython2",
   "version": "2.7.6"
  }
 },
 "nbformat": 4,
 "nbformat_minor": 5
}
