{
 "cells": [
  {
   "cell_type": "code",
   "id": "initial_id",
   "metadata": {
    "collapsed": true,
    "ExecuteTime": {
     "end_time": "2024-11-14T11:52:35.612664Z",
     "start_time": "2024-11-14T11:52:31.985836Z"
    }
   },
   "source": [
    "import gudhi\n",
    "import numpy as np\n",
    "\n",
    "from functions.data_loading import get_filtered_data_range, get_data_range, get_flight_persistence, get_removed_outliers\n",
    "from functions.data_filtering import complete_flight_filter\n",
    "from functions.data_filtering import filter_by_bools, filter_flights\n",
    "\n",
    "from datetime import datetime\n",
    "from collections import Counter\n",
    "from tqdm import tqdm\n",
    "from traffic.core import Traffic, Flight"
   ],
   "outputs": [],
   "execution_count": 5
  },
  {
   "metadata": {
    "ExecuteTime": {
     "end_time": "2024-11-14T11:53:02.286926Z",
     "start_time": "2024-11-14T11:52:35.620178Z"
    }
   },
   "cell_type": "code",
   "source": [
    "origin = \"bergen\"\n",
    "destination = \"oslo\"\n",
    "\n",
    "unfiltered_flights, file_name = get_data_range(origin, destination, datetime(year=2023, month=1, day=1), datetime(year=2024, month=1, day=1))\n",
    "filtered_flights, file_name = get_filtered_data_range(unfiltered_flights, file_name, complete_flight_filter(origin, destination, 0.75))\n",
    "#fixed_flights, file_name = get_removed_outliers(filtered_flights, file_name)\n",
    "persistences, file_name = get_flight_persistence(filtered_flights, file_name)"
   ],
   "id": "de28a2e72f5d6107",
   "outputs": [],
   "execution_count": 6
  },
  {
   "metadata": {
    "ExecuteTime": {
     "end_time": "2024-11-14T11:53:29.347807Z",
     "start_time": "2024-11-14T11:53:18.660110Z"
    }
   },
   "cell_type": "code",
   "source": [
    "circly_flights=[]\n",
    "for i, tree in enumerate(persistences):\n",
    "    persistence = tree.persistence()\n",
    "\n",
    "    more_than_00001 = len([x for x in persistence if  x[0] == 1 and x[1][1] - x[1][0] > 0.0001])\n",
    "    #more_than_00005 = len([x for x in persistence if  x[0] == 1 and x[1][1] - x[1][0] > 0.0005])\n",
    "    if more_than_00001 > 0:\n",
    "        circly_flights.append(i)"
   ],
   "id": "16a987042baf860a",
   "outputs": [],
   "execution_count": 7
  },
  {
   "metadata": {
    "ExecuteTime": {
     "end_time": "2024-11-14T11:53:29.360987Z",
     "start_time": "2024-11-14T11:53:29.355480Z"
    }
   },
   "cell_type": "code",
   "source": [
    "\"\"\"\n",
    "codes = Counter()\n",
    "for flight in circly_flights:\n",
    "    codes.update(filtered_flights[flight].squawk)\n",
    "\n",
    "codes\n",
    "\"\"\""
   ],
   "id": "568248bca5425c1b",
   "outputs": [
    {
     "data": {
      "text/plain": [
       "'\\ncodes = Counter()\\nfor flight in circly_flights:\\n    codes.update(filtered_flights[flight].squawk)\\n\\ncodes\\n'"
      ]
     },
     "execution_count": 8,
     "metadata": {},
     "output_type": "execute_result"
    }
   ],
   "execution_count": 8
  },
  {
   "metadata": {},
   "cell_type": "markdown",
   "source": "There is not really any trend with ICAO codes and cyclic flights, they seem to be mostly unique",
   "id": "2d8b2df317e1f9ef"
  },
  {
   "metadata": {
    "ExecuteTime": {
     "end_time": "2024-11-14T11:58:21.104961Z",
     "start_time": "2024-11-14T11:58:15.679747Z"
    }
   },
   "cell_type": "code",
   "source": [
    "bool_array = np.zeros(len(persistences))\n",
    "for i in circly_flights:\n",
    "    bool_array[i] = 1\n",
    "\n",
    "loopy_flights = filter_flights(filter_by_bools(bool_array), filtered_flights)\n",
    "loopy_flights_pers = list(filter(filter_by_bools(bool_array), persistences))\n",
    "loopy_flights.map_leaflet()"
   ],
   "id": "72c14bb0acd5c9a4",
   "outputs": [
    {
     "data": {
      "text/plain": [
       "Map(center=[60.27090908587474, 8.711997815204462], controls=(ZoomControl(options=['position', 'zoom_in_text', …"
      ],
      "application/vnd.jupyter.widget-view+json": {
       "version_major": 2,
       "version_minor": 0,
       "model_id": "7c22474f0c0148ec9d12f3df5b8a7a65"
      }
     },
     "execution_count": 22,
     "metadata": {},
     "output_type": "execute_result"
    }
   ],
   "execution_count": 22
  },
  {
   "metadata": {
    "ExecuteTime": {
     "end_time": "2024-11-14T11:53:36.845901Z",
     "start_time": "2024-11-14T11:53:36.723080Z"
    }
   },
   "cell_type": "code",
   "source": [
    "flight_amount = len(persistences)\n",
    "condensed_distance_matrix = []\n",
    "\n",
    "for i in tqdm(range(len(circly_flights))):\n",
    "    for j in range(i+1, len(circly_flights)):\n",
    "        tree_i = persistences[circly_flights[i]]\n",
    "        tree_j = persistences[circly_flights[j]]\n",
    "        #pers_i = [x for x in tree_i.persistence_intervals_in_dimension(1) if  x[1] - x[0] > 0.0001]\n",
    "        #pers_j = [x for x in tree_j.persistence_intervals_in_dimension(1) if  x[1] - x[0] > 0.0001]\n",
    "        pers_i = tree_i.persistence_intervals_in_dimension(1)\n",
    "        pers_j = tree_j.persistence_intervals_in_dimension(1)\n",
    "        dist = gudhi.bottleneck_distance(pers_i, pers_j, 0.0001)\n",
    "        condensed_distance_matrix.append(dist)"
   ],
   "id": "bd8284d5cd61513a",
   "outputs": [
    {
     "name": "stderr",
     "output_type": "stream",
     "text": [
      "100%|██████████| 50/50 [00:00<00:00, 429.45it/s]\n"
     ]
    }
   ],
   "execution_count": 10
  },
  {
   "metadata": {
    "ExecuteTime": {
     "end_time": "2024-11-14T11:53:36.862252Z",
     "start_time": "2024-11-14T11:53:36.857867Z"
    }
   },
   "cell_type": "code",
   "source": [
    "from matplotlib import pyplot as plt\n",
    "from scipy.cluster.hierarchy import linkage, fcluster, dendrogram\n",
    "import sys\n",
    "sys.setrecursionlimit(10000)\n",
    "\n",
    "Z = linkage(condensed_distance_matrix, \"complete\")\n",
    "\n",
    "#fig = plt.figure(figsize=(100, 10))\n",
    "#dn = dendrogram(Z)\n",
    "\n",
    "clustering = fcluster(Z, t=10, criterion='maxclust', depth=1)"
   ],
   "id": "40948d83d0e72c94",
   "outputs": [],
   "execution_count": 11
  },
  {
   "metadata": {
    "ExecuteTime": {
     "end_time": "2024-11-14T11:53:36.931122Z",
     "start_time": "2024-11-14T11:53:36.927872Z"
    }
   },
   "cell_type": "code",
   "source": [
    "for i in range(1, len(np.unique(clustering))+1):\n",
    "    print(f\"{i}: {sum(clustering == i)}\")"
   ],
   "id": "31c94a020d34e415",
   "outputs": [
    {
     "name": "stdout",
     "output_type": "stream",
     "text": [
      "1: 4\n",
      "2: 5\n",
      "3: 9\n",
      "4: 9\n",
      "5: 5\n",
      "6: 13\n",
      "7: 1\n",
      "8: 2\n",
      "9: 1\n",
      "10: 1\n"
     ]
    }
   ],
   "execution_count": 12
  },
  {
   "metadata": {
    "ExecuteTime": {
     "end_time": "2024-11-14T12:09:17.273139Z",
     "start_time": "2024-11-14T12:09:17.168707Z"
    }
   },
   "cell_type": "code",
   "source": [
    "bool_array = clustering == 10\n",
    "\n",
    "loopy_flight_cluster = filter_flights(filter_by_bools(bool_array), loopy_flights)\n",
    "loopy_flight_cluster_pers = list(filter(filter_by_bools(bool_array), loopy_flights_pers))\n",
    "print(len(loopy_flight_cluster))\n",
    "loopy_flight_cluster.map_leaflet()"
   ],
   "id": "4d60ff156f2f75de",
   "outputs": [
    {
     "name": "stdout",
     "output_type": "stream",
     "text": [
      "1\n"
     ]
    },
    {
     "data": {
      "text/plain": [
       "Map(center=[60.36569925342792, 8.835122702845746], controls=(ZoomControl(options=['position', 'zoom_in_text', …"
      ],
      "application/vnd.jupyter.widget-view+json": {
       "version_major": 2,
       "version_minor": 0,
       "model_id": "9f14f7f7e6754826a92c79746c86c37f"
      }
     },
     "execution_count": 88,
     "metadata": {},
     "output_type": "execute_result"
    }
   ],
   "execution_count": 88
  },
  {
   "metadata": {
    "ExecuteTime": {
     "end_time": "2024-11-14T12:09:19.138386Z",
     "start_time": "2024-11-14T12:09:19.078992Z"
    }
   },
   "cell_type": "code",
   "source": "loopy_flight_cluster[0].map_leaflet()",
   "id": "2b39c47876c31b33",
   "outputs": [
    {
     "data": {
      "text/plain": [
       "Map(center=[60.36569925342792, 8.835122702845746], controls=(ZoomControl(options=['position', 'zoom_in_text', …"
      ],
      "application/vnd.jupyter.widget-view+json": {
       "version_major": 2,
       "version_minor": 0,
       "model_id": "44409731802b4975b7d1c1bd1c6bd3e6"
      }
     },
     "execution_count": 89,
     "metadata": {},
     "output_type": "execute_result"
    }
   ],
   "execution_count": 89
  },
  {
   "metadata": {
    "ExecuteTime": {
     "end_time": "2024-11-14T12:08:49.575094Z",
     "start_time": "2024-11-14T12:08:49.474254Z"
    }
   },
   "cell_type": "code",
   "source": [
    "gudhi.plot_persistence_diagram(loopy_flight_cluster_pers[0].persistence())\n",
    "[plt.show()]"
   ],
   "id": "72e68db0661bfaeb",
   "outputs": [
    {
     "data": {
      "text/plain": [
       "<Figure size 640x480 with 1 Axes>"
      ],
      "image/png": "[encoded data removed]"
     },
     "metadata": {},
     "output_type": "display_data"
    },
    {
     "data": {
      "text/plain": [
       "[None]"
      ]
     },
     "execution_count": 85,
     "metadata": {},
     "output_type": "execute_result"
    }
   ],
   "execution_count": 85
  },
  {
   "metadata": {},
   "cell_type": "markdown",
   "source": [
    "* cluster 1: 2 cycles\n",
    "* cluster 2: 1 cycle, 1 small cycle\n",
    "* cluster 3: 1 cycle\n",
    "* cluster 4: seemingly random?\n",
    "* cluster 5: 1 small cycle\n",
    "* cluster 6: 1 or multiple small cycles\n",
    "* cluster 7: 1 cycle\n",
    "* cluster 8: 1 large cycle\n",
    "* cluster 9: 2 cycles\n",
    "* cluster 10: 2 large cycles"
   ],
   "id": "1f646b6bb95a26e2"
  },
  {
   "metadata": {},
   "cell_type": "code",
   "outputs": [],
   "execution_count": null,
   "source": "",
   "id": "5193b2443ec4250e"
  }
 ],
 "metadata": {
  "kernelspec": {
   "display_name": "Python 3",
   "language": "python",
   "name": "python3"
  },
  "language_info": {
   "codemirror_mode": {
    "name": "ipython",
    "version": 2
   },
   "file_extension": ".py",
   "mimetype": "text/x-python",
   "name": "python",
   "nbconvert_exporter": "python",
   "pygments_lexer": "ipython2",
   "version": "2.7.6"
  }
 },
 "nbformat": 4,
 "nbformat_minor": 5
}
