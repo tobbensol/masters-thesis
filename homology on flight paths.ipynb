{
 "cells": [
  {
   "cell_type": "code",
   "id": "initial_id",
   "metadata": {
    "collapsed": true,
    "ExecuteTime": {
     "end_time": "2024-10-17T21:08:26.742581Z",
     "start_time": "2024-10-17T21:08:26.715089Z"
    }
   },
   "source": [
    "import numpy as np\n",
    "\n",
    "from functions.data_loading import get_filtered_data_range, get_data_range, get_flight_persistence\n",
    "from functions.data_filtering import complete_flight_filter\n",
    "\n",
    "from datetime import datetime"
   ],
   "outputs": [],
   "execution_count": 3
  },
  {
   "metadata": {
    "ExecuteTime": {
     "end_time": "2024-10-17T21:09:52.862574Z",
     "start_time": "2024-10-17T21:08:26.983635Z"
    }
   },
   "cell_type": "code",
   "source": [
    "origin = \"bergen\"\n",
    "destination = \"oslo\"\n",
    "\n",
    "unfiltered_data, file_name = get_data_range(origin, destination, datetime(year=2023, month=1, day=1), datetime(year=2024, month=1, day=1))\n",
    "print(file_name)\n",
    "filtered_flights, file_name = get_filtered_data_range(unfiltered_data, file_name, complete_flight_filter(origin, destination))\n",
    "print(file_name)\n",
    "persistences, _ = get_flight_persistence(filtered_flights, file_name)\n",
    "print(_)"
   ],
   "id": "de28a2e72f5d6107",
   "outputs": [
    {
     "name": "stdout",
     "output_type": "stream",
     "text": [
      "bergen-oslo-2023-01-01-2024-01-01.pkl\n",
      "complete_flights/bergen-oslo-2023-01-01-2024-01-01.pkl\n",
      "persistence/complete_flights/bergen-oslo-2023-01-01-2024-01-01.pkl\n"
     ]
    }
   ],
   "execution_count": 4
  },
  {
   "metadata": {
    "ExecuteTime": {
     "end_time": "2024-10-17T21:09:56.915491Z",
     "start_time": "2024-10-17T21:09:53.154574Z"
    }
   },
   "cell_type": "code",
   "source": "filtered_flights",
   "id": "4adb1114aa36f80b",
   "outputs": [
    {
     "data": {
      "text/plain": [
       "   icao24 callsign  count\n",
       "0  47875a   NOZ605  30260\n",
       "1  478dd9     AKK2  29821\n",
       "2  47875c   NOZ601  24104\n",
       "3  47a05e   NOZ605  23048\n",
       "4  4ac958   SAS252  22801\n",
       "5  4ac9ec   SAS238  22763\n",
       "6  4acaa3   SAS78A  21955\n",
       "7  47875a   NOZ601  21791\n",
       "8  47a31a   NOZ605  20963\n",
       "9  47947c   NOZ605  20304"
      ],
      "text/html": [
       "<h4><b>Traffic</b></h4> with 1502 identifiers<style type=\"text/css\">\n",
       "#T_b19ff_row0_col0 {\n",
       "  width: 10em;\n",
       "  background: linear-gradient(90deg, #5fba7d 100.0%, transparent 100.0%);\n",
       "}\n",
       "#T_b19ff_row1_col0 {\n",
       "  width: 10em;\n",
       "  background: linear-gradient(90deg, #5fba7d 98.5%, transparent 98.5%);\n",
       "}\n",
       "#T_b19ff_row2_col0 {\n",
       "  width: 10em;\n",
       "  background: linear-gradient(90deg, #5fba7d 79.7%, transparent 79.7%);\n",
       "}\n",
       "#T_b19ff_row3_col0 {\n",
       "  width: 10em;\n",
       "  background: linear-gradient(90deg, #5fba7d 76.2%, transparent 76.2%);\n",
       "}\n",
       "#T_b19ff_row4_col0 {\n",
       "  width: 10em;\n",
       "  background: linear-gradient(90deg, #5fba7d 75.4%, transparent 75.4%);\n",
       "}\n",
       "#T_b19ff_row5_col0 {\n",
       "  width: 10em;\n",
       "  background: linear-gradient(90deg, #5fba7d 75.2%, transparent 75.2%);\n",
       "}\n",
       "#T_b19ff_row6_col0 {\n",
       "  width: 10em;\n",
       "  background: linear-gradient(90deg, #5fba7d 72.6%, transparent 72.6%);\n",
       "}\n",
       "#T_b19ff_row7_col0 {\n",
       "  width: 10em;\n",
       "  background: linear-gradient(90deg, #5fba7d 72.0%, transparent 72.0%);\n",
       "}\n",
       "#T_b19ff_row8_col0 {\n",
       "  width: 10em;\n",
       "  background: linear-gradient(90deg, #5fba7d 69.3%, transparent 69.3%);\n",
       "}\n",
       "#T_b19ff_row9_col0 {\n",
       "  width: 10em;\n",
       "  background: linear-gradient(90deg, #5fba7d 67.1%, transparent 67.1%);\n",
       "}\n",
       "</style>\n",
       "<table id=\"T_b19ff\">\n",
       "  <thead>\n",
       "    <tr>\n",
       "      <th class=\"blank\" >&nbsp;</th>\n",
       "      <th class=\"blank level0\" >&nbsp;</th>\n",
       "      <th id=\"T_b19ff_level0_col0\" class=\"col_heading level0 col0\" >count</th>\n",
       "    </tr>\n",
       "    <tr>\n",
       "      <th class=\"index_name level0\" >icao24</th>\n",
       "      <th class=\"index_name level1\" >callsign</th>\n",
       "      <th class=\"blank col0\" >&nbsp;</th>\n",
       "    </tr>\n",
       "  </thead>\n",
       "  <tbody>\n",
       "    <tr>\n",
       "      <th id=\"T_b19ff_level0_row0\" class=\"row_heading level0 row0\" >47875a</th>\n",
       "      <th id=\"T_b19ff_level1_row0\" class=\"row_heading level1 row0\" >NOZ605</th>\n",
       "      <td id=\"T_b19ff_row0_col0\" class=\"data row0 col0\" >30260</td>\n",
       "    </tr>\n",
       "    <tr>\n",
       "      <th id=\"T_b19ff_level0_row1\" class=\"row_heading level0 row1\" >478dd9</th>\n",
       "      <th id=\"T_b19ff_level1_row1\" class=\"row_heading level1 row1\" >AKK2</th>\n",
       "      <td id=\"T_b19ff_row1_col0\" class=\"data row1 col0\" >29821</td>\n",
       "    </tr>\n",
       "    <tr>\n",
       "      <th id=\"T_b19ff_level0_row2\" class=\"row_heading level0 row2\" >47875c</th>\n",
       "      <th id=\"T_b19ff_level1_row2\" class=\"row_heading level1 row2\" >NOZ601</th>\n",
       "      <td id=\"T_b19ff_row2_col0\" class=\"data row2 col0\" >24104</td>\n",
       "    </tr>\n",
       "    <tr>\n",
       "      <th id=\"T_b19ff_level0_row3\" class=\"row_heading level0 row3\" >47a05e</th>\n",
       "      <th id=\"T_b19ff_level1_row3\" class=\"row_heading level1 row3\" >NOZ605</th>\n",
       "      <td id=\"T_b19ff_row3_col0\" class=\"data row3 col0\" >23048</td>\n",
       "    </tr>\n",
       "    <tr>\n",
       "      <th id=\"T_b19ff_level0_row4\" class=\"row_heading level0 row4\" >4ac958</th>\n",
       "      <th id=\"T_b19ff_level1_row4\" class=\"row_heading level1 row4\" >SAS252</th>\n",
       "      <td id=\"T_b19ff_row4_col0\" class=\"data row4 col0\" >22801</td>\n",
       "    </tr>\n",
       "    <tr>\n",
       "      <th id=\"T_b19ff_level0_row5\" class=\"row_heading level0 row5\" >4ac9ec</th>\n",
       "      <th id=\"T_b19ff_level1_row5\" class=\"row_heading level1 row5\" >SAS238</th>\n",
       "      <td id=\"T_b19ff_row5_col0\" class=\"data row5 col0\" >22763</td>\n",
       "    </tr>\n",
       "    <tr>\n",
       "      <th id=\"T_b19ff_level0_row6\" class=\"row_heading level0 row6\" >4acaa3</th>\n",
       "      <th id=\"T_b19ff_level1_row6\" class=\"row_heading level1 row6\" >SAS78A</th>\n",
       "      <td id=\"T_b19ff_row6_col0\" class=\"data row6 col0\" >21955</td>\n",
       "    </tr>\n",
       "    <tr>\n",
       "      <th id=\"T_b19ff_level0_row7\" class=\"row_heading level0 row7\" >47875a</th>\n",
       "      <th id=\"T_b19ff_level1_row7\" class=\"row_heading level1 row7\" >NOZ601</th>\n",
       "      <td id=\"T_b19ff_row7_col0\" class=\"data row7 col0\" >21791</td>\n",
       "    </tr>\n",
       "    <tr>\n",
       "      <th id=\"T_b19ff_level0_row8\" class=\"row_heading level0 row8\" >47a31a</th>\n",
       "      <th id=\"T_b19ff_level1_row8\" class=\"row_heading level1 row8\" >NOZ605</th>\n",
       "      <td id=\"T_b19ff_row8_col0\" class=\"data row8 col0\" >20963</td>\n",
       "    </tr>\n",
       "    <tr>\n",
       "      <th id=\"T_b19ff_level0_row9\" class=\"row_heading level0 row9\" >47947c</th>\n",
       "      <th id=\"T_b19ff_level1_row9\" class=\"row_heading level1 row9\" >NOZ605</th>\n",
       "      <td id=\"T_b19ff_row9_col0\" class=\"data row9 col0\" >20304</td>\n",
       "    </tr>\n",
       "  </tbody>\n",
       "</table>\n"
      ]
     },
     "execution_count": 5,
     "metadata": {},
     "output_type": "execute_result"
    }
   ],
   "execution_count": 5
  },
  {
   "metadata": {
    "ExecuteTime": {
     "end_time": "2024-10-17T21:11:24.338568Z",
     "start_time": "2024-10-17T21:10:40.227982Z"
    }
   },
   "cell_type": "code",
   "source": [
    "circly_flights=[]\n",
    "for i, tree in enumerate(persistences):\n",
    "    persistence = tree.persistence()\n",
    "\n",
    "    more_than_00001 = len(list(filter(lambda x: x[0] == 1 and x[1][1] - x[1][0] > 0.0001, persistence)))\n",
    "    more_than_00005 = len(list(filter(lambda x: x[0] == 1 and x[1][1] - x[1][0] > 0.0005, persistence)))\n",
    "    if more_than_00001 > 0:\n",
    "        circly_flights.append(i)"
   ],
   "id": "16a987042baf860a",
   "outputs": [],
   "execution_count": 6
  },
  {
   "metadata": {
    "ExecuteTime": {
     "end_time": "2024-10-17T21:14:45.238478Z",
     "start_time": "2024-10-17T21:11:24.386474Z"
    }
   },
   "cell_type": "code",
   "source": [
    "from collections import Counter\n",
    "\n",
    "codes = Counter()\n",
    "for flight in circly_flights:\n",
    "    codes.update(filtered_flights[flight].squawk)\n",
    "\n",
    "codes"
   ],
   "id": "568248bca5425c1b",
   "outputs": [
    {
     "data": {
      "text/plain": [
       "Counter({None: 50,\n",
       "         '5023': 1,\n",
       "         '2242': 1,\n",
       "         '3774': 1,\n",
       "         '2567': 1,\n",
       "         '2521': 2,\n",
       "         '2532': 1,\n",
       "         '2535': 1,\n",
       "         '6051': 1,\n",
       "         '4251': 1,\n",
       "         '6441': 1,\n",
       "         '5236': 1,\n",
       "         '6231': 1,\n",
       "         '0255': 1,\n",
       "         '2560': 1,\n",
       "         '3460': 1,\n",
       "         '7673': 1,\n",
       "         '0250': 1,\n",
       "         '0273': 1,\n",
       "         '0422': 1})"
      ]
     },
     "execution_count": 7,
     "metadata": {},
     "output_type": "execute_result"
    }
   ],
   "execution_count": 7
  },
  {
   "metadata": {
    "ExecuteTime": {
     "end_time": "2024-10-17T21:15:00.333392Z",
     "start_time": "2024-10-17T21:14:45.431037Z"
    }
   },
   "cell_type": "code",
   "source": [
    "bool_array = np.zeros(len(persistences))\n",
    "for i in circly_flights:\n",
    "    bool_array[i] = 1\n",
    "\n",
    "from functions.data_filtering import filter_by_bools, filter_flights\n",
    "loopy_flights = filter_flights(filter_by_bools(bool_array), filtered_flights)\n",
    "\n",
    "loopy_flights.map_leaflet()"
   ],
   "id": "72c14bb0acd5c9a4",
   "outputs": [
    {
     "data": {
      "text/plain": [
       "Map(center=[60.27090973475648, 8.711853575962405], controls=(ZoomControl(options=['position', 'zoom_in_text', …"
      ],
      "application/vnd.jupyter.widget-view+json": {
       "version_major": 2,
       "version_minor": 0,
       "model_id": "dae96a4475af40b990b02b499cc9ce5f"
      }
     },
     "execution_count": 8,
     "metadata": {},
     "output_type": "execute_result"
    }
   ],
   "execution_count": 8
  },
  {
   "metadata": {
    "ExecuteTime": {
     "end_time": "2024-10-17T21:15:00.690921Z",
     "start_time": "2024-10-17T21:15:00.361916Z"
    }
   },
   "cell_type": "code",
   "source": "loopy_flights[38].map_leaflet()",
   "id": "21d354ebd3f25d0e",
   "outputs": [
    {
     "data": {
      "text/plain": [
       "Map(center=[60.26808127031064, 8.759201967455873], controls=(ZoomControl(options=['position', 'zoom_in_text', …"
      ],
      "application/vnd.jupyter.widget-view+json": {
       "version_major": 2,
       "version_minor": 0,
       "model_id": "a5441534579945f28d973b91feeea96e"
      }
     },
     "execution_count": 9,
     "metadata": {},
     "output_type": "execute_result"
    }
   ],
   "execution_count": 9
  },
  {
   "metadata": {},
   "cell_type": "code",
   "outputs": [],
   "execution_count": null,
   "source": "",
   "id": "d156cc0f89f834a7"
  }
 ],
 "metadata": {
  "kernelspec": {
   "display_name": "Python 3",
   "language": "python",
   "name": "python3"
  },
  "language_info": {
   "codemirror_mode": {
    "name": "ipython",
    "version": 2
   },
   "file_extension": ".py",
   "mimetype": "text/x-python",
   "name": "python",
   "nbconvert_exporter": "python",
   "pygments_lexer": "ipython2",
   "version": "2.7.6"
  }
 },
 "nbformat": 4,
 "nbformat_minor": 5
}
