{
 "cells": [
  {
   "cell_type": "code",
   "id": "initial_id",
   "metadata": {
    "collapsed": true,
    "ExecuteTime": {
     "end_time": "2024-10-10T14:23:21.554308Z",
     "start_time": "2024-10-10T14:23:16.489127Z"
    }
   },
   "source": [
    "import gudhi\n",
    "import numpy as np\n",
    "\n",
    "from functions.data_loading import get_filtered_data_range\n",
    "from functions.data_loading import get_flight_persistances\n",
    "from functions.data_filtering import complete_flight_filter\n",
    "\n",
    "from datetime import datetime\n",
    "from traffic.core import Traffic, Flight"
   ],
   "outputs": [],
   "execution_count": 1
  },
  {
   "metadata": {
    "ExecuteTime": {
     "end_time": "2024-10-10T14:23:28.724361Z",
     "start_time": "2024-10-10T14:23:21.556314Z"
    }
   },
   "cell_type": "code",
   "source": [
    "origin = \"bergen\"\n",
    "destination = \"oslo\"\n",
    "\n",
    "filtered_flights: Traffic = get_filtered_data_range(origin, destination, datetime(year=2023, month=1, day=1), datetime(year=2024, month=1, day=1), complete_flight_filter(origin, destination))\n",
    "persistences = get_flight_persistances(filtered_flights, \"persistences\")"
   ],
   "id": "de28a2e72f5d6107",
   "outputs": [],
   "execution_count": 2
  },
  {
   "metadata": {
    "ExecuteTime": {
     "end_time": "2024-10-10T14:23:44.158651Z",
     "start_time": "2024-10-10T14:23:32.062705Z"
    }
   },
   "cell_type": "code",
   "source": [
    "for i, tree in enumerate(persistences):\n",
    "    persistence = tree.persistence()\n",
    "\n",
    "    more_than_00001 = len(list(filter(lambda x: x[0] == 1 and x[1][1] - x[1][0] > 0.0001, persistence)))\n",
    "    more_than_00005 = len(list(filter(lambda x: x[0] == 1 and x[1][1] - x[1][0] > 0.0005, persistence)))\n",
    "    if more_than_00001 > 0:\n",
    "        print(f\"{i}:\\n{more_than_00001}, {more_than_00005}\")"
   ],
   "id": "51633f045a2e78a0",
   "outputs": [
    {
     "name": "stdout",
     "output_type": "stream",
     "text": [
      "197:\n",
      "2, 1\n",
      "270:\n",
      "1, 0\n",
      "295:\n",
      "1, 1\n",
      "448:\n",
      "2, 2\n",
      "485:\n",
      "1, 0\n",
      "762:\n",
      "1, 1\n",
      "774:\n",
      "1, 1\n",
      "786:\n",
      "2, 2\n",
      "828:\n",
      "4, 3\n",
      "859:\n",
      "1, 1\n",
      "889:\n",
      "1, 1\n",
      "968:\n",
      "2, 2\n",
      "983:\n",
      "2, 2\n",
      "1028:\n",
      "2, 2\n",
      "1116:\n",
      "1, 1\n",
      "1133:\n",
      "1, 1\n",
      "1154:\n",
      "1, 1\n",
      "1179:\n",
      "4, 3\n",
      "1246:\n",
      "2, 1\n",
      "1260:\n",
      "1, 1\n",
      "1398:\n",
      "1, 1\n",
      "1418:\n",
      "1, 1\n",
      "1436:\n",
      "2, 2\n",
      "1468:\n",
      "4, 3\n",
      "1539:\n",
      "2, 2\n",
      "1600:\n",
      "1, 1\n",
      "1721:\n",
      "1, 1\n",
      "1735:\n",
      "4, 2\n",
      "1895:\n",
      "2, 1\n",
      "1929:\n",
      "1, 1\n",
      "2043:\n",
      "1, 1\n",
      "2321:\n",
      "1, 1\n",
      "2350:\n",
      "1, 1\n",
      "2364:\n",
      "1, 1\n",
      "2367:\n",
      "1, 1\n",
      "2417:\n",
      "1, 1\n",
      "2597:\n",
      "2, 2\n",
      "2663:\n",
      "3, 2\n",
      "2709:\n",
      "2, 1\n",
      "2777:\n",
      "4, 1\n",
      "2856:\n",
      "1, 1\n",
      "2866:\n",
      "1, 1\n",
      "2894:\n",
      "1, 1\n",
      "2940:\n",
      "1, 0\n",
      "2984:\n",
      "1, 0\n",
      "3068:\n",
      "2, 1\n",
      "3105:\n",
      "1, 1\n",
      "3122:\n",
      "1, 1\n",
      "3144:\n",
      "1, 1\n",
      "3146:\n",
      "1, 1\n"
     ]
    }
   ],
   "execution_count": 3
  },
  {
   "metadata": {
    "ExecuteTime": {
     "end_time": "2024-10-10T14:07:21.047573Z",
     "start_time": "2024-10-10T14:07:19.034443Z"
    }
   },
   "cell_type": "code",
   "source": "filtered_flights[828].map_leaflet()",
   "id": "568248bca5425c1b",
   "outputs": [
    {
     "data": {
      "text/plain": [
       "Map(center=[60.4165869879383, 9.050312566266495], controls=(ZoomControl(options=['position', 'zoom_in_text', '…"
      ],
      "application/vnd.jupyter.widget-view+json": {
       "version_major": 2,
       "version_minor": 0,
       "model_id": "ac3f9b228b234d2fbdf8f38b27da40ae"
      }
     },
     "execution_count": 16,
     "metadata": {},
     "output_type": "execute_result"
    }
   ],
   "execution_count": 16
  },
  {
   "metadata": {
    "ExecuteTime": {
     "end_time": "2024-10-06T22:47:39.952016Z",
     "start_time": "2024-10-06T22:47:39.937459Z"
    }
   },
   "cell_type": "code",
   "source": "",
   "id": "44cedc195ad22780",
   "outputs": [],
   "execution_count": null
  }
 ],
 "metadata": {
  "kernelspec": {
   "display_name": "Python 3",
   "language": "python",
   "name": "python3"
  },
  "language_info": {
   "codemirror_mode": {
    "name": "ipython",
    "version": 2
   },
   "file_extension": ".py",
   "mimetype": "text/x-python",
   "name": "python",
   "nbconvert_exporter": "python",
   "pygments_lexer": "ipython2",
   "version": "2.7.6"
  }
 },
 "nbformat": 4,
 "nbformat_minor": 5
}
