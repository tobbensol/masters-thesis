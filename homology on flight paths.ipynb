{
 "cells": [
  {
   "cell_type": "code",
   "id": "initial_id",
   "metadata": {
    "collapsed": true,
    "ExecuteTime": {
     "end_time": "2024-10-31T19:55:23.545662Z",
     "start_time": "2024-10-31T19:55:17.944808Z"
    }
   },
   "source": [
    "import gudhi\n",
    "import numpy as np\n",
    "\n",
    "from functions.data_loading import get_filtered_data_range, get_data_range, get_flight_persistence\n",
    "from functions.data_filtering import complete_flight_filter\n",
    "from functions.data_filtering import filter_by_bools, filter_flights\n",
    "\n",
    "from datetime import datetime\n",
    "from collections import Counter\n",
    "from tqdm import tqdm\n",
    "from traffic.core import Traffic, Flight"
   ],
   "outputs": [],
   "execution_count": 1
  },
  {
   "metadata": {
    "ExecuteTime": {
     "end_time": "2024-10-31T21:12:10.854165Z",
     "start_time": "2024-10-31T21:08:32.942510Z"
    }
   },
   "cell_type": "code",
   "source": [
    "origin = \"bergen\"\n",
    "destination = \"oslo\"\n",
    "\n",
    "unfiltered_data, file_name = get_data_range(origin, destination, datetime(year=2023, month=1, day=1), datetime(year=2024, month=1, day=1))\n",
    "filtered_flights, file_name = get_filtered_data_range(unfiltered_data, file_name, complete_flight_filter(origin, destination))\n",
    "persistences, _ = get_flight_persistence(filtered_flights, file_name)"
   ],
   "id": "de28a2e72f5d6107",
   "outputs": [
    {
     "name": "stdout",
     "output_type": "stream",
     "text": [
      "data/complete_flights/oslo-bergen-2023-01-01-2024-01-01.pkl\n"
     ]
    },
    {
     "ename": "TypeError",
     "evalue": "boolean value of NA is ambiguous",
     "output_type": "error",
     "traceback": [
      "\u001B[1;31m---------------------------------------------------------------------------\u001B[0m",
      "\u001B[1;31mTypeError\u001B[0m                                 Traceback (most recent call last)",
      "Cell \u001B[1;32mIn[4], line 5\u001B[0m\n\u001B[0;32m      2\u001B[0m destination \u001B[38;5;241m=\u001B[39m \u001B[38;5;124m\"\u001B[39m\u001B[38;5;124mbergen\u001B[39m\u001B[38;5;124m\"\u001B[39m\n\u001B[0;32m      4\u001B[0m unfiltered_data, file_name \u001B[38;5;241m=\u001B[39m get_data_range(origin, destination, datetime(year\u001B[38;5;241m=\u001B[39m\u001B[38;5;241m2023\u001B[39m, month\u001B[38;5;241m=\u001B[39m\u001B[38;5;241m1\u001B[39m, day\u001B[38;5;241m=\u001B[39m\u001B[38;5;241m1\u001B[39m), datetime(year\u001B[38;5;241m=\u001B[39m\u001B[38;5;241m2024\u001B[39m, month\u001B[38;5;241m=\u001B[39m\u001B[38;5;241m1\u001B[39m, day\u001B[38;5;241m=\u001B[39m\u001B[38;5;241m1\u001B[39m))\n\u001B[1;32m----> 5\u001B[0m filtered_flights, file_name \u001B[38;5;241m=\u001B[39m \u001B[43mget_filtered_data_range\u001B[49m\u001B[43m(\u001B[49m\u001B[43munfiltered_data\u001B[49m\u001B[43m,\u001B[49m\u001B[43m \u001B[49m\u001B[43mfile_name\u001B[49m\u001B[43m,\u001B[49m\u001B[43m \u001B[49m\u001B[43mcomplete_flight_filter\u001B[49m\u001B[43m(\u001B[49m\u001B[43morigin\u001B[49m\u001B[43m,\u001B[49m\u001B[43m \u001B[49m\u001B[43mdestination\u001B[49m\u001B[43m)\u001B[49m\u001B[43m)\u001B[49m\n\u001B[0;32m      6\u001B[0m persistences, _ \u001B[38;5;241m=\u001B[39m get_flight_persistence(filtered_flights, file_name)\n",
      "File \u001B[1;32m~\\Desktop\\programering\\masters-thesis\\functions\\data_loading.py:74\u001B[0m, in \u001B[0;36mget_filtered_data_range\u001B[1;34m(traffic, file_name, f)\u001B[0m\n\u001B[0;32m     72\u001B[0m         \u001B[38;5;28;01mreturn\u001B[39;00m pickle\u001B[38;5;241m.\u001B[39mload(file), file_name\n\u001B[0;32m     73\u001B[0m \u001B[38;5;28mprint\u001B[39m(path)\n\u001B[1;32m---> 74\u001B[0m filtered_flights \u001B[38;5;241m=\u001B[39m \u001B[43mfilter_flights\u001B[49m\u001B[43m(\u001B[49m\u001B[43mf\u001B[49m\u001B[43m,\u001B[49m\u001B[43m \u001B[49m\u001B[43mtraffic\u001B[49m\u001B[43m)\u001B[49m\n\u001B[0;32m     76\u001B[0m os\u001B[38;5;241m.\u001B[39mmakedirs(os\u001B[38;5;241m.\u001B[39mpath\u001B[38;5;241m.\u001B[39mdirname(path), exist_ok\u001B[38;5;241m=\u001B[39m\u001B[38;5;28;01mTrue\u001B[39;00m)\n\u001B[0;32m     77\u001B[0m \u001B[38;5;66;03m# and save the result\u001B[39;00m\n",
      "File \u001B[1;32m~\\Desktop\\programering\\masters-thesis\\functions\\data_filtering.py:17\u001B[0m, in \u001B[0;36mfilter_flights\u001B[1;34m(f, flights)\u001B[0m\n\u001B[0;32m     15\u001B[0m \u001B[38;5;28;01mdef\u001B[39;00m \u001B[38;5;21mfilter_flights\u001B[39m(f: Callable[[Flight], \u001B[38;5;28mbool\u001B[39m], flights: Traffic) \u001B[38;5;241m-\u001B[39m\u001B[38;5;241m>\u001B[39m Traffic:\n\u001B[0;32m     16\u001B[0m     filtered_flights: Iterable[Flight] \u001B[38;5;241m=\u001B[39m \u001B[38;5;28mfilter\u001B[39m(f, flights)\n\u001B[1;32m---> 17\u001B[0m     filtered_traffic: Traffic \u001B[38;5;241m=\u001B[39m \u001B[43mTraffic\u001B[49m\u001B[38;5;241;43m.\u001B[39;49m\u001B[43mfrom_flights\u001B[49m\u001B[43m(\u001B[49m\u001B[43mfiltered_flights\u001B[49m\u001B[43m)\u001B[49m\n\u001B[0;32m     19\u001B[0m     \u001B[38;5;28;01mreturn\u001B[39;00m filtered_traffic\n",
      "File \u001B[1;32m~\\Desktop\\programering\\masters-thesis\\venv\\Lib\\site-packages\\traffic\\core\\traffic.py:117\u001B[0m, in \u001B[0;36mTraffic.from_flights\u001B[1;34m(cls, flights)\u001B[0m\n\u001B[0;32m    109\u001B[0m \u001B[38;5;129m@classmethod\u001B[39m\n\u001B[0;32m    110\u001B[0m \u001B[38;5;28;01mdef\u001B[39;00m \u001B[38;5;21mfrom_flights\u001B[39m(\n\u001B[0;32m    111\u001B[0m     \u001B[38;5;28mcls\u001B[39m, flights: Iterable[Optional[Flight]]\n\u001B[0;32m    112\u001B[0m ) \u001B[38;5;241m-\u001B[39m\u001B[38;5;241m>\u001B[39m Optional[\u001B[38;5;124m\"\u001B[39m\u001B[38;5;124mTraffic\u001B[39m\u001B[38;5;124m\"\u001B[39m]:\n\u001B[0;32m    113\u001B[0m \u001B[38;5;250m    \u001B[39m\u001B[38;5;124;03m\"\"\"\u001B[39;00m\n\u001B[0;32m    114\u001B[0m \u001B[38;5;124;03m    Creates a Traffic structure from all flights passed as an\u001B[39;00m\n\u001B[0;32m    115\u001B[0m \u001B[38;5;124;03m    iterator or iterable.\u001B[39;00m\n\u001B[0;32m    116\u001B[0m \u001B[38;5;124;03m    \"\"\"\u001B[39;00m\n\u001B[1;32m--> 117\u001B[0m     cumul \u001B[38;5;241m=\u001B[39m \u001B[43m[\u001B[49m\u001B[43mflight\u001B[49m\u001B[38;5;241;43m.\u001B[39;49m\u001B[43mdata\u001B[49m\u001B[43m \u001B[49m\u001B[38;5;28;43;01mfor\u001B[39;49;00m\u001B[43m \u001B[49m\u001B[43mflight\u001B[49m\u001B[43m \u001B[49m\u001B[38;5;129;43;01min\u001B[39;49;00m\u001B[43m \u001B[49m\u001B[43mflights\u001B[49m\u001B[43m \u001B[49m\u001B[38;5;28;43;01mif\u001B[39;49;00m\u001B[43m \u001B[49m\u001B[43mflight\u001B[49m\u001B[43m \u001B[49m\u001B[38;5;129;43;01mis\u001B[39;49;00m\u001B[43m \u001B[49m\u001B[38;5;129;43;01mnot\u001B[39;49;00m\u001B[43m \u001B[49m\u001B[38;5;28;43;01mNone\u001B[39;49;00m\u001B[43m]\u001B[49m\n\u001B[0;32m    118\u001B[0m     \u001B[38;5;28;01mif\u001B[39;00m \u001B[38;5;28mlen\u001B[39m(cumul) \u001B[38;5;241m==\u001B[39m \u001B[38;5;241m0\u001B[39m:\n\u001B[0;32m    119\u001B[0m         \u001B[38;5;28;01mreturn\u001B[39;00m \u001B[38;5;28;01mNone\u001B[39;00m\n",
      "File \u001B[1;32m~\\Desktop\\programering\\masters-thesis\\functions\\data_filtering.py:33\u001B[0m, in \u001B[0;36mcomplete_flight_filter.<locals>.complete_flights\u001B[1;34m(flight)\u001B[0m\n\u001B[0;32m     31\u001B[0m \u001B[38;5;66;03m# just the value I found filtered out the values the best\u001B[39;00m\n\u001B[0;32m     32\u001B[0m epsilon \u001B[38;5;241m=\u001B[39m \u001B[38;5;241m0.03\u001B[39m\n\u001B[1;32m---> 33\u001B[0m \u001B[38;5;28;01mreturn\u001B[39;00m \u001B[43m(\u001B[49m\u001B[38;5;28;43mabs\u001B[39;49m\u001B[43m(\u001B[49m\u001B[43mdeparture_airport\u001B[49m\u001B[38;5;241;43m.\u001B[39;49m\u001B[43mlatitude\u001B[49m\u001B[43m \u001B[49m\u001B[38;5;241;43m-\u001B[39;49m\u001B[43m \u001B[49m\u001B[43mstart_latitude\u001B[49m\u001B[43m)\u001B[49m\u001B[43m \u001B[49m\u001B[38;5;241;43m<\u001B[39;49m\u001B[43m \u001B[49m\u001B[43mepsilon\u001B[49m\u001B[43m)\u001B[49m\u001B[43m \u001B[49m\u001B[38;5;129;43;01mand\u001B[39;49;00m\u001B[43m \u001B[49m\u001B[43m\\\u001B[49m\n\u001B[0;32m     34\u001B[0m \u001B[43m    \u001B[49m\u001B[43m(\u001B[49m\u001B[38;5;28;43mabs\u001B[39;49m\u001B[43m(\u001B[49m\u001B[43mdeparture_airport\u001B[49m\u001B[38;5;241;43m.\u001B[39;49m\u001B[43mlongitude\u001B[49m\u001B[43m \u001B[49m\u001B[38;5;241;43m-\u001B[39;49m\u001B[43m \u001B[49m\u001B[43mstart_longitude\u001B[49m\u001B[43m)\u001B[49m\u001B[43m \u001B[49m\u001B[38;5;241;43m<\u001B[39;49m\u001B[43m \u001B[49m\u001B[43mepsilon\u001B[49m\u001B[43m)\u001B[49m\u001B[43m \u001B[49m\u001B[38;5;129;43;01mand\u001B[39;49;00m\u001B[43m \u001B[49m\u001B[43m\\\u001B[49m\n\u001B[0;32m     35\u001B[0m \u001B[43m    \u001B[49m\u001B[43m(\u001B[49m\u001B[38;5;28;43mabs\u001B[39;49m\u001B[43m(\u001B[49m\u001B[43marrival_airport\u001B[49m\u001B[38;5;241;43m.\u001B[39;49m\u001B[43mlatitude\u001B[49m\u001B[43m \u001B[49m\u001B[38;5;241;43m-\u001B[39;49m\u001B[43m \u001B[49m\u001B[43mend_latitude\u001B[49m\u001B[43m)\u001B[49m\u001B[43m \u001B[49m\u001B[38;5;241;43m<\u001B[39;49m\u001B[43m \u001B[49m\u001B[43mepsilon\u001B[49m\u001B[43m)\u001B[49m\u001B[43m \u001B[49m\u001B[38;5;129;43;01mand\u001B[39;49;00m\u001B[43m \u001B[49m\u001B[43m\\\u001B[49m\n\u001B[0;32m     36\u001B[0m \u001B[43m    \u001B[49m\u001B[43m(\u001B[49m\u001B[38;5;28;43mabs\u001B[39;49m\u001B[43m(\u001B[49m\u001B[43marrival_airport\u001B[49m\u001B[38;5;241;43m.\u001B[39;49m\u001B[43mlongitude\u001B[49m\u001B[43m \u001B[49m\u001B[38;5;241;43m-\u001B[39;49m\u001B[43m \u001B[49m\u001B[43mend_longitude\u001B[49m\u001B[43m)\u001B[49m\u001B[43m \u001B[49m\u001B[38;5;241;43m<\u001B[39;49m\u001B[43m \u001B[49m\u001B[43mepsilon\u001B[49m\u001B[43m)\u001B[49m\n",
      "File \u001B[1;32mmissing.pyx:392\u001B[0m, in \u001B[0;36mpandas._libs.missing.NAType.__bool__\u001B[1;34m()\u001B[0m\n",
      "\u001B[1;31mTypeError\u001B[0m: boolean value of NA is ambiguous"
     ]
    }
   ],
   "execution_count": 4
  },
  {
   "metadata": {},
   "cell_type": "code",
   "source": [
    "circly_flights=[]\n",
    "for i, tree in enumerate(persistences):\n",
    "    persistence = tree.persistence()\n",
    "\n",
    "    more_than_00001 = len([x for x in persistence if  x[0] == 1 and x[1][1] - x[1][0] > 0.0001])\n",
    "    #more_than_00005 = len([x for x in persistence if  x[0] == 1 and x[1][1] - x[1][0] > 0.0005])\n",
    "    if more_than_00001 > 0:\n",
    "        circly_flights.append(i)"
   ],
   "id": "16a987042baf860a",
   "outputs": [],
   "execution_count": null
  },
  {
   "metadata": {},
   "cell_type": "code",
   "source": [
    "\"\"\"\n",
    "codes = Counter()\n",
    "for flight in circly_flights:\n",
    "    codes.update(filtered_flights[flight].squawk)\n",
    "\n",
    "codes\n",
    "\"\"\""
   ],
   "id": "568248bca5425c1b",
   "outputs": [],
   "execution_count": null
  },
  {
   "metadata": {},
   "cell_type": "code",
   "source": [
    "bool_array = np.zeros(len(persistences))\n",
    "for i in circly_flights:\n",
    "    bool_array[i] = 1\n",
    "\n",
    "loopy_flights = filter_flights(filter_by_bools(bool_array), filtered_flights)\n",
    "loopy_flights.map_leaflet()"
   ],
   "id": "72c14bb0acd5c9a4",
   "outputs": [],
   "execution_count": null
  },
  {
   "metadata": {},
   "cell_type": "code",
   "source": "loopy_flights[38].map_leaflet()",
   "id": "21d354ebd3f25d0e",
   "outputs": [],
   "execution_count": null
  },
  {
   "metadata": {},
   "cell_type": "code",
   "source": [
    "flight_amount = len(persistences)\n",
    "condensed_distance_matrix = []\n",
    "\n",
    "for i in tqdm(range(flight_amount)):\n",
    "    for j in range(i+1, flight_amount):\n",
    "        tree_i = persistences[i]\n",
    "        tree_j = persistences[j]\n",
    "        #pers_i = [x for x in tree_i.persistence_intervals_in_dimension(1) if  x[1] - x[0] > 0.0001]\n",
    "        #pers_j = [x for x in tree_j.persistence_intervals_in_dimension(1) if  x[1] - x[0] > 0.0001]\n",
    "        pers_i = tree_i.persistence_intervals_in_dimension(1)\n",
    "        pers_j = tree_j.persistence_intervals_in_dimension(1)\n",
    "        dist = gudhi.bottleneck_distance(pers_i, pers_j, 0.0001)\n",
    "        condensed_distance_matrix.append(dist)"
   ],
   "id": "bd8284d5cd61513a",
   "outputs": [],
   "execution_count": null
  },
  {
   "metadata": {},
   "cell_type": "code",
   "source": [
    "from scipy.cluster.hierarchy import linkage, fcluster\n",
    "\n",
    "Z = linkage(condensed_distance_matrix, \"complete\")\n",
    "clustering = fcluster(Z, t=0.002, criterion='distance', depth=2)"
   ],
   "id": "40948d83d0e72c94",
   "outputs": [],
   "execution_count": null
  },
  {
   "metadata": {},
   "cell_type": "code",
   "source": [
    "for i in range(1, len(np.unique(clustering))+1):\n",
    "    print(f\"{i}: {sum(clustering == i)}\")"
   ],
   "id": "31c94a020d34e415",
   "outputs": [],
   "execution_count": null
  },
  {
   "metadata": {},
   "cell_type": "code",
   "source": [
    "bool_array = clustering == 3\n",
    "\n",
    "loopy_flights = filter_flights(filter_by_bools(bool_array), filtered_flights)\n",
    "print(len(loopy_flights))\n",
    "loopy_flights.map_leaflet()"
   ],
   "id": "4d60ff156f2f75de",
   "outputs": [],
   "execution_count": null
  },
  {
   "metadata": {},
   "cell_type": "code",
   "source": "",
   "id": "72e68db0661bfaeb",
   "outputs": [],
   "execution_count": null
  }
 ],
 "metadata": {
  "kernelspec": {
   "display_name": "Python 3",
   "language": "python",
   "name": "python3"
  },
  "language_info": {
   "codemirror_mode": {
    "name": "ipython",
    "version": 2
   },
   "file_extension": ".py",
   "mimetype": "text/x-python",
   "name": "python",
   "nbconvert_exporter": "python",
   "pygments_lexer": "ipython2",
   "version": "2.7.6"
  }
 },
 "nbformat": 4,
 "nbformat_minor": 5
}
