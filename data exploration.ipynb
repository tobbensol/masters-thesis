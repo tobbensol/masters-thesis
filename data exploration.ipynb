{
 "cells": [
  {
   "cell_type": "code",
   "execution_count": 1,
   "id": "initial_id",
   "metadata": {
    "collapsed": true,
    "ExecuteTime": {
     "end_time": "2024-08-30T10:17:08.578731Z",
     "start_time": "2024-08-30T10:17:02.946791Z"
    }
   },
   "outputs": [],
   "source": [
    "from traffic.core import Traffic, Flight\n",
    "import pandas as pd\n",
    "import time"
   ]
  },
  {
   "cell_type": "code",
   "outputs": [
    {
     "data": {
      "text/plain": "<bound method lazy_evaluation.<locals>.wrapper.<locals>.λf of    icao24  callsign  count\n0  502d28  BTI49E      360\n1  4ac961  NVR743      360\n2  a4e7fb  PXT415      360\n3  4009c7  BAW861      360\n4  000001  TGJSC       359\n5  501c13  SDR59WT     359\n6  500241  T7MCV       359\n7  500233  T7CLB       359\n8  500217  T7MASHI     359\n9  500205  MEA203      359>"
     },
     "execution_count": 2,
     "metadata": {},
     "output_type": "execute_result"
    }
   ],
   "source": [
    "flights = Traffic.from_file(\"Data/states_2022-06-27-17.csv\")\n",
    "flights.apply_time"
   ],
   "metadata": {
    "collapsed": false,
    "ExecuteTime": {
     "end_time": "2024-08-30T10:05:20.580556Z",
     "start_time": "2024-08-30T10:05:12.343935Z"
    }
   },
   "id": "feed3f4e8ba3ad7f",
   "execution_count": 2
  },
  {
   "cell_type": "code",
   "outputs": [
    {
     "name": "stderr",
     "output_type": "stream",
     "text": [
      ".eval() has been automatically appended for you.\n",
      "Check the documentation for more options.\n"
     ]
    },
    {
     "ename": "UFuncTypeError",
     "evalue": "ufunc 'greater' did not contain a loop with signature matching types (<class 'numpy.dtypes.Float64DType'>, <class 'numpy.dtypes.TimeDelta64DType'>) -> None",
     "output_type": "error",
     "traceback": [
      "\u001B[1;31m---------------------------------------------------------------------------\u001B[0m",
      "\u001B[1;31mDTypePromotionError\u001B[0m                       Traceback (most recent call last)",
      "\u001B[1;31mDTypePromotionError\u001B[0m: The DType <class 'numpy.dtypes.Float64DType'> could not be promoted by <class 'numpy.dtypes.TimeDelta64DType'>. This means that no common DType exists for the given inputs. For example they cannot be stored in a single array unless the dtype is `object`. The full list of DTypes is: (<class 'numpy.dtypes.Float64DType'>, <class 'numpy.dtypes.TimeDelta64DType'>)",
      "\nThe above exception was the direct cause of the following exception:\n",
      "\u001B[1;31mUFuncTypeError\u001B[0m                            Traceback (most recent call last)",
      "Cell \u001B[1;32mIn[3], line 3\u001B[0m\n\u001B[0;32m      1\u001B[0m \u001B[38;5;28;01mwhile\u001B[39;00m flight \u001B[38;5;241m:=\u001B[39m flights\u001B[38;5;241m.\u001B[39mnext():\n\u001B[0;32m      2\u001B[0m     flight: Flight \u001B[38;5;241m=\u001B[39m flight\n\u001B[1;32m----> 3\u001B[0m     \u001B[38;5;28mprint\u001B[39m(\u001B[43mflight\u001B[49m\u001B[38;5;241;43m.\u001B[39;49m\u001B[43mdata\u001B[49m\u001B[38;5;241m.\u001B[39mshape)\n\u001B[0;32m      4\u001B[0m     time\u001B[38;5;241m.\u001B[39msleep(\u001B[38;5;241m1\u001B[39m)\n",
      "File \u001B[1;32m~\\PycharmProjects\\masters-thesis\\venv\\lib\\site-packages\\traffic\\core\\lazy.py:276\u001B[0m, in \u001B[0;36mLazyTraffic.__getattr__\u001B[1;34m(self, name)\u001B[0m\n\u001B[0;32m    271\u001B[0m \u001B[38;5;28;01mif\u001B[39;00m \u001B[38;5;28mhasattr\u001B[39m(\u001B[38;5;28mself\u001B[39m\u001B[38;5;241m.\u001B[39mwrapped_t, name):\n\u001B[0;32m    272\u001B[0m     _log\u001B[38;5;241m.\u001B[39mwarning(\n\u001B[0;32m    273\u001B[0m         \u001B[38;5;124m\"\u001B[39m\u001B[38;5;124m.eval() has been automatically appended for you.\u001B[39m\u001B[38;5;130;01m\\n\u001B[39;00m\u001B[38;5;124m\"\u001B[39m\n\u001B[0;32m    274\u001B[0m         \u001B[38;5;124m\"\u001B[39m\u001B[38;5;124mCheck the documentation for more options.\u001B[39m\u001B[38;5;124m\"\u001B[39m\n\u001B[0;32m    275\u001B[0m     )\n\u001B[1;32m--> 276\u001B[0m     \u001B[38;5;28;01mreturn\u001B[39;00m \u001B[38;5;28mgetattr\u001B[39m(\u001B[38;5;28;43mself\u001B[39;49m\u001B[38;5;241;43m.\u001B[39;49m\u001B[43meval\u001B[49m\u001B[43m(\u001B[49m\u001B[43m)\u001B[49m, name)\n\u001B[0;32m    277\u001B[0m \u001B[38;5;28;01mraise\u001B[39;00m \u001B[38;5;167;01mNotImplementedError\u001B[39;00m(\n\u001B[0;32m    278\u001B[0m     \u001B[38;5;124mf\u001B[39m\u001B[38;5;124m\"\u001B[39m\u001B[38;5;124mMethod \u001B[39m\u001B[38;5;124m'\u001B[39m\u001B[38;5;132;01m{\u001B[39;00mname\u001B[38;5;132;01m}\u001B[39;00m\u001B[38;5;124m'\u001B[39m\u001B[38;5;124m not implemented on Traffic or LazyTraffic\u001B[39m\u001B[38;5;124m\"\u001B[39m\n\u001B[0;32m    279\u001B[0m )\n",
      "File \u001B[1;32m~\\PycharmProjects\\masters-thesis\\venv\\lib\\site-packages\\traffic\\core\\lazy.py:203\u001B[0m, in \u001B[0;36mLazyTraffic.eval\u001B[1;34m(self, max_workers, desc, cache_file)\u001B[0m\n\u001B[0;32m    201\u001B[0m iterator \u001B[38;5;241m=\u001B[39m \u001B[38;5;28mself\u001B[39m\u001B[38;5;241m.\u001B[39mwrapped_t\u001B[38;5;241m.\u001B[39miterate(\u001B[38;5;241m*\u001B[39m\u001B[38;5;241m*\u001B[39m\u001B[38;5;28mself\u001B[39m\u001B[38;5;241m.\u001B[39miterate_kw)\n\u001B[0;32m    202\u001B[0m \u001B[38;5;66;03m# not the same iterator to not exhaust it\u001B[39;00m\n\u001B[1;32m--> 203\u001B[0m total \u001B[38;5;241m=\u001B[39m \u001B[38;5;28;43msum\u001B[39;49m\u001B[43m(\u001B[49m\u001B[38;5;241;43m1\u001B[39;49m\u001B[43m \u001B[49m\u001B[38;5;28;43;01mfor\u001B[39;49;00m\u001B[43m \u001B[49m\u001B[43m_\u001B[49m\u001B[43m \u001B[49m\u001B[38;5;129;43;01min\u001B[39;49;00m\u001B[43m \u001B[49m\u001B[38;5;28;43mself\u001B[39;49m\u001B[38;5;241;43m.\u001B[39;49m\u001B[43mwrapped_t\u001B[49m\u001B[38;5;241;43m.\u001B[39;49m\u001B[43miterate\u001B[49m\u001B[43m(\u001B[49m\u001B[38;5;241;43m*\u001B[39;49m\u001B[38;5;241;43m*\u001B[39;49m\u001B[38;5;28;43mself\u001B[39;49m\u001B[38;5;241;43m.\u001B[39;49m\u001B[43miterate_kw\u001B[49m\u001B[43m)\u001B[49m\u001B[43m)\u001B[49m\n\u001B[0;32m    204\u001B[0m \u001B[38;5;28;01mif\u001B[39;00m desc \u001B[38;5;129;01mis\u001B[39;00m \u001B[38;5;129;01mnot\u001B[39;00m \u001B[38;5;28;01mNone\u001B[39;00m \u001B[38;5;129;01mor\u001B[39;00m \u001B[38;5;28mlen\u001B[39m(\u001B[38;5;28mself\u001B[39m\u001B[38;5;241m.\u001B[39mtqdm_kw) \u001B[38;5;241m>\u001B[39m \u001B[38;5;241m0\u001B[39m:\n\u001B[0;32m    205\u001B[0m     tqdm_kw \u001B[38;5;241m=\u001B[39m {\n\u001B[0;32m    206\u001B[0m         \u001B[38;5;241m*\u001B[39m\u001B[38;5;241m*\u001B[39m\u001B[38;5;28mdict\u001B[39m(desc\u001B[38;5;241m=\u001B[39mdesc, leave\u001B[38;5;241m=\u001B[39m\u001B[38;5;28;01mFalse\u001B[39;00m, total\u001B[38;5;241m=\u001B[39mtotal),\n\u001B[0;32m    207\u001B[0m         \u001B[38;5;241m*\u001B[39m\u001B[38;5;241m*\u001B[39m\u001B[38;5;28mself\u001B[39m\u001B[38;5;241m.\u001B[39mtqdm_kw,\n\u001B[0;32m    208\u001B[0m     }\n",
      "File \u001B[1;32m~\\PycharmProjects\\masters-thesis\\venv\\lib\\site-packages\\traffic\\core\\lazy.py:203\u001B[0m, in \u001B[0;36m<genexpr>\u001B[1;34m(.0)\u001B[0m\n\u001B[0;32m    201\u001B[0m iterator \u001B[38;5;241m=\u001B[39m \u001B[38;5;28mself\u001B[39m\u001B[38;5;241m.\u001B[39mwrapped_t\u001B[38;5;241m.\u001B[39miterate(\u001B[38;5;241m*\u001B[39m\u001B[38;5;241m*\u001B[39m\u001B[38;5;28mself\u001B[39m\u001B[38;5;241m.\u001B[39miterate_kw)\n\u001B[0;32m    202\u001B[0m \u001B[38;5;66;03m# not the same iterator to not exhaust it\u001B[39;00m\n\u001B[1;32m--> 203\u001B[0m total \u001B[38;5;241m=\u001B[39m \u001B[38;5;28msum\u001B[39m(\u001B[38;5;241m1\u001B[39m \u001B[38;5;28;01mfor\u001B[39;00m _ \u001B[38;5;129;01min\u001B[39;00m \u001B[38;5;28mself\u001B[39m\u001B[38;5;241m.\u001B[39mwrapped_t\u001B[38;5;241m.\u001B[39miterate(\u001B[38;5;241m*\u001B[39m\u001B[38;5;241m*\u001B[39m\u001B[38;5;28mself\u001B[39m\u001B[38;5;241m.\u001B[39miterate_kw))\n\u001B[0;32m    204\u001B[0m \u001B[38;5;28;01mif\u001B[39;00m desc \u001B[38;5;129;01mis\u001B[39;00m \u001B[38;5;129;01mnot\u001B[39;00m \u001B[38;5;28;01mNone\u001B[39;00m \u001B[38;5;129;01mor\u001B[39;00m \u001B[38;5;28mlen\u001B[39m(\u001B[38;5;28mself\u001B[39m\u001B[38;5;241m.\u001B[39mtqdm_kw) \u001B[38;5;241m>\u001B[39m \u001B[38;5;241m0\u001B[39m:\n\u001B[0;32m    205\u001B[0m     tqdm_kw \u001B[38;5;241m=\u001B[39m {\n\u001B[0;32m    206\u001B[0m         \u001B[38;5;241m*\u001B[39m\u001B[38;5;241m*\u001B[39m\u001B[38;5;28mdict\u001B[39m(desc\u001B[38;5;241m=\u001B[39mdesc, leave\u001B[38;5;241m=\u001B[39m\u001B[38;5;28;01mFalse\u001B[39;00m, total\u001B[38;5;241m=\u001B[39mtotal),\n\u001B[0;32m    207\u001B[0m         \u001B[38;5;241m*\u001B[39m\u001B[38;5;241m*\u001B[39m\u001B[38;5;28mself\u001B[39m\u001B[38;5;241m.\u001B[39mtqdm_kw,\n\u001B[0;32m    208\u001B[0m     }\n",
      "File \u001B[1;32m~\\PycharmProjects\\masters-thesis\\venv\\lib\\site-packages\\traffic\\core\\traffic.py:639\u001B[0m, in \u001B[0;36mTraffic.iterate\u001B[1;34m(self, on, by, nb_flights)\u001B[0m\n\u001B[0;32m    635\u001B[0m \u001B[38;5;28;01mfor\u001B[39;00m i, (_, df) \u001B[38;5;129;01min\u001B[39;00m \u001B[38;5;28menumerate\u001B[39m(\n\u001B[0;32m    636\u001B[0m     \u001B[38;5;28mself\u001B[39m\u001B[38;5;241m.\u001B[39mdata\u001B[38;5;241m.\u001B[39msort_values(\u001B[38;5;124m\"\u001B[39m\u001B[38;5;124mtimestamp\u001B[39m\u001B[38;5;124m\"\u001B[39m)\u001B[38;5;241m.\u001B[39mgroupby(on_list)\n\u001B[0;32m    637\u001B[0m ):\n\u001B[0;32m    638\u001B[0m     \u001B[38;5;28;01mif\u001B[39;00m nb_flights \u001B[38;5;129;01mis\u001B[39;00m \u001B[38;5;28;01mNone\u001B[39;00m \u001B[38;5;129;01mor\u001B[39;00m i \u001B[38;5;241m<\u001B[39m nb_flights:\n\u001B[1;32m--> 639\u001B[0m         \u001B[38;5;28;01myield from\u001B[39;00m Flight(df)\u001B[38;5;241m.\u001B[39msplit(\n\u001B[0;32m    640\u001B[0m             by \u001B[38;5;28;01mif\u001B[39;00m by \u001B[38;5;129;01mis\u001B[39;00m \u001B[38;5;129;01mnot\u001B[39;00m \u001B[38;5;28;01mNone\u001B[39;00m \u001B[38;5;28;01melse\u001B[39;00m \u001B[38;5;124m\"\u001B[39m\u001B[38;5;124m10 minutes\u001B[39m\u001B[38;5;124m\"\u001B[39m\n\u001B[0;32m    641\u001B[0m         )\n",
      "File \u001B[1;32m~\\PycharmProjects\\masters-thesis\\venv\\lib\\site-packages\\traffic\\core\\iterator.py:66\u001B[0m, in \u001B[0;36mFlightIterator.__iter__\u001B[1;34m(self)\u001B[0m\n\u001B[0;32m     64\u001B[0m \u001B[38;5;28;01mdef\u001B[39;00m \u001B[38;5;21m__iter__\u001B[39m(\u001B[38;5;28mself\u001B[39m) \u001B[38;5;241m-\u001B[39m\u001B[38;5;241m>\u001B[39m Iterator[\u001B[38;5;124m\"\u001B[39m\u001B[38;5;124mFlight\u001B[39m\u001B[38;5;124m\"\u001B[39m]:\n\u001B[0;32m     65\u001B[0m     \u001B[38;5;28;01myield from\u001B[39;00m \u001B[38;5;28mself\u001B[39m\u001B[38;5;241m.\u001B[39mcache\n\u001B[1;32m---> 66\u001B[0m     \u001B[38;5;28;01mfor\u001B[39;00m elt \u001B[38;5;129;01min\u001B[39;00m \u001B[38;5;28mself\u001B[39m\u001B[38;5;241m.\u001B[39mgenerator:\n\u001B[0;32m     67\u001B[0m         \u001B[38;5;28mself\u001B[39m\u001B[38;5;241m.\u001B[39mcache\u001B[38;5;241m.\u001B[39mappend(elt)\n\u001B[0;32m     68\u001B[0m         \u001B[38;5;28;01myield\u001B[39;00m elt\n",
      "File \u001B[1;32m~\\PycharmProjects\\masters-thesis\\venv\\lib\\site-packages\\traffic\\core\\flight.py:1518\u001B[0m, in \u001B[0;36mFlight.split\u001B[1;34m(self, value, unit, condition)\u001B[0m\n\u001B[0;32m   1515\u001B[0m     unit \u001B[38;5;241m=\u001B[39m \u001B[38;5;124m\"\u001B[39m\u001B[38;5;124mm\u001B[39m\u001B[38;5;124m\"\u001B[39m\n\u001B[0;32m   1517\u001B[0m \u001B[38;5;28;01mif\u001B[39;00m condition \u001B[38;5;129;01mis\u001B[39;00m \u001B[38;5;28;01mNone\u001B[39;00m:\n\u001B[1;32m-> 1518\u001B[0m     \u001B[38;5;28;01mfor\u001B[39;00m data \u001B[38;5;129;01min\u001B[39;00m _split(\u001B[38;5;28mself\u001B[39m\u001B[38;5;241m.\u001B[39mdata, value, unit):\n\u001B[0;32m   1519\u001B[0m         \u001B[38;5;28;01myield\u001B[39;00m \u001B[38;5;28mself\u001B[39m\u001B[38;5;241m.\u001B[39m\u001B[38;5;18m__class__\u001B[39m(data)\n\u001B[0;32m   1521\u001B[0m \u001B[38;5;28;01melse\u001B[39;00m:\n",
      "File \u001B[1;32m~\\PycharmProjects\\masters-thesis\\venv\\lib\\site-packages\\traffic\\core\\flight.py:127\u001B[0m, in \u001B[0;36m_split\u001B[1;34m(data, value, unit)\u001B[0m\n\u001B[0;32m    124\u001B[0m \u001B[38;5;66;03m# There seems to be a change with numpy >= 1.18\u001B[39;00m\n\u001B[0;32m    125\u001B[0m \u001B[38;5;66;03m# max() now may return NaN, therefore the following fix\u001B[39;00m\n\u001B[0;32m    126\u001B[0m max_ \u001B[38;5;241m=\u001B[39m np\u001B[38;5;241m.\u001B[39mnanmax(diff)\n\u001B[1;32m--> 127\u001B[0m \u001B[38;5;28;01mif\u001B[39;00m \u001B[43mmax_\u001B[49m\u001B[43m \u001B[49m\u001B[38;5;241;43m>\u001B[39;49m\u001B[43m \u001B[49m\u001B[43mdelta\u001B[49m:\n\u001B[0;32m    128\u001B[0m     \u001B[38;5;66;03m# np.nanargmax seems bugged with timestamps\u001B[39;00m\n\u001B[0;32m    129\u001B[0m     argmax \u001B[38;5;241m=\u001B[39m np\u001B[38;5;241m.\u001B[39mwhere(diff \u001B[38;5;241m==\u001B[39m max_)[\u001B[38;5;241m0\u001B[39m][\u001B[38;5;241m0\u001B[39m]\n\u001B[0;32m    130\u001B[0m     \u001B[38;5;28;01myield from\u001B[39;00m _split(data\u001B[38;5;241m.\u001B[39miloc[:argmax], value, unit)\n",
      "\u001B[1;31mUFuncTypeError\u001B[0m: ufunc 'greater' did not contain a loop with signature matching types (<class 'numpy.dtypes.Float64DType'>, <class 'numpy.dtypes.TimeDelta64DType'>) -> None"
     ]
    }
   ],
   "source": [
    "while flight := flights.next():\n",
    "    flight: Flight = flight\n",
    "    print(flight.data.shape)\n",
    "    time.sleep(1)"
   ],
   "metadata": {
    "collapsed": false,
    "ExecuteTime": {
     "end_time": "2024-08-30T10:05:25.030036Z",
     "start_time": "2024-08-30T10:05:20.584276Z"
    }
   },
   "id": "14b7eb445ba1f3a6",
   "execution_count": 3
  },
  {
   "cell_type": "code",
   "outputs": [],
   "source": [
    "def fix_flight(f):\n",
    "    f.data.loc[:, 'timestamp'] = pd.to_datetime(f.data.['timestamp'], unit='s').dt.tz_localize('UTC')"
   ],
   "metadata": {
    "collapsed": false,
    "ExecuteTime": {
     "start_time": "2024-08-30T10:05:25.032375Z"
    }
   },
   "id": "71b617fc180f0fdd",
   "execution_count": null
  },
  {
   "cell_type": "code",
   "outputs": [],
   "source": [
    "flight.data[\"timestamp\"]"
   ],
   "metadata": {
    "collapsed": false,
    "ExecuteTime": {
     "start_time": "2024-08-30T10:05:25.033471Z"
    }
   },
   "id": "9342637452cde256",
   "execution_count": null
  },
  {
   "cell_type": "code",
   "outputs": [],
   "source": [
    "flight"
   ],
   "metadata": {
    "collapsed": false,
    "ExecuteTime": {
     "start_time": "2024-08-30T10:05:25.034542Z"
    }
   },
   "id": "5868a6ff816f7228",
   "execution_count": null
  },
  {
   "cell_type": "code",
   "outputs": [],
   "source": [
    "from traffic.data.samples import quickstart\n",
    "from traffic.data import airports"
   ],
   "metadata": {
    "collapsed": false,
    "ExecuteTime": {
     "end_time": "2024-08-30T10:17:14.252804Z",
     "start_time": "2024-08-30T10:17:11.232595Z"
    }
   },
   "id": "91bbf5c8af0c969a",
   "execution_count": 2
  },
  {
   "cell_type": "code",
   "outputs": [
    {
     "data": {
      "text/plain": "   icao24 callsign  count\n0  39b002    FHMAC   3283\n1  3aabfc  FMY8055   2133\n2  39c82b   PEA501   1891\n3  4bc844   PGT90Y   1599\n4  4d02be   JFA12P   1591\n5  3d7009    DFORH   1559\n6  3985a4  AFR19BH   1547\n7  3944f1  AFR15AH   1546\n8  3999e4   PEA302   1541\n9  86e430    JAL45   1533",
      "text/html": "<h4><b>Traffic</b></h4> with 236 identifiers<style type=\"text/css\">\n#T_0e01c_row0_col0 {\n  width: 10em;\n  background: linear-gradient(90deg, #5fba7d 100.0%, transparent 100.0%);\n}\n#T_0e01c_row1_col0 {\n  width: 10em;\n  background: linear-gradient(90deg, #5fba7d 65.0%, transparent 65.0%);\n}\n#T_0e01c_row2_col0 {\n  width: 10em;\n  background: linear-gradient(90deg, #5fba7d 57.6%, transparent 57.6%);\n}\n#T_0e01c_row3_col0 {\n  width: 10em;\n  background: linear-gradient(90deg, #5fba7d 48.7%, transparent 48.7%);\n}\n#T_0e01c_row4_col0 {\n  width: 10em;\n  background: linear-gradient(90deg, #5fba7d 48.5%, transparent 48.5%);\n}\n#T_0e01c_row5_col0 {\n  width: 10em;\n  background: linear-gradient(90deg, #5fba7d 47.5%, transparent 47.5%);\n}\n#T_0e01c_row6_col0, #T_0e01c_row7_col0 {\n  width: 10em;\n  background: linear-gradient(90deg, #5fba7d 47.1%, transparent 47.1%);\n}\n#T_0e01c_row8_col0 {\n  width: 10em;\n  background: linear-gradient(90deg, #5fba7d 46.9%, transparent 46.9%);\n}\n#T_0e01c_row9_col0 {\n  width: 10em;\n  background: linear-gradient(90deg, #5fba7d 46.7%, transparent 46.7%);\n}\n</style>\n<table id=\"T_0e01c\">\n  <thead>\n    <tr>\n      <th class=\"blank\" >&nbsp;</th>\n      <th class=\"blank level0\" >&nbsp;</th>\n      <th id=\"T_0e01c_level0_col0\" class=\"col_heading level0 col0\" >count</th>\n    </tr>\n    <tr>\n      <th class=\"index_name level0\" >icao24</th>\n      <th class=\"index_name level1\" >callsign</th>\n      <th class=\"blank col0\" >&nbsp;</th>\n    </tr>\n  </thead>\n  <tbody>\n    <tr>\n      <th id=\"T_0e01c_level0_row0\" class=\"row_heading level0 row0\" >39b002</th>\n      <th id=\"T_0e01c_level1_row0\" class=\"row_heading level1 row0\" >FHMAC</th>\n      <td id=\"T_0e01c_row0_col0\" class=\"data row0 col0\" >3283</td>\n    </tr>\n    <tr>\n      <th id=\"T_0e01c_level0_row1\" class=\"row_heading level0 row1\" >3aabfc</th>\n      <th id=\"T_0e01c_level1_row1\" class=\"row_heading level1 row1\" >FMY8055</th>\n      <td id=\"T_0e01c_row1_col0\" class=\"data row1 col0\" >2133</td>\n    </tr>\n    <tr>\n      <th id=\"T_0e01c_level0_row2\" class=\"row_heading level0 row2\" >39c82b</th>\n      <th id=\"T_0e01c_level1_row2\" class=\"row_heading level1 row2\" >PEA501</th>\n      <td id=\"T_0e01c_row2_col0\" class=\"data row2 col0\" >1891</td>\n    </tr>\n    <tr>\n      <th id=\"T_0e01c_level0_row3\" class=\"row_heading level0 row3\" >4bc844</th>\n      <th id=\"T_0e01c_level1_row3\" class=\"row_heading level1 row3\" >PGT90Y</th>\n      <td id=\"T_0e01c_row3_col0\" class=\"data row3 col0\" >1599</td>\n    </tr>\n    <tr>\n      <th id=\"T_0e01c_level0_row4\" class=\"row_heading level0 row4\" >4d02be</th>\n      <th id=\"T_0e01c_level1_row4\" class=\"row_heading level1 row4\" >JFA12P</th>\n      <td id=\"T_0e01c_row4_col0\" class=\"data row4 col0\" >1591</td>\n    </tr>\n    <tr>\n      <th id=\"T_0e01c_level0_row5\" class=\"row_heading level0 row5\" >3d7009</th>\n      <th id=\"T_0e01c_level1_row5\" class=\"row_heading level1 row5\" >DFORH</th>\n      <td id=\"T_0e01c_row5_col0\" class=\"data row5 col0\" >1559</td>\n    </tr>\n    <tr>\n      <th id=\"T_0e01c_level0_row6\" class=\"row_heading level0 row6\" >3985a4</th>\n      <th id=\"T_0e01c_level1_row6\" class=\"row_heading level1 row6\" >AFR19BH</th>\n      <td id=\"T_0e01c_row6_col0\" class=\"data row6 col0\" >1547</td>\n    </tr>\n    <tr>\n      <th id=\"T_0e01c_level0_row7\" class=\"row_heading level0 row7\" >3944f1</th>\n      <th id=\"T_0e01c_level1_row7\" class=\"row_heading level1 row7\" >AFR15AH</th>\n      <td id=\"T_0e01c_row7_col0\" class=\"data row7 col0\" >1546</td>\n    </tr>\n    <tr>\n      <th id=\"T_0e01c_level0_row8\" class=\"row_heading level0 row8\" >3999e4</th>\n      <th id=\"T_0e01c_level1_row8\" class=\"row_heading level1 row8\" >PEA302</th>\n      <td id=\"T_0e01c_row8_col0\" class=\"data row8 col0\" >1541</td>\n    </tr>\n    <tr>\n      <th id=\"T_0e01c_level0_row9\" class=\"row_heading level0 row9\" >86e430</th>\n      <th id=\"T_0e01c_level1_row9\" class=\"row_heading level1 row9\" >JAL45</th>\n      <td id=\"T_0e01c_row9_col0\" class=\"data row9 col0\" >1533</td>\n    </tr>\n  </tbody>\n</table>\n"
     },
     "execution_count": 3,
     "metadata": {},
     "output_type": "execute_result"
    }
   ],
   "source": [
    "quickstart.airborne()"
   ],
   "metadata": {
    "collapsed": false,
    "ExecuteTime": {
     "end_time": "2024-08-30T10:17:15.086275Z",
     "start_time": "2024-08-30T10:17:14.260320Z"
    }
   },
   "id": "921e466215003a94",
   "execution_count": 3
  },
  {
   "cell_type": "code",
   "outputs": [
    {
     "data": {
      "text/plain": "   icao24 callsign  count\n0  394c13  AFR1753    600\n1  3951c1  AFR6724    600\n2  398567  AFR15XV    600\n3  398564  AFR9455    600\n4  3965af   AFR276    600\n5  3965a5  AFR4145    600\n6  3965a3   AFR072    600\n7  39644d   AFR914    600\n8  396441   AFR104    600\n9  3950d1  AFR12VL    600",
      "text/html": "<h4><b>Traffic</b></h4> with 84 identifiers<style type=\"text/css\">\n#T_30be4_row0_col0, #T_30be4_row1_col0, #T_30be4_row2_col0, #T_30be4_row3_col0, #T_30be4_row4_col0, #T_30be4_row5_col0, #T_30be4_row6_col0, #T_30be4_row7_col0, #T_30be4_row8_col0, #T_30be4_row9_col0 {\n  width: 10em;\n  background: linear-gradient(90deg, #5fba7d 100.0%, transparent 100.0%);\n}\n</style>\n<table id=\"T_30be4\">\n  <thead>\n    <tr>\n      <th class=\"blank\" >&nbsp;</th>\n      <th class=\"blank level0\" >&nbsp;</th>\n      <th id=\"T_30be4_level0_col0\" class=\"col_heading level0 col0\" >count</th>\n    </tr>\n    <tr>\n      <th class=\"index_name level0\" >icao24</th>\n      <th class=\"index_name level1\" >callsign</th>\n      <th class=\"blank col0\" >&nbsp;</th>\n    </tr>\n  </thead>\n  <tbody>\n    <tr>\n      <th id=\"T_30be4_level0_row0\" class=\"row_heading level0 row0\" >394c13</th>\n      <th id=\"T_30be4_level1_row0\" class=\"row_heading level1 row0\" >AFR1753</th>\n      <td id=\"T_30be4_row0_col0\" class=\"data row0 col0\" >600</td>\n    </tr>\n    <tr>\n      <th id=\"T_30be4_level0_row1\" class=\"row_heading level0 row1\" >3951c1</th>\n      <th id=\"T_30be4_level1_row1\" class=\"row_heading level1 row1\" >AFR6724</th>\n      <td id=\"T_30be4_row1_col0\" class=\"data row1 col0\" >600</td>\n    </tr>\n    <tr>\n      <th id=\"T_30be4_level0_row2\" class=\"row_heading level0 row2\" >398567</th>\n      <th id=\"T_30be4_level1_row2\" class=\"row_heading level1 row2\" >AFR15XV</th>\n      <td id=\"T_30be4_row2_col0\" class=\"data row2 col0\" >600</td>\n    </tr>\n    <tr>\n      <th id=\"T_30be4_level0_row3\" class=\"row_heading level0 row3\" >398564</th>\n      <th id=\"T_30be4_level1_row3\" class=\"row_heading level1 row3\" >AFR9455</th>\n      <td id=\"T_30be4_row3_col0\" class=\"data row3 col0\" >600</td>\n    </tr>\n    <tr>\n      <th id=\"T_30be4_level0_row4\" class=\"row_heading level0 row4\" >3965af</th>\n      <th id=\"T_30be4_level1_row4\" class=\"row_heading level1 row4\" >AFR276</th>\n      <td id=\"T_30be4_row4_col0\" class=\"data row4 col0\" >600</td>\n    </tr>\n    <tr>\n      <th id=\"T_30be4_level0_row5\" class=\"row_heading level0 row5\" >3965a5</th>\n      <th id=\"T_30be4_level1_row5\" class=\"row_heading level1 row5\" >AFR4145</th>\n      <td id=\"T_30be4_row5_col0\" class=\"data row5 col0\" >600</td>\n    </tr>\n    <tr>\n      <th id=\"T_30be4_level0_row6\" class=\"row_heading level0 row6\" >3965a3</th>\n      <th id=\"T_30be4_level1_row6\" class=\"row_heading level1 row6\" >AFR072</th>\n      <td id=\"T_30be4_row6_col0\" class=\"data row6 col0\" >600</td>\n    </tr>\n    <tr>\n      <th id=\"T_30be4_level0_row7\" class=\"row_heading level0 row7\" >39644d</th>\n      <th id=\"T_30be4_level1_row7\" class=\"row_heading level1 row7\" >AFR914</th>\n      <td id=\"T_30be4_row7_col0\" class=\"data row7 col0\" >600</td>\n    </tr>\n    <tr>\n      <th id=\"T_30be4_level0_row8\" class=\"row_heading level0 row8\" >396441</th>\n      <th id=\"T_30be4_level1_row8\" class=\"row_heading level1 row8\" >AFR104</th>\n      <td id=\"T_30be4_row8_col0\" class=\"data row8 col0\" >600</td>\n    </tr>\n    <tr>\n      <th id=\"T_30be4_level0_row9\" class=\"row_heading level0 row9\" >3950d1</th>\n      <th id=\"T_30be4_level1_row9\" class=\"row_heading level1 row9\" >AFR12VL</th>\n      <td id=\"T_30be4_row9_col0\" class=\"data row9 col0\" >600</td>\n    </tr>\n  </tbody>\n</table>\n"
     },
     "execution_count": 4,
     "metadata": {},
     "output_type": "execute_result"
    }
   ],
   "source": [
    "quickstart.query('callsign.str.startswith(\"AFR\")').first(\"10 min\").eval()"
   ],
   "metadata": {
    "collapsed": false,
    "ExecuteTime": {
     "end_time": "2024-08-30T10:17:15.851145Z",
     "start_time": "2024-08-30T10:17:15.088474Z"
    }
   },
   "id": "47b787a86d5568d9",
   "execution_count": 4
  },
  {
   "cell_type": "code",
   "outputs": [],
   "source": [
    "def select_landing(airport: \"Airport\"):\n",
    "    for flight in quickstart:\n",
    "        if low_alt := flight.query(\"altitude < 3000\"):         # Flight -> None or Flight\n",
    "            if low_alt.last(\"2 min\").vertical_rate_mean < -500:# Flight -> bool\n",
    "                if low_alt.first(\"2 min\").vertical_rate_mean < 500:# Flight -> bool\n",
    "                    if low_alt.intersects(airport):                # Flight -> bool\n",
    "                        if low_alt.aligned_on_ils(airport).has():  # Flight -> bool\n",
    "                            yield low_alt          # Flight -> None or Flight"
   ],
   "metadata": {
    "collapsed": false,
    "ExecuteTime": {
     "end_time": "2024-08-30T10:17:15.866319Z",
     "start_time": "2024-08-30T10:17:15.854711Z"
    }
   },
   "id": "bbee49466b2480ff",
   "execution_count": 5
  },
  {
   "cell_type": "code",
   "outputs": [
    {
     "data": {
      "text/plain": "Map(center=[48.69000510556506, 2.232647785496943], controls=(ZoomControl(options=['position', 'zoom_in_text', …",
      "application/vnd.jupyter.widget-view+json": {
       "version_major": 2,
       "version_minor": 0,
       "model_id": "1f25f9bf7bd64a8aba404bb877c194c3"
      }
     },
     "execution_count": 6,
     "metadata": {},
     "output_type": "execute_result"
    }
   ],
   "source": [
    "Traffic.from_flights(select_landing(airports[\"LFPO\"]))[3].map_leaflet()"
   ],
   "metadata": {
    "collapsed": false,
    "ExecuteTime": {
     "end_time": "2024-08-30T10:17:43.548898Z",
     "start_time": "2024-08-30T10:17:15.868543Z"
    }
   },
   "id": "8a860566390aca0c",
   "execution_count": 6
  },
  {
   "cell_type": "code",
   "outputs": [
    {
     "name": "stderr",
     "output_type": "stream",
     "text": [
      "Several callsigns for one flight, consider splitting\n",
      "Several callsigns for one flight, consider splitting\n"
     ]
    },
    {
     "data": {
      "text/plain": "Map(center=[48.537532136850984, 2.335286307940885], controls=(ZoomControl(options=['position', 'zoom_in_text',…",
      "application/vnd.jupyter.widget-view+json": {
       "version_major": 2,
       "version_minor": 0,
       "model_id": "6ba4f1ce7c4d468f96d6422633052d4a"
      }
     },
     "execution_count": 7,
     "metadata": {},
     "output_type": "execute_result"
    }
   ],
   "source": [
    "quickstart[\"3964f4\"].map_leaflet()"
   ],
   "metadata": {
    "collapsed": false,
    "ExecuteTime": {
     "end_time": "2024-08-30T10:17:44.000592Z",
     "start_time": "2024-08-30T10:17:43.551685Z"
    }
   },
   "id": "b7bf3c9621a3660d",
   "execution_count": 7
  },
  {
   "cell_type": "code",
   "outputs": [],
   "source": [
    "from traffic.data.datasets import squawk7700"
   ],
   "metadata": {
    "collapsed": false,
    "ExecuteTime": {
     "end_time": "2024-08-30T10:17:49.344763Z",
     "start_time": "2024-08-30T10:17:44.004593Z"
    }
   },
   "id": "a9cff723f116cadf",
   "execution_count": 8
  },
  {
   "cell_type": "code",
   "outputs": [],
   "source": [
    "ids = squawk7700.query(\"diverted == diverted\").flight_ids"
   ],
   "metadata": {
    "collapsed": false,
    "ExecuteTime": {
     "end_time": "2024-08-30T10:17:51.501260Z",
     "start_time": "2024-08-30T10:17:49.348219Z"
    }
   },
   "id": "32b4a9ba9aa1151f",
   "execution_count": 9
  },
  {
   "cell_type": "code",
   "outputs": [
    {
     "data": {
      "text/plain": "Map(center=[39.61573054457169, -75.24646557692384], controls=(ZoomControl(options=['position', 'zoom_in_text',…",
      "application/vnd.jupyter.widget-view+json": {
       "version_major": 2,
       "version_minor": 0,
       "model_id": "eac737c74c814766935de323b4aa2de6"
      }
     },
     "execution_count": 10,
     "metadata": {},
     "output_type": "execute_result"
    }
   ],
   "source": [
    "from ipywidgets import Layout\n",
    "squawk7700[ids[4]].map_leaflet(\n",
    "    highlight=dict(red=lambda f: f.emergency()),\n",
    "    layout=Layout(height=\"500px\", max_width=\"800px\"),\n",
    ")"
   ],
   "metadata": {
    "collapsed": false,
    "ExecuteTime": {
     "end_time": "2024-08-30T10:17:52.418030Z",
     "start_time": "2024-08-30T10:17:51.503809Z"
    }
   },
   "id": "5de81d59802fd084",
   "execution_count": 10
  },
  {
   "cell_type": "code",
   "outputs": [
    {
     "ename": "AttributeError",
     "evalue": "'Flight' has no attribute 'take'",
     "output_type": "error",
     "traceback": [
      "\u001B[1;31m---------------------------------------------------------------------------\u001B[0m",
      "\u001B[1;31mAttributeError\u001B[0m                            Traceback (most recent call last)",
      "Cell \u001B[1;32mIn[11], line 1\u001B[0m\n\u001B[1;32m----> 1\u001B[0m \u001B[43msquawk7700\u001B[49m\u001B[43m[\u001B[49m\u001B[43mids\u001B[49m\u001B[43m[\u001B[49m\u001B[38;5;241;43m4\u001B[39;49m\u001B[43m]\u001B[49m\u001B[43m]\u001B[49m\u001B[38;5;241;43m.\u001B[39;49m\u001B[43mtake\u001B[49m\n",
      "File \u001B[1;32m~\\PycharmProjects\\masters-thesis\\venv\\lib\\site-packages\\traffic\\core\\flight.py:582\u001B[0m, in \u001B[0;36mFlight.__getattr__\u001B[1;34m(self, name)\u001B[0m\n\u001B[0;32m    580\u001B[0m msg \u001B[38;5;241m=\u001B[39m \u001B[38;5;124mf\u001B[39m\u001B[38;5;124m\"\u001B[39m\u001B[38;5;124m'\u001B[39m\u001B[38;5;132;01m{\u001B[39;00m\u001B[38;5;28mself\u001B[39m\u001B[38;5;241m.\u001B[39m\u001B[38;5;18m__class__\u001B[39m\u001B[38;5;241m.\u001B[39m\u001B[38;5;18m__name__\u001B[39m\u001B[38;5;132;01m}\u001B[39;00m\u001B[38;5;124m'\u001B[39m\u001B[38;5;124m has no attribute \u001B[39m\u001B[38;5;124m'\u001B[39m\u001B[38;5;132;01m{\u001B[39;00mname\u001B[38;5;132;01m}\u001B[39;00m\u001B[38;5;124m'\u001B[39m\u001B[38;5;124m\"\u001B[39m\n\u001B[0;32m    581\u001B[0m \u001B[38;5;28;01mif\u001B[39;00m \u001B[38;5;124m\"\u001B[39m\u001B[38;5;124m_\u001B[39m\u001B[38;5;124m\"\u001B[39m \u001B[38;5;129;01mnot\u001B[39;00m \u001B[38;5;129;01min\u001B[39;00m name:\n\u001B[1;32m--> 582\u001B[0m     \u001B[38;5;28;01mraise\u001B[39;00m \u001B[38;5;167;01mAttributeError\u001B[39;00m(msg)\n\u001B[0;32m    583\u001B[0m \u001B[38;5;241m*\u001B[39mname_split, agg \u001B[38;5;241m=\u001B[39m name\u001B[38;5;241m.\u001B[39msplit(\u001B[38;5;124m\"\u001B[39m\u001B[38;5;124m_\u001B[39m\u001B[38;5;124m\"\u001B[39m)\n\u001B[0;32m    584\u001B[0m feature \u001B[38;5;241m=\u001B[39m \u001B[38;5;124m\"\u001B[39m\u001B[38;5;124m_\u001B[39m\u001B[38;5;124m\"\u001B[39m\u001B[38;5;241m.\u001B[39mjoin(name_split)\n",
      "\u001B[1;31mAttributeError\u001B[0m: 'Flight' has no attribute 'take'"
     ]
    }
   ],
   "source": [
    "squawk7700[ids[4]].take"
   ],
   "metadata": {
    "collapsed": false,
    "ExecuteTime": {
     "end_time": "2024-08-30T10:17:53.858072Z",
     "start_time": "2024-08-30T10:17:52.425844Z"
    }
   },
   "id": "e844afea394352f7",
   "execution_count": 11
  },
  {
   "cell_type": "code",
   "outputs": [],
   "source": [],
   "metadata": {
    "collapsed": false,
    "ExecuteTime": {
     "end_time": "2024-08-30T10:17:53.859916Z",
     "start_time": "2024-08-30T10:17:53.859916Z"
    }
   },
   "id": "f20985a91a48a443"
  },
  {
   "cell_type": "code",
   "outputs": [],
   "source": [],
   "metadata": {
    "collapsed": false
   },
   "id": "38837d43d27e723e"
  }
 ],
 "metadata": {
  "kernelspec": {
   "display_name": "Python 3",
   "language": "python",
   "name": "python3"
  },
  "language_info": {
   "codemirror_mode": {
    "name": "ipython",
    "version": 2
   },
   "file_extension": ".py",
   "mimetype": "text/x-python",
   "name": "python",
   "nbconvert_exporter": "python",
   "pygments_lexer": "ipython2",
   "version": "2.7.6"
  }
 },
 "nbformat": 4,
 "nbformat_minor": 5
}
