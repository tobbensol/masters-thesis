{
 "cells": [
  {
   "cell_type": "code",
   "id": "initial_id",
   "metadata": {
    "collapsed": true,
    "ExecuteTime": {
     "end_time": "2024-11-28T19:16:01.734121Z",
     "start_time": "2024-11-28T19:15:58.244885Z"
    }
   },
   "source": [
    "import gudhi\n",
    "import numpy as np\n",
    "\n",
    "from functions.data_loading import get_filtered_data_range, get_data_range, get_flight_persistence\n",
    "from functions.data_filtering import complete_flight_filter\n",
    "from functions.data_filtering import filter_by_bools, filter_flights\n",
    "\n",
    "from datetime import datetime\n",
    "from tqdm import tqdm\n",
    "from traffic.core import Traffic, Flight"
   ],
   "outputs": [],
   "execution_count": 1
  },
  {
   "metadata": {
    "ExecuteTime": {
     "end_time": "2024-11-28T19:19:37.843016Z",
     "start_time": "2024-11-28T19:16:01.738126Z"
    }
   },
   "cell_type": "code",
   "source": [
    "origin = \"barcelona\"\n",
    "destination = \"mallorca\"\n",
    "\n",
    "unfiltered_flights, file_name = get_data_range(origin, destination, datetime(year=2023, month=1, day=1), datetime(year=2024, month=1, day=1))\n",
    "filtered_flights, file_name = get_filtered_data_range(unfiltered_flights, file_name, complete_flight_filter(origin, destination, 0.75))\n",
    "persistences, file_name = get_flight_persistence(unfiltered_flights, file_name)"
   ],
   "id": "de28a2e72f5d6107",
   "outputs": [
    {
     "name": "stderr",
     "output_type": "stream",
     "text": [
      "100%|██████████| 7051/7051 [02:44<00:00, 42.86it/s]\n"
     ]
    }
   ],
   "execution_count": 2
  },
  {
   "metadata": {
    "ExecuteTime": {
     "end_time": "2024-11-28T19:20:17.157782Z",
     "start_time": "2024-11-28T19:19:38.544008Z"
    }
   },
   "cell_type": "code",
   "source": [
    "circly_flights=[]\n",
    "for i, tree in enumerate(persistences):\n",
    "    persistence = tree.persistence()\n",
    "\n",
    "    more_than_00001 = len([x for x in persistence if  x[0] == 1 and x[1][1] - x[1][0] > 0.0001])\n",
    "    #more_than_00005 = len([x for x in persistence if  x[0] == 1 and x[1][1] - x[1][0] > 0.0005])\n",
    "    if more_than_00001 > 0:\n",
    "        circly_flights.append(i)"
   ],
   "id": "16a987042baf860a",
   "outputs": [],
   "execution_count": 3
  },
  {
   "metadata": {
    "ExecuteTime": {
     "end_time": "2024-11-28T19:20:17.414693Z",
     "start_time": "2024-11-28T19:20:17.409438Z"
    }
   },
   "cell_type": "code",
   "source": [
    "\"\"\"\n",
    "codes = Counter()\n",
    "for flight in circly_flights:\n",
    "    codes.update(filtered_flights[flight].squawk)\n",
    "\n",
    "codes\n",
    "\"\"\""
   ],
   "id": "568248bca5425c1b",
   "outputs": [
    {
     "data": {
      "text/plain": [
       "'\\ncodes = Counter()\\nfor flight in circly_flights:\\n    codes.update(filtered_flights[flight].squawk)\\n\\ncodes\\n'"
      ]
     },
     "execution_count": 4,
     "metadata": {},
     "output_type": "execute_result"
    }
   ],
   "execution_count": 4
  },
  {
   "metadata": {},
   "cell_type": "markdown",
   "source": "There is not really any trend with ICAO codes and cyclic flights, they seem to be mostly unique",
   "id": "2d8b2df317e1f9ef"
  },
  {
   "metadata": {
    "ExecuteTime": {
     "end_time": "2024-11-28T19:20:36.015271Z",
     "start_time": "2024-11-28T19:20:17.660011Z"
    }
   },
   "cell_type": "code",
   "source": [
    "bool_array = np.zeros(len(persistences))\n",
    "for i in circly_flights:\n",
    "    bool_array[i] = 1\n",
    "\n",
    "loopy_flights = filter_flights(filter_by_bools(bool_array), filtered_flights)\n",
    "loopy_flights_pers = list(filter(filter_by_bools(bool_array), persistences))\n",
    "Traffic.from_flights(loopy_flights).map_leaflet()"
   ],
   "id": "72c14bb0acd5c9a4",
   "outputs": [
    {
     "data": {
      "text/plain": [
       "Map(center=[40.28950028656438, 2.529293964991488], controls=(ZoomControl(options=['position', 'zoom_in_text', …"
      ],
      "application/vnd.jupyter.widget-view+json": {
       "version_major": 2,
       "version_minor": 0,
       "model_id": "3b31a87f9ffc432897db6790fc01e235"
      }
     },
     "execution_count": 5,
     "metadata": {},
     "output_type": "execute_result"
    }
   ],
   "execution_count": 5
  },
  {
   "metadata": {
    "ExecuteTime": {
     "end_time": "2024-11-28T19:20:37.780787Z",
     "start_time": "2024-11-28T19:20:36.427935Z"
    }
   },
   "cell_type": "code",
   "source": [
    "flight_amount = len(persistences)\n",
    "condensed_distance_matrix = []\n",
    "\n",
    "for i in tqdm(range(len(circly_flights))):\n",
    "    for j in range(i+1, len(circly_flights)):\n",
    "        tree_i = persistences[circly_flights[i]]\n",
    "        tree_j = persistences[circly_flights[j]]\n",
    "        #pers_i = [x for x in tree_i.persistence_intervals_in_dimension(1) if  x[1] - x[0] > 0.0001]\n",
    "        #pers_j = [x for x in tree_j.persistence_intervals_in_dimension(1) if  x[1] - x[0] > 0.0001]\n",
    "        pers_i = tree_i.persistence_intervals_in_dimension(1)\n",
    "        pers_j = tree_j.persistence_intervals_in_dimension(1)\n",
    "        dist = gudhi.bottleneck_distance(pers_i, pers_j, 0.0001)\n",
    "        condensed_distance_matrix.append(dist)"
   ],
   "id": "bd8284d5cd61513a",
   "outputs": [
    {
     "name": "stderr",
     "output_type": "stream",
     "text": [
      "100%|██████████| 203/203 [00:01<00:00, 150.53it/s]\n"
     ]
    }
   ],
   "execution_count": 6
  },
  {
   "metadata": {
    "ExecuteTime": {
     "end_time": "2024-11-28T19:20:38.875103Z",
     "start_time": "2024-11-28T19:20:38.180178Z"
    }
   },
   "cell_type": "code",
   "source": [
    "from matplotlib import pyplot as plt\n",
    "from scipy.cluster.hierarchy import linkage, fcluster, dendrogram\n",
    "import sys\n",
    "sys.setrecursionlimit(10000)\n",
    "\n",
    "Z = linkage(condensed_distance_matrix, \"complete\")\n",
    "\n",
    "#fig = plt.figure(figsize=(100, 10))\n",
    "#dn = dendrogram(Z)\n",
    "\n",
    "clustering = fcluster(Z, t=1.1, criterion='inconsistent', depth=2)\n",
    "clustering = fcluster(Z, t=10, criterion='maxclust', depth=2)"
   ],
   "id": "40948d83d0e72c94",
   "outputs": [],
   "execution_count": 7
  },
  {
   "metadata": {
    "ExecuteTime": {
     "end_time": "2024-11-28T19:20:39.235420Z",
     "start_time": "2024-11-28T19:20:39.231505Z"
    }
   },
   "cell_type": "code",
   "source": [
    "for i in range(1, len(np.unique(clustering))+1):\n",
    "    print(f\"{i}: {sum(clustering == i)}\")"
   ],
   "id": "31c94a020d34e415",
   "outputs": [
    {
     "name": "stdout",
     "output_type": "stream",
     "text": [
      "1: 2\n",
      "2: 1\n",
      "3: 5\n",
      "4: 2\n",
      "5: 3\n",
      "6: 186\n",
      "7: 1\n",
      "8: 1\n",
      "9: 1\n",
      "10: 1\n"
     ]
    }
   ],
   "execution_count": 8
  },
  {
   "metadata": {
    "ExecuteTime": {
     "end_time": "2024-11-28T21:21:56.086755Z",
     "start_time": "2024-11-28T21:21:55.910376Z"
    }
   },
   "cell_type": "code",
   "source": [
    "bool_array = clustering == 9\n",
    "\n",
    "loopy_flight_cluster = filter_flights(filter_by_bools(bool_array), loopy_flights)\n",
    "loopy_flight_cluster_pers = list(filter(filter_by_bools(bool_array), loopy_flights_pers))\n",
    "print(len(loopy_flight_cluster))\n",
    "Traffic.from_flights(loopy_flight_cluster).map_leaflet()"
   ],
   "id": "4d60ff156f2f75de",
   "outputs": [
    {
     "name": "stdout",
     "output_type": "stream",
     "text": [
      "1\n"
     ]
    },
    {
     "data": {
      "text/plain": [
       "Map(center=[40.20710022113101, 2.44426576263412], controls=(ZoomControl(options=['position', 'zoom_in_text', '…"
      ],
      "application/vnd.jupyter.widget-view+json": {
       "version_major": 2,
       "version_minor": 0,
       "model_id": "f8966b3502b74bc493a0009b8e00239f"
      }
     },
     "execution_count": 31,
     "metadata": {},
     "output_type": "execute_result"
    }
   ],
   "execution_count": 31
  },
  {
   "metadata": {
    "ExecuteTime": {
     "end_time": "2024-11-28T21:21:57.045517Z",
     "start_time": "2024-11-28T21:21:56.943985Z"
    }
   },
   "cell_type": "code",
   "source": "loopy_flight_cluster[0].map_leaflet()",
   "id": "2b39c47876c31b33",
   "outputs": [
    {
     "data": {
      "text/plain": [
       "Map(center=[40.20710022113101, 2.44426576263412], controls=(ZoomControl(options=['position', 'zoom_in_text', '…"
      ],
      "application/vnd.jupyter.widget-view+json": {
       "version_major": 2,
       "version_minor": 0,
       "model_id": "a43b71d872c24fd5867d2dd5b6ea7247"
      }
     },
     "execution_count": 32,
     "metadata": {},
     "output_type": "execute_result"
    }
   ],
   "execution_count": 32
  },
  {
   "metadata": {
    "ExecuteTime": {
     "end_time": "2024-11-28T21:21:59.608832Z",
     "start_time": "2024-11-28T21:21:59.472870Z"
    }
   },
   "cell_type": "code",
   "source": [
    "gudhi.plot_persistence_diagram(loopy_flight_cluster_pers[0].persistence())\n",
    "[plt.show()]"
   ],
   "id": "72e68db0661bfaeb",
   "outputs": [
    {
     "data": {
      "text/plain": [
       "<Figure size 640x480 with 1 Axes>"
      ],
      "image/png": "[encoded data removed]"
     },
     "metadata": {},
     "output_type": "display_data"
    },
    {
     "data": {
      "text/plain": [
       "[None]"
      ]
     },
     "execution_count": 33,
     "metadata": {},
     "output_type": "execute_result"
    }
   ],
   "execution_count": 33
  },
  {
   "metadata": {},
   "cell_type": "markdown",
   "source": [
    "* cluster 1: 2 cycles\n",
    "* cluster 2: 1 cycle, 1 small cycle\n",
    "* cluster 3: 1 cycle\n",
    "* cluster 4: seemingly random?\n",
    "* cluster 5: 1 small cycle\n",
    "* cluster 6: 1 or multiple small cycles\n",
    "* cluster 7: 1 cycle\n",
    "* cluster 8: 1 large cycle\n",
    "* cluster 9: 2 cycles\n",
    "* cluster 10: 2 large cycles"
   ],
   "id": "1f646b6bb95a26e2"
  },
  {
   "metadata": {
    "ExecuteTime": {
     "end_time": "2024-11-28T19:20:40.241185700Z",
     "start_time": "2024-11-20T20:14:36.685096Z"
    }
   },
   "cell_type": "code",
   "source": [
    "from datetime import timedelta\n",
    "\n",
    "time_gap_threshold = timedelta(seconds= 60)  # Adjust based on your data\n",
    "\n",
    "# List to store individual Flight objects after splitting\n",
    "flights = []\n",
    "\n",
    "for flight in filtered_flights:\n",
    "    # Calculate time differences between consecutive rows\n",
    "    time_diffs = np.diff(flight.data[\"timestamp\"])\n",
    "    \n",
    "    # Identify indices where the time gap exceeds the threshold\n",
    "    split_indices = np.where(time_diffs > time_gap_threshold)[0]\n",
    "    \n",
    "    # Split the DataFrame into segments\n",
    "    dfs = []\n",
    "    start_idx = 0\n",
    "    for split_idx in split_indices:\n",
    "        # Add the segment up to the split point\n",
    "        dfs.append(flight.data.iloc[start_idx : split_idx + 1])\n",
    "        start_idx = split_idx + 1\n",
    "    # Add the final segment\n",
    "    dfs.append(flight.data.iloc[start_idx:])\n",
    "    \n",
    "    # Convert each DataFrame segment into a Flight object\n",
    "    for df in dfs:\n",
    "        flights.append(Flight(df))\n",
    "\n",
    "# Combine all the split flights into a single Traffic object\n",
    "split_traffic = Traffic.from_flights(flights)"
   ],
   "id": "5193b2443ec4250e",
   "outputs": [],
   "execution_count": 34
  },
  {
   "metadata": {
    "ExecuteTime": {
     "end_time": "2024-11-28T19:20:40.241185700Z",
     "start_time": "2024-11-20T20:14:42.623900Z"
    }
   },
   "cell_type": "code",
   "source": "len(flights)",
   "id": "45abbdc25ddd8e75",
   "outputs": [
    {
     "data": {
      "text/plain": [
       "187"
      ]
     },
     "execution_count": 35,
     "metadata": {},
     "output_type": "execute_result"
    }
   ],
   "execution_count": 35
  },
  {
   "metadata": {},
   "cell_type": "code",
   "source": "flights:",
   "id": "e30883a72c0694e9",
   "outputs": [],
   "execution_count": null
  }
 ],
 "metadata": {
  "kernelspec": {
   "display_name": "Python 3",
   "language": "python",
   "name": "python3"
  },
  "language_info": {
   "codemirror_mode": {
    "name": "ipython",
    "version": 2
   },
   "file_extension": ".py",
   "mimetype": "text/x-python",
   "name": "python",
   "nbconvert_exporter": "python",
   "pygments_lexer": "ipython2",
   "version": "2.7.6"
  }
 },
 "nbformat": 4,
 "nbformat_minor": 5
}
