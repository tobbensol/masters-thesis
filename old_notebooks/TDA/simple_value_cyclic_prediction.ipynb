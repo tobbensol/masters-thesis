{
 "cells": [
  {
   "cell_type": "code",
   "id": "initial_id",
   "metadata": {
    "collapsed": true,
    "ExecuteTime": {
     "end_time": "2024-11-14T17:06:27.955773Z",
     "start_time": "2024-11-14T17:06:23.077167Z"
    }
   },
   "source": [
    "import numpy as np\n",
    "import pandas as pd\n",
    "\n",
    "from functions.data_loading import get_filtered_data_range, get_data_range, get_flight_persistence, get_wind_direction\n",
    "from functions.data_filtering import complete_flight_filter\n",
    "from functions.data_processing import get_takeoff_and_landing_directions, prepare_wind_data\n",
    "\n",
    "from sklearn.model_selection import train_test_split\n",
    "from sklearn import metrics\n",
    "\n",
    "from datetime import datetime\n",
    "from tqdm import tqdm\n",
    "from traffic.core import Traffic, Flight"
   ],
   "outputs": [],
   "execution_count": 2
  },
  {
   "metadata": {
    "ExecuteTime": {
     "end_time": "2024-11-14T17:06:57.733247Z",
     "start_time": "2024-11-14T17:06:27.958781Z"
    }
   },
   "cell_type": "code",
   "source": [
    "origin = \"bergen\"\n",
    "destination = \"oslo\"\n",
    "\n",
    "unfiltered_flights, file_name = get_data_range(origin, destination, datetime(year=2023, month=1, day=1), datetime(year=2024, month=1, day=1))\n",
    "filtered_flights, file_name = get_filtered_data_range(unfiltered_flights, file_name, complete_flight_filter(origin, destination))\n",
    "persistences, file_name = get_flight_persistence(filtered_flights, file_name)"
   ],
   "id": "f3115cf9e990a8df",
   "outputs": [],
   "execution_count": 3
  },
  {
   "metadata": {
    "ExecuteTime": {
     "end_time": "2024-11-14T17:08:08.715881Z",
     "start_time": "2024-11-14T17:07:12.940569Z"
    }
   },
   "cell_type": "code",
   "source": [
    "origin = \"FLESLAND\"\n",
    "destination = \"GARDERMOEN\"\n",
    "\n",
    "origin_wind = prepare_wind_data(get_wind_direction(origin))\n",
    "destination_wind = prepare_wind_data(get_wind_direction(destination))\n",
    "\n",
    "directions = list(get_takeoff_and_landing_directions(filtered_flights))\n",
    "dataset = pd.DataFrame(directions)\n",
    "\n",
    "dataset.rename({0: \"start_time\",  1: \"end_time\", 2: \"start_direction\", 3: \"end_direction\"}, axis=1, inplace=True)\n",
    "dataset['start_x'], dataset['start_y']  = np.sin(dataset['start_direction']), np.cos(dataset['start_direction'])\n",
    "dataset['end_x'], dataset['end_y'] = np.sin(dataset['end_direction']), np.cos(dataset['end_direction'])\n",
    "dataset['start_time'] = pd.to_datetime(dataset['start_time']).dt.round(\"s\")\n",
    "dataset['end_time'] = pd.to_datetime(dataset['end_time']).dt.round(\"s\")\n",
    "\n",
    "merged_start = pd.merge(origin_wind, dataset, how=\"right\", left_on=\"time\", right_on=\"start_time\")\n",
    "merged_end = pd.merge(destination_wind, dataset, how=\"right\", left_on=\"time\", right_on=\"end_time\")\n",
    "\n",
    "final_dataset = pd.DataFrame({\n",
    "    'start_wind_x': merged_start['x'],\n",
    "    'start_wind_y': merged_start['y'],\n",
    "    'start_wind_speed': merged_start['wind_speed'],\n",
    "    'end_wind_x': merged_end['x'],\n",
    "    'end_wind_y': merged_end['y'],\n",
    "    'end_wind_speed': merged_end['wind_speed']\n",
    "}).to_numpy()"
   ],
   "id": "7395f080db06ae8d",
   "outputs": [],
   "execution_count": 4
  },
  {
   "metadata": {
    "ExecuteTime": {
     "end_time": "2024-11-14T17:08:13.486054Z",
     "start_time": "2024-11-14T17:08:08.731757Z"
    }
   },
   "cell_type": "code",
   "source": [
    "rows = []\n",
    "for flight, wind in tqdm(zip(filtered_flights, final_dataset)):\n",
    "    data = flight.data.copy(deep=True)\n",
    "    \n",
    "    unwrapped = np.unwrap(np.deg2rad(data[\"heading\"]), period=2 * np.pi, discont=np.pi)\n",
    "    unwrapped_diff = unwrapped.max() - unwrapped.min()\n",
    "    \n",
    "    length = (data[\"timestamp\"].max() - data[\"timestamp\"].min()).total_seconds()\n",
    "    \n",
    "    max_velocity = data[\"velocity\"].max()\n",
    "    min_velocity = data[\"velocity\"].min()\n",
    "    \n",
    "    start_wind_x = wind[0]\n",
    "    start_wind_y = wind[1]\n",
    "    start_wind_speed = wind[2]\n",
    "    end_wind_x = wind[0]\n",
    "    end_wind_y = wind[1]\n",
    "    end_wind_speed = wind[2]\n",
    "    \n",
    "    row = [unwrapped_diff, length, start_wind_x, start_wind_y, start_wind_speed, end_wind_x, end_wind_y, end_wind_speed]\n",
    "    rows.append(row)\n",
    "\n",
    "# Convert the list of rows into a NumPy array\n",
    "final_array = np.array(rows)"
   ],
   "id": "4b68e582fe83a138",
   "outputs": [
    {
     "name": "stderr",
     "output_type": "stream",
     "text": [
      "3219it [00:04, 678.76it/s] \n"
     ]
    }
   ],
   "execution_count": 5
  },
  {
   "metadata": {
    "ExecuteTime": {
     "end_time": "2024-11-14T17:08:26.447661Z",
     "start_time": "2024-11-14T17:08:13.516905Z"
    }
   },
   "cell_type": "code",
   "source": [
    "cycle_amount_labels = []\n",
    "is_cyclic_labels = []\n",
    "for tree in persistences:\n",
    "    persistence = tree.persistence()\n",
    "\n",
    "    more_than_00001 = len([x for x in persistence if  x[0] == 1 and x[1][1] - x[1][0] > 0.0001])\n",
    "    is_cyclic_labels.append(1 if more_than_00001 else 0)\n",
    "    cycle_amount_labels.append(more_than_00001)\n",
    "    \n",
    "cycle_amount_labels = np.array(cycle_amount_labels)\n",
    "is_cyclic_labels = np.array(is_cyclic_labels)\n",
    "\n"
   ],
   "id": "f4b26ba16df8b992",
   "outputs": [],
   "execution_count": 6
  },
  {
   "metadata": {
    "ExecuteTime": {
     "end_time": "2024-11-14T17:51:29.145424Z",
     "start_time": "2024-11-14T17:51:29.141461Z"
    }
   },
   "cell_type": "code",
   "source": [
    "x_train, x_val_test, y_train, y_val_test = train_test_split(final_array, cycle_amount_labels, test_size=0.3)\n",
    "x_val, x_test, y_val, y_test = train_test_split(x_val_test, y_val_test, test_size=0.5)"
   ],
   "id": "e377fe120fbcdb76",
   "outputs": [],
   "execution_count": 31
  },
  {
   "metadata": {
    "ExecuteTime": {
     "end_time": "2024-11-14T17:51:29.394963Z",
     "start_time": "2024-11-14T17:51:29.390698Z"
    }
   },
   "cell_type": "code",
   "source": [
    "from sklearn.neural_network import MLPRegressor\n",
    "from sklearn.dummy import DummyRegressor\n",
    "from sklearn.ensemble import RandomForestRegressor\n",
    "from sklearn.tree import DecisionTreeRegressor\n",
    "from sklearn.neighbors import KNeighborsRegressor\n",
    "\n",
    "models = {\n",
    "    \"Base line\" : [DummyRegressor(strategy = \"mean\"), {\n",
    "    \n",
    "    }],\n",
    "    \"Multi-layer Perception\" : [MLPRegressor(random_state=42, max_iter = 10000), {\n",
    "        \"hidden_layer_sizes\" : [10, 25, 50], \n",
    "    }],\n",
    "    \"K Nearest Neighbors\" : [KNeighborsRegressor(), {\n",
    "        \"n_neighbors\" : [5, 10, 20, 40], \n",
    "        \"p\": [1, 2, 3]\n",
    "    }],\n",
    "    \"Random Forrest Regressor\" : [RandomForestRegressor(random_state=42), {\n",
    "        \"max_depth\": [2, 3], \n",
    "        \"n_estimators\" : [50, 100, 300]\n",
    "    }],\n",
    "    \"Decision Tree Regressor\" : [DecisionTreeRegressor(random_state=42), {\n",
    "        \"min_samples_split\" : [2, 3, 4],\n",
    "        \"min_samples_leaf\" : [1, 2, 3]\n",
    "    }],\n",
    "}"
   ],
   "id": "8c43a7ae8cd1b91",
   "outputs": [],
   "execution_count": 32
  },
  {
   "metadata": {
    "ExecuteTime": {
     "end_time": "2024-11-14T17:51:51.079462Z",
     "start_time": "2024-11-14T17:51:29.690232Z"
    }
   },
   "cell_type": "code",
   "source": [
    "from sklearn.metrics import balanced_accuracy_score\n",
    "from sklearn.model_selection import GridSearchCV\n",
    "\n",
    "datalist = []\n",
    "\n",
    "for i in models.keys():\n",
    "    model = GridSearchCV(models[i][0], models[i][1])\n",
    "    prediction = model.fit(x_train, y_train).predict(x_test)\n",
    "    \n",
    "    accuracy = balanced_accuracy_score(y_test, np.round(prediction))\n",
    "    datalist.append([model.best_estimator_, accuracy])"
   ],
   "id": "bb837b2266b2f743",
   "outputs": [
    {
     "name": "stderr",
     "output_type": "stream",
     "text": [
      "C:\\Users\\tobso\\Desktop\\programering\\masters-thesis\\venv\\Lib\\site-packages\\sklearn\\metrics\\_classification.py:2480: UserWarning: y_pred contains classes not in y_true\n",
      "  warnings.warn(\"y_pred contains classes not in y_true\")\n"
     ]
    }
   ],
   "execution_count": 33
  },
  {
   "metadata": {
    "ExecuteTime": {
     "end_time": "2024-11-14T17:51:51.184904Z",
     "start_time": "2024-11-14T17:51:51.181874Z"
    }
   },
   "cell_type": "code",
   "source": [
    "for i, j in datalist:\n",
    "    print(f\"{i.__repr__(): <70}: {j: .3}\")"
   ],
   "id": "24237c54e6d70a19",
   "outputs": [
    {
     "name": "stdout",
     "output_type": "stream",
     "text": [
      "DummyRegressor()                                                      :  0.333\n",
      "MLPRegressor(hidden_layer_sizes=50, max_iter=10000, random_state=42)  :  0.556\n",
      "KNeighborsRegressor(n_neighbors=40, p=1)                              :  0.495\n",
      "RandomForestRegressor(max_depth=2, random_state=42)                   :  0.667\n",
      "DecisionTreeRegressor(min_samples_leaf=2, random_state=42)            :  0.889\n"
     ]
    }
   ],
   "execution_count": 34
  },
  {
   "metadata": {
    "ExecuteTime": {
     "end_time": "2024-11-14T17:51:51.288178Z",
     "start_time": "2024-11-14T17:51:51.281180Z"
    }
   },
   "cell_type": "code",
   "source": [
    "x_train_test = np.concatenate([x_train, x_test])\n",
    "y_train_test = np.concatenate([y_train, y_test])\n",
    "best_model = sorted(datalist, key=lambda x: x[1], reverse=True)[0][0]\n",
    "\n",
    "prediction = best_model.fit(x_train_test, y_train_test).predict(x_val)\n",
    "rounded_error = balanced_accuracy_score(y_val, np.round(prediction))\n",
    "print(f\"{best_model.__class__.__name__}: {rounded_error: .3}\")"
   ],
   "id": "5bf8a9955b7809f2",
   "outputs": [
    {
     "name": "stdout",
     "output_type": "stream",
     "text": [
      "DecisionTreeRegressor:  0.611\n"
     ]
    },
    {
     "name": "stderr",
     "output_type": "stream",
     "text": [
      "C:\\Users\\tobso\\Desktop\\programering\\masters-thesis\\venv\\Lib\\site-packages\\sklearn\\metrics\\_classification.py:2480: UserWarning: y_pred contains classes not in y_true\n",
      "  warnings.warn(\"y_pred contains classes not in y_true\")\n"
     ]
    }
   ],
   "execution_count": 35
  },
  {
   "metadata": {
    "ExecuteTime": {
     "end_time": "2024-11-14T17:51:51.416449Z",
     "start_time": "2024-11-14T17:51:51.412920Z"
    }
   },
   "cell_type": "code",
   "source": "metrics.confusion_matrix(y_val, np.round(prediction))",
   "id": "32abe4a8a572ea5c",
   "outputs": [
    {
     "data": {
      "text/plain": [
       "array([[476,   0,   0,   0],\n",
       "       [  1,   5,   0,   0],\n",
       "       [  0,   0,   0,   0],\n",
       "       [  0,   0,   1,   0]], dtype=int64)"
      ]
     },
     "execution_count": 36,
     "metadata": {},
     "output_type": "execute_result"
    }
   ],
   "execution_count": 36
  },
  {
   "metadata": {
    "ExecuteTime": {
     "end_time": "2024-11-14T17:53:21.089160Z",
     "start_time": "2024-11-14T17:53:21.085336Z"
    }
   },
   "cell_type": "code",
   "source": [
    "x_train, x_val_test, y_train, y_val_test = train_test_split(final_array, is_cyclic_labels, test_size=0.3)\n",
    "x_val, x_test, y_val, y_test = train_test_split(x_val_test, y_val_test, test_size=0.5)"
   ],
   "id": "2744d6a75d850e96",
   "outputs": [],
   "execution_count": 43
  },
  {
   "metadata": {
    "ExecuteTime": {
     "end_time": "2024-11-14T17:53:21.243692Z",
     "start_time": "2024-11-14T17:53:21.240357Z"
    }
   },
   "cell_type": "code",
   "source": [
    "from sklearn.neural_network import MLPClassifier\n",
    "from sklearn.dummy import DummyClassifier\n",
    "from sklearn.ensemble import RandomForestClassifier\n",
    "from sklearn.tree import DecisionTreeClassifier\n",
    "from sklearn.neighbors import KNeighborsClassifier\n",
    "\n",
    "models = {\n",
    "    \"Base line\": [DummyClassifier(strategy=\"most_frequent\"), {\n",
    "\n",
    "    }],\n",
    "    \"Multi-layer Perception\": [MLPClassifier(random_state=42, max_iter=10000), {\n",
    "        \"hidden_layer_sizes\": [10, 25, 50],\n",
    "    }],\n",
    "    \"K Nearest Neighbors\": [KNeighborsClassifier(), {\n",
    "        \"n_neighbors\": [5, 10, 20, 40],\n",
    "        \"p\": [1, 2, 3]\n",
    "    }],\n",
    "    \"Random Forrest Regressor\": [RandomForestClassifier(random_state=42), {\n",
    "        \"max_depth\": [2, 3],\n",
    "        \"n_estimators\": [50, 100, 300]\n",
    "    }],\n",
    "    \"Decision Tree Regressor\": [DecisionTreeClassifier(random_state=42), {\n",
    "        \"min_samples_split\": [2, 3, 4],\n",
    "        \"min_samples_leaf\": [1, 2, 3]\n",
    "    }],\n",
    "}"
   ],
   "id": "734edbb4a61ca7a2",
   "outputs": [],
   "execution_count": 44
  },
  {
   "metadata": {
    "ExecuteTime": {
     "end_time": "2024-11-14T17:53:27.883560Z",
     "start_time": "2024-11-14T17:53:21.412220Z"
    }
   },
   "cell_type": "code",
   "source": [
    "datalist = []\n",
    "\n",
    "for i in models.keys():\n",
    "    model = GridSearchCV(models[i][0], models[i][1])\n",
    "    prediction = model.fit(x_train, y_train).predict(x_test)\n",
    "\n",
    "    accuracy = balanced_accuracy_score(y_test, np.round(prediction))\n",
    "    datalist.append([model.best_estimator_, accuracy])"
   ],
   "id": "1712739bc04ca7cb",
   "outputs": [],
   "execution_count": 45
  },
  {
   "metadata": {
    "ExecuteTime": {
     "end_time": "2024-11-14T17:53:27.892047Z",
     "start_time": "2024-11-14T17:53:27.888088Z"
    }
   },
   "cell_type": "code",
   "source": [
    "for i, j in datalist:\n",
    "    print(f\"{i.__repr__(): <70}: {j: .3}\")"
   ],
   "id": "61276c63c4e47c77",
   "outputs": [
    {
     "name": "stdout",
     "output_type": "stream",
     "text": [
      "DummyClassifier(strategy='most_frequent')                             :  0.5\n",
      "MLPClassifier(hidden_layer_sizes=50, max_iter=10000, random_state=42) :  0.5\n",
      "KNeighborsClassifier(p=1)                                             :  0.697\n",
      "RandomForestClassifier(max_depth=3, n_estimators=50, random_state=42) :  0.9\n",
      "DecisionTreeClassifier(min_samples_leaf=3, random_state=42)           :  1.0\n"
     ]
    }
   ],
   "execution_count": 46
  },
  {
   "metadata": {
    "ExecuteTime": {
     "end_time": "2024-11-14T17:53:28.001838Z",
     "start_time": "2024-11-14T17:53:27.994539Z"
    }
   },
   "cell_type": "code",
   "source": [
    "best_model = sorted(datalist, key=lambda x: x[1], reverse=True)[0][0]\n",
    "x_train_test = np.concatenate([x_train, x_test])\n",
    "y_train_test = np.concatenate([y_train, y_test])\n",
    "\n",
    "prediction = best_model.fit(x_train_test, y_train_test).predict(x_val)\n",
    "rounded_error = balanced_accuracy_score(y_val, np.round(prediction))\n",
    "print(f\"{best_model.__class__.__name__}: {rounded_error: .3}\")"
   ],
   "id": "78e1a629c99e742f",
   "outputs": [
    {
     "name": "stdout",
     "output_type": "stream",
     "text": [
      "DecisionTreeClassifier:  0.999\n"
     ]
    }
   ],
   "execution_count": 47
  },
  {
   "metadata": {
    "ExecuteTime": {
     "end_time": "2024-11-14T17:53:28.085979Z",
     "start_time": "2024-11-14T17:53:28.081957Z"
    }
   },
   "cell_type": "code",
   "source": "metrics.confusion_matrix(y_val, np.round(prediction))",
   "id": "427cba01db62230b",
   "outputs": [
    {
     "data": {
      "text/plain": [
       "array([[477,   1],\n",
       "       [  0,   5]], dtype=int64)"
      ]
     },
     "execution_count": 48,
     "metadata": {},
     "output_type": "execute_result"
    }
   ],
   "execution_count": 48
  },
  {
   "metadata": {},
   "cell_type": "markdown",
   "source": "main issue: not enough data with loops! ",
   "id": "444985625cee40a0"
  },
  {
   "metadata": {
    "ExecuteTime": {
     "end_time": "2024-11-27T11:41:07.980606Z",
     "start_time": "2024-11-27T11:41:07.878609Z"
    }
   },
   "cell_type": "code",
   "source": [
    "import gudhi\n",
    "import matplotlib.pyplot as plt\n",
    "import numpy as np\n",
    "\n",
    "def build_sublevelset_filtration(Y):\n",
    "    \"\"\"\n",
    "    Y: array-like\n",
    "        Array of function values\n",
    "    \"\"\"\n",
    "    st = gudhi.SimplexTree()\n",
    "    for i in range(len(Y)):\n",
    "        # 0-simplices\n",
    "        st.insert([i], filtration=Y[i])\n",
    "\n",
    "        if i < len(Y) - 1:\n",
    "            # 1-simplices\n",
    "            st.insert([i, i + 1], filtration=max(Y[i], Y[i + 1]))\n",
    "\n",
    "    return st\n",
    "\n",
    "# Create some data\n",
    "N = 100\n",
    "f = lambda x: np.sin(2 * x) ** 2 + .5 * np.exp(-(x - 1) ** 2)\n",
    "X = np.linspace(-np.pi, np.pi, N)\n",
    "Y = f(X)\n",
    "\n",
    "# Build sublevelset filtration and compute persistence\n",
    "st = build_sublevelset_filtration(Y)\n",
    "diag = st.persistence()\n",
    "\n",
    "# Plot persistence diagram and function\n",
    "fig, axs = plt.subplots(1, 2, figsize=(10, 5))\n",
    "gudhi.plot_persistence_diagram(diag, axes=axs[0])\n",
    "axs[1].plot(X, Y)\n",
    "plt.show()"
   ],
   "id": "bd20d53022a03270",
   "outputs": [
    {
     "data": {
      "text/plain": [
       "<Figure size 1000x500 with 2 Axes>"
      ],
      "image/png": "[encoded data removed]"
     },
     "metadata": {},
     "output_type": "display_data"
    }
   ],
   "execution_count": 6
  },
  {
   "metadata": {
    "ExecuteTime": {
     "end_time": "2024-11-27T11:41:22.973121Z",
     "start_time": "2024-11-27T11:41:22.969804Z"
    }
   },
   "cell_type": "code",
   "source": "diag",
   "id": "e43c45c472be6deb",
   "outputs": [
    {
     "data": {
      "text/plain": [
       "[(0, (1.77667538232862e-08, inf)),\n",
       " (0, (0.005094639989002971, 1.478841983822227)),\n",
       " (0, (0.0017378695144313035, 0.9977414243024423)),\n",
       " (0, (0.17647729136769025, 1.0198051124970193)),\n",
       " (0, (0.3501419718978522, 1.0820744049149742))]"
      ]
     },
     "execution_count": 7,
     "metadata": {},
     "output_type": "execute_result"
    }
   ],
   "execution_count": 7
  }
 ],
 "metadata": {
  "kernelspec": {
   "display_name": "Python 3",
   "language": "python",
   "name": "python3"
  },
  "language_info": {
   "codemirror_mode": {
    "name": "ipython",
    "version": 2
   },
   "file_extension": ".py",
   "mimetype": "text/x-python",
   "name": "python",
   "nbconvert_exporter": "python",
   "pygments_lexer": "ipython2",
   "version": "2.7.6"
  }
 },
 "nbformat": 4,
 "nbformat_minor": 5
}
