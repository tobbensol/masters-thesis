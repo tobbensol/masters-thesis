{
 "cells": [
  {
   "cell_type": "code",
   "id": "initial_id",
   "metadata": {
    "collapsed": true,
    "ExecuteTime": {
     "end_time": "2025-04-23T13:47:55.714289Z",
     "start_time": "2025-04-23T13:47:51.258487Z"
    }
   },
   "source": [
    "%load_ext autoreload\n",
    "%autoreload 2\n",
    "\n",
    "import datetime\n",
    "\n",
    "import numpy as np\n",
    "import pandas as pd\n",
    "import gudhi\n",
    "\n",
    "from traffic.core import Traffic, Flight\n",
    "from functions.data_filtering import ICAO_codes, large_gap_filter\n",
    "from functions.data_processing import flight_persistence, sublevelset_persistence, remove_outliers_z_score, remove_outliers_dbscan\n",
    "from functions.data_loading import linkage_cluster_persistances, flights_from_query\n",
    "\n",
    "from scipy.cluster.hierarchy import fcluster\n",
    "from matplotlib import pyplot as plt"
   ],
   "outputs": [],
   "execution_count": 2
  },
  {
   "metadata": {
    "ExecuteTime": {
     "end_time": "2025-04-23T13:47:55.998457Z",
     "start_time": "2025-04-23T13:47:55.717294Z"
    }
   },
   "cell_type": "code",
   "source": [
    "# load minimum data set\n",
    "df = pd.read_csv(\"../../data/GA_dataset.pkl\", low_memory=False)\n",
    "df[\"time\"] = pd.to_datetime(df[\"time\"])\n",
    "\n",
    "start = datetime.datetime(year=2019, month=1, day=1).replace(\n",
    "    tzinfo=datetime.timezone.utc\n",
    ")\n",
    "stop = datetime.datetime(year=2024, month=1, day=1).replace(\n",
    "    tzinfo=datetime.timezone.utc\n",
    ")"
   ],
   "id": "7216eca7a9aefc03",
   "outputs": [
    {
     "ename": "UnicodeDecodeError",
     "evalue": "'utf-8' codec can't decode byte 0x80 in position 0: invalid start byte",
     "output_type": "error",
     "traceback": [
      "\u001B[1;31m---------------------------------------------------------------------------\u001B[0m",
      "\u001B[1;31mUnicodeDecodeError\u001B[0m                        Traceback (most recent call last)",
      "Cell \u001B[1;32mIn[3], line 2\u001B[0m\n\u001B[0;32m      1\u001B[0m \u001B[38;5;66;03m# load minimum data set\u001B[39;00m\n\u001B[1;32m----> 2\u001B[0m df \u001B[38;5;241m=\u001B[39m \u001B[43mpd\u001B[49m\u001B[38;5;241;43m.\u001B[39;49m\u001B[43mread_csv\u001B[49m\u001B[43m(\u001B[49m\u001B[38;5;124;43m\"\u001B[39;49m\u001B[38;5;124;43m../../data/GA_dataset.pkl\u001B[39;49m\u001B[38;5;124;43m\"\u001B[39;49m\u001B[43m,\u001B[49m\u001B[43m \u001B[49m\u001B[43mlow_memory\u001B[49m\u001B[38;5;241;43m=\u001B[39;49m\u001B[38;5;28;43;01mFalse\u001B[39;49;00m\u001B[43m)\u001B[49m\n\u001B[0;32m      3\u001B[0m df[\u001B[38;5;124m\"\u001B[39m\u001B[38;5;124mtime\u001B[39m\u001B[38;5;124m\"\u001B[39m] \u001B[38;5;241m=\u001B[39m pd\u001B[38;5;241m.\u001B[39mto_datetime(df[\u001B[38;5;124m\"\u001B[39m\u001B[38;5;124mtime\u001B[39m\u001B[38;5;124m\"\u001B[39m])\n\u001B[0;32m      5\u001B[0m start \u001B[38;5;241m=\u001B[39m datetime\u001B[38;5;241m.\u001B[39mdatetime(year\u001B[38;5;241m=\u001B[39m\u001B[38;5;241m2019\u001B[39m, month\u001B[38;5;241m=\u001B[39m\u001B[38;5;241m1\u001B[39m, day\u001B[38;5;241m=\u001B[39m\u001B[38;5;241m1\u001B[39m)\u001B[38;5;241m.\u001B[39mreplace(\n\u001B[0;32m      6\u001B[0m     tzinfo\u001B[38;5;241m=\u001B[39mdatetime\u001B[38;5;241m.\u001B[39mtimezone\u001B[38;5;241m.\u001B[39mutc\n\u001B[0;32m      7\u001B[0m )\n",
      "File \u001B[1;32m~\\Desktop\\programering\\masters-thesis\\venv\\Lib\\site-packages\\pandas\\io\\parsers\\readers.py:1026\u001B[0m, in \u001B[0;36mread_csv\u001B[1;34m(filepath_or_buffer, sep, delimiter, header, names, index_col, usecols, dtype, engine, converters, true_values, false_values, skipinitialspace, skiprows, skipfooter, nrows, na_values, keep_default_na, na_filter, verbose, skip_blank_lines, parse_dates, infer_datetime_format, keep_date_col, date_parser, date_format, dayfirst, cache_dates, iterator, chunksize, compression, thousands, decimal, lineterminator, quotechar, quoting, doublequote, escapechar, comment, encoding, encoding_errors, dialect, on_bad_lines, delim_whitespace, low_memory, memory_map, float_precision, storage_options, dtype_backend)\u001B[0m\n\u001B[0;32m   1013\u001B[0m kwds_defaults \u001B[38;5;241m=\u001B[39m _refine_defaults_read(\n\u001B[0;32m   1014\u001B[0m     dialect,\n\u001B[0;32m   1015\u001B[0m     delimiter,\n\u001B[1;32m   (...)\u001B[0m\n\u001B[0;32m   1022\u001B[0m     dtype_backend\u001B[38;5;241m=\u001B[39mdtype_backend,\n\u001B[0;32m   1023\u001B[0m )\n\u001B[0;32m   1024\u001B[0m kwds\u001B[38;5;241m.\u001B[39mupdate(kwds_defaults)\n\u001B[1;32m-> 1026\u001B[0m \u001B[38;5;28;01mreturn\u001B[39;00m \u001B[43m_read\u001B[49m\u001B[43m(\u001B[49m\u001B[43mfilepath_or_buffer\u001B[49m\u001B[43m,\u001B[49m\u001B[43m \u001B[49m\u001B[43mkwds\u001B[49m\u001B[43m)\u001B[49m\n",
      "File \u001B[1;32m~\\Desktop\\programering\\masters-thesis\\venv\\Lib\\site-packages\\pandas\\io\\parsers\\readers.py:620\u001B[0m, in \u001B[0;36m_read\u001B[1;34m(filepath_or_buffer, kwds)\u001B[0m\n\u001B[0;32m    617\u001B[0m _validate_names(kwds\u001B[38;5;241m.\u001B[39mget(\u001B[38;5;124m\"\u001B[39m\u001B[38;5;124mnames\u001B[39m\u001B[38;5;124m\"\u001B[39m, \u001B[38;5;28;01mNone\u001B[39;00m))\n\u001B[0;32m    619\u001B[0m \u001B[38;5;66;03m# Create the parser.\u001B[39;00m\n\u001B[1;32m--> 620\u001B[0m parser \u001B[38;5;241m=\u001B[39m \u001B[43mTextFileReader\u001B[49m\u001B[43m(\u001B[49m\u001B[43mfilepath_or_buffer\u001B[49m\u001B[43m,\u001B[49m\u001B[43m \u001B[49m\u001B[38;5;241;43m*\u001B[39;49m\u001B[38;5;241;43m*\u001B[39;49m\u001B[43mkwds\u001B[49m\u001B[43m)\u001B[49m\n\u001B[0;32m    622\u001B[0m \u001B[38;5;28;01mif\u001B[39;00m chunksize \u001B[38;5;129;01mor\u001B[39;00m iterator:\n\u001B[0;32m    623\u001B[0m     \u001B[38;5;28;01mreturn\u001B[39;00m parser\n",
      "File \u001B[1;32m~\\Desktop\\programering\\masters-thesis\\venv\\Lib\\site-packages\\pandas\\io\\parsers\\readers.py:1620\u001B[0m, in \u001B[0;36mTextFileReader.__init__\u001B[1;34m(self, f, engine, **kwds)\u001B[0m\n\u001B[0;32m   1617\u001B[0m     \u001B[38;5;28mself\u001B[39m\u001B[38;5;241m.\u001B[39moptions[\u001B[38;5;124m\"\u001B[39m\u001B[38;5;124mhas_index_names\u001B[39m\u001B[38;5;124m\"\u001B[39m] \u001B[38;5;241m=\u001B[39m kwds[\u001B[38;5;124m\"\u001B[39m\u001B[38;5;124mhas_index_names\u001B[39m\u001B[38;5;124m\"\u001B[39m]\n\u001B[0;32m   1619\u001B[0m \u001B[38;5;28mself\u001B[39m\u001B[38;5;241m.\u001B[39mhandles: IOHandles \u001B[38;5;241m|\u001B[39m \u001B[38;5;28;01mNone\u001B[39;00m \u001B[38;5;241m=\u001B[39m \u001B[38;5;28;01mNone\u001B[39;00m\n\u001B[1;32m-> 1620\u001B[0m \u001B[38;5;28mself\u001B[39m\u001B[38;5;241m.\u001B[39m_engine \u001B[38;5;241m=\u001B[39m \u001B[38;5;28;43mself\u001B[39;49m\u001B[38;5;241;43m.\u001B[39;49m\u001B[43m_make_engine\u001B[49m\u001B[43m(\u001B[49m\u001B[43mf\u001B[49m\u001B[43m,\u001B[49m\u001B[43m \u001B[49m\u001B[38;5;28;43mself\u001B[39;49m\u001B[38;5;241;43m.\u001B[39;49m\u001B[43mengine\u001B[49m\u001B[43m)\u001B[49m\n",
      "File \u001B[1;32m~\\Desktop\\programering\\masters-thesis\\venv\\Lib\\site-packages\\pandas\\io\\parsers\\readers.py:1898\u001B[0m, in \u001B[0;36mTextFileReader._make_engine\u001B[1;34m(self, f, engine)\u001B[0m\n\u001B[0;32m   1895\u001B[0m     \u001B[38;5;28;01mraise\u001B[39;00m \u001B[38;5;167;01mValueError\u001B[39;00m(msg)\n\u001B[0;32m   1897\u001B[0m \u001B[38;5;28;01mtry\u001B[39;00m:\n\u001B[1;32m-> 1898\u001B[0m     \u001B[38;5;28;01mreturn\u001B[39;00m \u001B[43mmapping\u001B[49m\u001B[43m[\u001B[49m\u001B[43mengine\u001B[49m\u001B[43m]\u001B[49m\u001B[43m(\u001B[49m\u001B[43mf\u001B[49m\u001B[43m,\u001B[49m\u001B[43m \u001B[49m\u001B[38;5;241;43m*\u001B[39;49m\u001B[38;5;241;43m*\u001B[39;49m\u001B[38;5;28;43mself\u001B[39;49m\u001B[38;5;241;43m.\u001B[39;49m\u001B[43moptions\u001B[49m\u001B[43m)\u001B[49m\n\u001B[0;32m   1899\u001B[0m \u001B[38;5;28;01mexcept\u001B[39;00m \u001B[38;5;167;01mException\u001B[39;00m:\n\u001B[0;32m   1900\u001B[0m     \u001B[38;5;28;01mif\u001B[39;00m \u001B[38;5;28mself\u001B[39m\u001B[38;5;241m.\u001B[39mhandles \u001B[38;5;129;01mis\u001B[39;00m \u001B[38;5;129;01mnot\u001B[39;00m \u001B[38;5;28;01mNone\u001B[39;00m:\n",
      "File \u001B[1;32m~\\Desktop\\programering\\masters-thesis\\venv\\Lib\\site-packages\\pandas\\io\\parsers\\c_parser_wrapper.py:93\u001B[0m, in \u001B[0;36mCParserWrapper.__init__\u001B[1;34m(self, src, **kwds)\u001B[0m\n\u001B[0;32m     90\u001B[0m \u001B[38;5;28;01mif\u001B[39;00m kwds[\u001B[38;5;124m\"\u001B[39m\u001B[38;5;124mdtype_backend\u001B[39m\u001B[38;5;124m\"\u001B[39m] \u001B[38;5;241m==\u001B[39m \u001B[38;5;124m\"\u001B[39m\u001B[38;5;124mpyarrow\u001B[39m\u001B[38;5;124m\"\u001B[39m:\n\u001B[0;32m     91\u001B[0m     \u001B[38;5;66;03m# Fail here loudly instead of in cython after reading\u001B[39;00m\n\u001B[0;32m     92\u001B[0m     import_optional_dependency(\u001B[38;5;124m\"\u001B[39m\u001B[38;5;124mpyarrow\u001B[39m\u001B[38;5;124m\"\u001B[39m)\n\u001B[1;32m---> 93\u001B[0m \u001B[38;5;28mself\u001B[39m\u001B[38;5;241m.\u001B[39m_reader \u001B[38;5;241m=\u001B[39m \u001B[43mparsers\u001B[49m\u001B[38;5;241;43m.\u001B[39;49m\u001B[43mTextReader\u001B[49m\u001B[43m(\u001B[49m\u001B[43msrc\u001B[49m\u001B[43m,\u001B[49m\u001B[43m \u001B[49m\u001B[38;5;241;43m*\u001B[39;49m\u001B[38;5;241;43m*\u001B[39;49m\u001B[43mkwds\u001B[49m\u001B[43m)\u001B[49m\n\u001B[0;32m     95\u001B[0m \u001B[38;5;28mself\u001B[39m\u001B[38;5;241m.\u001B[39munnamed_cols \u001B[38;5;241m=\u001B[39m \u001B[38;5;28mself\u001B[39m\u001B[38;5;241m.\u001B[39m_reader\u001B[38;5;241m.\u001B[39munnamed_cols\n\u001B[0;32m     97\u001B[0m \u001B[38;5;66;03m# error: Cannot determine type of 'names'\u001B[39;00m\n",
      "File \u001B[1;32mparsers.pyx:574\u001B[0m, in \u001B[0;36mpandas._libs.parsers.TextReader.__cinit__\u001B[1;34m()\u001B[0m\n",
      "File \u001B[1;32mparsers.pyx:663\u001B[0m, in \u001B[0;36mpandas._libs.parsers.TextReader._get_header\u001B[1;34m()\u001B[0m\n",
      "File \u001B[1;32mparsers.pyx:874\u001B[0m, in \u001B[0;36mpandas._libs.parsers.TextReader._tokenize_rows\u001B[1;34m()\u001B[0m\n",
      "File \u001B[1;32mparsers.pyx:891\u001B[0m, in \u001B[0;36mpandas._libs.parsers.TextReader._check_tokenize_status\u001B[1;34m()\u001B[0m\n",
      "File \u001B[1;32mparsers.pyx:2053\u001B[0m, in \u001B[0;36mpandas._libs.parsers.raise_parser_error\u001B[1;34m()\u001B[0m\n",
      "File \u001B[1;32m<frozen codecs>:322\u001B[0m, in \u001B[0;36mdecode\u001B[1;34m(self, input, final)\u001B[0m\n",
      "\u001B[1;31mUnicodeDecodeError\u001B[0m: 'utf-8' codec can't decode byte 0x80 in position 0: invalid start byte"
     ]
    }
   ],
   "execution_count": 3
  },
  {
   "metadata": {
    "ExecuteTime": {
     "end_time": "2025-04-23T13:47:56.067548200Z",
     "start_time": "2025-04-23T13:47:45.635436Z"
    }
   },
   "cell_type": "code",
   "source": [
    "with_GA = df.query(f\"has_ga & (@start <= time <= @stop)\")\n",
    "without_GA = df.query(f\"not has_ga & (@start <= time <= @stop)\")\n",
    "\n",
    "plt.hist(with_GA[\"n_approaches\"])"
   ],
   "id": "27d16911b5f1cc94",
   "outputs": [
    {
     "ename": "NameError",
     "evalue": "name 'df' is not defined",
     "output_type": "error",
     "traceback": [
      "\u001B[1;31m---------------------------------------------------------------------------\u001B[0m",
      "\u001B[1;31mNameError\u001B[0m                                 Traceback (most recent call last)",
      "Cell \u001B[1;32mIn[1], line 1\u001B[0m\n\u001B[1;32m----> 1\u001B[0m with_GA \u001B[38;5;241m=\u001B[39m \u001B[43mdf\u001B[49m\u001B[38;5;241m.\u001B[39mquery(\u001B[38;5;124mf\u001B[39m\u001B[38;5;124m\"\u001B[39m\u001B[38;5;124mhas_ga & (@start <= time <= @stop)\u001B[39m\u001B[38;5;124m\"\u001B[39m)\n\u001B[0;32m      2\u001B[0m without_GA \u001B[38;5;241m=\u001B[39m df\u001B[38;5;241m.\u001B[39mquery(\u001B[38;5;124mf\u001B[39m\u001B[38;5;124m\"\u001B[39m\u001B[38;5;124mnot has_ga & (@start <= time <= @stop)\u001B[39m\u001B[38;5;124m\"\u001B[39m)\n\u001B[0;32m      4\u001B[0m plt\u001B[38;5;241m.\u001B[39mhist(with_GA[\u001B[38;5;124m\"\u001B[39m\u001B[38;5;124mn_approaches\u001B[39m\u001B[38;5;124m\"\u001B[39m])\n",
      "\u001B[1;31mNameError\u001B[0m: name 'df' is not defined"
     ]
    }
   ],
   "execution_count": 1
  },
  {
   "metadata": {
    "ExecuteTime": {
     "end_time": "2025-03-31T14:05:03.156898Z",
     "start_time": "2025-03-31T14:05:02.763914Z"
    }
   },
   "cell_type": "code",
   "source": [
    "approach_1 = df.query(f\"n_approaches==1 & (@start <= time <= @stop)\")\n",
    "approach_2 = df.query(f\"n_approaches==2 & (@start <= time <= @stop)\")\n",
    "approach_3 = df.query(f\"n_approaches==3 & (@start <= time <= @stop)\")\n",
    "approach_4 = df.query(f\"n_approaches==4 & (@start <= time <= @stop)\")\n",
    "\n",
    "count_4 = approach_4.shape[0]\n",
    "count_3 = min(approach_3.shape[0], count_4*2)\n",
    "count_2 = min(approach_2.shape[0], count_3*2)\n",
    "count_1 = min(approach_1.shape[0], count_2*2)\n",
    "\n",
    "approach_3 = approach_3.sample(n=count_3, random_state=42)\n",
    "approach_2 = approach_2.sample(n=count_2, random_state=42)\n",
    "approach_1 = approach_1.sample(n=count_1, random_state=42)\n",
    "query = pd.concat([approach_1, approach_2, approach_3, approach_4], axis=0)"
   ],
   "id": "d2992107122859a6",
   "outputs": [],
   "execution_count": 4
  },
  {
   "metadata": {
    "ExecuteTime": {
     "end_time": "2025-04-02T12:19:58.323724Z",
     "start_time": "2025-04-02T12:19:32.157808Z"
    }
   },
   "cell_type": "code",
   "source": [
    "flights, data = flights_from_query(None, \"../../data/GA_dataset.pkl\", load_results=True)\n",
    "flights = list(filter(large_gap_filter, flights))\n",
    "labels = data[:, 0]"
   ],
   "id": "bce037abe1f20720",
   "outputs": [],
   "execution_count": 2
  },
  {
   "metadata": {
    "ExecuteTime": {
     "end_time": "2025-04-02T12:52:05.717404Z",
     "start_time": "2025-04-02T12:51:59.361166Z"
    }
   },
   "cell_type": "code",
   "source": "trees, paths = sublevelset_persistence(flights[:1000], \"geoaltitude\")",
   "id": "bb585c25cfff2882",
   "outputs": [
    {
     "name": "stderr",
     "output_type": "stream",
     "text": [
      "100%|██████████| 1000/1000 [00:06<00:00, 159.82it/s]\n"
     ]
    }
   ],
   "execution_count": 32
  },
  {
   "metadata": {
    "ExecuteTime": {
     "end_time": "2025-04-02T12:55:51.776059Z",
     "start_time": "2025-04-02T12:52:05.722918Z"
    }
   },
   "cell_type": "code",
   "source": [
    "path = f\"../../data/linkage_clustering/cyclic_dataset.pkl\"\n",
    "Z = linkage_cluster_persistances(trees, path=path, load_results=False)"
   ],
   "id": "4185a40948eb14b8",
   "outputs": [
    {
     "name": "stderr",
     "output_type": "stream",
     "text": [
      "100%|██████████| 1000/1000 [03:45<00:00,  4.43it/s]\n"
     ]
    }
   ],
   "execution_count": 33
  },
  {
   "metadata": {
    "ExecuteTime": {
     "end_time": "2025-04-02T12:57:14.113217Z",
     "start_time": "2025-04-02T12:57:14.046722Z"
    }
   },
   "cell_type": "code",
   "source": [
    "clustering = fcluster(Z, t=10, criterion='maxclust')\n",
    "\n",
    "for i in range(1, len(np.unique(clustering))+1):\n",
    "    print(f\"{i}: {sum(clustering == i)}\")"
   ],
   "id": "516e8670df07928",
   "outputs": [
    {
     "name": "stdout",
     "output_type": "stream",
     "text": [
      "1: 55\n",
      "2: 12\n",
      "3: 554\n",
      "4: 345\n",
      "5: 11\n",
      "6: 6\n",
      "7: 3\n",
      "8: 1\n",
      "9: 2\n",
      "10: 11\n"
     ]
    }
   ],
   "execution_count": 34
  },
  {
   "metadata": {
    "ExecuteTime": {
     "end_time": "2025-04-02T12:58:04.196678Z",
     "start_time": "2025-04-02T12:58:04.125144Z"
    }
   },
   "cell_type": "code",
   "source": [
    "from matplotlib import pyplot as plt\n",
    "\n",
    "ind = 10\n",
    "\n",
    "flight = flights[np.where(clustering == ind)[0][0]]\n",
    "tree = trees[np.where(clustering == ind)[0][0]]\n",
    "points = paths[np.where(clustering == ind)[0][0]]\n",
    "before = flight.data[[\"geoaltitude\"]].to_numpy()\n",
    "before = np.column_stack((np.arange(len(data)), before))\n",
    "\n",
    "dbscan_paths        = before[remove_outliers_dbscan(before, 25, eps = 0.05)]\n",
    "z_score_paths       = before[remove_outliers_z_score(before)]\n",
    "\n",
    "path_filters = [(before, \"before\"), (z_score_paths, \"z-score\"), (dbscan_paths, \"dbscan\")]\n",
    "\n",
    "fig, axs = plt.subplots(3)#, sharex=True, sharey=True)\n",
    "for i, (path, name) in enumerate(path_filters):\n",
    "    axs[i].scatter(path[:, 0], path[:, 1])\n",
    "    axs[i].set_title(name)\n",
    "\n",
    "fig.set_figheight(10)\n",
    "fig.set_figwidth(10)"
   ],
   "id": "cd925375fb071144",
   "outputs": [
    {
     "ename": "ValueError",
     "evalue": "all the input array dimensions except for the concatenation axis must match exactly, but along dimension 0, the array at index 0 has size 10620 and the array at index 1 has size 1800",
     "output_type": "error",
     "traceback": [
      "\u001B[1;31m---------------------------------------------------------------------------\u001B[0m",
      "\u001B[1;31mValueError\u001B[0m                                Traceback (most recent call last)",
      "Cell \u001B[1;32mIn[38], line 9\u001B[0m\n\u001B[0;32m      7\u001B[0m points \u001B[38;5;241m=\u001B[39m paths[np\u001B[38;5;241m.\u001B[39mwhere(clustering \u001B[38;5;241m==\u001B[39m ind)[\u001B[38;5;241m0\u001B[39m][\u001B[38;5;241m0\u001B[39m]]\n\u001B[0;32m      8\u001B[0m before \u001B[38;5;241m=\u001B[39m flight\u001B[38;5;241m.\u001B[39mdata[[\u001B[38;5;124m\"\u001B[39m\u001B[38;5;124mgeoaltitude\u001B[39m\u001B[38;5;124m\"\u001B[39m]]\u001B[38;5;241m.\u001B[39mto_numpy()\n\u001B[1;32m----> 9\u001B[0m before \u001B[38;5;241m=\u001B[39m \u001B[43mnp\u001B[49m\u001B[38;5;241;43m.\u001B[39;49m\u001B[43mcolumn_stack\u001B[49m\u001B[43m(\u001B[49m\u001B[43m(\u001B[49m\u001B[43mnp\u001B[49m\u001B[38;5;241;43m.\u001B[39;49m\u001B[43marange\u001B[49m\u001B[43m(\u001B[49m\u001B[38;5;28;43mlen\u001B[39;49m\u001B[43m(\u001B[49m\u001B[43mdata\u001B[49m\u001B[43m)\u001B[49m\u001B[43m)\u001B[49m\u001B[43m,\u001B[49m\u001B[43m \u001B[49m\u001B[43mbefore\u001B[49m\u001B[43m)\u001B[49m\u001B[43m)\u001B[49m\n\u001B[0;32m     11\u001B[0m dbscan_paths        \u001B[38;5;241m=\u001B[39m before[remove_outliers_dbscan(before, \u001B[38;5;241m25\u001B[39m, eps \u001B[38;5;241m=\u001B[39m \u001B[38;5;241m0.05\u001B[39m)]\n\u001B[0;32m     12\u001B[0m z_score_paths       \u001B[38;5;241m=\u001B[39m before[remove_outliers_z_score(before)]\n",
      "File \u001B[1;32m~\\Desktop\\programering\\masters-thesis\\venv\\Lib\\site-packages\\numpy\\lib\\shape_base.py:652\u001B[0m, in \u001B[0;36mcolumn_stack\u001B[1;34m(tup)\u001B[0m\n\u001B[0;32m    650\u001B[0m         arr \u001B[38;5;241m=\u001B[39m array(arr, copy\u001B[38;5;241m=\u001B[39m\u001B[38;5;28;01mFalse\u001B[39;00m, subok\u001B[38;5;241m=\u001B[39m\u001B[38;5;28;01mTrue\u001B[39;00m, ndmin\u001B[38;5;241m=\u001B[39m\u001B[38;5;241m2\u001B[39m)\u001B[38;5;241m.\u001B[39mT\n\u001B[0;32m    651\u001B[0m     arrays\u001B[38;5;241m.\u001B[39mappend(arr)\n\u001B[1;32m--> 652\u001B[0m \u001B[38;5;28;01mreturn\u001B[39;00m \u001B[43m_nx\u001B[49m\u001B[38;5;241;43m.\u001B[39;49m\u001B[43mconcatenate\u001B[49m\u001B[43m(\u001B[49m\u001B[43marrays\u001B[49m\u001B[43m,\u001B[49m\u001B[43m \u001B[49m\u001B[38;5;241;43m1\u001B[39;49m\u001B[43m)\u001B[49m\n",
      "\u001B[1;31mValueError\u001B[0m: all the input array dimensions except for the concatenation axis must match exactly, but along dimension 0, the array at index 0 has size 10620 and the array at index 1 has size 1800"
     ]
    }
   ],
   "execution_count": 38
  },
  {
   "metadata": {
    "ExecuteTime": {
     "end_time": "2025-03-31T14:17:06.651745600Z",
     "start_time": "2025-03-27T14:19:12.702408Z"
    }
   },
   "cell_type": "code",
   "source": [
    "gudhi.persistence_graphical_tools.plot_persistence_diagram(tree, axes=axs[1])\n",
    "print(tree)"
   ],
   "id": "d5532421a59dc5b7",
   "outputs": [
    {
     "name": "stderr",
     "output_type": "stream",
     "text": [
      "C:\\Users\\tobso\\Desktop\\programering\\masters-thesis\\venv\\Lib\\site-packages\\gudhi\\persistence_graphical_tools.py:105: UserWarning: This function is not available.\n",
      "ModuleNotFoundError: No module named 'matplotlib'.\n",
      "  warnings.warn(f\"This function is not available.\\nModuleNotFoundError: No module named '{import_error.name}'.\")\n"
     ]
    },
    {
     "ename": "AttributeError",
     "evalue": "'numpy.ndarray' object has no attribute 'add_patch'",
     "output_type": "error",
     "traceback": [
      "\u001B[1;31m---------------------------------------------------------------------------\u001B[0m",
      "\u001B[1;31mAttributeError\u001B[0m                            Traceback (most recent call last)",
      "Cell \u001B[1;32mIn[8], line 1\u001B[0m\n\u001B[1;32m----> 1\u001B[0m \u001B[43mgudhi\u001B[49m\u001B[38;5;241;43m.\u001B[39;49m\u001B[43mpersistence_graphical_tools\u001B[49m\u001B[38;5;241;43m.\u001B[39;49m\u001B[43mplot_persistence_diagram\u001B[49m\u001B[43m(\u001B[49m\u001B[43mtree\u001B[49m\u001B[43m,\u001B[49m\u001B[43m \u001B[49m\u001B[43maxes\u001B[49m\u001B[38;5;241;43m=\u001B[39;49m\u001B[43maxs\u001B[49m\u001B[43m[\u001B[49m\u001B[38;5;241;43m1\u001B[39;49m\u001B[43m]\u001B[49m\u001B[43m)\u001B[49m\n\u001B[0;32m      2\u001B[0m \u001B[38;5;28mprint\u001B[39m(tree)\n",
      "File \u001B[1;32m~\\Desktop\\programering\\masters-thesis\\venv\\Lib\\site-packages\\gudhi\\persistence_graphical_tools.py:332\u001B[0m, in \u001B[0;36mplot_persistence_diagram\u001B[1;34m(persistence, persistence_file, alpha, band, max_intervals, inf_delta, legend, colormap, axes, fontsize, greyblock)\u001B[0m\n\u001B[0;32m    330\u001B[0m \u001B[38;5;66;03m# lower diag patch\u001B[39;00m\n\u001B[0;32m    331\u001B[0m \u001B[38;5;28;01mif\u001B[39;00m greyblock:\n\u001B[1;32m--> 332\u001B[0m     \u001B[43maxes\u001B[49m\u001B[38;5;241;43m.\u001B[39;49m\u001B[43madd_patch\u001B[49m(\n\u001B[0;32m    333\u001B[0m         mpatches\u001B[38;5;241m.\u001B[39mPolygon(\n\u001B[0;32m    334\u001B[0m             [[axis_start, axis_start], [axis_end, axis_start], [axis_end, axis_end]],\n\u001B[0;32m    335\u001B[0m             fill\u001B[38;5;241m=\u001B[39m\u001B[38;5;28;01mTrue\u001B[39;00m,\n\u001B[0;32m    336\u001B[0m             color\u001B[38;5;241m=\u001B[39m\u001B[38;5;124m\"\u001B[39m\u001B[38;5;124mlightgrey\u001B[39m\u001B[38;5;124m\"\u001B[39m,\n\u001B[0;32m    337\u001B[0m         )\n\u001B[0;32m    338\u001B[0m     )\n\u001B[0;32m    339\u001B[0m \u001B[38;5;66;03m# line display of equation : birth = death\u001B[39;00m\n\u001B[0;32m    340\u001B[0m axes\u001B[38;5;241m.\u001B[39mplot([axis_start, axis_end], [axis_start, axis_end], linewidth\u001B[38;5;241m=\u001B[39m\u001B[38;5;241m1.0\u001B[39m, color\u001B[38;5;241m=\u001B[39m\u001B[38;5;124m\"\u001B[39m\u001B[38;5;124mk\u001B[39m\u001B[38;5;124m\"\u001B[39m)\n",
      "\u001B[1;31mAttributeError\u001B[0m: 'numpy.ndarray' object has no attribute 'add_patch'"
     ]
    }
   ],
   "execution_count": 8
  },
  {
   "metadata": {},
   "cell_type": "code",
   "source": [
    "fig = plt.scatter(points[:, 1], points[:, 0])\n",
    "plt.show()"
   ],
   "id": "1cd0f9e20081d280",
   "outputs": [],
   "execution_count": null
  },
  {
   "metadata": {},
   "cell_type": "code",
   "source": "",
   "id": "6427b4cad39d0eb2",
   "outputs": [],
   "execution_count": null
  }
 ],
 "metadata": {
  "kernelspec": {
   "display_name": "Python 3",
   "language": "python",
   "name": "python3"
  },
  "language_info": {
   "codemirror_mode": {
    "name": "ipython",
    "version": 2
   },
   "file_extension": ".py",
   "mimetype": "text/x-python",
   "name": "python",
   "nbconvert_exporter": "python",
   "pygments_lexer": "ipython2",
   "version": "2.7.6"
  }
 },
 "nbformat": 4,
 "nbformat_minor": 5
}
