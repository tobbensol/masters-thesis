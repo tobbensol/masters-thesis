{
 "cells": [
  {
   "cell_type": "code",
   "id": "initial_id",
   "metadata": {
    "collapsed": true,
    "ExecuteTime": {
     "end_time": "2025-03-01T18:43:04.257410Z",
     "start_time": "2025-03-01T18:42:58.192545Z"
    }
   },
   "source": [
    "%load_ext autoreload\n",
    "%autoreload 2\n",
    "\n",
    "import datetime\n",
    "\n",
    "import numpy as np\n",
    "import pandas as pd\n",
    "import gudhi\n",
    "\n",
    "from traffic.core import Traffic, Flight\n",
    "from functions.data_filtering import ICAO_codes, large_gap_filter\n",
    "from functions.data_processing import flight_persistence, remove_outliers_z_score, remove_outliers_dbscan\n",
    "from functions.data_loading import linkage_cluster_persistances, flights_from_query\n",
    "\n",
    "from scipy.cluster.hierarchy import fcluster"
   ],
   "outputs": [],
   "execution_count": 1
  },
  {
   "metadata": {
    "ExecuteTime": {
     "end_time": "2025-03-01T18:43:30.877658Z",
     "start_time": "2025-03-01T18:43:04.264415Z"
    }
   },
   "cell_type": "code",
   "source": [
    "# load minimum data set\n",
    "df = pd.read_csv(\"../../data/go_arounds_augmented.csv\", low_memory=False)\n",
    "df[\"time\"] = pd.to_datetime(df[\"time\"])\n",
    "\n",
    "start = datetime.datetime(year=2019, month=1, day=1).replace(\n",
    "    tzinfo=datetime.timezone.utc\n",
    ")\n",
    "stop = datetime.datetime(year=2019, month=3, day=1).replace(\n",
    "    tzinfo=datetime.timezone.utc\n",
    ")\n",
    "\n",
    "with_GA = df.query(f\"has_ga & (@start <= time <= @stop)\")\n",
    "without_GA = df.query(f\"not has_ga & (@start <= time <= @stop)\")"
   ],
   "id": "edc4f95f0e6d96af",
   "outputs": [],
   "execution_count": 2
  },
  {
   "metadata": {
    "ExecuteTime": {
     "end_time": "2025-03-01T18:46:21.122187Z",
     "start_time": "2025-03-01T18:43:31.152848Z"
    }
   },
   "cell_type": "code",
   "source": [
    "# The flights can be converted into a Traffic object\n",
    "count = with_GA.shape[0]\n",
    "without_GA = without_GA.sample(n=count, random_state=42)\n",
    "query = pd.concat([with_GA, without_GA], axis=0)\n",
    "\n",
    "flights, data = flights_from_query(query, \"../../data/GA_dataset.pkl\", load_results=True)"
   ],
   "id": "c9c85b5cd6edcf98",
   "outputs": [
    {
     "name": "stderr",
     "output_type": "stream",
     "text": [
      "100%|██████████| 10620/10620 [01:44<00:00, 101.24it/s]\n"
     ]
    }
   ],
   "execution_count": 3
  },
  {
   "metadata": {},
   "cell_type": "code",
   "source": [
    "flights = list(filter(large_gap_filter, flights))\n",
    "labels = data[:, 0]\n",
    "\n",
    "trees, paths = flight_persistence(flights)"
   ],
   "id": "bb585c25cfff2882",
   "outputs": [],
   "execution_count": null
  },
  {
   "metadata": {},
   "cell_type": "code",
   "source": [
    "path = f\"../../data/linkage_clustering/cyclic_dataset.pkl\"\n",
    "Z = linkage_cluster_persistances(trees, path=path, dimension=1, load_results=True)"
   ],
   "id": "4185a40948eb14b8",
   "outputs": [],
   "execution_count": null
  },
  {
   "metadata": {},
   "cell_type": "code",
   "source": [
    "clustering = fcluster(Z, t=10, criterion='maxclust')\n",
    "\n",
    "for i in range(1, len(np.unique(clustering))+1):\n",
    "    print(f\"{i}: {sum(clustering == i)}\")"
   ],
   "id": "516e8670df07928",
   "outputs": [],
   "execution_count": null
  },
  {
   "metadata": {},
   "cell_type": "code",
   "source": [
    "from matplotlib import pyplot as plt\n",
    "\n",
    "ind = 8\n",
    "\n",
    "flight = flights[np.where(clustering == ind)[0][4]]\n",
    "before = flight.data[[\"longitude\", \"latitude\"]].to_numpy()\n",
    "\n",
    "dbscan_paths        = before[remove_outliers_dbscan(before, 10)]\n",
    "z_score_paths       = before[remove_outliers_z_score(before)]\n",
    "both_bethods_paths  = dbscan_paths[remove_outliers_z_score(dbscan_paths)]\n",
    "\n",
    "path_filters = [(before, \"before\"), (z_score_paths, \"z-score\"), (dbscan_paths, \"dbscan\"), (both_bethods_paths, \"dbscan + z-score\")]\n",
    "\n",
    "fig, axs = plt.subplots((len(path_filters)+1)//2, 2, sharex=True, sharey=True)\n",
    "for i, (path, name) in enumerate(path_filters):\n",
    "    axs[i//2, i%2].scatter(path[:, 0], path[:, 1])\n",
    "    axs[i//2][i%2].set_title(name)\n",
    "\n",
    "fig.set_figheight(10)\n",
    "fig.set_figwidth(10)"
   ],
   "id": "cd925375fb071144",
   "outputs": [],
   "execution_count": null
  },
  {
   "metadata": {},
   "cell_type": "code",
   "source": [
    "tree = trees[np.where(clustering == ind)[0][4]]\n",
    "points = paths[np.where(clustering == ind)[0][4]]\n",
    "gudhi.plot_persistence_diagram(tree.persistence())"
   ],
   "id": "d5532421a59dc5b7",
   "outputs": [],
   "execution_count": null
  },
  {
   "metadata": {},
   "cell_type": "code",
   "source": [
    "fig = plt.scatter(points[:, 1], points[:, 0])\n",
    "plt.show()"
   ],
   "id": "1cd0f9e20081d280",
   "outputs": [],
   "execution_count": null
  },
  {
   "metadata": {},
   "cell_type": "code",
   "source": "",
   "id": "6427b4cad39d0eb2",
   "outputs": [],
   "execution_count": null
  }
 ],
 "metadata": {
  "kernelspec": {
   "display_name": "Python 3",
   "language": "python",
   "name": "python3"
  },
  "language_info": {
   "codemirror_mode": {
    "name": "ipython",
    "version": 2
   },
   "file_extension": ".py",
   "mimetype": "text/x-python",
   "name": "python",
   "nbconvert_exporter": "python",
   "pygments_lexer": "ipython2",
   "version": "2.7.6"
  }
 },
 "nbformat": 4,
 "nbformat_minor": 5
}
