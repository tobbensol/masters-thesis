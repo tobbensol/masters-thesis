{
 "cells": [
  {
   "cell_type": "code",
   "id": "initial_id",
   "metadata": {
    "collapsed": true,
    "ExecuteTime": {
     "end_time": "2024-09-05T14:54:48.482059Z",
     "start_time": "2024-09-05T14:54:44.852886Z"
    }
   },
   "source": [
    "from traffic.core import Traffic\n",
    "import pandas as pd"
   ],
   "outputs": [],
   "execution_count": 1
  },
  {
   "metadata": {
    "ExecuteTime": {
     "end_time": "2024-08-29T15:47:06.029930Z",
     "start_time": "2024-08-29T15:47:06.026451Z"
    }
   },
   "cell_type": "code",
   "source": [
    "def load_flights_from_csv(csv_file):\n",
    "    # Load the flight data from the CSV file into a Traffic object\n",
    "    traffic = Traffic.from_file(csv_file)\n",
    "    \n",
    "    if traffic is None:\n",
    "        print(\"Failed to load flight data.\")\n",
    "        return\n",
    "    \n",
    "    traffic.data[\"timestamp\"] = pd.to_datetime(traffic.data['timestamp'], errors='coerce', utc=True, unit='s')\n",
    "    traffic.data[\"lastcontact\"] = pd.to_datetime(traffic.data['lastcontact'], errors='coerce', utc=True, unit='s')\n",
    "    traffic.data[\"lastposupdate\"] = pd.to_datetime(traffic.data['lastposupdate'], errors='coerce', utc=True, unit='s')\n",
    "    traffic.data.dropna(subset=['longitude', 'latitude'], inplace=True)\n",
    "    \n",
    "    return traffic\n"
   ],
   "id": "c7a8b6dc69d0ea90",
   "outputs": [],
   "execution_count": 4
  },
  {
   "metadata": {
    "ExecuteTime": {
     "end_time": "2024-08-29T15:47:10.341747Z",
     "start_time": "2024-08-29T15:47:06.029930Z"
    }
   },
   "cell_type": "code",
   "source": "traffic = load_flights_from_csv(csv_file=\"data/states_2022-02-21-16.csv\")",
   "id": "38567c68bd136e01",
   "outputs": [],
   "execution_count": 5
  },
  {
   "metadata": {
    "ExecuteTime": {
     "end_time": "2024-08-29T15:57:51.967337Z",
     "start_time": "2024-08-29T15:56:37.081779Z"
    }
   },
   "cell_type": "code",
   "source": "traffic.airborne().first(\"10 min\").resample(\"20s\").eval()",
   "id": "d94b697b672d0c8e",
   "outputs": [
    {
     "data": {
      "text/plain": [
       "   icao24  callsign  count\n",
       "0  71c075  KAL8251      83\n",
       "1  a326d1  ASA131       82\n",
       "2  a9e5e9  SWA1224      79\n",
       "3  a60f37  RAX121       78\n",
       "4  4067ef  TOM5DC       75\n",
       "5  3e0fde  CHX51        66\n",
       "6  ace7ee  N930ZF       65\n",
       "7  896110  UAE752       62\n",
       "8  a50d45  N4243J       62\n",
       "9  ab6247  SWA1469      62"
      ],
      "text/html": [
       "<h4><b>Traffic</b></h4> with 13120 identifiers<style type=\"text/css\">\n",
       "#T_fc13c_row0_col0 {\n",
       "  width: 10em;\n",
       "  background: linear-gradient(90deg, #5fba7d 100.0%, transparent 100.0%);\n",
       "}\n",
       "#T_fc13c_row1_col0 {\n",
       "  width: 10em;\n",
       "  background: linear-gradient(90deg, #5fba7d 98.8%, transparent 98.8%);\n",
       "}\n",
       "#T_fc13c_row2_col0 {\n",
       "  width: 10em;\n",
       "  background: linear-gradient(90deg, #5fba7d 95.2%, transparent 95.2%);\n",
       "}\n",
       "#T_fc13c_row3_col0 {\n",
       "  width: 10em;\n",
       "  background: linear-gradient(90deg, #5fba7d 94.0%, transparent 94.0%);\n",
       "}\n",
       "#T_fc13c_row4_col0 {\n",
       "  width: 10em;\n",
       "  background: linear-gradient(90deg, #5fba7d 90.4%, transparent 90.4%);\n",
       "}\n",
       "#T_fc13c_row5_col0 {\n",
       "  width: 10em;\n",
       "  background: linear-gradient(90deg, #5fba7d 79.5%, transparent 79.5%);\n",
       "}\n",
       "#T_fc13c_row6_col0 {\n",
       "  width: 10em;\n",
       "  background: linear-gradient(90deg, #5fba7d 78.3%, transparent 78.3%);\n",
       "}\n",
       "#T_fc13c_row7_col0, #T_fc13c_row8_col0, #T_fc13c_row9_col0 {\n",
       "  width: 10em;\n",
       "  background: linear-gradient(90deg, #5fba7d 74.7%, transparent 74.7%);\n",
       "}\n",
       "</style>\n",
       "<table id=\"T_fc13c\">\n",
       "  <thead>\n",
       "    <tr>\n",
       "      <th class=\"blank\" >&nbsp;</th>\n",
       "      <th class=\"blank level0\" >&nbsp;</th>\n",
       "      <th id=\"T_fc13c_level0_col0\" class=\"col_heading level0 col0\" >count</th>\n",
       "    </tr>\n",
       "    <tr>\n",
       "      <th class=\"index_name level0\" >icao24</th>\n",
       "      <th class=\"index_name level1\" >callsign</th>\n",
       "      <th class=\"blank col0\" >&nbsp;</th>\n",
       "    </tr>\n",
       "  </thead>\n",
       "  <tbody>\n",
       "    <tr>\n",
       "      <th id=\"T_fc13c_level0_row0\" class=\"row_heading level0 row0\" >71c075</th>\n",
       "      <th id=\"T_fc13c_level1_row0\" class=\"row_heading level1 row0\" >KAL8251 </th>\n",
       "      <td id=\"T_fc13c_row0_col0\" class=\"data row0 col0\" >83</td>\n",
       "    </tr>\n",
       "    <tr>\n",
       "      <th id=\"T_fc13c_level0_row1\" class=\"row_heading level0 row1\" >a326d1</th>\n",
       "      <th id=\"T_fc13c_level1_row1\" class=\"row_heading level1 row1\" >ASA131  </th>\n",
       "      <td id=\"T_fc13c_row1_col0\" class=\"data row1 col0\" >82</td>\n",
       "    </tr>\n",
       "    <tr>\n",
       "      <th id=\"T_fc13c_level0_row2\" class=\"row_heading level0 row2\" >a9e5e9</th>\n",
       "      <th id=\"T_fc13c_level1_row2\" class=\"row_heading level1 row2\" >SWA1224 </th>\n",
       "      <td id=\"T_fc13c_row2_col0\" class=\"data row2 col0\" >79</td>\n",
       "    </tr>\n",
       "    <tr>\n",
       "      <th id=\"T_fc13c_level0_row3\" class=\"row_heading level0 row3\" >a60f37</th>\n",
       "      <th id=\"T_fc13c_level1_row3\" class=\"row_heading level1 row3\" >RAX121  </th>\n",
       "      <td id=\"T_fc13c_row3_col0\" class=\"data row3 col0\" >78</td>\n",
       "    </tr>\n",
       "    <tr>\n",
       "      <th id=\"T_fc13c_level0_row4\" class=\"row_heading level0 row4\" >4067ef</th>\n",
       "      <th id=\"T_fc13c_level1_row4\" class=\"row_heading level1 row4\" >TOM5DC  </th>\n",
       "      <td id=\"T_fc13c_row4_col0\" class=\"data row4 col0\" >75</td>\n",
       "    </tr>\n",
       "    <tr>\n",
       "      <th id=\"T_fc13c_level0_row5\" class=\"row_heading level0 row5\" >3e0fde</th>\n",
       "      <th id=\"T_fc13c_level1_row5\" class=\"row_heading level1 row5\" >CHX51   </th>\n",
       "      <td id=\"T_fc13c_row5_col0\" class=\"data row5 col0\" >66</td>\n",
       "    </tr>\n",
       "    <tr>\n",
       "      <th id=\"T_fc13c_level0_row6\" class=\"row_heading level0 row6\" >ace7ee</th>\n",
       "      <th id=\"T_fc13c_level1_row6\" class=\"row_heading level1 row6\" >N930ZF  </th>\n",
       "      <td id=\"T_fc13c_row6_col0\" class=\"data row6 col0\" >65</td>\n",
       "    </tr>\n",
       "    <tr>\n",
       "      <th id=\"T_fc13c_level0_row7\" class=\"row_heading level0 row7\" >896110</th>\n",
       "      <th id=\"T_fc13c_level1_row7\" class=\"row_heading level1 row7\" >UAE752  </th>\n",
       "      <td id=\"T_fc13c_row7_col0\" class=\"data row7 col0\" >62</td>\n",
       "    </tr>\n",
       "    <tr>\n",
       "      <th id=\"T_fc13c_level0_row8\" class=\"row_heading level0 row8\" >a50d45</th>\n",
       "      <th id=\"T_fc13c_level1_row8\" class=\"row_heading level1 row8\" >N4243J  </th>\n",
       "      <td id=\"T_fc13c_row8_col0\" class=\"data row8 col0\" >62</td>\n",
       "    </tr>\n",
       "    <tr>\n",
       "      <th id=\"T_fc13c_level0_row9\" class=\"row_heading level0 row9\" >ab6247</th>\n",
       "      <th id=\"T_fc13c_level1_row9\" class=\"row_heading level1 row9\" >SWA1469 </th>\n",
       "      <td id=\"T_fc13c_row9_col0\" class=\"data row9 col0\" >62</td>\n",
       "    </tr>\n",
       "  </tbody>\n",
       "</table>\n"
      ]
     },
     "execution_count": 13,
     "metadata": {},
     "output_type": "execute_result"
    }
   ],
   "execution_count": 13
  },
  {
   "metadata": {
    "ExecuteTime": {
     "end_time": "2024-08-29T15:47:12.512549Z",
     "start_time": "2024-08-29T15:47:11.078538Z"
    }
   },
   "cell_type": "code",
   "source": "traffic[\"ab9b7a\"].map_leaflet() ",
   "id": "4790623c030fd479",
   "outputs": [
    {
     "name": "stderr",
     "output_type": "stream",
     "text": [
      "Several callsigns for one flight, consider splitting\n",
      "Several callsigns for one flight, consider splitting\n"
     ]
    },
    {
     "data": {
      "text/plain": [
       "Map(center=[35.5892446163978, -84.26373048842706], controls=(ZoomControl(options=['position', 'zoom_in_text', …"
      ],
      "application/vnd.jupyter.widget-view+json": {
       "version_major": 2,
       "version_minor": 0,
       "model_id": "cc5e8b62b2a347fc86acc53259a61610"
      }
     },
     "execution_count": 7,
     "metadata": {},
     "output_type": "execute_result"
    }
   ],
   "execution_count": 7
  },
  {
   "metadata": {
    "ExecuteTime": {
     "end_time": "2024-08-29T15:47:15.107978Z",
     "start_time": "2024-08-29T15:47:12.512549Z"
    }
   },
   "cell_type": "code",
   "source": [
    "flights = []\n",
    "i = 0\n",
    "print(traffic.length)"
   ],
   "id": "fb8574fa751501f5",
   "outputs": [
    {
     "name": "stdout",
     "output_type": "stream",
     "text": [
      "14252\n"
     ]
    }
   ],
   "execution_count": 8
  },
  {
   "metadata": {
    "ExecuteTime": {
     "end_time": "2024-09-05T15:03:11.532894Z",
     "start_time": "2024-09-05T15:03:11.459423Z"
    }
   },
   "cell_type": "code",
   "source": "flights\n",
   "id": "7b4e3ad35f4f3ec0",
   "outputs": [
    {
     "ename": "NameError",
     "evalue": "name 'flights' is not defined",
     "output_type": "error",
     "traceback": [
      "\u001B[1;31m---------------------------------------------------------------------------\u001B[0m",
      "\u001B[1;31mNameError\u001B[0m                                 Traceback (most recent call last)",
      "Cell \u001B[1;32mIn[2], line 1\u001B[0m\n\u001B[1;32m----> 1\u001B[0m \u001B[43mflights\u001B[49m\n",
      "\u001B[1;31mNameError\u001B[0m: name 'flights' is not defined"
     ]
    }
   ],
   "execution_count": 2
  },
  {
   "metadata": {
    "ExecuteTime": {
     "end_time": "2024-08-27T11:37:57.281963Z",
     "start_time": "2024-08-27T11:37:57.278789Z"
    }
   },
   "cell_type": "code",
   "source": "flights",
   "id": "68a8327d1346fdd8",
   "outputs": [
    {
     "data": {
      "text/plain": [
       "[]"
      ]
     },
     "execution_count": 39,
     "metadata": {},
     "output_type": "execute_result"
    }
   ],
   "execution_count": 39
  },
  {
   "metadata": {},
   "cell_type": "code",
   "outputs": [],
   "execution_count": null,
   "source": "",
   "id": "d7c7f94ab065037d"
  }
 ],
 "metadata": {
  "kernelspec": {
   "display_name": "Python 3",
   "language": "python",
   "name": "python3"
  },
  "language_info": {
   "codemirror_mode": {
    "name": "ipython",
    "version": 2
   },
   "file_extension": ".py",
   "mimetype": "text/x-python",
   "name": "python",
   "nbconvert_exporter": "python",
   "pygments_lexer": "ipython2",
   "version": "2.7.6"
  }
 },
 "nbformat": 4,
 "nbformat_minor": 5
}
