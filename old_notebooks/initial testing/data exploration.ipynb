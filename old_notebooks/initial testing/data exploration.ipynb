{
 "cells": [
  {
   "cell_type": "code",
   "id": "initial_id",
   "metadata": {
    "collapsed": true,
    "ExecuteTime": {
     "end_time": "2024-09-05T14:55:00.296438Z",
     "start_time": "2024-09-05T14:55:00.284242Z"
    }
   },
   "source": [
    "from traffic.core import Traffic, Flight\n",
    "\n",
    "from traffic.data.samples import quickstart\n",
    "from traffic.data.datasets import squawk7700\n",
    "from traffic.data import airports\n",
    "\n",
    "import pandas as pd"
   ],
   "outputs": [],
   "execution_count": 14
  },
  {
   "cell_type": "code",
   "source": [
    "def load_flights_from_csv(csv_file):\n",
    "    # Load the flight data from the CSV file into a Traffic object\n",
    "    traffic = Traffic.from_file(csv_file)\n",
    "    \n",
    "    if traffic is None:\n",
    "        print(\"Failed to load flight data.\")\n",
    "        return\n",
    "    \n",
    "    traffic.data[\"timestamp\"] = pd.to_datetime(traffic.data['timestamp'], errors='coerce', utc=True, unit='s')\n",
    "    traffic.data[\"lastcontact\"] = pd.to_datetime(traffic.data['lastcontact'], errors='coerce', utc=True, unit='s')\n",
    "    traffic.data[\"lastposupdate\"] = pd.to_datetime(traffic.data['lastposupdate'], errors='coerce', utc=True, unit='s')\n",
    "    traffic.data.dropna(subset=['longitude', 'latitude'], inplace=True)\n",
    "    \n",
    "    return traffic"
   ],
   "metadata": {
    "collapsed": false,
    "ExecuteTime": {
     "end_time": "2024-09-05T12:43:40.346358Z",
     "start_time": "2024-09-05T12:43:40.342587Z"
    }
   },
   "id": "feed3f4e8ba3ad7f",
   "outputs": [],
   "execution_count": 2
  },
  {
   "metadata": {
    "ExecuteTime": {
     "end_time": "2024-09-05T12:43:44.642118Z",
     "start_time": "2024-09-05T12:43:40.346358Z"
    }
   },
   "cell_type": "code",
   "source": "flights = load_flights_from_csv(csv_file=\"data/states_2022-02-21-16.csv\")",
   "id": "3a9c7458962c0f10",
   "outputs": [],
   "execution_count": 3
  },
  {
   "metadata": {
    "ExecuteTime": {
     "end_time": "2024-09-05T12:43:45.642372Z",
     "start_time": "2024-09-05T12:43:44.642118Z"
    }
   },
   "cell_type": "code",
   "source": "flights[1].emergency",
   "id": "cb9ad3e6125cad31",
   "outputs": [
    {
     "data": {
      "text/plain": [
       "<bound method NavigationFeatures.emergency of Flight(icao24='008080', callsign='LNK909  ')>"
      ]
     },
     "execution_count": 4,
     "metadata": {},
     "output_type": "execute_result"
    }
   ],
   "execution_count": 4
  },
  {
   "cell_type": "code",
   "source": [
    "quickstart.airborne()"
   ],
   "metadata": {
    "collapsed": false,
    "ExecuteTime": {
     "end_time": "2024-09-05T12:43:45.999980Z",
     "start_time": "2024-09-05T12:43:45.643378Z"
    }
   },
   "id": "921e466215003a94",
   "outputs": [
    {
     "data": {
      "text/plain": [
       "   icao24 callsign  count\n",
       "0  39b002    FHMAC   3283\n",
       "1  3aabfc  FMY8055   2133\n",
       "2  39c82b   PEA501   1891\n",
       "3  4bc844   PGT90Y   1599\n",
       "4  4d02be   JFA12P   1591\n",
       "5  3d7009    DFORH   1559\n",
       "6  3985a4  AFR19BH   1547\n",
       "7  3944f1  AFR15AH   1546\n",
       "8  3999e4   PEA302   1541\n",
       "9  86e430    JAL45   1533"
      ],
      "text/html": [
       "<h4><b>Traffic</b></h4> with 236 identifiers<style type=\"text/css\">\n",
       "#T_00b71_row0_col0 {\n",
       "  width: 10em;\n",
       "  background: linear-gradient(90deg, #5fba7d 100.0%, transparent 100.0%);\n",
       "}\n",
       "#T_00b71_row1_col0 {\n",
       "  width: 10em;\n",
       "  background: linear-gradient(90deg, #5fba7d 65.0%, transparent 65.0%);\n",
       "}\n",
       "#T_00b71_row2_col0 {\n",
       "  width: 10em;\n",
       "  background: linear-gradient(90deg, #5fba7d 57.6%, transparent 57.6%);\n",
       "}\n",
       "#T_00b71_row3_col0 {\n",
       "  width: 10em;\n",
       "  background: linear-gradient(90deg, #5fba7d 48.7%, transparent 48.7%);\n",
       "}\n",
       "#T_00b71_row4_col0 {\n",
       "  width: 10em;\n",
       "  background: linear-gradient(90deg, #5fba7d 48.5%, transparent 48.5%);\n",
       "}\n",
       "#T_00b71_row5_col0 {\n",
       "  width: 10em;\n",
       "  background: linear-gradient(90deg, #5fba7d 47.5%, transparent 47.5%);\n",
       "}\n",
       "#T_00b71_row6_col0, #T_00b71_row7_col0 {\n",
       "  width: 10em;\n",
       "  background: linear-gradient(90deg, #5fba7d 47.1%, transparent 47.1%);\n",
       "}\n",
       "#T_00b71_row8_col0 {\n",
       "  width: 10em;\n",
       "  background: linear-gradient(90deg, #5fba7d 46.9%, transparent 46.9%);\n",
       "}\n",
       "#T_00b71_row9_col0 {\n",
       "  width: 10em;\n",
       "  background: linear-gradient(90deg, #5fba7d 46.7%, transparent 46.7%);\n",
       "}\n",
       "</style>\n",
       "<table id=\"T_00b71\">\n",
       "  <thead>\n",
       "    <tr>\n",
       "      <th class=\"blank\" >&nbsp;</th>\n",
       "      <th class=\"blank level0\" >&nbsp;</th>\n",
       "      <th id=\"T_00b71_level0_col0\" class=\"col_heading level0 col0\" >count</th>\n",
       "    </tr>\n",
       "    <tr>\n",
       "      <th class=\"index_name level0\" >icao24</th>\n",
       "      <th class=\"index_name level1\" >callsign</th>\n",
       "      <th class=\"blank col0\" >&nbsp;</th>\n",
       "    </tr>\n",
       "  </thead>\n",
       "  <tbody>\n",
       "    <tr>\n",
       "      <th id=\"T_00b71_level0_row0\" class=\"row_heading level0 row0\" >39b002</th>\n",
       "      <th id=\"T_00b71_level1_row0\" class=\"row_heading level1 row0\" >FHMAC</th>\n",
       "      <td id=\"T_00b71_row0_col0\" class=\"data row0 col0\" >3283</td>\n",
       "    </tr>\n",
       "    <tr>\n",
       "      <th id=\"T_00b71_level0_row1\" class=\"row_heading level0 row1\" >3aabfc</th>\n",
       "      <th id=\"T_00b71_level1_row1\" class=\"row_heading level1 row1\" >FMY8055</th>\n",
       "      <td id=\"T_00b71_row1_col0\" class=\"data row1 col0\" >2133</td>\n",
       "    </tr>\n",
       "    <tr>\n",
       "      <th id=\"T_00b71_level0_row2\" class=\"row_heading level0 row2\" >39c82b</th>\n",
       "      <th id=\"T_00b71_level1_row2\" class=\"row_heading level1 row2\" >PEA501</th>\n",
       "      <td id=\"T_00b71_row2_col0\" class=\"data row2 col0\" >1891</td>\n",
       "    </tr>\n",
       "    <tr>\n",
       "      <th id=\"T_00b71_level0_row3\" class=\"row_heading level0 row3\" >4bc844</th>\n",
       "      <th id=\"T_00b71_level1_row3\" class=\"row_heading level1 row3\" >PGT90Y</th>\n",
       "      <td id=\"T_00b71_row3_col0\" class=\"data row3 col0\" >1599</td>\n",
       "    </tr>\n",
       "    <tr>\n",
       "      <th id=\"T_00b71_level0_row4\" class=\"row_heading level0 row4\" >4d02be</th>\n",
       "      <th id=\"T_00b71_level1_row4\" class=\"row_heading level1 row4\" >JFA12P</th>\n",
       "      <td id=\"T_00b71_row4_col0\" class=\"data row4 col0\" >1591</td>\n",
       "    </tr>\n",
       "    <tr>\n",
       "      <th id=\"T_00b71_level0_row5\" class=\"row_heading level0 row5\" >3d7009</th>\n",
       "      <th id=\"T_00b71_level1_row5\" class=\"row_heading level1 row5\" >DFORH</th>\n",
       "      <td id=\"T_00b71_row5_col0\" class=\"data row5 col0\" >1559</td>\n",
       "    </tr>\n",
       "    <tr>\n",
       "      <th id=\"T_00b71_level0_row6\" class=\"row_heading level0 row6\" >3985a4</th>\n",
       "      <th id=\"T_00b71_level1_row6\" class=\"row_heading level1 row6\" >AFR19BH</th>\n",
       "      <td id=\"T_00b71_row6_col0\" class=\"data row6 col0\" >1547</td>\n",
       "    </tr>\n",
       "    <tr>\n",
       "      <th id=\"T_00b71_level0_row7\" class=\"row_heading level0 row7\" >3944f1</th>\n",
       "      <th id=\"T_00b71_level1_row7\" class=\"row_heading level1 row7\" >AFR15AH</th>\n",
       "      <td id=\"T_00b71_row7_col0\" class=\"data row7 col0\" >1546</td>\n",
       "    </tr>\n",
       "    <tr>\n",
       "      <th id=\"T_00b71_level0_row8\" class=\"row_heading level0 row8\" >3999e4</th>\n",
       "      <th id=\"T_00b71_level1_row8\" class=\"row_heading level1 row8\" >PEA302</th>\n",
       "      <td id=\"T_00b71_row8_col0\" class=\"data row8 col0\" >1541</td>\n",
       "    </tr>\n",
       "    <tr>\n",
       "      <th id=\"T_00b71_level0_row9\" class=\"row_heading level0 row9\" >86e430</th>\n",
       "      <th id=\"T_00b71_level1_row9\" class=\"row_heading level1 row9\" >JAL45</th>\n",
       "      <td id=\"T_00b71_row9_col0\" class=\"data row9 col0\" >1533</td>\n",
       "    </tr>\n",
       "  </tbody>\n",
       "</table>\n"
      ]
     },
     "execution_count": 5,
     "metadata": {},
     "output_type": "execute_result"
    }
   ],
   "execution_count": 5
  },
  {
   "cell_type": "code",
   "source": [
    "quickstart.query('callsign.str.startswith(\"AFR\")').first(\"10 min\").eval()"
   ],
   "metadata": {
    "collapsed": false,
    "ExecuteTime": {
     "end_time": "2024-09-05T12:43:46.230595Z",
     "start_time": "2024-09-05T12:43:45.999980Z"
    }
   },
   "id": "47b787a86d5568d9",
   "outputs": [
    {
     "data": {
      "text/plain": [
       "   icao24 callsign  count\n",
       "0  394c13  AFR1753    600\n",
       "1  3951c1  AFR6724    600\n",
       "2  398567  AFR15XV    600\n",
       "3  398564  AFR9455    600\n",
       "4  3965af   AFR276    600\n",
       "5  3965a5  AFR4145    600\n",
       "6  3965a3   AFR072    600\n",
       "7  39644d   AFR914    600\n",
       "8  396441   AFR104    600\n",
       "9  3950d1  AFR12VL    600"
      ],
      "text/html": [
       "<h4><b>Traffic</b></h4> with 84 identifiers<style type=\"text/css\">\n",
       "#T_ae794_row0_col0, #T_ae794_row1_col0, #T_ae794_row2_col0, #T_ae794_row3_col0, #T_ae794_row4_col0, #T_ae794_row5_col0, #T_ae794_row6_col0, #T_ae794_row7_col0, #T_ae794_row8_col0, #T_ae794_row9_col0 {\n",
       "  width: 10em;\n",
       "  background: linear-gradient(90deg, #5fba7d 100.0%, transparent 100.0%);\n",
       "}\n",
       "</style>\n",
       "<table id=\"T_ae794\">\n",
       "  <thead>\n",
       "    <tr>\n",
       "      <th class=\"blank\" >&nbsp;</th>\n",
       "      <th class=\"blank level0\" >&nbsp;</th>\n",
       "      <th id=\"T_ae794_level0_col0\" class=\"col_heading level0 col0\" >count</th>\n",
       "    </tr>\n",
       "    <tr>\n",
       "      <th class=\"index_name level0\" >icao24</th>\n",
       "      <th class=\"index_name level1\" >callsign</th>\n",
       "      <th class=\"blank col0\" >&nbsp;</th>\n",
       "    </tr>\n",
       "  </thead>\n",
       "  <tbody>\n",
       "    <tr>\n",
       "      <th id=\"T_ae794_level0_row0\" class=\"row_heading level0 row0\" >394c13</th>\n",
       "      <th id=\"T_ae794_level1_row0\" class=\"row_heading level1 row0\" >AFR1753</th>\n",
       "      <td id=\"T_ae794_row0_col0\" class=\"data row0 col0\" >600</td>\n",
       "    </tr>\n",
       "    <tr>\n",
       "      <th id=\"T_ae794_level0_row1\" class=\"row_heading level0 row1\" >3951c1</th>\n",
       "      <th id=\"T_ae794_level1_row1\" class=\"row_heading level1 row1\" >AFR6724</th>\n",
       "      <td id=\"T_ae794_row1_col0\" class=\"data row1 col0\" >600</td>\n",
       "    </tr>\n",
       "    <tr>\n",
       "      <th id=\"T_ae794_level0_row2\" class=\"row_heading level0 row2\" >398567</th>\n",
       "      <th id=\"T_ae794_level1_row2\" class=\"row_heading level1 row2\" >AFR15XV</th>\n",
       "      <td id=\"T_ae794_row2_col0\" class=\"data row2 col0\" >600</td>\n",
       "    </tr>\n",
       "    <tr>\n",
       "      <th id=\"T_ae794_level0_row3\" class=\"row_heading level0 row3\" >398564</th>\n",
       "      <th id=\"T_ae794_level1_row3\" class=\"row_heading level1 row3\" >AFR9455</th>\n",
       "      <td id=\"T_ae794_row3_col0\" class=\"data row3 col0\" >600</td>\n",
       "    </tr>\n",
       "    <tr>\n",
       "      <th id=\"T_ae794_level0_row4\" class=\"row_heading level0 row4\" >3965af</th>\n",
       "      <th id=\"T_ae794_level1_row4\" class=\"row_heading level1 row4\" >AFR276</th>\n",
       "      <td id=\"T_ae794_row4_col0\" class=\"data row4 col0\" >600</td>\n",
       "    </tr>\n",
       "    <tr>\n",
       "      <th id=\"T_ae794_level0_row5\" class=\"row_heading level0 row5\" >3965a5</th>\n",
       "      <th id=\"T_ae794_level1_row5\" class=\"row_heading level1 row5\" >AFR4145</th>\n",
       "      <td id=\"T_ae794_row5_col0\" class=\"data row5 col0\" >600</td>\n",
       "    </tr>\n",
       "    <tr>\n",
       "      <th id=\"T_ae794_level0_row6\" class=\"row_heading level0 row6\" >3965a3</th>\n",
       "      <th id=\"T_ae794_level1_row6\" class=\"row_heading level1 row6\" >AFR072</th>\n",
       "      <td id=\"T_ae794_row6_col0\" class=\"data row6 col0\" >600</td>\n",
       "    </tr>\n",
       "    <tr>\n",
       "      <th id=\"T_ae794_level0_row7\" class=\"row_heading level0 row7\" >39644d</th>\n",
       "      <th id=\"T_ae794_level1_row7\" class=\"row_heading level1 row7\" >AFR914</th>\n",
       "      <td id=\"T_ae794_row7_col0\" class=\"data row7 col0\" >600</td>\n",
       "    </tr>\n",
       "    <tr>\n",
       "      <th id=\"T_ae794_level0_row8\" class=\"row_heading level0 row8\" >396441</th>\n",
       "      <th id=\"T_ae794_level1_row8\" class=\"row_heading level1 row8\" >AFR104</th>\n",
       "      <td id=\"T_ae794_row8_col0\" class=\"data row8 col0\" >600</td>\n",
       "    </tr>\n",
       "    <tr>\n",
       "      <th id=\"T_ae794_level0_row9\" class=\"row_heading level0 row9\" >3950d1</th>\n",
       "      <th id=\"T_ae794_level1_row9\" class=\"row_heading level1 row9\" >AFR12VL</th>\n",
       "      <td id=\"T_ae794_row9_col0\" class=\"data row9 col0\" >600</td>\n",
       "    </tr>\n",
       "  </tbody>\n",
       "</table>\n"
      ]
     },
     "execution_count": 6,
     "metadata": {},
     "output_type": "execute_result"
    }
   ],
   "execution_count": 6
  },
  {
   "cell_type": "code",
   "source": [
    "def select_landing(airport: \"Airport\"):\n",
    "    for flight in quickstart:\n",
    "        if low_alt := flight.query(\"altitude < 3000\"):         # Flight -> None or Flight\n",
    "            if low_alt.last(\"2 min\").vertical_rate_mean < -500:# Flight -> bool\n",
    "                if low_alt.first(\"2 min\").vertical_rate_mean < 500:# Flight -> bool\n",
    "                    if low_alt.intersects(airport):                # Flight -> bool\n",
    "                        if low_alt.aligned_on_ils(airport).has():  # Flight -> bool\n",
    "                            yield low_alt          # Flight -> None or Flight"
   ],
   "metadata": {
    "collapsed": false,
    "ExecuteTime": {
     "end_time": "2024-09-05T12:43:46.233538Z",
     "start_time": "2024-09-05T12:43:46.230595Z"
    }
   },
   "id": "bbee49466b2480ff",
   "outputs": [],
   "execution_count": 7
  },
  {
   "cell_type": "code",
   "source": [
    "Traffic.from_flights(select_landing(airports[\"LFPO\"]))[3].map_leaflet()"
   ],
   "metadata": {
    "collapsed": false,
    "ExecuteTime": {
     "end_time": "2024-09-05T12:43:54.162068Z",
     "start_time": "2024-09-05T12:43:46.233538Z"
    }
   },
   "id": "8a860566390aca0c",
   "outputs": [
    {
     "data": {
      "text/plain": [
       "Map(center=[48.69000510556506, 2.232647785496943], controls=(ZoomControl(options=['position', 'zoom_in_text', …"
      ],
      "application/vnd.jupyter.widget-view+json": {
       "version_major": 2,
       "version_minor": 0,
       "model_id": "f64542d0507241d2a98f549695e7206f"
      }
     },
     "execution_count": 8,
     "metadata": {},
     "output_type": "execute_result"
    }
   ],
   "execution_count": 8
  },
  {
   "cell_type": "code",
   "source": [
    "quickstart[\"3964f4\"].map_leaflet()"
   ],
   "metadata": {
    "collapsed": false,
    "ExecuteTime": {
     "end_time": "2024-09-05T12:43:54.247316Z",
     "start_time": "2024-09-05T12:43:54.162068Z"
    }
   },
   "id": "b7bf3c9621a3660d",
   "outputs": [
    {
     "name": "stderr",
     "output_type": "stream",
     "text": [
      "Several callsigns for one flight, consider splitting\n",
      "Several callsigns for one flight, consider splitting\n"
     ]
    },
    {
     "data": {
      "text/plain": [
       "Map(center=[48.537532136850984, 2.335286307940885], controls=(ZoomControl(options=['position', 'zoom_in_text',…"
      ],
      "application/vnd.jupyter.widget-view+json": {
       "version_major": 2,
       "version_minor": 0,
       "model_id": "60200a1c8e1e4dd891a1b35d2a0c97de"
      }
     },
     "execution_count": 9,
     "metadata": {},
     "output_type": "execute_result"
    }
   ],
   "execution_count": 9
  },
  {
   "cell_type": "code",
   "source": [
    "ids = squawk7700.query(\"diverted == diverted\").flight_ids"
   ],
   "metadata": {
    "collapsed": false,
    "ExecuteTime": {
     "end_time": "2024-09-05T14:55:13.348580Z",
     "start_time": "2024-09-05T14:55:12.377382Z"
    }
   },
   "id": "32b4a9ba9aa1151f",
   "outputs": [],
   "execution_count": 16
  },
  {
   "cell_type": "code",
   "source": [
    "from ipywidgets import Layout\n",
    "squawk7700[ids[4]].map_leaflet(\n",
    "    highlight=dict(red=lambda f: f.emergency()),\n",
    "    layout=Layout(height=\"500px\", max_width=\"800px\"),\n",
    ")"
   ],
   "metadata": {
    "collapsed": false,
    "ExecuteTime": {
     "end_time": "2024-09-05T14:55:48.085988Z",
     "start_time": "2024-09-05T14:55:47.887810Z"
    }
   },
   "id": "5de81d59802fd084",
   "outputs": [
    {
     "data": {
      "text/plain": [
       "Map(center=[39.61573054457169, -75.24646557692384], controls=(ZoomControl(options=['position', 'zoom_in_text',…"
      ],
      "application/vnd.jupyter.widget-view+json": {
       "version_major": 2,
       "version_minor": 0,
       "model_id": "416fac005ff44eaf9770705df824c458"
      }
     },
     "execution_count": 22,
     "metadata": {},
     "output_type": "execute_result"
    }
   ],
   "execution_count": 22
  },
  {
   "metadata": {
    "ExecuteTime": {
     "end_time": "2024-09-05T12:43:56.149932Z",
     "start_time": "2024-09-05T12:43:55.310421Z"
    }
   },
   "cell_type": "code",
   "source": "squawk7700[1].data",
   "id": "16a2da2d4f49abd9",
   "outputs": [
    {
     "data": {
      "text/plain": [
       "                        timestamp  altitude callsign         flight_id  \\\n",
       "2511536 2019-05-20 15:23:04+00:00   34000.0  AAL1188  AAL1188_20190520   \n",
       "2511537 2019-05-20 15:23:05+00:00   34000.0  AAL1188  AAL1188_20190520   \n",
       "2511538 2019-05-20 15:23:06+00:00   34000.0  AAL1188  AAL1188_20190520   \n",
       "2511539 2019-05-20 15:23:07+00:00   34000.0  AAL1188  AAL1188_20190520   \n",
       "2511540 2019-05-20 15:23:08+00:00   34000.0  AAL1188  AAL1188_20190520   \n",
       "...                           ...       ...      ...               ...   \n",
       "2514888 2019-05-20 16:19:11+00:00     945.0  AAL1188  AAL1188_20190520   \n",
       "2514889 2019-05-20 16:19:12+00:00     935.0  AAL1188  AAL1188_20190520   \n",
       "2514890 2019-05-20 16:19:13+00:00     925.0  AAL1188  AAL1188_20190520   \n",
       "2514891 2019-05-20 16:19:14+00:00     912.5  AAL1188  AAL1188_20190520   \n",
       "2514892 2019-05-20 16:19:15+00:00     900.0  AAL1188  AAL1188_20190520   \n",
       "\n",
       "         groundspeed  icao24   latitude  longitude squawk       track  ...  \\\n",
       "2511536   451.246771  ad4747  29.191372 -94.628152   4752  337.750976  ...   \n",
       "2511537   451.246771  ad4747  29.193514 -94.629122   4752  337.750976  ...   \n",
       "2511538   451.246771  ad4747  29.195469 -94.630037   4752  337.750976  ...   \n",
       "2511539   451.246771  ad4747  29.197377 -94.630953   4752  337.750976  ...   \n",
       "2511540   451.624454  ad4747  29.199326 -94.631847   4752  337.750976  ...   \n",
       "...              ...     ...        ...        ...    ...         ...  ...   \n",
       "2514888   134.033462  ad4747  32.927189 -97.054579   4752  180.848764  ...   \n",
       "2514889   134.033462  ad4747  32.926491 -97.054602   4752  180.848764  ...   \n",
       "2514890   134.033462  ad4747  32.925793 -97.054624   4752  180.848764  ...   \n",
       "2514891   134.524080  ad4747  32.925350 -97.054624   4752  180.848764  ...   \n",
       "2514892   135.014697  ad4747  32.924908 -97.054624   4752  180.848764  ...   \n",
       "\n",
       "         landing destination diverted tweet_problem tweet_result  \\\n",
       "2511536     KDFW        KDFW      NaN           NaN          NaN   \n",
       "2511537     KDFW        KDFW      NaN           NaN          NaN   \n",
       "2511538     KDFW        KDFW      NaN           NaN          NaN   \n",
       "2511539     KDFW        KDFW      NaN           NaN          NaN   \n",
       "2511540     KDFW        KDFW      NaN           NaN          NaN   \n",
       "...          ...         ...      ...           ...          ...   \n",
       "2514888     KDFW        KDFW      NaN           NaN          NaN   \n",
       "2514889     KDFW        KDFW      NaN           NaN          NaN   \n",
       "2514890     KDFW        KDFW      NaN           NaN          NaN   \n",
       "2514891     KDFW        KDFW      NaN           NaN          NaN   \n",
       "2514892     KDFW        KDFW      NaN           NaN          NaN   \n",
       "\n",
       "        tweet_fueldump avh_id avh_problem avh_result avh_fueldump  \n",
       "2511536            NaN    NaN         NaN        NaN          NaN  \n",
       "2511537            NaN    NaN         NaN        NaN          NaN  \n",
       "2511538            NaN    NaN         NaN        NaN          NaN  \n",
       "2511539            NaN    NaN         NaN        NaN          NaN  \n",
       "2511540            NaN    NaN         NaN        NaN          NaN  \n",
       "...                ...    ...         ...        ...          ...  \n",
       "2514888            NaN    NaN         NaN        NaN          NaN  \n",
       "2514889            NaN    NaN         NaN        NaN          NaN  \n",
       "2514890            NaN    NaN         NaN        NaN          NaN  \n",
       "2514891            NaN    NaN         NaN        NaN          NaN  \n",
       "2514892            NaN    NaN         NaN        NaN          NaN  \n",
       "\n",
       "[3357 rows x 25 columns]"
      ],
      "text/html": [
       "<div>\n",
       "<style scoped>\n",
       "    .dataframe tbody tr th:only-of-type {\n",
       "        vertical-align: middle;\n",
       "    }\n",
       "\n",
       "    .dataframe tbody tr th {\n",
       "        vertical-align: top;\n",
       "    }\n",
       "\n",
       "    .dataframe thead th {\n",
       "        text-align: right;\n",
       "    }\n",
       "</style>\n",
       "<table border=\"1\" class=\"dataframe\">\n",
       "  <thead>\n",
       "    <tr style=\"text-align: right;\">\n",
       "      <th></th>\n",
       "      <th>timestamp</th>\n",
       "      <th>altitude</th>\n",
       "      <th>callsign</th>\n",
       "      <th>flight_id</th>\n",
       "      <th>groundspeed</th>\n",
       "      <th>icao24</th>\n",
       "      <th>latitude</th>\n",
       "      <th>longitude</th>\n",
       "      <th>squawk</th>\n",
       "      <th>track</th>\n",
       "      <th>...</th>\n",
       "      <th>landing</th>\n",
       "      <th>destination</th>\n",
       "      <th>diverted</th>\n",
       "      <th>tweet_problem</th>\n",
       "      <th>tweet_result</th>\n",
       "      <th>tweet_fueldump</th>\n",
       "      <th>avh_id</th>\n",
       "      <th>avh_problem</th>\n",
       "      <th>avh_result</th>\n",
       "      <th>avh_fueldump</th>\n",
       "    </tr>\n",
       "  </thead>\n",
       "  <tbody>\n",
       "    <tr>\n",
       "      <th>2511536</th>\n",
       "      <td>2019-05-20 15:23:04+00:00</td>\n",
       "      <td>34000.0</td>\n",
       "      <td>AAL1188</td>\n",
       "      <td>AAL1188_20190520</td>\n",
       "      <td>451.246771</td>\n",
       "      <td>ad4747</td>\n",
       "      <td>29.191372</td>\n",
       "      <td>-94.628152</td>\n",
       "      <td>4752</td>\n",
       "      <td>337.750976</td>\n",
       "      <td>...</td>\n",
       "      <td>KDFW</td>\n",
       "      <td>KDFW</td>\n",
       "      <td>NaN</td>\n",
       "      <td>NaN</td>\n",
       "      <td>NaN</td>\n",
       "      <td>NaN</td>\n",
       "      <td>NaN</td>\n",
       "      <td>NaN</td>\n",
       "      <td>NaN</td>\n",
       "      <td>NaN</td>\n",
       "    </tr>\n",
       "    <tr>\n",
       "      <th>2511537</th>\n",
       "      <td>2019-05-20 15:23:05+00:00</td>\n",
       "      <td>34000.0</td>\n",
       "      <td>AAL1188</td>\n",
       "      <td>AAL1188_20190520</td>\n",
       "      <td>451.246771</td>\n",
       "      <td>ad4747</td>\n",
       "      <td>29.193514</td>\n",
       "      <td>-94.629122</td>\n",
       "      <td>4752</td>\n",
       "      <td>337.750976</td>\n",
       "      <td>...</td>\n",
       "      <td>KDFW</td>\n",
       "      <td>KDFW</td>\n",
       "      <td>NaN</td>\n",
       "      <td>NaN</td>\n",
       "      <td>NaN</td>\n",
       "      <td>NaN</td>\n",
       "      <td>NaN</td>\n",
       "      <td>NaN</td>\n",
       "      <td>NaN</td>\n",
       "      <td>NaN</td>\n",
       "    </tr>\n",
       "    <tr>\n",
       "      <th>2511538</th>\n",
       "      <td>2019-05-20 15:23:06+00:00</td>\n",
       "      <td>34000.0</td>\n",
       "      <td>AAL1188</td>\n",
       "      <td>AAL1188_20190520</td>\n",
       "      <td>451.246771</td>\n",
       "      <td>ad4747</td>\n",
       "      <td>29.195469</td>\n",
       "      <td>-94.630037</td>\n",
       "      <td>4752</td>\n",
       "      <td>337.750976</td>\n",
       "      <td>...</td>\n",
       "      <td>KDFW</td>\n",
       "      <td>KDFW</td>\n",
       "      <td>NaN</td>\n",
       "      <td>NaN</td>\n",
       "      <td>NaN</td>\n",
       "      <td>NaN</td>\n",
       "      <td>NaN</td>\n",
       "      <td>NaN</td>\n",
       "      <td>NaN</td>\n",
       "      <td>NaN</td>\n",
       "    </tr>\n",
       "    <tr>\n",
       "      <th>2511539</th>\n",
       "      <td>2019-05-20 15:23:07+00:00</td>\n",
       "      <td>34000.0</td>\n",
       "      <td>AAL1188</td>\n",
       "      <td>AAL1188_20190520</td>\n",
       "      <td>451.246771</td>\n",
       "      <td>ad4747</td>\n",
       "      <td>29.197377</td>\n",
       "      <td>-94.630953</td>\n",
       "      <td>4752</td>\n",
       "      <td>337.750976</td>\n",
       "      <td>...</td>\n",
       "      <td>KDFW</td>\n",
       "      <td>KDFW</td>\n",
       "      <td>NaN</td>\n",
       "      <td>NaN</td>\n",
       "      <td>NaN</td>\n",
       "      <td>NaN</td>\n",
       "      <td>NaN</td>\n",
       "      <td>NaN</td>\n",
       "      <td>NaN</td>\n",
       "      <td>NaN</td>\n",
       "    </tr>\n",
       "    <tr>\n",
       "      <th>2511540</th>\n",
       "      <td>2019-05-20 15:23:08+00:00</td>\n",
       "      <td>34000.0</td>\n",
       "      <td>AAL1188</td>\n",
       "      <td>AAL1188_20190520</td>\n",
       "      <td>451.624454</td>\n",
       "      <td>ad4747</td>\n",
       "      <td>29.199326</td>\n",
       "      <td>-94.631847</td>\n",
       "      <td>4752</td>\n",
       "      <td>337.750976</td>\n",
       "      <td>...</td>\n",
       "      <td>KDFW</td>\n",
       "      <td>KDFW</td>\n",
       "      <td>NaN</td>\n",
       "      <td>NaN</td>\n",
       "      <td>NaN</td>\n",
       "      <td>NaN</td>\n",
       "      <td>NaN</td>\n",
       "      <td>NaN</td>\n",
       "      <td>NaN</td>\n",
       "      <td>NaN</td>\n",
       "    </tr>\n",
       "    <tr>\n",
       "      <th>...</th>\n",
       "      <td>...</td>\n",
       "      <td>...</td>\n",
       "      <td>...</td>\n",
       "      <td>...</td>\n",
       "      <td>...</td>\n",
       "      <td>...</td>\n",
       "      <td>...</td>\n",
       "      <td>...</td>\n",
       "      <td>...</td>\n",
       "      <td>...</td>\n",
       "      <td>...</td>\n",
       "      <td>...</td>\n",
       "      <td>...</td>\n",
       "      <td>...</td>\n",
       "      <td>...</td>\n",
       "      <td>...</td>\n",
       "      <td>...</td>\n",
       "      <td>...</td>\n",
       "      <td>...</td>\n",
       "      <td>...</td>\n",
       "      <td>...</td>\n",
       "    </tr>\n",
       "    <tr>\n",
       "      <th>2514888</th>\n",
       "      <td>2019-05-20 16:19:11+00:00</td>\n",
       "      <td>945.0</td>\n",
       "      <td>AAL1188</td>\n",
       "      <td>AAL1188_20190520</td>\n",
       "      <td>134.033462</td>\n",
       "      <td>ad4747</td>\n",
       "      <td>32.927189</td>\n",
       "      <td>-97.054579</td>\n",
       "      <td>4752</td>\n",
       "      <td>180.848764</td>\n",
       "      <td>...</td>\n",
       "      <td>KDFW</td>\n",
       "      <td>KDFW</td>\n",
       "      <td>NaN</td>\n",
       "      <td>NaN</td>\n",
       "      <td>NaN</td>\n",
       "      <td>NaN</td>\n",
       "      <td>NaN</td>\n",
       "      <td>NaN</td>\n",
       "      <td>NaN</td>\n",
       "      <td>NaN</td>\n",
       "    </tr>\n",
       "    <tr>\n",
       "      <th>2514889</th>\n",
       "      <td>2019-05-20 16:19:12+00:00</td>\n",
       "      <td>935.0</td>\n",
       "      <td>AAL1188</td>\n",
       "      <td>AAL1188_20190520</td>\n",
       "      <td>134.033462</td>\n",
       "      <td>ad4747</td>\n",
       "      <td>32.926491</td>\n",
       "      <td>-97.054602</td>\n",
       "      <td>4752</td>\n",
       "      <td>180.848764</td>\n",
       "      <td>...</td>\n",
       "      <td>KDFW</td>\n",
       "      <td>KDFW</td>\n",
       "      <td>NaN</td>\n",
       "      <td>NaN</td>\n",
       "      <td>NaN</td>\n",
       "      <td>NaN</td>\n",
       "      <td>NaN</td>\n",
       "      <td>NaN</td>\n",
       "      <td>NaN</td>\n",
       "      <td>NaN</td>\n",
       "    </tr>\n",
       "    <tr>\n",
       "      <th>2514890</th>\n",
       "      <td>2019-05-20 16:19:13+00:00</td>\n",
       "      <td>925.0</td>\n",
       "      <td>AAL1188</td>\n",
       "      <td>AAL1188_20190520</td>\n",
       "      <td>134.033462</td>\n",
       "      <td>ad4747</td>\n",
       "      <td>32.925793</td>\n",
       "      <td>-97.054624</td>\n",
       "      <td>4752</td>\n",
       "      <td>180.848764</td>\n",
       "      <td>...</td>\n",
       "      <td>KDFW</td>\n",
       "      <td>KDFW</td>\n",
       "      <td>NaN</td>\n",
       "      <td>NaN</td>\n",
       "      <td>NaN</td>\n",
       "      <td>NaN</td>\n",
       "      <td>NaN</td>\n",
       "      <td>NaN</td>\n",
       "      <td>NaN</td>\n",
       "      <td>NaN</td>\n",
       "    </tr>\n",
       "    <tr>\n",
       "      <th>2514891</th>\n",
       "      <td>2019-05-20 16:19:14+00:00</td>\n",
       "      <td>912.5</td>\n",
       "      <td>AAL1188</td>\n",
       "      <td>AAL1188_20190520</td>\n",
       "      <td>134.524080</td>\n",
       "      <td>ad4747</td>\n",
       "      <td>32.925350</td>\n",
       "      <td>-97.054624</td>\n",
       "      <td>4752</td>\n",
       "      <td>180.848764</td>\n",
       "      <td>...</td>\n",
       "      <td>KDFW</td>\n",
       "      <td>KDFW</td>\n",
       "      <td>NaN</td>\n",
       "      <td>NaN</td>\n",
       "      <td>NaN</td>\n",
       "      <td>NaN</td>\n",
       "      <td>NaN</td>\n",
       "      <td>NaN</td>\n",
       "      <td>NaN</td>\n",
       "      <td>NaN</td>\n",
       "    </tr>\n",
       "    <tr>\n",
       "      <th>2514892</th>\n",
       "      <td>2019-05-20 16:19:15+00:00</td>\n",
       "      <td>900.0</td>\n",
       "      <td>AAL1188</td>\n",
       "      <td>AAL1188_20190520</td>\n",
       "      <td>135.014697</td>\n",
       "      <td>ad4747</td>\n",
       "      <td>32.924908</td>\n",
       "      <td>-97.054624</td>\n",
       "      <td>4752</td>\n",
       "      <td>180.848764</td>\n",
       "      <td>...</td>\n",
       "      <td>KDFW</td>\n",
       "      <td>KDFW</td>\n",
       "      <td>NaN</td>\n",
       "      <td>NaN</td>\n",
       "      <td>NaN</td>\n",
       "      <td>NaN</td>\n",
       "      <td>NaN</td>\n",
       "      <td>NaN</td>\n",
       "      <td>NaN</td>\n",
       "      <td>NaN</td>\n",
       "    </tr>\n",
       "  </tbody>\n",
       "</table>\n",
       "<p>3357 rows × 25 columns</p>\n",
       "</div>"
      ]
     },
     "execution_count": 12,
     "metadata": {},
     "output_type": "execute_result"
    }
   ],
   "execution_count": 12
  },
  {
   "cell_type": "code",
   "source": [
    "flights[2].map_leaflet(\n",
    "    highlight=dict(red=lambda f: f.emergency()),\n",
    "    layout=Layout(height=\"500px\", max_width=\"800px\"),\n",
    ")"
   ],
   "metadata": {
    "collapsed": false,
    "ExecuteTime": {
     "end_time": "2024-09-05T12:43:57.595421Z",
     "start_time": "2024-09-05T12:43:56.149932Z"
    }
   },
   "id": "f20985a91a48a443",
   "outputs": [
    {
     "data": {
      "text/plain": [
       "Map(center=[-25.620562845126965, 27.780781399647957], controls=(ZoomControl(options=['position', 'zoom_in_text…"
      ],
      "application/vnd.jupyter.widget-view+json": {
       "version_major": 2,
       "version_minor": 0,
       "model_id": "c6a30e2ffab94cea8db062d57bd83b9b"
      }
     },
     "execution_count": 13,
     "metadata": {},
     "output_type": "execute_result"
    }
   ],
   "execution_count": 13
  },
  {
   "cell_type": "code",
   "source": "",
   "metadata": {
    "collapsed": false,
    "ExecuteTime": {
     "end_time": "2024-09-05T12:43:57.600452Z",
     "start_time": "2024-09-05T12:43:57.598428Z"
    }
   },
   "id": "38837d43d27e723e",
   "outputs": [],
   "execution_count": 13
  },
  {
   "metadata": {},
   "cell_type": "code",
   "outputs": [],
   "execution_count": null,
   "source": "",
   "id": "893292d1deff935c"
  }
 ],
 "metadata": {
  "kernelspec": {
   "display_name": "Python 3",
   "language": "python",
   "name": "python3"
  },
  "language_info": {
   "codemirror_mode": {
    "name": "ipython",
    "version": 2
   },
   "file_extension": ".py",
   "mimetype": "text/x-python",
   "name": "python",
   "nbconvert_exporter": "python",
   "pygments_lexer": "ipython2",
   "version": "2.7.6"
  }
 },
 "nbformat": 4,
 "nbformat_minor": 5
}
