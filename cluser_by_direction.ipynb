{
 "cells": [
  {
   "cell_type": "code",
   "id": "initial_id",
   "metadata": {
    "collapsed": true,
    "ExecuteTime": {
     "end_time": "2024-09-12T14:28:34.528969Z",
     "start_time": "2024-09-12T14:28:31.519832Z"
    }
   },
   "source": [
    "import numpy as np\n",
    "\n",
    "from traffic.core import Traffic\n",
    "from matplotlib import pyplot as plt\n",
    "from functions.data_filtering import filter_flights, complete_flights_filter\n",
    "from functions.data_processing import get_takeoff_and_landing_directions\n",
    "from functions.data_loading import get_data_range\n",
    "from datetime import datetime"
   ],
   "outputs": [],
   "execution_count": 1
  },
  {
   "metadata": {
    "ExecuteTime": {
     "end_time": "2024-09-12T14:28:50.563330Z",
     "start_time": "2024-09-12T14:28:34.528969Z"
    }
   },
   "cell_type": "code",
   "source": [
    "origin = \"bergen\"\n",
    "destination = \"oslo\"\n",
    "flights: Traffic = get_data_range(origin, destination, datetime(year=2023, month=1, day=1), datetime(year=2024, month=1, day=1))"
   ],
   "id": "75b30a136653623",
   "outputs": [],
   "execution_count": 2
  },
  {
   "metadata": {
    "ExecuteTime": {
     "end_time": "2024-09-12T14:30:14.124297Z",
     "start_time": "2024-09-12T14:28:50.564334Z"
    }
   },
   "cell_type": "code",
   "source": "filtered_flights = filter_flights(complete_flights_filter(origin, destination), flights)",
   "id": "de2d2d6e52603684",
   "outputs": [],
   "execution_count": 3
  },
  {
   "metadata": {
    "ExecuteTime": {
     "end_time": "2024-09-12T14:30:14.824647Z",
     "start_time": "2024-09-12T14:30:14.125302Z"
    }
   },
   "cell_type": "code",
   "source": "filtered_flights",
   "id": "c3159f3cef3f6625",
   "outputs": [
    {
     "data": {
      "text/plain": [
       "   icao24 callsign  count\n",
       "0  478dd9     AKK2  63482\n",
       "1  4ac958   SAS252  35901\n",
       "2  47c1c6     BNOG  34775\n",
       "3  47875a   NOZ605  34701\n",
       "4  47a31a   NOZ605  27835\n",
       "5  4784a1   SAS252  26647\n",
       "6  47885f     BNON  26471\n",
       "7  47875a   NOZ601  26361\n",
       "8  47a05e   NOZ605  25294\n",
       "9  47a48c   BNO92J  25272"
      ],
      "text/html": [
       "<h4><b>Traffic</b></h4> with 1793 identifiers<style type=\"text/css\">\n",
       "#T_7db14_row0_col0 {\n",
       "  width: 10em;\n",
       "  background: linear-gradient(90deg, #5fba7d 100.0%, transparent 100.0%);\n",
       "}\n",
       "#T_7db14_row1_col0 {\n",
       "  width: 10em;\n",
       "  background: linear-gradient(90deg, #5fba7d 56.6%, transparent 56.6%);\n",
       "}\n",
       "#T_7db14_row2_col0 {\n",
       "  width: 10em;\n",
       "  background: linear-gradient(90deg, #5fba7d 54.8%, transparent 54.8%);\n",
       "}\n",
       "#T_7db14_row3_col0 {\n",
       "  width: 10em;\n",
       "  background: linear-gradient(90deg, #5fba7d 54.7%, transparent 54.7%);\n",
       "}\n",
       "#T_7db14_row4_col0 {\n",
       "  width: 10em;\n",
       "  background: linear-gradient(90deg, #5fba7d 43.8%, transparent 43.8%);\n",
       "}\n",
       "#T_7db14_row5_col0 {\n",
       "  width: 10em;\n",
       "  background: linear-gradient(90deg, #5fba7d 42.0%, transparent 42.0%);\n",
       "}\n",
       "#T_7db14_row6_col0 {\n",
       "  width: 10em;\n",
       "  background: linear-gradient(90deg, #5fba7d 41.7%, transparent 41.7%);\n",
       "}\n",
       "#T_7db14_row7_col0 {\n",
       "  width: 10em;\n",
       "  background: linear-gradient(90deg, #5fba7d 41.5%, transparent 41.5%);\n",
       "}\n",
       "#T_7db14_row8_col0, #T_7db14_row9_col0 {\n",
       "  width: 10em;\n",
       "  background: linear-gradient(90deg, #5fba7d 39.8%, transparent 39.8%);\n",
       "}\n",
       "</style>\n",
       "<table id=\"T_7db14\">\n",
       "  <thead>\n",
       "    <tr>\n",
       "      <th class=\"blank\" >&nbsp;</th>\n",
       "      <th class=\"blank level0\" >&nbsp;</th>\n",
       "      <th id=\"T_7db14_level0_col0\" class=\"col_heading level0 col0\" >count</th>\n",
       "    </tr>\n",
       "    <tr>\n",
       "      <th class=\"index_name level0\" >icao24</th>\n",
       "      <th class=\"index_name level1\" >callsign</th>\n",
       "      <th class=\"blank col0\" >&nbsp;</th>\n",
       "    </tr>\n",
       "  </thead>\n",
       "  <tbody>\n",
       "    <tr>\n",
       "      <th id=\"T_7db14_level0_row0\" class=\"row_heading level0 row0\" >478dd9</th>\n",
       "      <th id=\"T_7db14_level1_row0\" class=\"row_heading level1 row0\" >AKK2</th>\n",
       "      <td id=\"T_7db14_row0_col0\" class=\"data row0 col0\" >63482</td>\n",
       "    </tr>\n",
       "    <tr>\n",
       "      <th id=\"T_7db14_level0_row1\" class=\"row_heading level0 row1\" >4ac958</th>\n",
       "      <th id=\"T_7db14_level1_row1\" class=\"row_heading level1 row1\" >SAS252</th>\n",
       "      <td id=\"T_7db14_row1_col0\" class=\"data row1 col0\" >35901</td>\n",
       "    </tr>\n",
       "    <tr>\n",
       "      <th id=\"T_7db14_level0_row2\" class=\"row_heading level0 row2\" >47c1c6</th>\n",
       "      <th id=\"T_7db14_level1_row2\" class=\"row_heading level1 row2\" >BNOG</th>\n",
       "      <td id=\"T_7db14_row2_col0\" class=\"data row2 col0\" >34775</td>\n",
       "    </tr>\n",
       "    <tr>\n",
       "      <th id=\"T_7db14_level0_row3\" class=\"row_heading level0 row3\" >47875a</th>\n",
       "      <th id=\"T_7db14_level1_row3\" class=\"row_heading level1 row3\" >NOZ605</th>\n",
       "      <td id=\"T_7db14_row3_col0\" class=\"data row3 col0\" >34701</td>\n",
       "    </tr>\n",
       "    <tr>\n",
       "      <th id=\"T_7db14_level0_row4\" class=\"row_heading level0 row4\" >47a31a</th>\n",
       "      <th id=\"T_7db14_level1_row4\" class=\"row_heading level1 row4\" >NOZ605</th>\n",
       "      <td id=\"T_7db14_row4_col0\" class=\"data row4 col0\" >27835</td>\n",
       "    </tr>\n",
       "    <tr>\n",
       "      <th id=\"T_7db14_level0_row5\" class=\"row_heading level0 row5\" >4784a1</th>\n",
       "      <th id=\"T_7db14_level1_row5\" class=\"row_heading level1 row5\" >SAS252</th>\n",
       "      <td id=\"T_7db14_row5_col0\" class=\"data row5 col0\" >26647</td>\n",
       "    </tr>\n",
       "    <tr>\n",
       "      <th id=\"T_7db14_level0_row6\" class=\"row_heading level0 row6\" >47885f</th>\n",
       "      <th id=\"T_7db14_level1_row6\" class=\"row_heading level1 row6\" >BNON</th>\n",
       "      <td id=\"T_7db14_row6_col0\" class=\"data row6 col0\" >26471</td>\n",
       "    </tr>\n",
       "    <tr>\n",
       "      <th id=\"T_7db14_level0_row7\" class=\"row_heading level0 row7\" >47875a</th>\n",
       "      <th id=\"T_7db14_level1_row7\" class=\"row_heading level1 row7\" >NOZ601</th>\n",
       "      <td id=\"T_7db14_row7_col0\" class=\"data row7 col0\" >26361</td>\n",
       "    </tr>\n",
       "    <tr>\n",
       "      <th id=\"T_7db14_level0_row8\" class=\"row_heading level0 row8\" >47a05e</th>\n",
       "      <th id=\"T_7db14_level1_row8\" class=\"row_heading level1 row8\" >NOZ605</th>\n",
       "      <td id=\"T_7db14_row8_col0\" class=\"data row8 col0\" >25294</td>\n",
       "    </tr>\n",
       "    <tr>\n",
       "      <th id=\"T_7db14_level0_row9\" class=\"row_heading level0 row9\" >47a48c</th>\n",
       "      <th id=\"T_7db14_level1_row9\" class=\"row_heading level1 row9\" >BNO92J</th>\n",
       "      <td id=\"T_7db14_row9_col0\" class=\"data row9 col0\" >25272</td>\n",
       "    </tr>\n",
       "  </tbody>\n",
       "</table>\n"
      ]
     },
     "execution_count": 4,
     "metadata": {},
     "output_type": "execute_result"
    }
   ],
   "execution_count": 4
  },
  {
   "metadata": {
    "ExecuteTime": {
     "end_time": "2024-09-12T14:30:18.657786Z",
     "start_time": "2024-09-12T14:30:14.824647Z"
    }
   },
   "cell_type": "code",
   "source": "filtered_flights[0].map_leaflet()",
   "id": "2372e79ca46793e2",
   "outputs": [
    {
     "data": {
      "text/plain": [
       "Map(center=[60.400553709320306, 8.261436769685307], controls=(ZoomControl(options=['position', 'zoom_in_text',…"
      ],
      "application/vnd.jupyter.widget-view+json": {
       "version_major": 2,
       "version_minor": 0,
       "model_id": "07df512278954cc4b8700fa344175094"
      }
     },
     "execution_count": 5,
     "metadata": {},
     "output_type": "execute_result"
    }
   ],
   "execution_count": 5
  },
  {
   "metadata": {
    "ExecuteTime": {
     "end_time": "2024-09-12T14:30:37.144882Z",
     "start_time": "2024-09-12T14:30:18.657786Z"
    }
   },
   "cell_type": "code",
   "source": [
    "directions = list(get_takeoff_and_landing_directions(filtered_flights))\n",
    "start = [start for start, _ in directions]\n",
    "end = [end for _, end in directions] "
   ],
   "id": "19de2a458f4320f7",
   "outputs": [],
   "execution_count": 6
  },
  {
   "metadata": {
    "ExecuteTime": {
     "end_time": "2024-09-12T14:30:37.262970Z",
     "start_time": "2024-09-12T14:30:37.144882Z"
    }
   },
   "cell_type": "code",
   "source": [
    "fig, ax = plt.subplots(ncols=2)\n",
    "ax[0].hist(start, bins=20, color=\"blue\")\n",
    "ax[0].set_xlim([0, 2*np.pi])\n",
    "ax[1].hist(end, bins=20, color=\"orange\")\n",
    "ax[1].set_xlim([0, 2*np.pi])\n",
    "fig.set_figwidth(10)\n",
    "plt.show()"
   ],
   "id": "ed5eec75db2d5bd7",
   "outputs": [
    {
     "data": {
      "text/plain": [
       "<Figure size 1000x480 with 2 Axes>"
      ],
      "image/png": "[encoded data removed]"
     },
     "metadata": {},
     "output_type": "display_data"
    }
   ],
   "execution_count": 7
  },
  {
   "metadata": {
    "ExecuteTime": {
     "end_time": "2024-09-12T14:31:16.319409Z",
     "start_time": "2024-09-12T14:31:16.220669Z"
    }
   },
   "cell_type": "code",
   "source": [
    "fig, ax = plt.subplots(ncols=2)\n",
    "ax[0].plot(np.sin(start), np.cos(start), '.', color=\"blue\")\n",
    "ax[0].set_xlim([-1.1, 1.1])\n",
    "ax[0].set_ylim([-1.1, 1.1])\n",
    "ax[1].plot(np.sin(end), np.cos(end), '.', color=\"orange\")\n",
    "ax[1].set_xlim([-1.1, 1.1])\n",
    "ax[1].set_ylim([-1.1, 1.1])\n",
    "fig.set_figwidth(12)\n",
    "plt.show()"
   ],
   "id": "1cb246868efc74d2",
   "outputs": [
    {
     "data": {
      "text/plain": [
       "<Figure size 1200x480 with 2 Axes>"
      ],
      "image/png": "[encoded data removed]"
     },
     "metadata": {},
     "output_type": "display_data"
    }
   ],
   "execution_count": 10
  },
  {
   "metadata": {
    "ExecuteTime": {
     "end_time": "2024-09-12T14:31:38.352707Z",
     "start_time": "2024-09-12T14:31:35.772085Z"
    }
   },
   "cell_type": "code",
   "source": [
    "first_30_sec = filtered_flights[200].last('30 sec')\n",
    "\n",
    "direction = first_30_sec.data.get(['heading']).median().values[0]\n",
    "print(direction)\n",
    "first_30_sec.map_leaflet(zoom=13)\n"
   ],
   "id": "8a76ca188a4b5e42",
   "outputs": [
    {
     "name": "stdout",
     "output_type": "stream",
     "text": [
      "196.15194071463094\n"
     ]
    },
    {
     "data": {
      "text/plain": [
       "Map(center=[60.23949233232918, 11.105219272557148], controls=(ZoomControl(options=['position', 'zoom_in_text',…"
      ],
      "application/vnd.jupyter.widget-view+json": {
       "version_major": 2,
       "version_minor": 0,
       "model_id": "0a6f2699c7944126bbb26aebce438f83"
      }
     },
     "execution_count": 11,
     "metadata": {},
     "output_type": "execute_result"
    }
   ],
   "execution_count": 11
  },
  {
   "metadata": {
    "ExecuteTime": {
     "end_time": "2024-09-12T14:33:39.305815Z",
     "start_time": "2024-09-12T14:33:39.299294Z"
    }
   },
   "cell_type": "code",
   "source": [
    "i = 0\n",
    "for start, end in directions:\n",
    "    if np.sin(end) > 0.75:\n",
    "        print(i)\n",
    "    i += 1"
   ],
   "id": "3bc24be3b6d325d5",
   "outputs": [
    {
     "name": "stdout",
     "output_type": "stream",
     "text": [
      "2867\n"
     ]
    }
   ],
   "execution_count": 14
  },
  {
   "metadata": {
    "ExecuteTime": {
     "end_time": "2024-09-12T14:36:02.365638Z",
     "start_time": "2024-09-12T14:35:59.228719Z"
    }
   },
   "cell_type": "code",
   "source": "filtered_flights[2867].last('5 sec').data",
   "id": "671f7da793739e23",
   "outputs": [
    {
     "data": {
      "text/plain": [
       "                         timestamp  icao24   latitude  longitude   velocity  \\\n",
       "15836040 2023-12-18 17:32:24+00:00  47c39c  60.227796  11.098448  48.193272   \n",
       "15836041 2023-12-18 17:32:25+00:00  47c39c  60.227796  11.098448  48.193272   \n",
       "15836042 2023-12-18 17:32:26+00:00  47c39c  60.227188  11.098086  48.338577   \n",
       "15836043 2023-12-18 17:32:27+00:00  47c39c  60.226958  11.097957  48.338577   \n",
       "15836044 2023-12-18 17:32:28+00:00  47c39c  60.226958  11.097957  48.831549   \n",
       "\n",
       "             heading  vertrate callsign  onground  alert    spi squawk  \\\n",
       "15836040  196.113418  -2.27584    BNO3T     False  False  False   None   \n",
       "15836041  196.113418  -2.27584    BNO3T     False  False  False   None   \n",
       "15836042  196.699244  -2.27584    BNO3T     False  False  False   None   \n",
       "15836043  196.699244  -2.27584    BNO3T     False  False  False   None   \n",
       "15836044  196.525796  -1.95072    BNO3T     False  False  False   None   \n",
       "\n",
       "          baroaltitude  geoaltitude  lastposupdate   lastcontact  \\\n",
       "15836040        373.38       327.66   1.702921e+09  1.702921e+09   \n",
       "15836041        373.38       327.66   1.702921e+09  1.702921e+09   \n",
       "15836042        373.38       327.66   1.702921e+09  1.702921e+09   \n",
       "15836043        373.38       327.66   1.702921e+09  1.702921e+09   \n",
       "15836044        373.38       327.66   1.702921e+09  1.702921e+09   \n",
       "\n",
       "                serials                      hour  \n",
       "15836040  [-1408233889] 2023-12-18 17:00:00+00:00  \n",
       "15836041  [-1408233889] 2023-12-18 17:00:00+00:00  \n",
       "15836042  [-1408233889] 2023-12-18 17:00:00+00:00  \n",
       "15836043  [-1408233889] 2023-12-18 17:00:00+00:00  \n",
       "15836044  [-1408233889] 2023-12-18 17:00:00+00:00  "
      ],
      "text/html": [
       "<div>\n",
       "<style scoped>\n",
       "    .dataframe tbody tr th:only-of-type {\n",
       "        vertical-align: middle;\n",
       "    }\n",
       "\n",
       "    .dataframe tbody tr th {\n",
       "        vertical-align: top;\n",
       "    }\n",
       "\n",
       "    .dataframe thead th {\n",
       "        text-align: right;\n",
       "    }\n",
       "</style>\n",
       "<table border=\"1\" class=\"dataframe\">\n",
       "  <thead>\n",
       "    <tr style=\"text-align: right;\">\n",
       "      <th></th>\n",
       "      <th>timestamp</th>\n",
       "      <th>icao24</th>\n",
       "      <th>latitude</th>\n",
       "      <th>longitude</th>\n",
       "      <th>velocity</th>\n",
       "      <th>heading</th>\n",
       "      <th>vertrate</th>\n",
       "      <th>callsign</th>\n",
       "      <th>onground</th>\n",
       "      <th>alert</th>\n",
       "      <th>spi</th>\n",
       "      <th>squawk</th>\n",
       "      <th>baroaltitude</th>\n",
       "      <th>geoaltitude</th>\n",
       "      <th>lastposupdate</th>\n",
       "      <th>lastcontact</th>\n",
       "      <th>serials</th>\n",
       "      <th>hour</th>\n",
       "    </tr>\n",
       "  </thead>\n",
       "  <tbody>\n",
       "    <tr>\n",
       "      <th>15836040</th>\n",
       "      <td>2023-12-18 17:32:24+00:00</td>\n",
       "      <td>47c39c</td>\n",
       "      <td>60.227796</td>\n",
       "      <td>11.098448</td>\n",
       "      <td>48.193272</td>\n",
       "      <td>196.113418</td>\n",
       "      <td>-2.27584</td>\n",
       "      <td>BNO3T</td>\n",
       "      <td>False</td>\n",
       "      <td>False</td>\n",
       "      <td>False</td>\n",
       "      <td>None</td>\n",
       "      <td>373.38</td>\n",
       "      <td>327.66</td>\n",
       "      <td>1.702921e+09</td>\n",
       "      <td>1.702921e+09</td>\n",
       "      <td>[-1408233889]</td>\n",
       "      <td>2023-12-18 17:00:00+00:00</td>\n",
       "    </tr>\n",
       "    <tr>\n",
       "      <th>15836041</th>\n",
       "      <td>2023-12-18 17:32:25+00:00</td>\n",
       "      <td>47c39c</td>\n",
       "      <td>60.227796</td>\n",
       "      <td>11.098448</td>\n",
       "      <td>48.193272</td>\n",
       "      <td>196.113418</td>\n",
       "      <td>-2.27584</td>\n",
       "      <td>BNO3T</td>\n",
       "      <td>False</td>\n",
       "      <td>False</td>\n",
       "      <td>False</td>\n",
       "      <td>None</td>\n",
       "      <td>373.38</td>\n",
       "      <td>327.66</td>\n",
       "      <td>1.702921e+09</td>\n",
       "      <td>1.702921e+09</td>\n",
       "      <td>[-1408233889]</td>\n",
       "      <td>2023-12-18 17:00:00+00:00</td>\n",
       "    </tr>\n",
       "    <tr>\n",
       "      <th>15836042</th>\n",
       "      <td>2023-12-18 17:32:26+00:00</td>\n",
       "      <td>47c39c</td>\n",
       "      <td>60.227188</td>\n",
       "      <td>11.098086</td>\n",
       "      <td>48.338577</td>\n",
       "      <td>196.699244</td>\n",
       "      <td>-2.27584</td>\n",
       "      <td>BNO3T</td>\n",
       "      <td>False</td>\n",
       "      <td>False</td>\n",
       "      <td>False</td>\n",
       "      <td>None</td>\n",
       "      <td>373.38</td>\n",
       "      <td>327.66</td>\n",
       "      <td>1.702921e+09</td>\n",
       "      <td>1.702921e+09</td>\n",
       "      <td>[-1408233889]</td>\n",
       "      <td>2023-12-18 17:00:00+00:00</td>\n",
       "    </tr>\n",
       "    <tr>\n",
       "      <th>15836043</th>\n",
       "      <td>2023-12-18 17:32:27+00:00</td>\n",
       "      <td>47c39c</td>\n",
       "      <td>60.226958</td>\n",
       "      <td>11.097957</td>\n",
       "      <td>48.338577</td>\n",
       "      <td>196.699244</td>\n",
       "      <td>-2.27584</td>\n",
       "      <td>BNO3T</td>\n",
       "      <td>False</td>\n",
       "      <td>False</td>\n",
       "      <td>False</td>\n",
       "      <td>None</td>\n",
       "      <td>373.38</td>\n",
       "      <td>327.66</td>\n",
       "      <td>1.702921e+09</td>\n",
       "      <td>1.702921e+09</td>\n",
       "      <td>[-1408233889]</td>\n",
       "      <td>2023-12-18 17:00:00+00:00</td>\n",
       "    </tr>\n",
       "    <tr>\n",
       "      <th>15836044</th>\n",
       "      <td>2023-12-18 17:32:28+00:00</td>\n",
       "      <td>47c39c</td>\n",
       "      <td>60.226958</td>\n",
       "      <td>11.097957</td>\n",
       "      <td>48.831549</td>\n",
       "      <td>196.525796</td>\n",
       "      <td>-1.95072</td>\n",
       "      <td>BNO3T</td>\n",
       "      <td>False</td>\n",
       "      <td>False</td>\n",
       "      <td>False</td>\n",
       "      <td>None</td>\n",
       "      <td>373.38</td>\n",
       "      <td>327.66</td>\n",
       "      <td>1.702921e+09</td>\n",
       "      <td>1.702921e+09</td>\n",
       "      <td>[-1408233889]</td>\n",
       "      <td>2023-12-18 17:00:00+00:00</td>\n",
       "    </tr>\n",
       "  </tbody>\n",
       "</table>\n",
       "</div>"
      ]
     },
     "execution_count": 23,
     "metadata": {},
     "output_type": "execute_result"
    }
   ],
   "execution_count": 23
  },
  {
   "metadata": {
    "ExecuteTime": {
     "end_time": "2024-09-12T14:36:48.480605Z",
     "start_time": "2024-09-12T14:36:48.477077Z"
    }
   },
   "cell_type": "code",
   "source": "np.sin(196.113418 * np.pi / 180)",
   "id": "fa6ce2606ac80aef",
   "outputs": [
    {
     "data": {
      "text/plain": [
       "-0.2775396489124202"
      ]
     },
     "execution_count": 25,
     "metadata": {},
     "output_type": "execute_result"
    }
   ],
   "execution_count": 25
  },
  {
   "metadata": {
    "ExecuteTime": {
     "end_time": "2024-09-12T14:43:52.226112Z",
     "start_time": "2024-09-12T14:43:41.397609Z"
    }
   },
   "cell_type": "code",
   "source": [
    "import math\n",
    "for flight in filtered_flights:\n",
    "    direction = flight.last('5 sec').data.get(['heading']).median().values[0]\n",
    "    if np.sin(direction * math.pi / 180) > 0.75:\n",
    "        print(flight)"
   ],
   "id": "a8ce7388934692d7",
   "outputs": [],
   "execution_count": 39
  }
 ],
 "metadata": {
  "kernelspec": {
   "display_name": "Python 3",
   "language": "python",
   "name": "python3"
  },
  "language_info": {
   "codemirror_mode": {
    "name": "ipython",
    "version": 2
   },
   "file_extension": ".py",
   "mimetype": "text/x-python",
   "name": "python",
   "nbconvert_exporter": "python",
   "pygments_lexer": "ipython2",
   "version": "2.7.6"
  }
 },
 "nbformat": 4,
 "nbformat_minor": 5
}
