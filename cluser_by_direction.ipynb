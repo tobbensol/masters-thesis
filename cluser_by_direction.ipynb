{
 "cells": [
  {
   "cell_type": "code",
   "id": "initial_id",
   "metadata": {
    "collapsed": true,
    "ExecuteTime": {
     "end_time": "2024-09-12T15:08:17.696641Z",
     "start_time": "2024-09-12T15:08:14.719294Z"
    }
   },
   "source": [
    "import numpy as np\n",
    "\n",
    "from traffic.core import Traffic\n",
    "from matplotlib import pyplot as plt\n",
    "from functions.data_filtering import complete_flight_filter\n",
    "from functions.data_processing import get_takeoff_and_landing_directions\n",
    "from functions.data_loading import get_filtered_data_range\n",
    "from datetime import datetime"
   ],
   "outputs": [],
   "execution_count": 1
  },
  {
   "metadata": {
    "ExecuteTime": {
     "end_time": "2024-09-12T15:10:32.037927Z",
     "start_time": "2024-09-12T15:08:18.952255Z"
    }
   },
   "cell_type": "code",
   "source": [
    "origin = \"bergen\"\n",
    "destination = \"oslo\"\n",
    "filtered_flights: Traffic = get_filtered_data_range(origin, destination, datetime(year=2023, month=1, day=1), datetime(year=2024, month=1, day=1), complete_flight_filter(origin, destination))"
   ],
   "id": "75b30a136653623",
   "outputs": [],
   "execution_count": 2
  },
  {
   "metadata": {
    "ExecuteTime": {
     "end_time": "2024-09-12T14:58:54.481277Z",
     "start_time": "2024-09-12T14:58:53.943049Z"
    }
   },
   "cell_type": "code",
   "source": "filtered_flights",
   "id": "c3159f3cef3f6625",
   "outputs": [
    {
     "data": {
      "text/plain": [
       "   icao24 callsign  count\n",
       "0  47875a   NOZ605  30260\n",
       "1  478dd9     AKK2  29821\n",
       "2  47875c   NOZ601  24104\n",
       "3  47a05e   NOZ605  23048\n",
       "4  4ac958   SAS252  22801\n",
       "5  4ac9ec   SAS238  22763\n",
       "6  4acaa3   SAS78A  21955\n",
       "7  47875a   NOZ601  21791\n",
       "8  47a31a   NOZ605  20963\n",
       "9  47947c   NOZ605  20304"
      ],
      "text/html": [
       "<h4><b>Traffic</b></h4> with 1502 identifiers<style type=\"text/css\">\n",
       "#T_18615_row0_col0 {\n",
       "  width: 10em;\n",
       "  background: linear-gradient(90deg, #5fba7d 100.0%, transparent 100.0%);\n",
       "}\n",
       "#T_18615_row1_col0 {\n",
       "  width: 10em;\n",
       "  background: linear-gradient(90deg, #5fba7d 98.5%, transparent 98.5%);\n",
       "}\n",
       "#T_18615_row2_col0 {\n",
       "  width: 10em;\n",
       "  background: linear-gradient(90deg, #5fba7d 79.7%, transparent 79.7%);\n",
       "}\n",
       "#T_18615_row3_col0 {\n",
       "  width: 10em;\n",
       "  background: linear-gradient(90deg, #5fba7d 76.2%, transparent 76.2%);\n",
       "}\n",
       "#T_18615_row4_col0 {\n",
       "  width: 10em;\n",
       "  background: linear-gradient(90deg, #5fba7d 75.4%, transparent 75.4%);\n",
       "}\n",
       "#T_18615_row5_col0 {\n",
       "  width: 10em;\n",
       "  background: linear-gradient(90deg, #5fba7d 75.2%, transparent 75.2%);\n",
       "}\n",
       "#T_18615_row6_col0 {\n",
       "  width: 10em;\n",
       "  background: linear-gradient(90deg, #5fba7d 72.6%, transparent 72.6%);\n",
       "}\n",
       "#T_18615_row7_col0 {\n",
       "  width: 10em;\n",
       "  background: linear-gradient(90deg, #5fba7d 72.0%, transparent 72.0%);\n",
       "}\n",
       "#T_18615_row8_col0 {\n",
       "  width: 10em;\n",
       "  background: linear-gradient(90deg, #5fba7d 69.3%, transparent 69.3%);\n",
       "}\n",
       "#T_18615_row9_col0 {\n",
       "  width: 10em;\n",
       "  background: linear-gradient(90deg, #5fba7d 67.1%, transparent 67.1%);\n",
       "}\n",
       "</style>\n",
       "<table id=\"T_18615\">\n",
       "  <thead>\n",
       "    <tr>\n",
       "      <th class=\"blank\" >&nbsp;</th>\n",
       "      <th class=\"blank level0\" >&nbsp;</th>\n",
       "      <th id=\"T_18615_level0_col0\" class=\"col_heading level0 col0\" >count</th>\n",
       "    </tr>\n",
       "    <tr>\n",
       "      <th class=\"index_name level0\" >icao24</th>\n",
       "      <th class=\"index_name level1\" >callsign</th>\n",
       "      <th class=\"blank col0\" >&nbsp;</th>\n",
       "    </tr>\n",
       "  </thead>\n",
       "  <tbody>\n",
       "    <tr>\n",
       "      <th id=\"T_18615_level0_row0\" class=\"row_heading level0 row0\" >47875a</th>\n",
       "      <th id=\"T_18615_level1_row0\" class=\"row_heading level1 row0\" >NOZ605</th>\n",
       "      <td id=\"T_18615_row0_col0\" class=\"data row0 col0\" >30260</td>\n",
       "    </tr>\n",
       "    <tr>\n",
       "      <th id=\"T_18615_level0_row1\" class=\"row_heading level0 row1\" >478dd9</th>\n",
       "      <th id=\"T_18615_level1_row1\" class=\"row_heading level1 row1\" >AKK2</th>\n",
       "      <td id=\"T_18615_row1_col0\" class=\"data row1 col0\" >29821</td>\n",
       "    </tr>\n",
       "    <tr>\n",
       "      <th id=\"T_18615_level0_row2\" class=\"row_heading level0 row2\" >47875c</th>\n",
       "      <th id=\"T_18615_level1_row2\" class=\"row_heading level1 row2\" >NOZ601</th>\n",
       "      <td id=\"T_18615_row2_col0\" class=\"data row2 col0\" >24104</td>\n",
       "    </tr>\n",
       "    <tr>\n",
       "      <th id=\"T_18615_level0_row3\" class=\"row_heading level0 row3\" >47a05e</th>\n",
       "      <th id=\"T_18615_level1_row3\" class=\"row_heading level1 row3\" >NOZ605</th>\n",
       "      <td id=\"T_18615_row3_col0\" class=\"data row3 col0\" >23048</td>\n",
       "    </tr>\n",
       "    <tr>\n",
       "      <th id=\"T_18615_level0_row4\" class=\"row_heading level0 row4\" >4ac958</th>\n",
       "      <th id=\"T_18615_level1_row4\" class=\"row_heading level1 row4\" >SAS252</th>\n",
       "      <td id=\"T_18615_row4_col0\" class=\"data row4 col0\" >22801</td>\n",
       "    </tr>\n",
       "    <tr>\n",
       "      <th id=\"T_18615_level0_row5\" class=\"row_heading level0 row5\" >4ac9ec</th>\n",
       "      <th id=\"T_18615_level1_row5\" class=\"row_heading level1 row5\" >SAS238</th>\n",
       "      <td id=\"T_18615_row5_col0\" class=\"data row5 col0\" >22763</td>\n",
       "    </tr>\n",
       "    <tr>\n",
       "      <th id=\"T_18615_level0_row6\" class=\"row_heading level0 row6\" >4acaa3</th>\n",
       "      <th id=\"T_18615_level1_row6\" class=\"row_heading level1 row6\" >SAS78A</th>\n",
       "      <td id=\"T_18615_row6_col0\" class=\"data row6 col0\" >21955</td>\n",
       "    </tr>\n",
       "    <tr>\n",
       "      <th id=\"T_18615_level0_row7\" class=\"row_heading level0 row7\" >47875a</th>\n",
       "      <th id=\"T_18615_level1_row7\" class=\"row_heading level1 row7\" >NOZ601</th>\n",
       "      <td id=\"T_18615_row7_col0\" class=\"data row7 col0\" >21791</td>\n",
       "    </tr>\n",
       "    <tr>\n",
       "      <th id=\"T_18615_level0_row8\" class=\"row_heading level0 row8\" >47a31a</th>\n",
       "      <th id=\"T_18615_level1_row8\" class=\"row_heading level1 row8\" >NOZ605</th>\n",
       "      <td id=\"T_18615_row8_col0\" class=\"data row8 col0\" >20963</td>\n",
       "    </tr>\n",
       "    <tr>\n",
       "      <th id=\"T_18615_level0_row9\" class=\"row_heading level0 row9\" >47947c</th>\n",
       "      <th id=\"T_18615_level1_row9\" class=\"row_heading level1 row9\" >NOZ605</th>\n",
       "      <td id=\"T_18615_row9_col0\" class=\"data row9 col0\" >20304</td>\n",
       "    </tr>\n",
       "  </tbody>\n",
       "</table>\n"
      ]
     },
     "execution_count": 4,
     "metadata": {},
     "output_type": "execute_result"
    }
   ],
   "execution_count": 4
  },
  {
   "metadata": {
    "ExecuteTime": {
     "end_time": "2024-09-12T14:58:57.493906Z",
     "start_time": "2024-09-12T14:58:54.482282Z"
    }
   },
   "cell_type": "code",
   "source": "filtered_flights[0].map_leaflet()",
   "id": "2372e79ca46793e2",
   "outputs": [
    {
     "data": {
      "text/plain": [
       "Map(center=[60.34581268473186, 8.448060047183947], controls=(ZoomControl(options=['position', 'zoom_in_text', …"
      ],
      "application/vnd.jupyter.widget-view+json": {
       "version_major": 2,
       "version_minor": 0,
       "model_id": "699c1665461f40f48dce35d12b536ec1"
      }
     },
     "execution_count": 5,
     "metadata": {},
     "output_type": "execute_result"
    }
   ],
   "execution_count": 5
  },
  {
   "metadata": {
    "ExecuteTime": {
     "end_time": "2024-09-12T14:59:10.823707Z",
     "start_time": "2024-09-12T14:58:57.493906Z"
    }
   },
   "cell_type": "code",
   "source": [
    "directions = list(get_takeoff_and_landing_directions(filtered_flights))\n",
    "start = [start for start, _ in directions]\n",
    "end = [end for _, end in directions] "
   ],
   "id": "19de2a458f4320f7",
   "outputs": [],
   "execution_count": 6
  },
  {
   "metadata": {
    "ExecuteTime": {
     "end_time": "2024-09-12T14:59:10.946549Z",
     "start_time": "2024-09-12T14:59:10.823707Z"
    }
   },
   "cell_type": "code",
   "source": [
    "fig, ax = plt.subplots(ncols=2)\n",
    "ax[0].hist(start, bins=20, color=\"blue\")\n",
    "ax[0].set_xlim([0, 2*np.pi])\n",
    "ax[1].hist(end, bins=20, color=\"orange\")\n",
    "ax[1].set_xlim([0, 2*np.pi])\n",
    "fig.set_figwidth(10)\n",
    "plt.show()"
   ],
   "id": "ed5eec75db2d5bd7",
   "outputs": [
    {
     "data": {
      "text/plain": [
       "<Figure size 1000x480 with 2 Axes>"
      ],
      "image/png": "[encoded data removed]"
     },
     "metadata": {},
     "output_type": "display_data"
    }
   ],
   "execution_count": 7
  },
  {
   "metadata": {
    "ExecuteTime": {
     "end_time": "2024-09-12T14:59:11.094605Z",
     "start_time": "2024-09-12T14:59:10.946549Z"
    }
   },
   "cell_type": "code",
   "source": [
    "fig, ax = plt.subplots(ncols=2)\n",
    "ax[0].plot(np.sin(start), np.cos(start), '.', color=\"blue\")\n",
    "ax[0].set_xlim([-1.1, 1.1])\n",
    "ax[0].set_ylim([-1.1, 1.1])\n",
    "ax[1].plot(np.sin(end), np.cos(end), '.', color=\"orange\")\n",
    "ax[1].set_xlim([-1.1, 1.1])\n",
    "ax[1].set_ylim([-1.1, 1.1])\n",
    "fig.set_figwidth(12)\n",
    "plt.show()"
   ],
   "id": "1cb246868efc74d2",
   "outputs": [
    {
     "data": {
      "text/plain": [
       "<Figure size 1200x480 with 2 Axes>"
      ],
      "image/png": "[encoded data removed]"
     },
     "metadata": {},
     "output_type": "display_data"
    }
   ],
   "execution_count": 8
  },
  {
   "metadata": {
    "ExecuteTime": {
     "end_time": "2024-09-12T14:59:13.035159Z",
     "start_time": "2024-09-12T14:59:11.094605Z"
    }
   },
   "cell_type": "code",
   "source": [
    "first_30_sec = filtered_flights[200].last('30 sec')\n",
    "\n",
    "direction = first_30_sec.data.get(['heading']).median().values[0]\n",
    "print(direction)\n",
    "first_30_sec.map_leaflet(zoom=13)\n"
   ],
   "id": "8a76ca188a4b5e42",
   "outputs": [
    {
     "name": "stdout",
     "output_type": "stream",
     "text": [
      "195.94539590092288\n"
     ]
    },
    {
     "data": {
      "text/plain": [
       "Map(center=[60.22688446044922, 11.097911966258076], controls=(ZoomControl(options=['position', 'zoom_in_text',…"
      ],
      "application/vnd.jupyter.widget-view+json": {
       "version_major": 2,
       "version_minor": 0,
       "model_id": "aedd45dceff2499d95c83d83ea1acf1d"
      }
     },
     "execution_count": 9,
     "metadata": {},
     "output_type": "execute_result"
    }
   ],
   "execution_count": 9
  },
  {
   "metadata": {
    "ExecuteTime": {
     "end_time": "2024-09-12T14:59:13.039722Z",
     "start_time": "2024-09-12T14:59:13.035159Z"
    }
   },
   "cell_type": "code",
   "source": [
    "i = 0\n",
    "for start, end in directions:\n",
    "    if np.sin(end) > 0.75:\n",
    "        print(i)\n",
    "    i += 1"
   ],
   "id": "3bc24be3b6d325d5",
   "outputs": [],
   "execution_count": 10
  },
  {
   "metadata": {
    "ExecuteTime": {
     "end_time": "2024-09-12T14:59:15.530330Z",
     "start_time": "2024-09-12T14:59:13.040230Z"
    }
   },
   "cell_type": "code",
   "source": "filtered_flights[2867].last('5 sec').data",
   "id": "671f7da793739e23",
   "outputs": [
    {
     "data": {
      "text/plain": [
       "                         timestamp  icao24   latitude  longitude   velocity  \\\n",
       "13377001 2023-10-20 19:04:53+00:00  4acaa2  60.169006  11.103863  61.408756   \n",
       "13377002 2023-10-20 19:04:54+00:00  4acaa2  60.169559  11.104235  61.904524   \n",
       "13377003 2023-10-20 19:04:55+00:00  4acaa2  60.169838  11.104333  61.904524   \n",
       "13377004 2023-10-20 19:04:56+00:00  4acaa2  60.169838  11.104333  61.904524   \n",
       "13377005 2023-10-20 19:04:57+00:00  4acaa2  60.171235  11.105118  62.538281   \n",
       "\n",
       "            heading  vertrate callsign  onground  alert    spi squawk  \\\n",
       "13377001  15.549804  -3.25120  SAS2290     False  False  False   None   \n",
       "13377002  15.422161  -3.57632  SAS2290     False  False  False   None   \n",
       "13377003  15.422161  -3.57632  SAS2290     False  False  False   None   \n",
       "13377004  15.422161  -3.57632  SAS2290     False  False  False   None   \n",
       "13377005  15.751174  -2.92608  SAS2290     False  False  False   None   \n",
       "\n",
       "          baroaltitude  geoaltitude  lastposupdate   lastcontact  \\\n",
       "13377001        220.98       297.18   1.697829e+09  1.697829e+09   \n",
       "13377002        220.98       297.18   1.697829e+09  1.697829e+09   \n",
       "13377003        220.98       304.80   1.697829e+09  1.697829e+09   \n",
       "13377004        220.98       304.80   1.697829e+09  1.697829e+09   \n",
       "13377005        205.74       297.18   1.697829e+09  1.697829e+09   \n",
       "\n",
       "                serials                      hour  \n",
       "13377001  [-1408233889] 2023-10-20 19:00:00+00:00  \n",
       "13377002  [-1408233889] 2023-10-20 19:00:00+00:00  \n",
       "13377003  [-1408233889] 2023-10-20 19:00:00+00:00  \n",
       "13377004  [-1408233889] 2023-10-20 19:00:00+00:00  \n",
       "13377005  [-1408233889] 2023-10-20 19:00:00+00:00  "
      ],
      "text/html": [
       "<div>\n",
       "<style scoped>\n",
       "    .dataframe tbody tr th:only-of-type {\n",
       "        vertical-align: middle;\n",
       "    }\n",
       "\n",
       "    .dataframe tbody tr th {\n",
       "        vertical-align: top;\n",
       "    }\n",
       "\n",
       "    .dataframe thead th {\n",
       "        text-align: right;\n",
       "    }\n",
       "</style>\n",
       "<table border=\"1\" class=\"dataframe\">\n",
       "  <thead>\n",
       "    <tr style=\"text-align: right;\">\n",
       "      <th></th>\n",
       "      <th>timestamp</th>\n",
       "      <th>icao24</th>\n",
       "      <th>latitude</th>\n",
       "      <th>longitude</th>\n",
       "      <th>velocity</th>\n",
       "      <th>heading</th>\n",
       "      <th>vertrate</th>\n",
       "      <th>callsign</th>\n",
       "      <th>onground</th>\n",
       "      <th>alert</th>\n",
       "      <th>spi</th>\n",
       "      <th>squawk</th>\n",
       "      <th>baroaltitude</th>\n",
       "      <th>geoaltitude</th>\n",
       "      <th>lastposupdate</th>\n",
       "      <th>lastcontact</th>\n",
       "      <th>serials</th>\n",
       "      <th>hour</th>\n",
       "    </tr>\n",
       "  </thead>\n",
       "  <tbody>\n",
       "    <tr>\n",
       "      <th>13377001</th>\n",
       "      <td>2023-10-20 19:04:53+00:00</td>\n",
       "      <td>4acaa2</td>\n",
       "      <td>60.169006</td>\n",
       "      <td>11.103863</td>\n",
       "      <td>61.408756</td>\n",
       "      <td>15.549804</td>\n",
       "      <td>-3.25120</td>\n",
       "      <td>SAS2290</td>\n",
       "      <td>False</td>\n",
       "      <td>False</td>\n",
       "      <td>False</td>\n",
       "      <td>None</td>\n",
       "      <td>220.98</td>\n",
       "      <td>297.18</td>\n",
       "      <td>1.697829e+09</td>\n",
       "      <td>1.697829e+09</td>\n",
       "      <td>[-1408233889]</td>\n",
       "      <td>2023-10-20 19:00:00+00:00</td>\n",
       "    </tr>\n",
       "    <tr>\n",
       "      <th>13377002</th>\n",
       "      <td>2023-10-20 19:04:54+00:00</td>\n",
       "      <td>4acaa2</td>\n",
       "      <td>60.169559</td>\n",
       "      <td>11.104235</td>\n",
       "      <td>61.904524</td>\n",
       "      <td>15.422161</td>\n",
       "      <td>-3.57632</td>\n",
       "      <td>SAS2290</td>\n",
       "      <td>False</td>\n",
       "      <td>False</td>\n",
       "      <td>False</td>\n",
       "      <td>None</td>\n",
       "      <td>220.98</td>\n",
       "      <td>297.18</td>\n",
       "      <td>1.697829e+09</td>\n",
       "      <td>1.697829e+09</td>\n",
       "      <td>[-1408233889]</td>\n",
       "      <td>2023-10-20 19:00:00+00:00</td>\n",
       "    </tr>\n",
       "    <tr>\n",
       "      <th>13377003</th>\n",
       "      <td>2023-10-20 19:04:55+00:00</td>\n",
       "      <td>4acaa2</td>\n",
       "      <td>60.169838</td>\n",
       "      <td>11.104333</td>\n",
       "      <td>61.904524</td>\n",
       "      <td>15.422161</td>\n",
       "      <td>-3.57632</td>\n",
       "      <td>SAS2290</td>\n",
       "      <td>False</td>\n",
       "      <td>False</td>\n",
       "      <td>False</td>\n",
       "      <td>None</td>\n",
       "      <td>220.98</td>\n",
       "      <td>304.80</td>\n",
       "      <td>1.697829e+09</td>\n",
       "      <td>1.697829e+09</td>\n",
       "      <td>[-1408233889]</td>\n",
       "      <td>2023-10-20 19:00:00+00:00</td>\n",
       "    </tr>\n",
       "    <tr>\n",
       "      <th>13377004</th>\n",
       "      <td>2023-10-20 19:04:56+00:00</td>\n",
       "      <td>4acaa2</td>\n",
       "      <td>60.169838</td>\n",
       "      <td>11.104333</td>\n",
       "      <td>61.904524</td>\n",
       "      <td>15.422161</td>\n",
       "      <td>-3.57632</td>\n",
       "      <td>SAS2290</td>\n",
       "      <td>False</td>\n",
       "      <td>False</td>\n",
       "      <td>False</td>\n",
       "      <td>None</td>\n",
       "      <td>220.98</td>\n",
       "      <td>304.80</td>\n",
       "      <td>1.697829e+09</td>\n",
       "      <td>1.697829e+09</td>\n",
       "      <td>[-1408233889]</td>\n",
       "      <td>2023-10-20 19:00:00+00:00</td>\n",
       "    </tr>\n",
       "    <tr>\n",
       "      <th>13377005</th>\n",
       "      <td>2023-10-20 19:04:57+00:00</td>\n",
       "      <td>4acaa2</td>\n",
       "      <td>60.171235</td>\n",
       "      <td>11.105118</td>\n",
       "      <td>62.538281</td>\n",
       "      <td>15.751174</td>\n",
       "      <td>-2.92608</td>\n",
       "      <td>SAS2290</td>\n",
       "      <td>False</td>\n",
       "      <td>False</td>\n",
       "      <td>False</td>\n",
       "      <td>None</td>\n",
       "      <td>205.74</td>\n",
       "      <td>297.18</td>\n",
       "      <td>1.697829e+09</td>\n",
       "      <td>1.697829e+09</td>\n",
       "      <td>[-1408233889]</td>\n",
       "      <td>2023-10-20 19:00:00+00:00</td>\n",
       "    </tr>\n",
       "  </tbody>\n",
       "</table>\n",
       "</div>"
      ]
     },
     "execution_count": 11,
     "metadata": {},
     "output_type": "execute_result"
    }
   ],
   "execution_count": 11
  },
  {
   "metadata": {
    "ExecuteTime": {
     "end_time": "2024-09-12T14:59:15.533814Z",
     "start_time": "2024-09-12T14:59:15.530330Z"
    }
   },
   "cell_type": "code",
   "source": "np.sin(196.113418 * np.pi / 180)",
   "id": "fa6ce2606ac80aef",
   "outputs": [
    {
     "data": {
      "text/plain": [
       "-0.2775396489124202"
      ]
     },
     "execution_count": 12,
     "metadata": {},
     "output_type": "execute_result"
    }
   ],
   "execution_count": 12
  },
  {
   "metadata": {
    "ExecuteTime": {
     "end_time": "2024-09-12T14:59:23.343878Z",
     "start_time": "2024-09-12T14:59:15.533814Z"
    }
   },
   "cell_type": "code",
   "source": [
    "for flight in filtered_flights:\n",
    "    direction = flight.last('5 sec').data.get(['heading']).median().values[0]\n",
    "    if np.sin(direction * np.pi / 180) > 0.75:\n",
    "        print(flight)"
   ],
   "id": "a8ce7388934692d7",
   "outputs": [],
   "execution_count": 13
  }
 ],
 "metadata": {
  "kernelspec": {
   "display_name": "Python 3",
   "language": "python",
   "name": "python3"
  },
  "language_info": {
   "codemirror_mode": {
    "name": "ipython",
    "version": 2
   },
   "file_extension": ".py",
   "mimetype": "text/x-python",
   "name": "python",
   "nbconvert_exporter": "python",
   "pygments_lexer": "ipython2",
   "version": "2.7.6"
  }
 },
 "nbformat": 4,
 "nbformat_minor": 5
}
