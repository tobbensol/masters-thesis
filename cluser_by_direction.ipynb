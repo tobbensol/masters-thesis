{
 "cells": [
  {
   "cell_type": "code",
   "id": "initial_id",
   "metadata": {
    "collapsed": true,
    "ExecuteTime": {
     "end_time": "2024-09-12T12:10:39.362155Z",
     "start_time": "2024-09-12T12:10:36.608072Z"
    }
   },
   "source": [
    "import pickle\n",
    "import math\n",
    "\n",
    "from traffic.core import Traffic\n",
    "from matplotlib import pyplot as plt\n",
    "from functions.data_filtering import get_complete_flights\n",
    "from functions.data_processing import get_takeoff_and_landing_directions\n",
    "from functions.data_loading import get_data_range\n",
    "from datetime import datetime"
   ],
   "outputs": [],
   "execution_count": 1
  },
  {
   "metadata": {
    "ExecuteTime": {
     "end_time": "2024-09-12T12:10:40.302216Z",
     "start_time": "2024-09-12T12:10:40.201108Z"
    }
   },
   "cell_type": "code",
   "source": "flights: Traffic = get_data_range('oslo', 'bergen', datetime(year=2023, month=1, day=1), datetime(year=2024, month=1, day=1))",
   "id": "75b30a136653623",
   "outputs": [
    {
     "ename": "OSError",
     "evalue": "[Errno 22] Invalid argument: 'data/oslo-bergen-2023-01-01-2024-01-01 00:00:00.pkl'",
     "output_type": "error",
     "traceback": [
      "\u001B[1;31m---------------------------------------------------------------------------\u001B[0m",
      "\u001B[1;31mOSError\u001B[0m                                   Traceback (most recent call last)",
      "Cell \u001B[1;32mIn[2], line 1\u001B[0m\n\u001B[1;32m----> 1\u001B[0m flights: Traffic \u001B[38;5;241m=\u001B[39m \u001B[43mget_data_range\u001B[49m\u001B[43m(\u001B[49m\u001B[38;5;124;43m'\u001B[39;49m\u001B[38;5;124;43moslo\u001B[39;49m\u001B[38;5;124;43m'\u001B[39;49m\u001B[43m,\u001B[49m\u001B[43m \u001B[49m\u001B[38;5;124;43m'\u001B[39;49m\u001B[38;5;124;43mbergen\u001B[39;49m\u001B[38;5;124;43m'\u001B[39;49m\u001B[43m,\u001B[49m\u001B[43m \u001B[49m\u001B[43mdatetime\u001B[49m\u001B[43m(\u001B[49m\u001B[43myear\u001B[49m\u001B[38;5;241;43m=\u001B[39;49m\u001B[38;5;241;43m2023\u001B[39;49m\u001B[43m,\u001B[49m\u001B[43m \u001B[49m\u001B[43mmonth\u001B[49m\u001B[38;5;241;43m=\u001B[39;49m\u001B[38;5;241;43m1\u001B[39;49m\u001B[43m,\u001B[49m\u001B[43m \u001B[49m\u001B[43mday\u001B[49m\u001B[38;5;241;43m=\u001B[39;49m\u001B[38;5;241;43m1\u001B[39;49m\u001B[43m)\u001B[49m\u001B[43m,\u001B[49m\u001B[43m \u001B[49m\u001B[43mdatetime\u001B[49m\u001B[43m(\u001B[49m\u001B[43myear\u001B[49m\u001B[38;5;241;43m=\u001B[39;49m\u001B[38;5;241;43m2024\u001B[39;49m\u001B[43m,\u001B[49m\u001B[43m \u001B[49m\u001B[43mmonth\u001B[49m\u001B[38;5;241;43m=\u001B[39;49m\u001B[38;5;241;43m1\u001B[39;49m\u001B[43m,\u001B[49m\u001B[43m \u001B[49m\u001B[43mday\u001B[49m\u001B[38;5;241;43m=\u001B[39;49m\u001B[38;5;241;43m1\u001B[39;49m\u001B[43m)\u001B[49m\u001B[43m)\u001B[49m\n",
      "File \u001B[1;32m~\\Desktop\\programering\\masters-thesis\\functions\\data_loading.py:22\u001B[0m, in \u001B[0;36mget_data_range\u001B[1;34m(origin, destination, start, stop)\u001B[0m\n\u001B[0;32m     20\u001B[0m \u001B[38;5;28;01mdef\u001B[39;00m \u001B[38;5;21mget_data_range\u001B[39m(origin: \u001B[38;5;28mstr\u001B[39m, destination: \u001B[38;5;28mstr\u001B[39m, start: datetime, stop: datetime) \u001B[38;5;241m-\u001B[39m\u001B[38;5;241m>\u001B[39m Traffic:\n\u001B[0;32m     21\u001B[0m     \u001B[38;5;28;01mif\u001B[39;00m os\u001B[38;5;241m.\u001B[39mpath\u001B[38;5;241m.\u001B[39misfile(\u001B[38;5;124mf\u001B[39m\u001B[38;5;124m\"\u001B[39m\u001B[38;5;124mdata/\u001B[39m\u001B[38;5;132;01m{\u001B[39;00morigin\u001B[38;5;132;01m}\u001B[39;00m\u001B[38;5;124m-\u001B[39m\u001B[38;5;132;01m{\u001B[39;00mdestination\u001B[38;5;132;01m}\u001B[39;00m\u001B[38;5;124m-\u001B[39m\u001B[38;5;132;01m{\u001B[39;00mstart\u001B[38;5;241m.\u001B[39mdate()\u001B[38;5;132;01m}\u001B[39;00m\u001B[38;5;124m-\u001B[39m\u001B[38;5;132;01m{\u001B[39;00mstop\u001B[38;5;241m.\u001B[39mdate()\u001B[38;5;132;01m}\u001B[39;00m\u001B[38;5;124m.pkl\u001B[39m\u001B[38;5;124m\"\u001B[39m):\n\u001B[1;32m---> 22\u001B[0m         \u001B[38;5;28;01mwith\u001B[39;00m \u001B[38;5;28;43mopen\u001B[39;49m\u001B[43m(\u001B[49m\u001B[38;5;124;43mf\u001B[39;49m\u001B[38;5;124;43m\"\u001B[39;49m\u001B[38;5;124;43mdata/\u001B[39;49m\u001B[38;5;132;43;01m{\u001B[39;49;00m\u001B[43morigin\u001B[49m\u001B[38;5;132;43;01m}\u001B[39;49;00m\u001B[38;5;124;43m-\u001B[39;49m\u001B[38;5;132;43;01m{\u001B[39;49;00m\u001B[43mdestination\u001B[49m\u001B[38;5;132;43;01m}\u001B[39;49;00m\u001B[38;5;124;43m-\u001B[39;49m\u001B[38;5;132;43;01m{\u001B[39;49;00m\u001B[43mstart\u001B[49m\u001B[38;5;241;43m.\u001B[39;49m\u001B[43mdate\u001B[49m\u001B[43m(\u001B[49m\u001B[43m)\u001B[49m\u001B[38;5;132;43;01m}\u001B[39;49;00m\u001B[38;5;124;43m-\u001B[39;49m\u001B[38;5;132;43;01m{\u001B[39;49;00m\u001B[43mstop\u001B[49m\u001B[38;5;132;43;01m}\u001B[39;49;00m\u001B[38;5;124;43m.pkl\u001B[39;49m\u001B[38;5;124;43m\"\u001B[39;49m\u001B[43m,\u001B[49m\u001B[43m \u001B[49m\u001B[38;5;124;43m\"\u001B[39;49m\u001B[38;5;124;43mrb\u001B[39;49m\u001B[38;5;124;43m\"\u001B[39;49m\u001B[43m)\u001B[49m \u001B[38;5;28;01mas\u001B[39;00m f:\n\u001B[0;32m     23\u001B[0m             \u001B[38;5;28;01mreturn\u001B[39;00m pickle\u001B[38;5;241m.\u001B[39mload(f)\n\u001B[0;32m     25\u001B[0m     data \u001B[38;5;241m=\u001B[39m []\n",
      "\u001B[1;31mOSError\u001B[0m: [Errno 22] Invalid argument: 'data/oslo-bergen-2023-01-01-2024-01-01 00:00:00.pkl'"
     ]
    }
   ],
   "execution_count": 2
  },
  {
   "metadata": {
    "ExecuteTime": {
     "end_time": "2024-09-11T13:19:03.203254Z",
     "start_time": "2024-09-11T13:16:33.053745Z"
    }
   },
   "cell_type": "code",
   "source": "filtered_flights = Traffic.from_flights(get_complete_flights(flights, 'bergen', 'oslo'))",
   "id": "de2d2d6e52603684",
   "outputs": [],
   "execution_count": 82
  },
  {
   "metadata": {
    "ExecuteTime": {
     "end_time": "2024-09-11T13:19:04.532151Z",
     "start_time": "2024-09-11T13:19:03.209777Z"
    }
   },
   "cell_type": "code",
   "source": "filtered_flights",
   "id": "c3159f3cef3f6625",
   "outputs": [
    {
     "data": {
      "text/plain": [
       "   icao24 callsign   count\n",
       "0  478dd9     AKK2  154057\n",
       "1  4ac958   SAS252   64652\n",
       "2  47a48c   BNO93J   57318\n",
       "3  47c1c6     BNOG   53990\n",
       "4  47a48c   BNO92J   43902\n",
       "5  4783cc    WIF29   40217\n",
       "6  47885f     BNON   39768\n",
       "7  47875a   NOZ605   39147\n",
       "8  47875a   NOZ611   37296\n",
       "9  47c39c     BNOG   34665"
      ],
      "text/html": [
       "<h4><b>Traffic</b></h4> with 2169 identifiers<style type=\"text/css\">\n",
       "#T_a81a0_row0_col0 {\n",
       "  width: 10em;\n",
       "  background: linear-gradient(90deg, #5fba7d 100.0%, transparent 100.0%);\n",
       "}\n",
       "#T_a81a0_row1_col0 {\n",
       "  width: 10em;\n",
       "  background: linear-gradient(90deg, #5fba7d 42.0%, transparent 42.0%);\n",
       "}\n",
       "#T_a81a0_row2_col0 {\n",
       "  width: 10em;\n",
       "  background: linear-gradient(90deg, #5fba7d 37.2%, transparent 37.2%);\n",
       "}\n",
       "#T_a81a0_row3_col0 {\n",
       "  width: 10em;\n",
       "  background: linear-gradient(90deg, #5fba7d 35.0%, transparent 35.0%);\n",
       "}\n",
       "#T_a81a0_row4_col0 {\n",
       "  width: 10em;\n",
       "  background: linear-gradient(90deg, #5fba7d 28.5%, transparent 28.5%);\n",
       "}\n",
       "#T_a81a0_row5_col0 {\n",
       "  width: 10em;\n",
       "  background: linear-gradient(90deg, #5fba7d 26.1%, transparent 26.1%);\n",
       "}\n",
       "#T_a81a0_row6_col0 {\n",
       "  width: 10em;\n",
       "  background: linear-gradient(90deg, #5fba7d 25.8%, transparent 25.8%);\n",
       "}\n",
       "#T_a81a0_row7_col0 {\n",
       "  width: 10em;\n",
       "  background: linear-gradient(90deg, #5fba7d 25.4%, transparent 25.4%);\n",
       "}\n",
       "#T_a81a0_row8_col0 {\n",
       "  width: 10em;\n",
       "  background: linear-gradient(90deg, #5fba7d 24.2%, transparent 24.2%);\n",
       "}\n",
       "#T_a81a0_row9_col0 {\n",
       "  width: 10em;\n",
       "  background: linear-gradient(90deg, #5fba7d 22.5%, transparent 22.5%);\n",
       "}\n",
       "</style>\n",
       "<table id=\"T_a81a0\">\n",
       "  <thead>\n",
       "    <tr>\n",
       "      <th class=\"blank\" >&nbsp;</th>\n",
       "      <th class=\"blank level0\" >&nbsp;</th>\n",
       "      <th id=\"T_a81a0_level0_col0\" class=\"col_heading level0 col0\" >count</th>\n",
       "    </tr>\n",
       "    <tr>\n",
       "      <th class=\"index_name level0\" >icao24</th>\n",
       "      <th class=\"index_name level1\" >callsign</th>\n",
       "      <th class=\"blank col0\" >&nbsp;</th>\n",
       "    </tr>\n",
       "  </thead>\n",
       "  <tbody>\n",
       "    <tr>\n",
       "      <th id=\"T_a81a0_level0_row0\" class=\"row_heading level0 row0\" >478dd9</th>\n",
       "      <th id=\"T_a81a0_level1_row0\" class=\"row_heading level1 row0\" >AKK2</th>\n",
       "      <td id=\"T_a81a0_row0_col0\" class=\"data row0 col0\" >154057</td>\n",
       "    </tr>\n",
       "    <tr>\n",
       "      <th id=\"T_a81a0_level0_row1\" class=\"row_heading level0 row1\" >4ac958</th>\n",
       "      <th id=\"T_a81a0_level1_row1\" class=\"row_heading level1 row1\" >SAS252</th>\n",
       "      <td id=\"T_a81a0_row1_col0\" class=\"data row1 col0\" >64652</td>\n",
       "    </tr>\n",
       "    <tr>\n",
       "      <th id=\"T_a81a0_level0_row2\" class=\"row_heading level0 row2\" >47a48c</th>\n",
       "      <th id=\"T_a81a0_level1_row2\" class=\"row_heading level1 row2\" >BNO93J</th>\n",
       "      <td id=\"T_a81a0_row2_col0\" class=\"data row2 col0\" >57318</td>\n",
       "    </tr>\n",
       "    <tr>\n",
       "      <th id=\"T_a81a0_level0_row3\" class=\"row_heading level0 row3\" >47c1c6</th>\n",
       "      <th id=\"T_a81a0_level1_row3\" class=\"row_heading level1 row3\" >BNOG</th>\n",
       "      <td id=\"T_a81a0_row3_col0\" class=\"data row3 col0\" >53990</td>\n",
       "    </tr>\n",
       "    <tr>\n",
       "      <th id=\"T_a81a0_level0_row4\" class=\"row_heading level0 row4\" >47a48c</th>\n",
       "      <th id=\"T_a81a0_level1_row4\" class=\"row_heading level1 row4\" >BNO92J</th>\n",
       "      <td id=\"T_a81a0_row4_col0\" class=\"data row4 col0\" >43902</td>\n",
       "    </tr>\n",
       "    <tr>\n",
       "      <th id=\"T_a81a0_level0_row5\" class=\"row_heading level0 row5\" >4783cc</th>\n",
       "      <th id=\"T_a81a0_level1_row5\" class=\"row_heading level1 row5\" >WIF29</th>\n",
       "      <td id=\"T_a81a0_row5_col0\" class=\"data row5 col0\" >40217</td>\n",
       "    </tr>\n",
       "    <tr>\n",
       "      <th id=\"T_a81a0_level0_row6\" class=\"row_heading level0 row6\" >47885f</th>\n",
       "      <th id=\"T_a81a0_level1_row6\" class=\"row_heading level1 row6\" >BNON</th>\n",
       "      <td id=\"T_a81a0_row6_col0\" class=\"data row6 col0\" >39768</td>\n",
       "    </tr>\n",
       "    <tr>\n",
       "      <th id=\"T_a81a0_level0_row7\" class=\"row_heading level0 row7\" rowspan=\"2\">47875a</th>\n",
       "      <th id=\"T_a81a0_level1_row7\" class=\"row_heading level1 row7\" >NOZ605</th>\n",
       "      <td id=\"T_a81a0_row7_col0\" class=\"data row7 col0\" >39147</td>\n",
       "    </tr>\n",
       "    <tr>\n",
       "      <th id=\"T_a81a0_level1_row8\" class=\"row_heading level1 row8\" >NOZ611</th>\n",
       "      <td id=\"T_a81a0_row8_col0\" class=\"data row8 col0\" >37296</td>\n",
       "    </tr>\n",
       "    <tr>\n",
       "      <th id=\"T_a81a0_level0_row9\" class=\"row_heading level0 row9\" >47c39c</th>\n",
       "      <th id=\"T_a81a0_level1_row9\" class=\"row_heading level1 row9\" >BNOG</th>\n",
       "      <td id=\"T_a81a0_row9_col0\" class=\"data row9 col0\" >34665</td>\n",
       "    </tr>\n",
       "  </tbody>\n",
       "</table>\n"
      ]
     },
     "execution_count": 83,
     "metadata": {},
     "output_type": "execute_result"
    }
   ],
   "execution_count": 83
  },
  {
   "metadata": {
    "ExecuteTime": {
     "end_time": "2024-09-11T13:25:44.386845Z",
     "start_time": "2024-09-11T13:19:18.135917Z"
    }
   },
   "cell_type": "code",
   "source": "filtered_flights.map_leaflet()",
   "id": "2372e79ca46793e2",
   "outputs": [
    {
     "data": {
      "text/plain": [
       "Map(center=[60.310865035973485, 8.483639279685454], controls=(ZoomControl(options=['position', 'zoom_in_text',…"
      ],
      "application/vnd.jupyter.widget-view+json": {
       "version_major": 2,
       "version_minor": 0,
       "model_id": "f1726341c4704ec698a51bf5e23a8214"
      }
     },
     "execution_count": 84,
     "metadata": {},
     "output_type": "execute_result"
    }
   ],
   "execution_count": 84
  },
  {
   "metadata": {
    "ExecuteTime": {
     "end_time": "2024-09-11T13:28:35.716996Z",
     "start_time": "2024-09-11T13:25:44.387853Z"
    }
   },
   "cell_type": "code",
   "source": "flights.map_leaflet()",
   "id": "dfe9b8fdd09a1773",
   "outputs": [
    {
     "ename": "KeyboardInterrupt",
     "evalue": "",
     "output_type": "error",
     "traceback": [
      "\u001B[1;31m---------------------------------------------------------------------------\u001B[0m",
      "\u001B[1;31mKeyboardInterrupt\u001B[0m                         Traceback (most recent call last)",
      "Cell \u001B[1;32mIn[85], line 1\u001B[0m\n\u001B[1;32m----> 1\u001B[0m \u001B[43mflights\u001B[49m\u001B[38;5;241;43m.\u001B[39;49m\u001B[43mmap_leaflet\u001B[49m\u001B[43m(\u001B[49m\u001B[43m)\u001B[49m\n",
      "File \u001B[1;32m~\\Desktop\\programering\\masters-thesis\\venv\\Lib\\site-packages\\traffic\\visualize\\leaflet.py:147\u001B[0m, in \u001B[0;36mtraffic_map_leaflet\u001B[1;34m(self, zoom, highlight, airport, **kwargs)\u001B[0m\n\u001B[0;32m    145\u001B[0m     elt \u001B[38;5;241m=\u001B[39m m\u001B[38;5;241m.\u001B[39madd(flight\u001B[38;5;241m.\u001B[39mleaflet())\n\u001B[0;32m    146\u001B[0m     elt\u001B[38;5;241m.\u001B[39mpopup \u001B[38;5;241m=\u001B[39m HTML()\n\u001B[1;32m--> 147\u001B[0m     elt\u001B[38;5;241m.\u001B[39mpopup\u001B[38;5;241m.\u001B[39mvalue \u001B[38;5;241m=\u001B[39m \u001B[43mflight\u001B[49m\u001B[38;5;241;43m.\u001B[39;49m\u001B[43m_info_html\u001B[49m\u001B[43m(\u001B[49m\u001B[43m)\u001B[49m\n\u001B[0;32m    149\u001B[0m \u001B[38;5;28;01mif\u001B[39;00m highlight \u001B[38;5;129;01mis\u001B[39;00m \u001B[38;5;28;01mNone\u001B[39;00m:\n\u001B[0;32m    150\u001B[0m     highlight \u001B[38;5;241m=\u001B[39m \u001B[38;5;28mdict\u001B[39m()\n",
      "File \u001B[1;32m~\\Desktop\\programering\\masters-thesis\\venv\\Lib\\site-packages\\traffic\\core\\flight.py:425\u001B[0m, in \u001B[0;36mFlight._info_html\u001B[1;34m(self)\u001B[0m\n\u001B[0;32m    422\u001B[0m aircraft_fmt \u001B[38;5;241m=\u001B[39m \u001B[38;5;124m\"\u001B[39m\u001B[38;5;124m<code>\u001B[39m\u001B[38;5;132;01m%i\u001B[39;00m\u001B[38;5;124mcao24</code> · \u001B[39m\u001B[38;5;132;01m%f\u001B[39;00m\u001B[38;5;124mlag \u001B[39m\u001B[38;5;132;01m%r\u001B[39;00m\u001B[38;5;124megistration (\u001B[39m\u001B[38;5;124m%\u001B[39m\u001B[38;5;124mtypecode)\u001B[39m\u001B[38;5;124m\"\u001B[39m\n\u001B[0;32m    424\u001B[0m title \u001B[38;5;241m+\u001B[39m\u001B[38;5;241m=\u001B[39m \u001B[38;5;124m\"\u001B[39m\u001B[38;5;124m<ul>\u001B[39m\u001B[38;5;124m\"\u001B[39m\n\u001B[1;32m--> 425\u001B[0m \u001B[38;5;28;01mif\u001B[39;00m \u001B[38;5;28;43mself\u001B[39;49m\u001B[38;5;241;43m.\u001B[39;49m\u001B[43mcallsign\u001B[49m \u001B[38;5;129;01mis\u001B[39;00m \u001B[38;5;129;01mnot\u001B[39;00m \u001B[38;5;28;01mNone\u001B[39;00m:\n\u001B[0;32m    426\u001B[0m     title \u001B[38;5;241m+\u001B[39m\u001B[38;5;241m=\u001B[39m \u001B[38;5;124mf\u001B[39m\u001B[38;5;124m\"\u001B[39m\u001B[38;5;124m<li><b>callsign:</b> \u001B[39m\u001B[38;5;132;01m{\u001B[39;00m\u001B[38;5;28mself\u001B[39m\u001B[38;5;241m.\u001B[39mcallsign\u001B[38;5;132;01m}\u001B[39;00m\u001B[38;5;124m \u001B[39m\u001B[38;5;132;01m{\u001B[39;00m\u001B[38;5;28mself\u001B[39m\u001B[38;5;241m.\u001B[39mtrip\u001B[38;5;132;01m}\u001B[39;00m\u001B[38;5;124m</li>\u001B[39m\u001B[38;5;124m\"\u001B[39m\n\u001B[0;32m    427\u001B[0m \u001B[38;5;28;01mif\u001B[39;00m \u001B[38;5;28mself\u001B[39m\u001B[38;5;241m.\u001B[39maircraft \u001B[38;5;129;01mis\u001B[39;00m \u001B[38;5;129;01mnot\u001B[39;00m \u001B[38;5;28;01mNone\u001B[39;00m:\n",
      "File \u001B[1;32m~\\Desktop\\programering\\masters-thesis\\venv\\Lib\\site-packages\\traffic\\core\\flight.py:1056\u001B[0m, in \u001B[0;36mFlight.callsign\u001B[1;34m(self)\u001B[0m\n\u001B[0;32m   1048\u001B[0m \u001B[38;5;129m@property\u001B[39m\n\u001B[0;32m   1049\u001B[0m \u001B[38;5;28;01mdef\u001B[39;00m \u001B[38;5;21mcallsign\u001B[39m(\u001B[38;5;28mself\u001B[39m) \u001B[38;5;241m-\u001B[39m\u001B[38;5;241m>\u001B[39m Union[\u001B[38;5;28mstr\u001B[39m, Set[\u001B[38;5;28mstr\u001B[39m], \u001B[38;5;28;01mNone\u001B[39;00m]:\n\u001B[0;32m   1050\u001B[0m \u001B[38;5;250m    \u001B[39m\u001B[38;5;124;03m\"\"\"Returns the unique callsign value(s) associated to the Flight.\u001B[39;00m\n\u001B[0;32m   1051\u001B[0m \n\u001B[0;32m   1052\u001B[0m \u001B[38;5;124;03m    A callsign is an identifier sent by an aircraft during its flight. It\u001B[39;00m\n\u001B[0;32m   1053\u001B[0m \u001B[38;5;124;03m    may be associated with the registration of an aircraft, its mission or\u001B[39;00m\n\u001B[0;32m   1054\u001B[0m \u001B[38;5;124;03m    with a route for a commercial aircraft.\u001B[39;00m\n\u001B[0;32m   1055\u001B[0m \u001B[38;5;124;03m    \"\"\"\u001B[39;00m\n\u001B[1;32m-> 1056\u001B[0m     callsign \u001B[38;5;241m=\u001B[39m \u001B[38;5;28;43mself\u001B[39;49m\u001B[38;5;241;43m.\u001B[39;49m\u001B[43m_get_unique\u001B[49m\u001B[43m(\u001B[49m\u001B[38;5;124;43m\"\u001B[39;49m\u001B[38;5;124;43mcallsign\u001B[39;49m\u001B[38;5;124;43m\"\u001B[39;49m\u001B[43m)\u001B[49m\n\u001B[0;32m   1057\u001B[0m     \u001B[38;5;28;01mif\u001B[39;00m callsign \u001B[38;5;241m!=\u001B[39m callsign:\n\u001B[0;32m   1058\u001B[0m         \u001B[38;5;28;01mraise\u001B[39;00m \u001B[38;5;167;01mValueError\u001B[39;00m(\u001B[38;5;124m\"\u001B[39m\u001B[38;5;124mNaN appearing in callsign field\u001B[39m\u001B[38;5;124m\"\u001B[39m)\n",
      "File \u001B[1;32m~\\Desktop\\programering\\masters-thesis\\venv\\Lib\\site-packages\\traffic\\core\\flight.py:1041\u001B[0m, in \u001B[0;36mFlight._get_unique\u001B[1;34m(self, field, warn)\u001B[0m\n\u001B[0;32m   1039\u001B[0m \u001B[38;5;28;01mif\u001B[39;00m field \u001B[38;5;129;01mnot\u001B[39;00m \u001B[38;5;129;01min\u001B[39;00m \u001B[38;5;28mself\u001B[39m\u001B[38;5;241m.\u001B[39mdata\u001B[38;5;241m.\u001B[39mcolumns:\n\u001B[0;32m   1040\u001B[0m     \u001B[38;5;28;01mreturn\u001B[39;00m \u001B[38;5;28;01mNone\u001B[39;00m\n\u001B[1;32m-> 1041\u001B[0m tmp \u001B[38;5;241m=\u001B[39m \u001B[38;5;28;43mself\u001B[39;49m\u001B[38;5;241;43m.\u001B[39;49m\u001B[43mdata\u001B[49m\u001B[43m[\u001B[49m\u001B[43mfield\u001B[49m\u001B[43m]\u001B[49m\u001B[38;5;241;43m.\u001B[39;49m\u001B[43munique\u001B[49m\u001B[43m(\u001B[49m\u001B[43m)\u001B[49m\n\u001B[0;32m   1042\u001B[0m \u001B[38;5;28;01mif\u001B[39;00m \u001B[38;5;28mlen\u001B[39m(tmp) \u001B[38;5;241m==\u001B[39m \u001B[38;5;241m1\u001B[39m:\n\u001B[0;32m   1043\u001B[0m     \u001B[38;5;28;01mreturn\u001B[39;00m tmp[\u001B[38;5;241m0\u001B[39m]  \u001B[38;5;66;03m# type: ignore\u001B[39;00m\n",
      "File \u001B[1;32m~\\Desktop\\programering\\masters-thesis\\venv\\Lib\\site-packages\\pandas\\core\\series.py:2407\u001B[0m, in \u001B[0;36mSeries.unique\u001B[1;34m(self)\u001B[0m\n\u001B[0;32m   2344\u001B[0m \u001B[38;5;28;01mdef\u001B[39;00m \u001B[38;5;21munique\u001B[39m(\u001B[38;5;28mself\u001B[39m) \u001B[38;5;241m-\u001B[39m\u001B[38;5;241m>\u001B[39m ArrayLike:  \u001B[38;5;66;03m# pylint: disable=useless-parent-delegation\u001B[39;00m\n\u001B[0;32m   2345\u001B[0m \u001B[38;5;250m    \u001B[39m\u001B[38;5;124;03m\"\"\"\u001B[39;00m\n\u001B[0;32m   2346\u001B[0m \u001B[38;5;124;03m    Return unique values of Series object.\u001B[39;00m\n\u001B[0;32m   2347\u001B[0m \n\u001B[1;32m   (...)\u001B[0m\n\u001B[0;32m   2405\u001B[0m \u001B[38;5;124;03m    Categories (3, object): ['a' < 'b' < 'c']\u001B[39;00m\n\u001B[0;32m   2406\u001B[0m \u001B[38;5;124;03m    \"\"\"\u001B[39;00m\n\u001B[1;32m-> 2407\u001B[0m     \u001B[38;5;28;01mreturn\u001B[39;00m \u001B[38;5;28;43msuper\u001B[39;49m\u001B[43m(\u001B[49m\u001B[43m)\u001B[49m\u001B[38;5;241;43m.\u001B[39;49m\u001B[43munique\u001B[49m\u001B[43m(\u001B[49m\u001B[43m)\u001B[49m\n",
      "File \u001B[1;32m~\\Desktop\\programering\\masters-thesis\\venv\\Lib\\site-packages\\pandas\\core\\base.py:1025\u001B[0m, in \u001B[0;36mIndexOpsMixin.unique\u001B[1;34m(self)\u001B[0m\n\u001B[0;32m   1023\u001B[0m     result \u001B[38;5;241m=\u001B[39m values\u001B[38;5;241m.\u001B[39munique()\n\u001B[0;32m   1024\u001B[0m \u001B[38;5;28;01melse\u001B[39;00m:\n\u001B[1;32m-> 1025\u001B[0m     result \u001B[38;5;241m=\u001B[39m \u001B[43malgorithms\u001B[49m\u001B[38;5;241;43m.\u001B[39;49m\u001B[43munique1d\u001B[49m\u001B[43m(\u001B[49m\u001B[43mvalues\u001B[49m\u001B[43m)\u001B[49m\n\u001B[0;32m   1026\u001B[0m \u001B[38;5;28;01mreturn\u001B[39;00m result\n",
      "File \u001B[1;32m~\\Desktop\\programering\\masters-thesis\\venv\\Lib\\site-packages\\pandas\\core\\algorithms.py:401\u001B[0m, in \u001B[0;36munique\u001B[1;34m(values)\u001B[0m\n\u001B[0;32m    307\u001B[0m \u001B[38;5;28;01mdef\u001B[39;00m \u001B[38;5;21munique\u001B[39m(values):\n\u001B[0;32m    308\u001B[0m \u001B[38;5;250m    \u001B[39m\u001B[38;5;124;03m\"\"\"\u001B[39;00m\n\u001B[0;32m    309\u001B[0m \u001B[38;5;124;03m    Return unique values based on a hash table.\u001B[39;00m\n\u001B[0;32m    310\u001B[0m \n\u001B[1;32m   (...)\u001B[0m\n\u001B[0;32m    399\u001B[0m \u001B[38;5;124;03m    array([('a', 'b'), ('b', 'a'), ('a', 'c')], dtype=object)\u001B[39;00m\n\u001B[0;32m    400\u001B[0m \u001B[38;5;124;03m    \"\"\"\u001B[39;00m\n\u001B[1;32m--> 401\u001B[0m     \u001B[38;5;28;01mreturn\u001B[39;00m \u001B[43munique_with_mask\u001B[49m\u001B[43m(\u001B[49m\u001B[43mvalues\u001B[49m\u001B[43m)\u001B[49m\n",
      "File \u001B[1;32m~\\Desktop\\programering\\masters-thesis\\venv\\Lib\\site-packages\\pandas\\core\\algorithms.py:440\u001B[0m, in \u001B[0;36munique_with_mask\u001B[1;34m(values, mask)\u001B[0m\n\u001B[0;32m    438\u001B[0m table \u001B[38;5;241m=\u001B[39m hashtable(\u001B[38;5;28mlen\u001B[39m(values))\n\u001B[0;32m    439\u001B[0m \u001B[38;5;28;01mif\u001B[39;00m mask \u001B[38;5;129;01mis\u001B[39;00m \u001B[38;5;28;01mNone\u001B[39;00m:\n\u001B[1;32m--> 440\u001B[0m     uniques \u001B[38;5;241m=\u001B[39m \u001B[43mtable\u001B[49m\u001B[38;5;241;43m.\u001B[39;49m\u001B[43munique\u001B[49m\u001B[43m(\u001B[49m\u001B[43mvalues\u001B[49m\u001B[43m)\u001B[49m\n\u001B[0;32m    441\u001B[0m     uniques \u001B[38;5;241m=\u001B[39m _reconstruct_data(uniques, original\u001B[38;5;241m.\u001B[39mdtype, original)\n\u001B[0;32m    442\u001B[0m     \u001B[38;5;28;01mreturn\u001B[39;00m uniques\n",
      "\u001B[1;31mKeyboardInterrupt\u001B[0m: "
     ]
    }
   ],
   "execution_count": 85
  },
  {
   "metadata": {
    "ExecuteTime": {
     "end_time": "2024-09-11T13:29:50.579645Z",
     "start_time": "2024-09-11T13:28:38.608714Z"
    }
   },
   "cell_type": "code",
   "source": "pickle.dump(filtered_flights, open(\"data/ber-osl-2023-flights_filtered.pickle\", \"wb\"))",
   "id": "b9e9f52a7915dbf8",
   "outputs": [],
   "execution_count": 86
  },
  {
   "metadata": {
    "ExecuteTime": {
     "end_time": "2024-09-11T13:04:15.258746Z",
     "start_time": "2024-09-11T13:03:38.817718Z"
    }
   },
   "cell_type": "code",
   "source": "landing_takeoff = list(get_takeoff_and_landing_directions(filtered_flights))",
   "id": "71b6db6f13b9f931",
   "outputs": [],
   "execution_count": 68
  },
  {
   "metadata": {},
   "cell_type": "code",
   "outputs": [],
   "execution_count": null,
   "source": "",
   "id": "e2b674905a40ad35"
  },
  {
   "metadata": {
    "ExecuteTime": {
     "end_time": "2024-09-11T13:04:41.103900Z",
     "start_time": "2024-09-11T13:04:41.017128Z"
    }
   },
   "cell_type": "code",
   "source": [
    "sins = []\n",
    "coss = []\n",
    "for start, end in landing_takeoff:\n",
    "    s = math.sin(end)\n",
    "    c = math.cos(end)\n",
    "    sins.append(s)\n",
    "    coss.append(c)\n",
    "\n",
    "plt.plot(sins, coss, 'bo')"
   ],
   "id": "19de2a458f4320f7",
   "outputs": [
    {
     "data": {
      "text/plain": [
       "[<matplotlib.lines.Line2D at 0x25ea7caf350>]"
      ]
     },
     "execution_count": 70,
     "metadata": {},
     "output_type": "execute_result"
    },
    {
     "data": {
      "text/plain": [
       "<Figure size 640x480 with 1 Axes>"
      ],
      "image/png": "[encoded data removed]"
     },
     "metadata": {},
     "output_type": "display_data"
    }
   ],
   "execution_count": 70
  },
  {
   "metadata": {},
   "cell_type": "code",
   "outputs": [],
   "execution_count": null,
   "source": "",
   "id": "1cb246868efc74d2"
  }
 ],
 "metadata": {
  "kernelspec": {
   "display_name": "Python 3",
   "language": "python",
   "name": "python3"
  },
  "language_info": {
   "codemirror_mode": {
    "name": "ipython",
    "version": 2
   },
   "file_extension": ".py",
   "mimetype": "text/x-python",
   "name": "python",
   "nbconvert_exporter": "python",
   "pygments_lexer": "ipython2",
   "version": "2.7.6"
  }
 },
 "nbformat": 4,
 "nbformat_minor": 5
}
