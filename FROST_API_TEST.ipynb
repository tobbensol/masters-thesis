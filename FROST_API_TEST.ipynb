{
 "cells": [
  {
   "cell_type": "code",
   "id": "ebf5674c8fe5d535",
   "metadata": {
    "ExecuteTime": {
     "end_time": "2024-09-23T17:06:14.635493Z",
     "start_time": "2024-09-23T17:06:14.632987Z"
    }
   },
   "source": [
    "from functions.data_loading import get_wind_direction\n",
    "from matplotlib import pyplot as plt\n",
    "from functions.data_processing import prepare_wind_data\n",
    "\n",
    "import torch\n",
    "import torch.nn as nn\n",
    "import torch.optim as optim\n",
    "from torch.utils.data import TensorDataset"
   ],
   "outputs": [],
   "execution_count": 4
  },
  {
   "metadata": {
    "ExecuteTime": {
     "end_time": "2024-09-23T17:06:22.781907Z",
     "start_time": "2024-09-23T17:06:14.981595Z"
    }
   },
   "cell_type": "code",
   "source": "gardermoen = get_wind_direction(\"GARDERMOEN\")",
   "id": "6d83410a3df46d38",
   "outputs": [],
   "execution_count": 5
  },
  {
   "metadata": {
    "ExecuteTime": {
     "end_time": "2024-09-23T17:06:22.799102Z",
     "start_time": "2024-09-23T17:06:22.789424Z"
    }
   },
   "cell_type": "code",
   "source": "gardermoen",
   "id": "71cfb8abb49949da",
   "outputs": [
    {
     "data": {
      "text/plain": [
       "         source                      time  wind_direction  wind_speed\n",
       "0      SN4780:0  2023-01-01T00:00:00.000Z              43         1.2\n",
       "1      SN4780:0  2023-01-01T00:20:00.000Z             340         2.6\n",
       "2      SN4780:0  2023-01-01T00:50:00.000Z             320         3.1\n",
       "3      SN4780:0  2023-01-01T01:00:00.000Z              27         1.7\n",
       "4      SN4780:0  2023-01-01T01:20:00.000Z             340         3.1\n",
       "...         ...                       ...             ...         ...\n",
       "24651  SN4780:0  2023-12-31T22:20:00.000Z              40         5.1\n",
       "24652  SN4780:0  2023-12-31T22:50:00.000Z              40         5.1\n",
       "24653  SN4780:0  2023-12-31T23:00:00.000Z              51         5.1\n",
       "24654  SN4780:0  2023-12-31T23:20:00.000Z              40         5.1\n",
       "24655  SN4780:0  2023-12-31T23:50:00.000Z              50         5.1\n",
       "\n",
       "[24656 rows x 4 columns]"
      ],
      "text/html": [
       "<div>\n",
       "<style scoped>\n",
       "    .dataframe tbody tr th:only-of-type {\n",
       "        vertical-align: middle;\n",
       "    }\n",
       "\n",
       "    .dataframe tbody tr th {\n",
       "        vertical-align: top;\n",
       "    }\n",
       "\n",
       "    .dataframe thead th {\n",
       "        text-align: right;\n",
       "    }\n",
       "</style>\n",
       "<table border=\"1\" class=\"dataframe\">\n",
       "  <thead>\n",
       "    <tr style=\"text-align: right;\">\n",
       "      <th></th>\n",
       "      <th>source</th>\n",
       "      <th>time</th>\n",
       "      <th>wind_direction</th>\n",
       "      <th>wind_speed</th>\n",
       "    </tr>\n",
       "  </thead>\n",
       "  <tbody>\n",
       "    <tr>\n",
       "      <th>0</th>\n",
       "      <td>SN4780:0</td>\n",
       "      <td>2023-01-01T00:00:00.000Z</td>\n",
       "      <td>43</td>\n",
       "      <td>1.2</td>\n",
       "    </tr>\n",
       "    <tr>\n",
       "      <th>1</th>\n",
       "      <td>SN4780:0</td>\n",
       "      <td>2023-01-01T00:20:00.000Z</td>\n",
       "      <td>340</td>\n",
       "      <td>2.6</td>\n",
       "    </tr>\n",
       "    <tr>\n",
       "      <th>2</th>\n",
       "      <td>SN4780:0</td>\n",
       "      <td>2023-01-01T00:50:00.000Z</td>\n",
       "      <td>320</td>\n",
       "      <td>3.1</td>\n",
       "    </tr>\n",
       "    <tr>\n",
       "      <th>3</th>\n",
       "      <td>SN4780:0</td>\n",
       "      <td>2023-01-01T01:00:00.000Z</td>\n",
       "      <td>27</td>\n",
       "      <td>1.7</td>\n",
       "    </tr>\n",
       "    <tr>\n",
       "      <th>4</th>\n",
       "      <td>SN4780:0</td>\n",
       "      <td>2023-01-01T01:20:00.000Z</td>\n",
       "      <td>340</td>\n",
       "      <td>3.1</td>\n",
       "    </tr>\n",
       "    <tr>\n",
       "      <th>...</th>\n",
       "      <td>...</td>\n",
       "      <td>...</td>\n",
       "      <td>...</td>\n",
       "      <td>...</td>\n",
       "    </tr>\n",
       "    <tr>\n",
       "      <th>24651</th>\n",
       "      <td>SN4780:0</td>\n",
       "      <td>2023-12-31T22:20:00.000Z</td>\n",
       "      <td>40</td>\n",
       "      <td>5.1</td>\n",
       "    </tr>\n",
       "    <tr>\n",
       "      <th>24652</th>\n",
       "      <td>SN4780:0</td>\n",
       "      <td>2023-12-31T22:50:00.000Z</td>\n",
       "      <td>40</td>\n",
       "      <td>5.1</td>\n",
       "    </tr>\n",
       "    <tr>\n",
       "      <th>24653</th>\n",
       "      <td>SN4780:0</td>\n",
       "      <td>2023-12-31T23:00:00.000Z</td>\n",
       "      <td>51</td>\n",
       "      <td>5.1</td>\n",
       "    </tr>\n",
       "    <tr>\n",
       "      <th>24654</th>\n",
       "      <td>SN4780:0</td>\n",
       "      <td>2023-12-31T23:20:00.000Z</td>\n",
       "      <td>40</td>\n",
       "      <td>5.1</td>\n",
       "    </tr>\n",
       "    <tr>\n",
       "      <th>24655</th>\n",
       "      <td>SN4780:0</td>\n",
       "      <td>2023-12-31T23:50:00.000Z</td>\n",
       "      <td>50</td>\n",
       "      <td>5.1</td>\n",
       "    </tr>\n",
       "  </tbody>\n",
       "</table>\n",
       "<p>24656 rows × 4 columns</p>\n",
       "</div>"
      ]
     },
     "execution_count": 6,
     "metadata": {},
     "output_type": "execute_result"
    }
   ],
   "execution_count": 6
  },
  {
   "metadata": {
    "ExecuteTime": {
     "end_time": "2024-09-23T17:06:28.267300Z",
     "start_time": "2024-09-23T17:06:22.809778Z"
    }
   },
   "cell_type": "code",
   "source": "df = prepare_wind_data(gardermoen)",
   "id": "874eaf9987fcb779",
   "outputs": [],
   "execution_count": 7
  },
  {
   "metadata": {
    "ExecuteTime": {
     "end_time": "2024-09-23T17:06:28.286450Z",
     "start_time": "2024-09-23T17:06:28.280905Z"
    }
   },
   "cell_type": "code",
   "source": "df",
   "id": "314d00dfa1085cbb",
   "outputs": [
    {
     "data": {
      "text/plain": [
       "                           wind_direction  wind_speed         x         y\n",
       "time                                                                     \n",
       "2023-01-01 00:00:00+00:00        0.750492    1.200000  0.818398  0.877624\n",
       "2023-01-01 00:00:01+00:00        0.749575    1.201167  0.818388  0.879228\n",
       "2023-01-01 00:00:02+00:00        0.748659    1.202333  0.818377  0.880832\n",
       "2023-01-01 00:00:03+00:00        0.747743    1.203500  0.818362  0.882437\n",
       "2023-01-01 00:00:04+00:00        0.746826    1.204667  0.818346  0.884043\n",
       "...                                   ...         ...       ...       ...\n",
       "2023-12-31 23:49:56+00:00        0.872277    5.100000  3.905555  3.279732\n",
       "2023-12-31 23:49:57+00:00        0.872374    5.100000  3.905873  3.279353\n",
       "2023-12-31 23:49:58+00:00        0.872471    5.100000  3.906191  3.278974\n",
       "2023-12-31 23:49:59+00:00        0.872568    5.100000  3.906509  3.278596\n",
       "2023-12-31 23:50:00+00:00        0.872665    5.100000  3.906827  3.278217\n",
       "\n",
       "[31535401 rows x 4 columns]"
      ],
      "text/html": [
       "<div>\n",
       "<style scoped>\n",
       "    .dataframe tbody tr th:only-of-type {\n",
       "        vertical-align: middle;\n",
       "    }\n",
       "\n",
       "    .dataframe tbody tr th {\n",
       "        vertical-align: top;\n",
       "    }\n",
       "\n",
       "    .dataframe thead th {\n",
       "        text-align: right;\n",
       "    }\n",
       "</style>\n",
       "<table border=\"1\" class=\"dataframe\">\n",
       "  <thead>\n",
       "    <tr style=\"text-align: right;\">\n",
       "      <th></th>\n",
       "      <th>wind_direction</th>\n",
       "      <th>wind_speed</th>\n",
       "      <th>x</th>\n",
       "      <th>y</th>\n",
       "    </tr>\n",
       "    <tr>\n",
       "      <th>time</th>\n",
       "      <th></th>\n",
       "      <th></th>\n",
       "      <th></th>\n",
       "      <th></th>\n",
       "    </tr>\n",
       "  </thead>\n",
       "  <tbody>\n",
       "    <tr>\n",
       "      <th>2023-01-01 00:00:00+00:00</th>\n",
       "      <td>0.750492</td>\n",
       "      <td>1.200000</td>\n",
       "      <td>0.818398</td>\n",
       "      <td>0.877624</td>\n",
       "    </tr>\n",
       "    <tr>\n",
       "      <th>2023-01-01 00:00:01+00:00</th>\n",
       "      <td>0.749575</td>\n",
       "      <td>1.201167</td>\n",
       "      <td>0.818388</td>\n",
       "      <td>0.879228</td>\n",
       "    </tr>\n",
       "    <tr>\n",
       "      <th>2023-01-01 00:00:02+00:00</th>\n",
       "      <td>0.748659</td>\n",
       "      <td>1.202333</td>\n",
       "      <td>0.818377</td>\n",
       "      <td>0.880832</td>\n",
       "    </tr>\n",
       "    <tr>\n",
       "      <th>2023-01-01 00:00:03+00:00</th>\n",
       "      <td>0.747743</td>\n",
       "      <td>1.203500</td>\n",
       "      <td>0.818362</td>\n",
       "      <td>0.882437</td>\n",
       "    </tr>\n",
       "    <tr>\n",
       "      <th>2023-01-01 00:00:04+00:00</th>\n",
       "      <td>0.746826</td>\n",
       "      <td>1.204667</td>\n",
       "      <td>0.818346</td>\n",
       "      <td>0.884043</td>\n",
       "    </tr>\n",
       "    <tr>\n",
       "      <th>...</th>\n",
       "      <td>...</td>\n",
       "      <td>...</td>\n",
       "      <td>...</td>\n",
       "      <td>...</td>\n",
       "    </tr>\n",
       "    <tr>\n",
       "      <th>2023-12-31 23:49:56+00:00</th>\n",
       "      <td>0.872277</td>\n",
       "      <td>5.100000</td>\n",
       "      <td>3.905555</td>\n",
       "      <td>3.279732</td>\n",
       "    </tr>\n",
       "    <tr>\n",
       "      <th>2023-12-31 23:49:57+00:00</th>\n",
       "      <td>0.872374</td>\n",
       "      <td>5.100000</td>\n",
       "      <td>3.905873</td>\n",
       "      <td>3.279353</td>\n",
       "    </tr>\n",
       "    <tr>\n",
       "      <th>2023-12-31 23:49:58+00:00</th>\n",
       "      <td>0.872471</td>\n",
       "      <td>5.100000</td>\n",
       "      <td>3.906191</td>\n",
       "      <td>3.278974</td>\n",
       "    </tr>\n",
       "    <tr>\n",
       "      <th>2023-12-31 23:49:59+00:00</th>\n",
       "      <td>0.872568</td>\n",
       "      <td>5.100000</td>\n",
       "      <td>3.906509</td>\n",
       "      <td>3.278596</td>\n",
       "    </tr>\n",
       "    <tr>\n",
       "      <th>2023-12-31 23:50:00+00:00</th>\n",
       "      <td>0.872665</td>\n",
       "      <td>5.100000</td>\n",
       "      <td>3.906827</td>\n",
       "      <td>3.278217</td>\n",
       "    </tr>\n",
       "  </tbody>\n",
       "</table>\n",
       "<p>31535401 rows × 4 columns</p>\n",
       "</div>"
      ]
     },
     "execution_count": 8,
     "metadata": {},
     "output_type": "execute_result"
    }
   ],
   "execution_count": 8
  },
  {
   "metadata": {
    "ExecuteTime": {
     "end_time": "2024-09-23T17:06:28.518415Z",
     "start_time": "2024-09-23T17:06:28.296618Z"
    }
   },
   "cell_type": "code",
   "source": [
    "plt.hist(df[\"wind_direction\"])\n",
    "plt.show()"
   ],
   "id": "6da4a810b9e70b74",
   "outputs": [
    {
     "data": {
      "text/plain": [
       "<Figure size 640x480 with 1 Axes>"
      ],
      "image/png": "[encoded data removed]"
     },
     "metadata": {},
     "output_type": "display_data"
    }
   ],
   "execution_count": 9
  },
  {
   "metadata": {
    "ExecuteTime": {
     "end_time": "2024-09-23T17:06:51.406573Z",
     "start_time": "2024-09-23T17:06:28.532912Z"
    }
   },
   "cell_type": "code",
   "source": [
    "plt.plot(df[\"x\"], df[\"y\"], '.', color=\"blue\", scalex=False, scaley=False)\n",
    "plt.title(f\"takeoff directions in gardermoen on an unit circle\")\n",
    "plt.axis('scaled')\n",
    "\n",
    "plt.show()"
   ],
   "id": "7e260cf9a4c89d3a",
   "outputs": [
    {
     "data": {
      "text/plain": [
       "<Figure size 640x480 with 1 Axes>"
      ],
      "image/png": "[encoded data removed]"
     },
     "metadata": {},
     "output_type": "display_data"
    }
   ],
   "execution_count": 10
  },
  {
   "metadata": {
    "ExecuteTime": {
     "end_time": "2024-09-23T15:16:58.602840Z",
     "start_time": "2024-09-23T15:16:58.475901Z"
    }
   },
   "cell_type": "code",
   "source": [
    "device = (torch.device('cuda') \n",
    "          if torch.cuda.is_available()\n",
    "          else torch.device('cpu'))"
   ],
   "id": "700b332442e21982",
   "outputs": [
    {
     "ename": "NameError",
     "evalue": "name 'torch' is not defined",
     "output_type": "error",
     "traceback": [
      "\u001B[1;31m---------------------------------------------------------------------------\u001B[0m",
      "\u001B[1;31mNameError\u001B[0m                                 Traceback (most recent call last)",
      "Cell \u001B[1;32mIn[1], line 2\u001B[0m\n\u001B[0;32m      1\u001B[0m device \u001B[38;5;241m=\u001B[39m (torch\u001B[38;5;241m.\u001B[39mdevice(\u001B[38;5;124m'\u001B[39m\u001B[38;5;124mcuda\u001B[39m\u001B[38;5;124m'\u001B[39m) \n\u001B[1;32m----> 2\u001B[0m           \u001B[38;5;28;01mif\u001B[39;00m \u001B[43mtorch\u001B[49m\u001B[38;5;241m.\u001B[39mcuda\u001B[38;5;241m.\u001B[39mis_available()\n\u001B[0;32m      3\u001B[0m           \u001B[38;5;28;01melse\u001B[39;00m torch\u001B[38;5;241m.\u001B[39mdevice(\u001B[38;5;124m'\u001B[39m\u001B[38;5;124mcpu\u001B[39m\u001B[38;5;124m'\u001B[39m))\n",
      "\u001B[1;31mNameError\u001B[0m: name 'torch' is not defined"
     ]
    }
   ],
   "execution_count": 1
  },
  {
   "metadata": {},
   "cell_type": "code",
   "outputs": [],
   "execution_count": null,
   "source": [
    "class MyMLP(nn.Module):\n",
    "\n",
    "    def __init__(self, input_size, output_size):\n",
    "        super().__init__()\n",
    "        self.fc1 = nn.Linear(input_size, 16)\n",
    "        self.relu = nn.ReLU()\n",
    "        self.fc2 = nn.Linear(16, 32)\n",
    "        self.fc3 = nn.Linear(32, 16)\n",
    "        self.fc4 = nn.Linear(16, output_size)\n",
    "\n",
    "    def forward(self, x):\n",
    "        out = self.relu(self.fc1(x))\n",
    "        out = self.relu(self.fc2(out))\n",
    "        out = self.relu(self.fc3(out))\n",
    "        out = self.fc4(out)\n",
    "        return out"
   ],
   "id": "31bab77115f16b40"
  },
  {
   "metadata": {},
   "cell_type": "code",
   "outputs": [],
   "execution_count": null,
   "source": [
    "from datetime import datetime\n",
    "\n",
    "\n",
    "def train(n_epochs, optimizer, model, train_loader, loss_function):\n",
    "    n_batch = len(train_loader)\n",
    "    losses_train = []\n",
    "    model.train()\n",
    "    optimizer.zero_grad(set_to_none=True)\n",
    "\n",
    "    for epoch in range(1, n_epochs + 1):\n",
    "\n",
    "        loss_train = 0.0\n",
    "        for imgs, labels in train_loader:\n",
    "            # data\n",
    "            imgs = imgs.to(dtype = torch.float, device = device)\n",
    "            labels = labels.to(dtype = torch.float, device = device)\n",
    "            \n",
    "            #predictions\n",
    "            outputs = model(imgs)\n",
    "            \n",
    "            # calculate loss\n",
    "            loss = nn.MSELoss()(outputs, labels)\n",
    "            loss.backward()\n",
    "            \n",
    "            # optimize\n",
    "            optimizer.step()\n",
    "            optimizer.zero_grad()\n",
    "\n",
    "            loss_train += loss.item()\n",
    "\n",
    "        losses_train.append(loss_train / n_batch)\n",
    "\n",
    "        if epoch == 1 or epoch % 10 == 0:\n",
    "            print('{}  |  Epoch {}  |  Training loss {:.3f}'.format(\n",
    "                datetime.now().time(), epoch, loss_train / n_batch))\n",
    "    return losses_train"
   ],
   "id": "c4226afb1bf2f1b6"
  },
  {
   "metadata": {},
   "cell_type": "code",
   "outputs": [],
   "execution_count": null,
   "source": [
    "n_models = 3\n",
    "\n",
    "modelparams = {\n",
    "  f\"model{i}\": {\n",
    "    \"lr\": 0.01,\n",
    "    \"momentum\": 0.9,\n",
    "    \"weight_decay\": 0\n",
    "  } for i in range(n_models)\n",
    "}\n",
    "\n",
    "modelparams[\"model1\"].update({\n",
    "  \"momentum\": 0.5,\n",
    "  \"weight_decay\": 0.005,\n",
    "})\n",
    "\n",
    "modelparams[\"model2\"].update({\n",
    "  \"momentum\": 0.5,\n",
    "})"
   ],
   "id": "89ba0c7883222866"
  },
  {
   "metadata": {},
   "cell_type": "code",
   "outputs": [],
   "execution_count": null,
   "source": [
    "trainedmodels = {}\n",
    "losses = {}\n",
    "loss_function = nn.MSELoss()\n",
    "loader = torch.utils.data.DataLoader(training, batch_size=64, shuffle=True)\n",
    "\n",
    "for name, params in modelparams.items():\n",
    "  model = MyMLP()\n",
    "  model.to(device = device)\n",
    "  optimizer = optim.SGD(model.parameters(), **params)\n",
    "\n",
    "  print(f\"{name}: \", \"  |  \".join(map(lambda x: f\"{str(x[0])}: {str(x[1])}\",params.items())))\n",
    "  losses[name]=train(40, optimizer, model, loader, loss_function)\n",
    "  trainedmodels[name] = model"
   ],
   "id": "c228dbf2eeb196"
  }
 ],
 "metadata": {
  "kernelspec": {
   "display_name": "Python 3",
   "language": "python",
   "name": "python3"
  },
  "language_info": {
   "codemirror_mode": {
    "name": "ipython",
    "version": 2
   },
   "file_extension": ".py",
   "mimetype": "text/x-python",
   "name": "python",
   "nbconvert_exporter": "python",
   "pygments_lexer": "ipython2",
   "version": "2.7.6"
  }
 },
 "nbformat": 4,
 "nbformat_minor": 5
}
