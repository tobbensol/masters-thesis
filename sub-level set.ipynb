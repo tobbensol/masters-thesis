{
 "cells": [
  {
   "cell_type": "code",
   "id": "initial_id",
   "metadata": {
    "collapsed": true,
    "jupyter": {
     "outputs_hidden": true
    },
    "ExecuteTime": {
     "end_time": "2025-01-20T13:26:46.937905Z",
     "start_time": "2025-01-20T13:26:46.935355Z"
    }
   },
   "source": [
    "import gudhi\n",
    "import numpy as np\n",
    "import pandas as pd\n",
    "import matplotlib.pyplot as plt\n",
    "from torch.ao.nn.quantized.functional import threshold\n",
    "from tqdm import tqdm_pandas\n",
    "from traffic.core import Flight\n",
    "from collections import deque\n",
    "\n",
    "from functions.data_loading import get_filtered_data_range, get_data_range, get_flight_persistence, get_removed_outliers\n",
    "from functions.data_filtering import complete_flight_filter\n",
    "from functions.data_filtering import filter_by_bools, filter_flights\n",
    "\n",
    "from datetime import datetime\n",
    "import pickle"
   ],
   "outputs": [],
   "execution_count": 87
  },
  {
   "cell_type": "code",
   "id": "37a723ec95bbf540",
   "metadata": {
    "ExecuteTime": {
     "end_time": "2025-01-20T13:27:00.042333Z",
     "start_time": "2025-01-20T13:26:46.938910Z"
    }
   },
   "source": [
    "origin = \"amsterdam\"\n",
    "destination = \"heathrow\"\n",
    "\n",
    "unfiltered_flights, file_name = get_data_range(origin, destination, datetime(year=2023, month=1, day=1), datetime(year=2023, month=2, day=1))\n",
    "filtered_flights, file_name = get_filtered_data_range(unfiltered_flights, file_name, complete_flight_filter(origin, destination, 0.75)) \n",
    "del unfiltered_flights\n",
    "#persistences, file_name = get_flight_persistence(filtered_flights, file_name)"
   ],
   "outputs": [],
   "execution_count": 88
  },
  {
   "cell_type": "code",
   "id": "283f70686d1143b6",
   "metadata": {
    "ExecuteTime": {
     "end_time": "2025-01-20T13:27:00.057562Z",
     "start_time": "2025-01-20T13:27:00.054605Z"
    }
   },
   "source": [
    "def build_sublevelset_filtration(Y):\n",
    "    \"\"\"\n",
    "    Y: array-like\n",
    "        Array of function values\n",
    "    \"\"\"\n",
    "    st = gudhi.SimplexTree()\n",
    "    for i in range(len(Y)):\n",
    "        # 0-simplices\n",
    "        st.insert([i], filtration=Y.iloc[i])\n",
    "\n",
    "        if i < len(Y) - 1:\n",
    "            # 1-simplices\n",
    "            st.insert([i, i + 1], filtration=max(Y.iloc[i], Y.iloc[i + 1]))\n",
    "\n",
    "    return st"
   ],
   "outputs": [],
   "execution_count": 89
  },
  {
   "metadata": {
    "ExecuteTime": {
     "end_time": "2025-01-20T13:27:00.084260Z",
     "start_time": "2025-01-20T13:27:00.080917Z"
    }
   },
   "cell_type": "code",
   "source": [
    "def remove_spikes_median(altitude, window_size=3, threshold=250):\n",
    "    \"\"\"\n",
    "    Removes spikes from altitude data using a running median filter, including handling spikes at the start.\n",
    "    \n",
    "    Parameters:\n",
    "        altitude (list or pd.Series): The altitude data to process.\n",
    "        window_size (int): The size of the window for the running median. Must be odd.\n",
    "        threshold (float): The maximum allowed deviation from the running median.\n",
    "    \n",
    "    Returns:\n",
    "        pd.Series: The cleaned altitude data.\n",
    "    \"\"\"\n",
    "    if window_size % 2 == 0:\n",
    "        raise ValueError(\"Window size must be odd for a running median.\")\n",
    "    \n",
    "    # Initialize a deque for the sliding window\n",
    "    window = deque(maxlen=window_size)\n",
    "    cleaned = []\n",
    "    \n",
    "    for i, value in enumerate(altitude):\n",
    "        if pd.isna(value):\n",
    "            # If the current value is NA, replace it with the last valid value or 0 if it's the first\n",
    "            cleaned.append(cleaned[-1] if cleaned else 0)\n",
    "        else:\n",
    "            # Add the current value to the window\n",
    "            window.append(value)\n",
    "            \n",
    "            if len(window) < window_size:\n",
    "                # For early indices, use the median of available values in the window\n",
    "                median = np.median(list(window))\n",
    "            else:\n",
    "                # Use the running median for a fully populated window\n",
    "                median = np.median(list(window))\n",
    "            \n",
    "            # Check if the value deviates significantly from the median\n",
    "            if abs(value - median) <= threshold:\n",
    "                cleaned.append(value)\n",
    "            else:\n",
    "                # Replace the value with the median\n",
    "                cleaned.append(median)\n",
    "    \n",
    "    return pd.Series(cleaned)"
   ],
   "id": "8820462b3e1a4061",
   "outputs": [],
   "execution_count": 91
  },
  {
   "cell_type": "code",
   "id": "a00f4e7a86b14801",
   "metadata": {
    "ExecuteTime": {
     "end_time": "2025-01-20T13:27:00.097756Z",
     "start_time": "2025-01-20T13:27:00.095116Z"
    }
   },
   "source": [
    "def get_sublevelset_filtration(flight: Flight):\n",
    "    data = flight.data\n",
    "    data = pd.DataFrame(data={\"geoaltitude\":list(data[\"geoaltitude\"])},\n",
    "                        index=pd.DatetimeIndex(data[\"timestamp\"])).dropna()\n",
    "    data = data[\"geoaltitude\"].astype(\"float32\").interpolate(\"time\")\n",
    "    data = remove_spikes_median(data)\n",
    "\n",
    "    st = build_sublevelset_filtration(data)\n",
    "    st.persistence()\n",
    "    return st"
   ],
   "outputs": [],
   "execution_count": 92
  },
  {
   "cell_type": "code",
   "id": "e85bbf437a34d26b",
   "metadata": {
    "ExecuteTime": {
     "end_time": "2025-01-20T13:27:19.088699Z",
     "start_time": "2025-01-20T13:27:00.108787Z"
    }
   },
   "source": [
    "from tqdm import tqdm\n",
    "trees = []\n",
    "\n",
    "for f in tqdm(filtered_flights):\n",
    "    trees.append(get_sublevelset_filtration(f))"
   ],
   "outputs": [
    {
     "name": "stderr",
     "output_type": "stream",
     "text": [
      "100%|██████████| 470/470 [00:17<00:00, 26.47it/s]\n"
     ]
    }
   ],
   "execution_count": 93
  },
  {
   "cell_type": "code",
   "id": "11a72d770875f6d5",
   "metadata": {
    "ExecuteTime": {
     "end_time": "2025-01-20T13:28:01.728688Z",
     "start_time": "2025-01-20T13:27:19.114044Z"
    }
   },
   "source": [
    "condensed_distance_matrix = []\n",
    "for i in tqdm(range(len(trees))):\n",
    "    for j in range(i+1, len(trees)):\n",
    "        pers_i = trees[i].persistence_intervals_in_dimension(0)\n",
    "        pers_j = trees[j].persistence_intervals_in_dimension(0)\n",
    "        dist = gudhi.bottleneck_distance(np.array(pers_i), np.array(pers_j), 0.0001)\n",
    "        condensed_distance_matrix.append(dist)"
   ],
   "outputs": [
    {
     "name": "stderr",
     "output_type": "stream",
     "text": [
      "100%|██████████| 470/470 [00:42<00:00, 11.03it/s]\n"
     ]
    }
   ],
   "execution_count": 94
  },
  {
   "cell_type": "code",
   "id": "1d6ad2fd34ab13f5",
   "metadata": {
    "ExecuteTime": {
     "end_time": "2025-01-20T13:28:01.763610Z",
     "start_time": "2025-01-20T13:28:01.753237Z"
    }
   },
   "source": [
    "with open(\"data/condensed_distance_matrix.pkl\", \"wb\") as f:\n",
    "    pickle.dump(condensed_distance_matrix, f)"
   ],
   "outputs": [],
   "execution_count": 95
  },
  {
   "cell_type": "code",
   "id": "e7db99a2d479ada3",
   "metadata": {
    "ExecuteTime": {
     "end_time": "2025-01-20T13:28:01.790100Z",
     "start_time": "2025-01-20T13:28:01.772614Z"
    }
   },
   "source": [
    "with open(\"data/condensed_distance_matrix.pkl\", \"rb\") as f:\n",
    "    condensed_distance_matrix = pickle.load(f)"
   ],
   "outputs": [],
   "execution_count": 96
  },
  {
   "cell_type": "code",
   "id": "15a4c2e42256d03d",
   "metadata": {
    "ExecuteTime": {
     "end_time": "2025-01-20T13:30:20.674594Z",
     "start_time": "2025-01-20T13:30:20.663663Z"
    }
   },
   "source": [
    "from matplotlib import pyplot as plt\n",
    "from scipy.cluster.hierarchy import linkage, fcluster, dendrogram\n",
    "import sys\n",
    "sys.setrecursionlimit(10000)\n",
    "\n",
    "Z = linkage(condensed_distance_matrix, \"complete\")\n",
    "\n",
    "#fig = plt.figure(figsize=(100, 10))\n",
    "#dn = dendrogram(Z)\n",
    "\n",
    "#clustering = fcluster(Z, t=2, criterion='inconsistent', depth=3)\n",
    "clustering = fcluster(Z, t=4, criterion='maxclust', depth=2)\n"
   ],
   "outputs": [],
   "execution_count": 112
  },
  {
   "cell_type": "code",
   "id": "24e90d60607637ad",
   "metadata": {
    "ExecuteTime": {
     "end_time": "2025-01-20T13:30:20.894096Z",
     "start_time": "2025-01-20T13:30:20.890591Z"
    }
   },
   "source": [
    "for i in range(1, len(np.unique(clustering))+1):\n",
    "    print(f\"{i}: {sum(clustering == i)}\")"
   ],
   "outputs": [
    {
     "name": "stdout",
     "output_type": "stream",
     "text": [
      "1: 38\n",
      "2: 13\n",
      "3: 418\n",
      "4: 1\n"
     ]
    }
   ],
   "execution_count": 113
  },
  {
   "cell_type": "code",
   "id": "7a9c061449c4008f",
   "metadata": {
    "ExecuteTime": {
     "end_time": "2025-01-20T13:28:48.960446Z",
     "start_time": "2025-01-20T13:28:48.957109Z"
    }
   },
   "source": [
    "from traffic.core import Traffic\n",
    "\n",
    "bool_array = clustering == 2\n",
    "\n",
    "loopy_flight_cluster = filter_flights(filter_by_bools(bool_array), filtered_flights)\n",
    "loopy_flight_cluster_pers = list(filter(filter_by_bools(bool_array), trees))\n",
    "print(len(loopy_flight_cluster))"
   ],
   "outputs": [
    {
     "name": "stdout",
     "output_type": "stream",
     "text": [
      "13\n"
     ]
    }
   ],
   "execution_count": 103
  },
  {
   "cell_type": "code",
   "id": "91c1fd839a2551a8",
   "metadata": {
    "ExecuteTime": {
     "end_time": "2025-01-20T13:29:01.819739Z",
     "start_time": "2025-01-20T13:29:01.727066Z"
    }
   },
   "source": [
    "i = 6\n",
    "data = remove_spikes_median(loopy_flight_cluster[i].data[\"geoaltitude\"])\n",
    "x_values = [x for x in range(len(data))]\n",
    "plt.plot(x_values, data)"
   ],
   "outputs": [
    {
     "data": {
      "text/plain": [
       "[<matplotlib.lines.Line2D at 0x27d0beefe30>]"
      ]
     },
     "execution_count": 110,
     "metadata": {},
     "output_type": "execute_result"
    },
    {
     "data": {
      "text/plain": [
       "<Figure size 640x480 with 1 Axes>"
      ],
      "image/png": "[encoded data removed]"
     },
     "metadata": {},
     "output_type": "display_data"
    }
   ],
   "execution_count": 110
  },
  {
   "cell_type": "code",
   "id": "35c5b05d2889f5b",
   "metadata": {
    "ExecuteTime": {
     "end_time": "2025-01-20T13:28:02.125529Z",
     "start_time": "2025-01-20T13:28:02.058078Z"
    }
   },
   "source": [
    "data = loopy_flight_cluster[i].data[\"geoaltitude\"]\n",
    "x_values = [x / len(data) for x in range(len(data))]\n",
    "plt.plot(x_values, data, 100)"
   ],
   "outputs": [
    {
     "data": {
      "text/plain": [
       "[<matplotlib.lines.Line2D at 0x27d07c68a70>,\n",
       " <matplotlib.lines.Line2D at 0x27d23f6b8f0>]"
      ]
     },
     "execution_count": 101,
     "metadata": {},
     "output_type": "execute_result"
    },
    {
     "data": {
      "text/plain": [
       "<Figure size 640x480 with 1 Axes>"
      ],
      "image/png": "[encoded data removed]"
     },
     "metadata": {},
     "output_type": "display_data"
    }
   ],
   "execution_count": 101
  },
  {
   "metadata": {
    "ExecuteTime": {
     "end_time": "2025-01-20T13:28:02.143789Z",
     "start_time": "2025-01-20T13:28:02.141303Z"
    }
   },
   "cell_type": "code",
   "source": "",
   "id": "d16a0ce67fb58b9c",
   "outputs": [],
   "execution_count": null
  },
  {
   "metadata": {
    "ExecuteTime": {
     "end_time": "2025-01-20T13:28:02.156273Z",
     "start_time": "2025-01-20T13:28:02.154922Z"
    }
   },
   "cell_type": "code",
   "source": "",
   "id": "2db443e1c83c21ea",
   "outputs": [],
   "execution_count": null
  }
 ],
 "metadata": {
  "kernelspec": {
   "display_name": "Python 3 (ipykernel)",
   "language": "python",
   "name": "python3"
  },
  "language_info": {
   "codemirror_mode": {
    "name": "ipython",
    "version": 3
   },
   "file_extension": ".py",
   "mimetype": "text/x-python",
   "name": "python",
   "nbconvert_exporter": "python",
   "pygments_lexer": "ipython3",
   "version": "3.12.5"
  }
 },
 "nbformat": 4,
 "nbformat_minor": 5
}
