{
 "cells": [
  {
   "cell_type": "code",
   "id": "initial_id",
   "metadata": {
    "collapsed": true,
    "jupyter": {
     "outputs_hidden": true
    },
    "ExecuteTime": {
     "end_time": "2025-01-09T14:18:11.331731Z",
     "start_time": "2025-01-09T14:18:11.329228Z"
    }
   },
   "source": [
    "import gudhi\n",
    "import numpy as np\n",
    "import pandas as pd\n",
    "import matplotlib.pyplot as plt\n",
    "from torch.ao.nn.quantized.functional import threshold\n",
    "from tqdm import tqdm_pandas\n",
    "from traffic.core import Flight\n",
    "\n",
    "from functions.data_loading import get_filtered_data_range, get_data_range, get_flight_persistence, get_removed_outliers\n",
    "from functions.data_filtering import complete_flight_filter\n",
    "from functions.data_filtering import filter_by_bools, filter_flights\n",
    "\n",
    "from datetime import datetime\n",
    "import pickle"
   ],
   "outputs": [],
   "execution_count": 214
  },
  {
   "cell_type": "code",
   "id": "37a723ec95bbf540",
   "metadata": {
    "ExecuteTime": {
     "end_time": "2025-01-09T14:18:22.949435Z",
     "start_time": "2025-01-09T14:18:11.339736Z"
    }
   },
   "source": [
    "origin = \"amsterdam\"\n",
    "destination = \"heathrow\"\n",
    "\n",
    "unfiltered_flights, file_name = get_data_range(origin, destination, datetime(year=2023, month=1, day=1), datetime(year=2023, month=2, day=1))\n",
    "filtered_flights, file_name = get_filtered_data_range(unfiltered_flights, file_name, complete_flight_filter(origin, destination, 0.75)) \n",
    "del unfiltered_flights\n",
    "#persistences, file_name = get_flight_persistence(filtered_flights, file_name)"
   ],
   "outputs": [],
   "execution_count": 215
  },
  {
   "cell_type": "code",
   "id": "283f70686d1143b6",
   "metadata": {
    "ExecuteTime": {
     "end_time": "2025-01-09T14:18:22.963024Z",
     "start_time": "2025-01-09T14:18:22.960434Z"
    }
   },
   "source": [
    "def build_sublevelset_filtration(Y):\n",
    "    \"\"\"\n",
    "    Y: array-like\n",
    "        Array of function values\n",
    "    \"\"\"\n",
    "    st = gudhi.SimplexTree()\n",
    "    for i in range(len(Y)):\n",
    "        # 0-simplices\n",
    "        st.insert([i], filtration=Y.iloc[i])\n",
    "\n",
    "        if i < len(Y) - 1:\n",
    "            # 1-simplices\n",
    "            st.insert([i, i + 1], filtration=max(Y.iloc[i], Y.iloc[i + 1]))\n",
    "\n",
    "    return st"
   ],
   "outputs": [],
   "execution_count": 216
  },
  {
   "metadata": {
    "ExecuteTime": {
     "end_time": "2025-01-09T14:18:22.975303Z",
     "start_time": "2025-01-09T14:18:22.971712Z"
    }
   },
   "cell_type": "code",
   "source": [
    "def remove_spikes_iterative(altitude, threshold=250):\n",
    "    # Start with an empty list for cleaned data\n",
    "    cleaned = []\n",
    "    \n",
    "    # Iterate through the altitude data\n",
    "    for i, value in enumerate(altitude):\n",
    "        if pd.isna(value):\n",
    "            # If the current value is NA, replace it with the last valid value or 0 if it's the first\n",
    "            cleaned.append(cleaned[-1] if cleaned else 0)\n",
    "        elif i == 0:\n",
    "            # Always add the first value\n",
    "            cleaned.append(value)\n",
    "        else:\n",
    "            # Compare with the last valid value\n",
    "            if abs(value - cleaned[-1]) <= threshold:\n",
    "                cleaned.append(value)\n",
    "            else:\n",
    "                # If it doesn't fit, replace with the last valid value\n",
    "                cleaned.append(cleaned[-1])\n",
    "    \n",
    "    # Return as a pandas Series (if needed)\n",
    "    return pd.Series(cleaned)"
   ],
   "id": "8d837e6b20a02d1c",
   "outputs": [],
   "execution_count": 217
  },
  {
   "cell_type": "code",
   "id": "a00f4e7a86b14801",
   "metadata": {
    "ExecuteTime": {
     "end_time": "2025-01-09T14:18:22.987042Z",
     "start_time": "2025-01-09T14:18:22.984971Z"
    }
   },
   "source": [
    "def get_sublevelset_filtration(flight: Flight):\n",
    "    data = flight.data\n",
    "    data = pd.DataFrame(data={\"geoaltitude\":list(data[\"geoaltitude\"])},\n",
    "                        index=pd.DatetimeIndex(data[\"timestamp\"])).dropna()\n",
    "    data = data[\"geoaltitude\"].astype(\"float32\").interpolate(\"time\")\n",
    "    data = remove_spikes_iterative(data)\n",
    "\n",
    "    st = build_sublevelset_filtration(data)\n",
    "    st.persistence()\n",
    "    return st"
   ],
   "outputs": [],
   "execution_count": 218
  },
  {
   "cell_type": "code",
   "id": "e85bbf437a34d26b",
   "metadata": {
    "ExecuteTime": {
     "end_time": "2025-01-09T14:18:40.381685Z",
     "start_time": "2025-01-09T14:18:22.996203Z"
    }
   },
   "source": [
    "from tqdm import tqdm\n",
    "trees = []\n",
    "\n",
    "for f in tqdm(filtered_flights):\n",
    "    trees.append(get_sublevelset_filtration(f))"
   ],
   "outputs": [
    {
     "name": "stderr",
     "output_type": "stream",
     "text": [
      "100%|██████████| 470/470 [00:16<00:00, 29.00it/s]\n"
     ]
    }
   ],
   "execution_count": 219
  },
  {
   "cell_type": "code",
   "id": "11a72d770875f6d5",
   "metadata": {
    "ExecuteTime": {
     "end_time": "2025-01-09T14:19:22.331838Z",
     "start_time": "2025-01-09T14:18:40.407834Z"
    }
   },
   "source": [
    "condensed_distance_matrix = []\n",
    "for i in tqdm(range(len(trees))):\n",
    "    for j in range(i+1, len(trees)):\n",
    "        pers_i = trees[i].persistence_intervals_in_dimension(0)\n",
    "        pers_j = trees[j].persistence_intervals_in_dimension(0)\n",
    "        dist = gudhi.bottleneck_distance(np.array(pers_i), np.array(pers_j), 0.0001)\n",
    "        condensed_distance_matrix.append(dist)"
   ],
   "outputs": [
    {
     "name": "stderr",
     "output_type": "stream",
     "text": [
      "100%|██████████| 470/470 [00:41<00:00, 11.21it/s]\n"
     ]
    }
   ],
   "execution_count": 220
  },
  {
   "cell_type": "code",
   "id": "1d6ad2fd34ab13f5",
   "metadata": {
    "ExecuteTime": {
     "end_time": "2025-01-09T14:19:22.370054Z",
     "start_time": "2025-01-09T14:19:22.356793Z"
    }
   },
   "source": [
    "with open(\"condensed_distance_matrix.pkl\", \"wb\") as f:\n",
    "    pickle.dump(condensed_distance_matrix, f)"
   ],
   "outputs": [],
   "execution_count": 221
  },
  {
   "cell_type": "code",
   "id": "e7db99a2d479ada3",
   "metadata": {
    "ExecuteTime": {
     "end_time": "2025-01-09T14:19:22.406239Z",
     "start_time": "2025-01-09T14:19:22.380679Z"
    }
   },
   "source": [
    "with open(\"condensed_distance_matrix.pkl\", \"rb\") as f:\n",
    "    condensed_distance_matrix = pickle.load(f)"
   ],
   "outputs": [],
   "execution_count": 222
  },
  {
   "cell_type": "code",
   "id": "15a4c2e42256d03d",
   "metadata": {
    "ExecuteTime": {
     "end_time": "2025-01-09T14:19:22.426890Z",
     "start_time": "2025-01-09T14:19:22.417289Z"
    }
   },
   "source": [
    "from matplotlib import pyplot as plt\n",
    "from scipy.cluster.hierarchy import linkage, fcluster, dendrogram\n",
    "import sys\n",
    "sys.setrecursionlimit(10000)\n",
    "\n",
    "Z = linkage(condensed_distance_matrix, \"complete\")\n",
    "\n",
    "#fig = plt.figure(figsize=(100, 10))\n",
    "#dn = dendrogram(Z)\n",
    "\n",
    "#clustering = fcluster(Z, t=2, criterion='inconsistent', depth=3)\n",
    "clustering = fcluster(Z, t=5, criterion='maxclust', depth=2)\n"
   ],
   "outputs": [],
   "execution_count": 223
  },
  {
   "cell_type": "code",
   "id": "24e90d60607637ad",
   "metadata": {
    "ExecuteTime": {
     "end_time": "2025-01-09T14:19:22.441232Z",
     "start_time": "2025-01-09T14:19:22.437718Z"
    }
   },
   "source": [
    "for i in range(1, len(np.unique(clustering))+1):\n",
    "    print(f\"{i}: {sum(clustering == i)}\")"
   ],
   "outputs": [
    {
     "name": "stdout",
     "output_type": "stream",
     "text": [
      "1: 38\n",
      "2: 13\n",
      "3: 3\n",
      "4: 415\n",
      "5: 1\n"
     ]
    }
   ],
   "execution_count": 224
  },
  {
   "cell_type": "code",
   "id": "7a9c061449c4008f",
   "metadata": {
    "ExecuteTime": {
     "end_time": "2025-01-09T14:20:47.856815Z",
     "start_time": "2025-01-09T14:20:47.853996Z"
    }
   },
   "source": [
    "from traffic.core import Traffic\n",
    "\n",
    "bool_array = clustering == 2\n",
    "\n",
    "loopy_flight_cluster = filter_flights(filter_by_bools(bool_array), filtered_flights)\n",
    "loopy_flight_cluster_pers = list(filter(filter_by_bools(bool_array), trees))\n",
    "print(len(loopy_flight_cluster))"
   ],
   "outputs": [
    {
     "name": "stdout",
     "output_type": "stream",
     "text": [
      "13\n"
     ]
    }
   ],
   "execution_count": 245
  },
  {
   "cell_type": "code",
   "id": "91c1fd839a2551a8",
   "metadata": {
    "ExecuteTime": {
     "end_time": "2025-01-09T14:21:08.067171Z",
     "start_time": "2025-01-09T14:21:08.055157Z"
    }
   },
   "source": [
    "i = 12\n",
    "data = loopy_flight_cluster[i].data[\"geoaltitude\"]\n",
    "x_values = [x / len(data) for x in range(len(data))]\n",
    "plt.plot(x_values, remove_spikes_iterative(data))"
   ],
   "outputs": [
    {
     "ename": "IndexError",
     "evalue": "list index out of range",
     "output_type": "error",
     "traceback": [
      "\u001B[1;31m---------------------------------------------------------------------------\u001B[0m",
      "\u001B[1;31mIndexError\u001B[0m                                Traceback (most recent call last)",
      "Cell \u001B[1;32mIn[260], line 2\u001B[0m\n\u001B[0;32m      1\u001B[0m i \u001B[38;5;241m=\u001B[39m \u001B[38;5;241m13\u001B[39m\n\u001B[1;32m----> 2\u001B[0m data \u001B[38;5;241m=\u001B[39m \u001B[43mloopy_flight_cluster\u001B[49m\u001B[43m[\u001B[49m\u001B[43mi\u001B[49m\u001B[43m]\u001B[49m\u001B[38;5;241m.\u001B[39mdata[\u001B[38;5;124m\"\u001B[39m\u001B[38;5;124mgeoaltitude\u001B[39m\u001B[38;5;124m\"\u001B[39m]\n\u001B[0;32m      3\u001B[0m x_values \u001B[38;5;241m=\u001B[39m [x \u001B[38;5;241m/\u001B[39m \u001B[38;5;28mlen\u001B[39m(data) \u001B[38;5;28;01mfor\u001B[39;00m x \u001B[38;5;129;01min\u001B[39;00m \u001B[38;5;28mrange\u001B[39m(\u001B[38;5;28mlen\u001B[39m(data))]\n\u001B[0;32m      4\u001B[0m plt\u001B[38;5;241m.\u001B[39mplot(x_values, remove_spikes_iterative(data))\n",
      "\u001B[1;31mIndexError\u001B[0m: list index out of range"
     ]
    }
   ],
   "execution_count": 260
  },
  {
   "cell_type": "code",
   "id": "35c5b05d2889f5b",
   "metadata": {
    "ExecuteTime": {
     "end_time": "2025-01-09T14:20:18.391296Z",
     "start_time": "2025-01-09T14:20:18.324444Z"
    }
   },
   "source": [
    "data = loopy_flight_cluster[i].data[\"geoaltitude\"]\n",
    "x_values = [x / len(data) for x in range(len(data))]\n",
    "plt.plot(x_values, data, 100)"
   ],
   "outputs": [
    {
     "data": {
      "text/plain": [
       "[<matplotlib.lines.Line2D at 0x26e596f8a40>,\n",
       " <matplotlib.lines.Line2D at 0x26d15c0ba70>]"
      ]
     },
     "execution_count": 238,
     "metadata": {},
     "output_type": "execute_result"
    },
    {
     "data": {
      "text/plain": [
       "<Figure size 640x480 with 1 Axes>"
      ],
      "image/png": "[encoded data removed]"
     },
     "metadata": {},
     "output_type": "display_data"
    }
   ],
   "execution_count": 238
  },
  {
   "metadata": {
    "ExecuteTime": {
     "end_time": "2025-01-09T14:19:22.785505Z",
     "start_time": "2025-01-09T14:19:22.783477Z"
    }
   },
   "cell_type": "code",
   "source": "",
   "id": "d16a0ce67fb58b9c",
   "outputs": [],
   "execution_count": null
  }
 ],
 "metadata": {
  "kernelspec": {
   "display_name": "Python 3 (ipykernel)",
   "language": "python",
   "name": "python3"
  },
  "language_info": {
   "codemirror_mode": {
    "name": "ipython",
    "version": 3
   },
   "file_extension": ".py",
   "mimetype": "text/x-python",
   "name": "python",
   "nbconvert_exporter": "python",
   "pygments_lexer": "ipython3",
   "version": "3.12.5"
  }
 },
 "nbformat": 4,
 "nbformat_minor": 5
}
