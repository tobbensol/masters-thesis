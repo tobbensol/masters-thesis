{
 "cells": [
  {
   "cell_type": "code",
   "id": "initial_id",
   "metadata": {
    "collapsed": true,
    "ExecuteTime": {
     "end_time": "2024-11-28T14:35:36.415534Z",
     "start_time": "2024-11-28T14:35:31.136007Z"
    }
   },
   "source": [
    "import gudhi\n",
    "import numpy as np\n",
    "import pandas as pd\n",
    "import matplotlib.pyplot as plt\n",
    "from tqdm import tqdm_pandas\n",
    "from traffic.core import Flight\n",
    "\n",
    "from functions.data_loading import get_filtered_data_range, get_data_range, get_flight_persistence, get_removed_outliers\n",
    "from functions.data_filtering import complete_flight_filter\n",
    "from functions.data_filtering import filter_by_bools, filter_flights\n",
    "\n",
    "from datetime import datetime"
   ],
   "outputs": [],
   "execution_count": 1
  },
  {
   "metadata": {
    "ExecuteTime": {
     "end_time": "2024-11-28T14:36:06.893103Z",
     "start_time": "2024-11-28T14:35:36.416539Z"
    }
   },
   "cell_type": "code",
   "source": [
    "origin = \"barcelona\"\n",
    "destination = \"mallorca\"\n",
    "\n",
    "unfiltered_flights, file_name = get_data_range(origin, destination, datetime(year=2023, month=1, day=1), datetime(year=2024, month=1, day=1))\n",
    "filtered_flights, file_name = get_filtered_data_range(unfiltered_flights, file_name, complete_flight_filter(origin, destination, 0.75)) \n",
    "#persistences, file_name = get_flight_persistence(filtered_flights, file_name)"
   ],
   "id": "37a723ec95bbf540",
   "outputs": [],
   "execution_count": 2
  },
  {
   "metadata": {
    "ExecuteTime": {
     "end_time": "2024-11-28T14:36:07.215647Z",
     "start_time": "2024-11-28T14:36:07.212059Z"
    }
   },
   "cell_type": "code",
   "source": [
    "def build_sublevelset_filtration(Y):\n",
    "    \"\"\"\n",
    "    Y: array-like\n",
    "        Array of function values\n",
    "    \"\"\"\n",
    "    st = gudhi.SimplexTree()\n",
    "    for i in range(len(Y)):\n",
    "        # 0-simplices\n",
    "        st.insert([i], filtration=Y.iloc[i])\n",
    "\n",
    "        if i < len(Y) - 1:\n",
    "            # 1-simplices\n",
    "            st.insert([i, i + 1], filtration=max(Y.iloc[i], Y.iloc[i + 1]))\n",
    "\n",
    "    return st"
   ],
   "id": "283f70686d1143b6",
   "outputs": [],
   "execution_count": 3
  },
  {
   "metadata": {
    "ExecuteTime": {
     "end_time": "2024-11-28T15:14:32.503183Z",
     "start_time": "2024-11-28T15:14:32.499267Z"
    }
   },
   "cell_type": "code",
   "source": [
    "def get_sublevelset_filtration(flight: Flight):\n",
    "    data = flight.data\n",
    "    data = pd.DataFrame(data={\"geoaltitude\":list(data[\"geoaltitude\"])},\n",
    "                        index=pd.DatetimeIndex(data[\"timestamp\"])).dropna()\n",
    "    data[\"geoaltitude\"] = data[\"geoaltitude\"].astype(\"float32\").interpolate(\"time\")\n",
    "    # Build sublevelset filtration and compute persistence\n",
    "    st = build_sublevelset_filtration(data[\"geoaltitude\"])\n",
    "    st.persistence()\n",
    "    return st"
   ],
   "id": "a00f4e7a86b14801",
   "outputs": [],
   "execution_count": 11
  },
  {
   "metadata": {
    "ExecuteTime": {
     "end_time": "2024-11-28T15:16:34.911366Z",
     "start_time": "2024-11-28T15:14:33.052702Z"
    }
   },
   "cell_type": "code",
   "source": [
    "from tqdm import tqdm\n",
    "trees = []\n",
    "\n",
    "for f in tqdm(filtered_flights):\n",
    "    trees.append(get_sublevelset_filtration(f))"
   ],
   "id": "e85bbf437a34d26b",
   "outputs": [
    {
     "name": "stderr",
     "output_type": "stream",
     "text": [
      "100%|██████████| 7036/7036 [02:01<00:00, 57.74it/s]\n"
     ]
    }
   ],
   "execution_count": 12
  },
  {
   "metadata": {
    "ExecuteTime": {
     "end_time": "2024-11-28T16:38:50.389342Z",
     "start_time": "2024-11-28T15:17:17.484689Z"
    }
   },
   "cell_type": "code",
   "source": [
    "condensed_distance_matrix = []\n",
    "for i in tqdm(range(len(trees))):\n",
    "    for j in range(i+1, len(trees)):\n",
    "        pers_i = trees[i].persistence_intervals_in_dimension(0)\n",
    "        pers_j = trees[j].persistence_intervals_in_dimension(0)\n",
    "        dist = gudhi.bottleneck_distance(np.array(pers_i), np.array(pers_j), 0.0001)\n",
    "        condensed_distance_matrix.append(dist)"
   ],
   "id": "11a72d770875f6d5",
   "outputs": [
    {
     "name": "stderr",
     "output_type": "stream",
     "text": [
      "100%|██████████| 7036/7036 [1:21:32<00:00,  1.44it/s]\n"
     ]
    }
   ],
   "execution_count": 13
  },
  {
   "metadata": {
    "ExecuteTime": {
     "end_time": "2024-11-28T18:45:32.735389Z",
     "start_time": "2024-11-28T18:45:31.769545Z"
    }
   },
   "cell_type": "code",
   "source": [
    "import pickle\n",
    "with open(\"condensed_distance_matrix\", \"wb\") as f:\n",
    "    pickle.dump(condensed_distance_matrix, f)"
   ],
   "id": "1d6ad2fd34ab13f5",
   "outputs": [],
   "execution_count": 42
  },
  {
   "metadata": {
    "ExecuteTime": {
     "end_time": "2024-11-28T18:14:05.054252Z",
     "start_time": "2024-11-28T18:14:01.532654Z"
    }
   },
   "cell_type": "code",
   "source": [
    "from matplotlib import pyplot as plt\n",
    "from scipy.cluster.hierarchy import linkage, fcluster, dendrogram\n",
    "import sys\n",
    "sys.setrecursionlimit(10000)\n",
    "\n",
    "Z = linkage(condensed_distance_matrix, \"complete\")\n",
    "\n",
    "#fig = plt.figure(figsize=(100, 10))\n",
    "#dn = dendrogram(Z)\n",
    "\n",
    "clustering = fcluster(Z, t=1.1, criterion='inconsistent', depth=2)\n",
    "clustering = fcluster(Z, t=10, criterion='maxclust', depth=2)"
   ],
   "id": "15a4c2e42256d03d",
   "outputs": [],
   "execution_count": 14
  },
  {
   "metadata": {
    "ExecuteTime": {
     "end_time": "2024-11-28T18:33:05.468468Z",
     "start_time": "2024-11-28T18:33:05.460911Z"
    }
   },
   "cell_type": "code",
   "source": [
    "for i in range(1, len(np.unique(clustering))+1):\n",
    "    print(f\"{i}: {sum(clustering == i)}\")"
   ],
   "id": "24e90d60607637ad",
   "outputs": [
    {
     "name": "stdout",
     "output_type": "stream",
     "text": [
      "1: 6\n",
      "2: 4\n",
      "3: 6\n",
      "4: 4\n",
      "5: 6\n",
      "6: 39\n",
      "7: 55\n",
      "8: 32\n",
      "9: 6751\n",
      "10: 133\n"
     ]
    }
   ],
   "execution_count": 15
  },
  {
   "metadata": {
    "ExecuteTime": {
     "end_time": "2024-11-28T18:43:46.011588Z",
     "start_time": "2024-11-28T18:43:45.653602Z"
    }
   },
   "cell_type": "code",
   "source": [
    "from traffic.core import Traffic\n",
    "\n",
    "bool_array = clustering == 1\n",
    "\n",
    "loopy_flight_cluster = filter_flights(filter_by_bools(bool_array), filtered_flights)\n",
    "loopy_flight_cluster_pers = list(filter(filter_by_bools(bool_array), trees))\n",
    "print(len(loopy_flight_cluster))\n",
    "Traffic.from_flights(loopy_flight_cluster).map_leaflet()"
   ],
   "id": "7a9c061449c4008f",
   "outputs": [
    {
     "name": "stdout",
     "output_type": "stream",
     "text": [
      "6\n"
     ]
    },
    {
     "data": {
      "text/plain": [
       "Map(center=[40.285559465633405, 2.5369085073182958], controls=(ZoomControl(options=['position', 'zoom_in_text'…"
      ],
      "application/vnd.jupyter.widget-view+json": {
       "version_major": 2,
       "version_minor": 0,
       "model_id": "5f85495a99444ac1965ac17c127d906c"
      }
     },
     "execution_count": 33,
     "metadata": {},
     "output_type": "execute_result"
    }
   ],
   "execution_count": 33
  },
  {
   "metadata": {
    "ExecuteTime": {
     "end_time": "2024-11-28T18:43:58.997226Z",
     "start_time": "2024-11-28T18:43:58.986381Z"
    }
   },
   "cell_type": "code",
   "source": "plt.plot(loopy_flight_cluster[].data[\"geoaltitude\"])",
   "id": "7318557ade3f53fe",
   "outputs": [
    {
     "ename": "IndexError",
     "evalue": "list index out of range",
     "output_type": "error",
     "traceback": [
      "\u001B[1;31m---------------------------------------------------------------------------\u001B[0m",
      "\u001B[1;31mIndexError\u001B[0m                                Traceback (most recent call last)",
      "Cell \u001B[1;32mIn[41], line 1\u001B[0m\n\u001B[1;32m----> 1\u001B[0m plt\u001B[38;5;241m.\u001B[39mplot(\u001B[43mloopy_flight_cluster\u001B[49m\u001B[43m[\u001B[49m\u001B[38;5;241;43m6\u001B[39;49m\u001B[43m]\u001B[49m\u001B[38;5;241m.\u001B[39mdata[\u001B[38;5;124m\"\u001B[39m\u001B[38;5;124mgeoaltitude\u001B[39m\u001B[38;5;124m\"\u001B[39m])\n",
      "\u001B[1;31mIndexError\u001B[0m: list index out of range"
     ]
    }
   ],
   "execution_count": 41
  },
  {
   "metadata": {},
   "cell_type": "code",
   "outputs": [],
   "execution_count": null,
   "source": "",
   "id": "aebb2eafaf1bc808"
  }
 ],
 "metadata": {
  "kernelspec": {
   "display_name": "Python 3",
   "language": "python",
   "name": "python3"
  },
  "language_info": {
   "codemirror_mode": {
    "name": "ipython",
    "version": 2
   },
   "file_extension": ".py",
   "mimetype": "text/x-python",
   "name": "python",
   "nbconvert_exporter": "python",
   "pygments_lexer": "ipython2",
   "version": "2.7.6"
  }
 },
 "nbformat": 4,
 "nbformat_minor": 5
}
