{
 "cells": [
  {
   "cell_type": "code",
   "id": "initial_id",
   "metadata": {
    "collapsed": true,
    "ExecuteTime": {
     "end_time": "2025-02-20T15:19:11.783938Z",
     "start_time": "2025-02-20T15:19:07.632785Z"
    }
   },
   "source": [
    "from altair import Baseline\n",
    "%load_ext autoreload\n",
    "%autoreload 2\n",
    "\n",
    "import numpy as np\n",
    "import pandas as pd\n",
    "import gudhi\n",
    "\n",
    "from functions.data_filtering import ICAO_codes, large_gap_filter\n",
    "from functions.data_processing import flight_pers, sublevelset_persistence\n",
    "from functions.data_loading import linkage_cluster_persistances, flights_from_query\n",
    "\n",
    "from matplotlib import pyplot as plt\n",
    "from sklearn.model_selection import train_test_split\n",
    "from traffic.core import Traffic, Flight\n",
    "from gudhi.representations import Landscape\n",
    "\n",
    "seed = 42"
   ],
   "outputs": [
    {
     "name": "stderr",
     "output_type": "stream",
     "text": [
      "Removing C:\\Users\\tobso\\AppData\\Local\\opensky\\opensky\\Cache\\0aef7b52c06c367cfe3430300ea47c4a.parquet created on 1732291450.6862314\n",
      "Removing C:\\Users\\tobso\\AppData\\Local\\opensky\\opensky\\Cache\\51bbe2e1455218ad24f59371ca066e97.parquet created on 1732291641.17458\n",
      "Removing C:\\Users\\tobso\\AppData\\Local\\opensky\\opensky\\Cache\\523e2c6e987f792c7742ba96fe390895.parquet created on 1732291578.005213\n",
      "Removing C:\\Users\\tobso\\AppData\\Local\\opensky\\opensky\\Cache\\543a5d4dd63ce968f54362d8c6c0e768.parquet created on 1732292275.777052\n",
      "Removing C:\\Users\\tobso\\AppData\\Local\\opensky\\opensky\\Cache\\6ce3a0f445271199b67379c23c948479.parquet created on 1732291942.2485442\n",
      "Removing C:\\Users\\tobso\\AppData\\Local\\opensky\\opensky\\Cache\\a3bda0ff85c110c36774282e5216d5d8.parquet created on 1732291713.6164663\n",
      "Removing C:\\Users\\tobso\\AppData\\Local\\opensky\\opensky\\Cache\\ab29b207f9f07e7b9bd612ec32dd6bdf.parquet created on 1732292106.032264\n",
      "Removing C:\\Users\\tobso\\AppData\\Local\\opensky\\opensky\\Cache\\ac050fe2c4dfd2883f1764ebf9399f01.parquet created on 1732291298.1946673\n",
      "Removing C:\\Users\\tobso\\AppData\\Local\\opensky\\opensky\\Cache\\b7523f9aeffc048a09e02c45b133e8d5.parquet created on 1732291788.3796065\n",
      "Removing C:\\Users\\tobso\\AppData\\Local\\opensky\\opensky\\Cache\\b7799599415e5802e389fdb612f3a662.parquet created on 1732291862.4611242\n",
      "Removing C:\\Users\\tobso\\AppData\\Local\\opensky\\opensky\\Cache\\e08a2887cfce4e86dea01240ec432c6b.parquet created on 1732292186.514277\n",
      "Removing C:\\Users\\tobso\\AppData\\Local\\opensky\\opensky\\Cache\\e320e8ebd14081e9ca233fc5cb08f446.parquet created on 1732291361.7716153\n",
      "Removing C:\\Users\\tobso\\AppData\\Local\\opensky\\opensky\\Cache\\e3826059362eea517e9c0c720dbef89d.parquet created on 1732292032.0525641\n",
      "Removing C:\\Users\\tobso\\AppData\\Local\\opensky\\opensky\\Cache\\eb6b66805aec01c1f4469c5f5b33426e.parquet created on 1732291517.0257952\n"
     ]
    }
   ],
   "execution_count": 1
  },
  {
   "metadata": {
    "ExecuteTime": {
     "end_time": "2025-02-20T15:19:15.937780Z",
     "start_time": "2025-02-20T15:19:11.786945Z"
    }
   },
   "cell_type": "code",
   "source": [
    "# The flights can be converted into a Traffic object\n",
    "count = 500\n",
    "with_GA_flights = flights_from_query(None, count, \"data/with_GA_flights.pkl\")\n",
    "without_GA_flights = flights_from_query(None, count, \"data/without_GA_flights.pkl\")"
   ],
   "id": "14c2930c22820acc",
   "outputs": [],
   "execution_count": 2
  },
  {
   "metadata": {
    "ExecuteTime": {
     "end_time": "2025-02-20T15:20:31.160059Z",
     "start_time": "2025-02-20T15:19:16.063021Z"
    }
   },
   "cell_type": "code",
   "source": [
    "with_GA_flights = list(filter(large_gap_filter, with_GA_flights))\n",
    "without_GA_flights = list(filter(large_gap_filter, without_GA_flights))\n",
    "\n",
    "with_GA_labels = np.ones(len(with_GA_flights))\n",
    "without_GA_labels = np.zeros(len(without_GA_flights))\n",
    "\n",
    "flights = with_GA_flights + without_GA_flights\n",
    "labels = np.concatenate((with_GA_labels, without_GA_labels))\n",
    "\n",
    "trees, paths = flight_pers(flights)\n",
    "sub_persistence, sub_paths = sublevelset_persistence(flights)"
   ],
   "id": "1dfde9e0c663208b",
   "outputs": [
    {
     "name": "stderr",
     "output_type": "stream",
     "text": [
      "100%|██████████| 1709/1709 [00:47<00:00, 36.25it/s]\n",
      "100%|██████████| 1709/1709 [00:18<00:00, 91.65it/s] \n"
     ]
    }
   ],
   "execution_count": 3
  },
  {
   "metadata": {
    "ExecuteTime": {
     "end_time": "2025-02-20T15:20:32.122605Z",
     "start_time": "2025-02-20T15:20:31.364797Z"
    }
   },
   "cell_type": "code",
   "source": [
    "from tqdm import tqdm\n",
    "baseline = []\n",
    "\n",
    "\n",
    "for dataset in [with_GA_flights, without_GA_flights]:\n",
    "    for flight in tqdm(dataset, total=len(dataset)):\n",
    "        data = flight.data.copy(deep=True)\n",
    "        \n",
    "        unwrapped = np.unwrap(np.deg2rad(data[\"track\"]), period=2 * np.pi, discont=np.pi)\n",
    "        unwrapped_diff = unwrapped.max() - unwrapped.min()\n",
    "        \n",
    "        max_velocity = data[\"groundspeed\"].max()\n",
    "        min_velocity = data[\"groundspeed\"].min()\n",
    "        mean_velocity = data[\"groundspeed\"].mean()\n",
    "        max_heading = data[\"vertical_rate\"].max()\n",
    "        min_heading = data[\"vertical_rate\"].min()\n",
    "        mean_heading = data[\"vertical_rate\"].mean()\n",
    "        longitude_diff = data[\"longitude\"].max() - data[\"longitude\"].min()\n",
    "        latitude_diff = data[\"latitude\"].max() - data[\"latitude\"].min()\n",
    "        \n",
    "        baseline.append([unwrapped_diff, max_velocity, min_velocity, mean_velocity, max_heading, min_heading, mean_heading, longitude_diff, latitude_diff])"
   ],
   "id": "c82810b54999fbfd",
   "outputs": [
    {
     "name": "stderr",
     "output_type": "stream",
     "text": [
      "100%|██████████| 860/860 [00:00<00:00, 2431.09it/s]\n",
      "100%|██████████| 849/849 [00:00<00:00, 2503.45it/s]\n"
     ]
    }
   ],
   "execution_count": 4
  },
  {
   "metadata": {
    "ExecuteTime": {
     "end_time": "2025-02-20T15:20:33.084258Z",
     "start_time": "2025-02-20T15:20:32.134626Z"
    }
   },
   "cell_type": "code",
   "source": [
    "resolution = 10\n",
    "n_landscapes = 3\n",
    "landscape = Landscape(resolution=resolution, num_landscapes=n_landscapes)\n",
    "landscapes = []\n",
    "sub_landscapes = []\n",
    "\n",
    "for i in trees:\n",
    "    landscapes.append(landscape.fit_transform([i.persistence_intervals_in_dimension(1)]))\n",
    "for i in sub_persistence:\n",
    "    sub_landscapes.append(landscape.fit_transform([i]))\n",
    "\n",
    "baseline = np.array(baseline)\n",
    "\n",
    "landscapes = np.array(landscapes)\n",
    "landscapes = landscapes.reshape(landscapes.shape[0], landscapes.shape[2])\n",
    "\n",
    "sub_landscapes = np.array(sub_landscapes)\n",
    "sub_landscapes = sub_landscapes.reshape(sub_landscapes.shape[0], sub_landscapes.shape[2])"
   ],
   "id": "dfcc77623b60c415",
   "outputs": [],
   "execution_count": 5
  },
  {
   "metadata": {
    "ExecuteTime": {
     "end_time": "2025-02-20T15:20:33.172408Z",
     "start_time": "2025-02-20T15:20:33.099290Z"
    }
   },
   "cell_type": "code",
   "source": "labels.shape",
   "id": "2d8ba929786dc19c",
   "outputs": [
    {
     "data": {
      "text/plain": [
       "(1709,)"
      ]
     },
     "execution_count": 6,
     "metadata": {},
     "output_type": "execute_result"
    }
   ],
   "execution_count": 6
  },
  {
   "metadata": {
    "ExecuteTime": {
     "end_time": "2025-02-20T15:20:33.317886Z",
     "start_time": "2025-02-20T15:20:33.186761Z"
    }
   },
   "cell_type": "code",
   "source": [
    "diagram = 8\n",
    "for i in range(n_landscapes):\n",
    "    plt.plot(sub_landscapes[diagram][i*resolution:(i+1)*resolution])"
   ],
   "id": "78ec13c5c3b32c30",
   "outputs": [
    {
     "data": {
      "text/plain": [
       "<Figure size 640x480 with 1 Axes>"
      ],
      "image/png": "[encoded data removed]"
     },
     "metadata": {},
     "output_type": "display_data"
    }
   ],
   "execution_count": 7
  },
  {
   "metadata": {
    "ExecuteTime": {
     "end_time": "2025-02-20T15:24:49.710473Z",
     "start_time": "2025-02-20T15:24:49.626598Z"
    }
   },
   "cell_type": "code",
   "source": [
    "X = baseline\n",
    "#X = np.concatenate((X, landscapes), axis= 1)\n",
    "#X = np.concatenate((X, sub_landscapes), axis= 1)\n",
    "mask = ~np.any(np.isnan(X), axis=1)\n",
    "X = X[mask]\n",
    "Y = labels[mask]\n",
    "\n",
    "x_train, x_test_val, y_train, y_test_val = train_test_split(X, Y, test_size=0.3, random_state=seed)\n",
    "x_test, x_val, y_test, y_val = train_test_split(x_test_val, y_test_val, test_size=0.5, random_state=seed)"
   ],
   "id": "5ba5d18d060366dd",
   "outputs": [],
   "execution_count": 38
  },
  {
   "metadata": {
    "ExecuteTime": {
     "end_time": "2025-02-20T15:24:49.878798Z",
     "start_time": "2025-02-20T15:24:49.815853Z"
    }
   },
   "cell_type": "code",
   "source": [
    "from sklearn.neighbors import KNeighborsClassifier\n",
    "from sklearn.neural_network import MLPClassifier\n",
    "from sklearn.dummy import DummyClassifier\n",
    "from sklearn.ensemble import RandomForestClassifier\n",
    "from sklearn.tree import DecisionTreeClassifier\n",
    "\n",
    "from sklearn import tree\n",
    "from sklearn import svm\n",
    "\n",
    "models = {\n",
    "    \"Decition Tree\" : [tree.DecisionTreeClassifier(random_state=seed), {\n",
    "        \"min_samples_leaf\" : [2, 3],\n",
    "        \"min_samples_split\" : [2, 3]\n",
    "    }],\n",
    "    \"Support Vector Machines\" : [svm.SVC(random_state=seed), {\n",
    "        \"C\" : [1, 2, 3], \n",
    "        \"break_ties\": [True, False], \n",
    "        \"probability\": [True, False]\n",
    "    }],\n",
    "    \"Base line\" : [DummyClassifier(strategy = \"most_frequent\"), {\n",
    "        \n",
    "    }],\n",
    "    \"Multi-layer Perception\" : [MLPClassifier(random_state=seed, max_iter = 5000), {\n",
    "        \"hidden_layer_sizes\" : [10, 20, 30], \n",
    "        \n",
    "    }],\n",
    "    \"K Nearest Neighbors\" : [KNeighborsClassifier(), {\n",
    "        \"n_neighbors\" : [5, 10, 20, 40], \n",
    "        \"p\": [1, 2, 3]\n",
    "    }],\n",
    "    \"Random Forrest Regressor\" : [RandomForestClassifier(random_state=seed), {\n",
    "        \"max_depth\": [2, 3], \n",
    "        \"n_estimators\" : [50, 100, 300]\n",
    "    }],\n",
    "    \"Decision Tree Regressor\" : [DecisionTreeClassifier(random_state=seed), {\n",
    "        \"min_samples_split\" : [2, 3, 4],\n",
    "        \"min_samples_leaf\" : [1, 2, 3]\n",
    "    }],\n",
    "}"
   ],
   "id": "35e1bb3a738b0479",
   "outputs": [],
   "execution_count": 39
  },
  {
   "metadata": {
    "ExecuteTime": {
     "end_time": "2025-02-20T15:24:58.318335Z",
     "start_time": "2025-02-20T15:24:49.984862Z"
    }
   },
   "cell_type": "code",
   "source": [
    "from sklearn.metrics import balanced_accuracy_score\n",
    "from sklearn.model_selection import GridSearchCV\n",
    "\n",
    "datalist = []\n",
    "\n",
    "for i in models.keys():\n",
    "    #does the gridsearch on the models\n",
    "    model = GridSearchCV(models[i][0], models[i][1])\n",
    "    #makes a prediction\n",
    "    prediction = model.fit(x_train, y_train).predict(x_test)\n",
    "    #finds out how good that prediction is\n",
    "    \n",
    "    balanced_accuracy = balanced_accuracy_score(y_test, prediction)\n",
    "    datalist.append([model.best_estimator_, balanced_accuracy])"
   ],
   "id": "916292347516ccef",
   "outputs": [],
   "execution_count": 40
  },
  {
   "metadata": {
    "ExecuteTime": {
     "end_time": "2025-02-20T15:24:58.399854Z",
     "start_time": "2025-02-20T15:24:58.324854Z"
    }
   },
   "cell_type": "code",
   "source": [
    "for i, j in datalist:\n",
    "    print(f\"{i.__repr__(): <70}: {j: .3}\")"
   ],
   "id": "f0225509dc39a39e",
   "outputs": [
    {
     "name": "stdout",
     "output_type": "stream",
     "text": [
      "DecisionTreeClassifier(min_samples_leaf=3, random_state=42)           :  0.988\n",
      "SVC(C=2, break_ties=True, probability=True, random_state=42)          :  0.977\n",
      "DummyClassifier(strategy='most_frequent')                             :  0.5\n",
      "MLPClassifier(hidden_layer_sizes=10, max_iter=5000, random_state=42)  :  0.992\n",
      "KNeighborsClassifier(p=1)                                             :  0.973\n",
      "RandomForestClassifier(max_depth=2, n_estimators=50, random_state=42) :  0.988\n",
      "DecisionTreeClassifier(min_samples_leaf=3, random_state=42)           :  0.988\n"
     ]
    }
   ],
   "execution_count": 41
  },
  {
   "metadata": {
    "ExecuteTime": {
     "end_time": "2025-02-20T15:24:58.618388Z",
     "start_time": "2025-02-20T15:24:58.476236Z"
    }
   },
   "cell_type": "code",
   "source": [
    "new_x_train =  np.concatenate((x_train, x_test), axis=0)\n",
    "new_y_train = np.concatenate((y_train, y_test), axis=0)\n",
    "best_model = sorted(datalist, key=lambda x: x[1], reverse=True)[0][0]\n",
    "\n",
    "prediction = best_model.fit(new_x_train, new_y_train).predict(x_val)\n",
    "balanced_accuracy = balanced_accuracy_score(y_val, prediction)\n",
    "balanced_accuracy"
   ],
   "id": "8ae7a8ba6db6c24b",
   "outputs": [
    {
     "data": {
      "text/plain": [
       "0.9765610694012086"
      ]
     },
     "execution_count": 42,
     "metadata": {},
     "output_type": "execute_result"
    }
   ],
   "execution_count": 42
  },
  {
   "metadata": {
    "ExecuteTime": {
     "end_time": "2025-02-20T15:24:58.769642Z",
     "start_time": "2025-02-20T15:24:58.690643Z"
    }
   },
   "cell_type": "code",
   "source": [
    "from sklearn.metrics import confusion_matrix\n",
    "confusion_matrix(y_val, prediction)"
   ],
   "id": "60ce7fff9f49aeab",
   "outputs": [
    {
     "data": {
      "text/plain": [
       "array([[126,   3],\n",
       "       [  3, 124]], dtype=int64)"
      ]
     },
     "execution_count": 43,
     "metadata": {},
     "output_type": "execute_result"
    }
   ],
   "execution_count": 43
  },
  {
   "metadata": {},
   "cell_type": "markdown",
   "source": [
    "Where the columns is prediction and the rows are the true value.\n",
    "i will note that the dataset is not 100% accurate. there are false positives:\n",
    "\n",
    "\n",
    "\n",
    "The GA detection algorithm sometimes fails to detect GAs either:\n",
    "* if GAs are initialized early on the approach and have no or only a short climb phase, \n",
    "* if GAs have a very tight turn radius and only a short leg on the final approach (as usually performed by small general aviation aircraft), or \n",
    "* if GAs directly divert to other airports."
   ],
   "id": "2f757ed88f52da94"
  },
  {
   "metadata": {},
   "cell_type": "markdown",
   "source": [
    "### adding sublevel set height:\n",
    "this doesnt seem to improve the results, and mostly just confuses the models :/\n"
   ],
   "id": "d8063f58db59a7b0"
  },
  {
   "metadata": {
    "ExecuteTime": {
     "end_time": "2025-02-20T15:20:42.242867Z",
     "start_time": "2025-02-20T15:20:42.239862Z"
    }
   },
   "cell_type": "code",
   "source": "",
   "id": "45926619cc3ec4c1",
   "outputs": [],
   "execution_count": null
  }
 ],
 "metadata": {
  "kernelspec": {
   "display_name": "Python 3",
   "language": "python",
   "name": "python3"
  },
  "language_info": {
   "codemirror_mode": {
    "name": "ipython",
    "version": 2
   },
   "file_extension": ".py",
   "mimetype": "text/x-python",
   "name": "python",
   "nbconvert_exporter": "python",
   "pygments_lexer": "ipython2",
   "version": "2.7.6"
  }
 },
 "nbformat": 4,
 "nbformat_minor": 5
}
