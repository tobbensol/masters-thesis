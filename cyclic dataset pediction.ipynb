{
 "cells": [
  {
   "cell_type": "code",
   "id": "initial_id",
   "metadata": {
    "collapsed": true,
    "ExecuteTime": {
     "end_time": "2025-02-06T12:45:03.102361Z",
     "start_time": "2025-02-06T12:45:03.099876Z"
    }
   },
   "source": [
    "import datetime\n",
    "\n",
    "import numpy as np\n",
    "import pandas as pd\n",
    "import gudhi\n",
    "\n",
    "from traffic.core import Traffic, Flight\n",
    "from functions.data_filtering import ICAO_codes, large_gap_filter\n",
    "from functions.data_processing import flight_pers, remove_outliers_z_score, remove_outliers_dbscan\n",
    "from functions.data_loading import linkage_cluster_persistances, flights_from_query\n",
    "\n",
    "from scipy.cluster.hierarchy import fcluster\n",
    "\n",
    "seed = 210401"
   ],
   "outputs": [],
   "execution_count": 94
  },
  {
   "metadata": {
    "ExecuteTime": {
     "end_time": "2025-02-06T12:45:07.320116Z",
     "start_time": "2025-02-06T12:45:03.277225Z"
    }
   },
   "cell_type": "code",
   "source": [
    "# The flights can be converted into a Traffic object\n",
    "count = 500\n",
    "with_GA_flights = flights_from_query(None, count, \"data/with_GA_flights.pkl\")\n",
    "without_GA_flights = flights_from_query(None, count, \"data/without_GA_flights.pkl\")"
   ],
   "id": "14c2930c22820acc",
   "outputs": [],
   "execution_count": 95
  },
  {
   "metadata": {
    "ExecuteTime": {
     "end_time": "2025-02-06T12:45:50.770395Z",
     "start_time": "2025-02-06T12:45:07.324362Z"
    }
   },
   "cell_type": "code",
   "source": [
    "with_GA_flights = list(filter(large_gap_filter, with_GA_flights))\n",
    "without_GA_flights = list(filter(large_gap_filter, without_GA_flights))\n",
    "\n",
    "with_GA_labels = np.ones(len(with_GA_flights))\n",
    "without_GA_labels = np.zeros(len(without_GA_flights))\n",
    "\n",
    "flights = with_GA_flights + without_GA_flights\n",
    "labels = np.concatenate((with_GA_labels, without_GA_labels))\n",
    "\n",
    "trees, paths = flight_pers(flights)"
   ],
   "id": "af575758e78b4b7a",
   "outputs": [
    {
     "name": "stderr",
     "output_type": "stream",
     "text": [
      "100%|██████████| 1389/1389 [00:36<00:00, 38.35it/s]\n"
     ]
    }
   ],
   "execution_count": 96
  },
  {
   "metadata": {
    "ExecuteTime": {
     "end_time": "2025-02-06T12:45:51.138091Z",
     "start_time": "2025-02-06T12:45:50.792424Z"
    }
   },
   "cell_type": "code",
   "source": [
    "from gudhi.representations import Landscape\n",
    "\n",
    "resolution = 15\n",
    "n_landscapes = 3\n",
    "landscape = Landscape(resolution=resolution, num_landscapes=n_landscapes)\n",
    "landscapes = []\n",
    "\n",
    "for i in trees:\n",
    "    landscapes.append(landscape.fit_transform([i.persistence_intervals_in_dimension(1)]))\n",
    "landscapes = np.array(landscapes)\n",
    "\n",
    "landscapes = landscapes.reshape(landscapes.shape[0], landscapes.shape[2])"
   ],
   "id": "dfcc77623b60c415",
   "outputs": [],
   "execution_count": 97
  },
  {
   "metadata": {
    "ExecuteTime": {
     "end_time": "2025-02-06T12:45:51.212297Z",
     "start_time": "2025-02-06T12:45:51.158571Z"
    }
   },
   "cell_type": "code",
   "source": [
    "from matplotlib import pyplot as plt\n",
    "\n",
    "diagram = 6\n",
    "for i in range(n_landscapes):\n",
    "    plt.plot(landscapes[diagram][i*resolution:(i+1)*resolution])"
   ],
   "id": "78ec13c5c3b32c30",
   "outputs": [
    {
     "data": {
      "text/plain": [
       "<Figure size 640x480 with 1 Axes>"
      ],
      "image/png": "[encoded data removed]"
     },
     "metadata": {},
     "output_type": "display_data"
    }
   ],
   "execution_count": 98
  },
  {
   "metadata": {
    "ExecuteTime": {
     "end_time": "2025-02-06T12:45:51.236612Z",
     "start_time": "2025-02-06T12:45:51.232342Z"
    }
   },
   "cell_type": "code",
   "source": [
    "from sklearn.model_selection import train_test_split\n",
    "\n",
    "x_train, x_test_val, y_train, y_test_val = train_test_split(landscapes, labels, test_size=0.3, random_state=seed)\n",
    "x_test, x_val, y_test, y_val = train_test_split(x_test_val, y_test_val, test_size=0.5, random_state=seed)"
   ],
   "id": "5ba5d18d060366dd",
   "outputs": [],
   "execution_count": 99
  },
  {
   "metadata": {
    "ExecuteTime": {
     "end_time": "2025-02-06T12:45:51.258874Z",
     "start_time": "2025-02-06T12:45:51.254870Z"
    }
   },
   "cell_type": "code",
   "source": [
    "from sklearn.neighbors import KNeighborsClassifier\n",
    "from sklearn.neural_network import MLPClassifier\n",
    "from sklearn.dummy import DummyClassifier\n",
    "from sklearn.ensemble import RandomForestClassifier\n",
    "from sklearn.tree import DecisionTreeClassifier\n",
    "\n",
    "from sklearn import tree\n",
    "from sklearn import svm\n",
    "\n",
    "models = {\n",
    "    \"Decition Tree\" : [tree.DecisionTreeClassifier(random_state=seed), {\n",
    "        \"min_samples_leaf\" : [2, 3],\n",
    "        \"min_samples_split\" : [2, 3]\n",
    "    }],\n",
    "    \"Support Vector Machines\" : [svm.SVC(random_state=seed), {\n",
    "        \"C\" : [1, 2, 3], \n",
    "        \"break_ties\": [True, False], \n",
    "        \"probability\": [True, False]\n",
    "    }],\n",
    "    \"Base line\" : [DummyClassifier(strategy = \"most_frequent\"), {\n",
    "        \n",
    "    }],\n",
    "    \"Multi-layer Perception\" : [MLPClassifier(random_state=seed, max_iter = 5000), {\n",
    "        \"hidden_layer_sizes\" : [10, 20, 30], \n",
    "        \n",
    "    }],\n",
    "    \"K Nearest Neighbors\" : [KNeighborsClassifier(), {\n",
    "        \"n_neighbors\" : [5, 10, 20, 40], \n",
    "        \"p\": [1, 2, 3]\n",
    "    }],\n",
    "    \"Random Forrest Regressor\" : [RandomForestClassifier(random_state=seed), {\n",
    "        \"max_depth\": [2, 3], \n",
    "        \"n_estimators\" : [50, 100, 300]\n",
    "    }],\n",
    "    \"Decision Tree Regressor\" : [DecisionTreeClassifier(random_state=seed), {\n",
    "        \"min_samples_split\" : [2, 3, 4],\n",
    "        \"min_samples_leaf\" : [1, 2, 3]\n",
    "    }],\n",
    "}"
   ],
   "id": "35e1bb3a738b0479",
   "outputs": [],
   "execution_count": 100
  },
  {
   "metadata": {
    "ExecuteTime": {
     "end_time": "2025-02-06T12:46:00.914941Z",
     "start_time": "2025-02-06T12:45:51.278053Z"
    }
   },
   "cell_type": "code",
   "source": [
    "from sklearn.metrics import balanced_accuracy_score\n",
    "from sklearn.model_selection import GridSearchCV\n",
    "\n",
    "datalist = []\n",
    "\n",
    "for i in models.keys():\n",
    "    #does the gridsearch on the models\n",
    "    model = GridSearchCV(models[i][0], models[i][1])\n",
    "    #makes a prediction\n",
    "    prediction = model.fit(x_train, y_train).predict(x_test)\n",
    "    #finds out how good that prediction is\n",
    "    \n",
    "    balanced_accuracy = balanced_accuracy_score(y_test, prediction)\n",
    "    datalist.append([model.best_estimator_, balanced_accuracy])"
   ],
   "id": "916292347516ccef",
   "outputs": [],
   "execution_count": 101
  },
  {
   "metadata": {
    "ExecuteTime": {
     "end_time": "2025-02-06T12:46:00.937809Z",
     "start_time": "2025-02-06T12:46:00.934376Z"
    }
   },
   "cell_type": "code",
   "source": [
    "for i, j in datalist:\n",
    "    print(f\"{i.__repr__(): <70}: {j: .3}\")"
   ],
   "id": "f0225509dc39a39e",
   "outputs": [
    {
     "name": "stdout",
     "output_type": "stream",
     "text": [
      "DecisionTreeClassifier(min_samples_leaf=3, random_state=210401)       :  0.909\n",
      "SVC(C=3, break_ties=True, probability=True, random_state=210401)      :  0.94\n",
      "DummyClassifier(strategy='most_frequent')                             :  0.5\n",
      "MLPClassifier(hidden_layer_sizes=20, max_iter=5000, random_state=210401):  0.938\n",
      "KNeighborsClassifier(n_neighbors=20, p=3)                             :  0.938\n",
      "RandomForestClassifier(max_depth=3, random_state=210401)              :  0.94\n",
      "DecisionTreeClassifier(min_samples_leaf=3, random_state=210401)       :  0.909\n"
     ]
    }
   ],
   "execution_count": 102
  },
  {
   "metadata": {
    "ExecuteTime": {
     "end_time": "2025-02-06T12:46:01.065021Z",
     "start_time": "2025-02-06T12:46:01.008456Z"
    }
   },
   "cell_type": "code",
   "source": [
    "new_x_train =  np.concatenate((x_train, x_test), axis=0)\n",
    "new_y_train = np.concatenate((y_train, y_test), axis=0)\n",
    "best_model = sorted(datalist, key=lambda x: x[1], reverse=True)[0][0]\n",
    "\n",
    "prediction = best_model.fit(new_x_train, new_y_train).predict(x_val)\n",
    "balanced_accuracy = balanced_accuracy_score(y_val, prediction)\n",
    "balanced_accuracy"
   ],
   "id": "8ae7a8ba6db6c24b",
   "outputs": [
    {
     "data": {
      "text/plain": [
       "0.948989898989899"
      ]
     },
     "execution_count": 103,
     "metadata": {},
     "output_type": "execute_result"
    }
   ],
   "execution_count": 103
  },
  {
   "metadata": {
    "ExecuteTime": {
     "end_time": "2025-02-06T12:48:22.244958Z",
     "start_time": "2025-02-06T12:48:22.240879Z"
    }
   },
   "cell_type": "code",
   "source": [
    "from sklearn.metrics import confusion_matrix\n",
    "confusion_matrix(y_val, prediction)"
   ],
   "id": "60ce7fff9f49aeab",
   "outputs": [
    {
     "data": {
      "text/plain": [
       "array([[101,   9],\n",
       "       [  2,  97]], dtype=int64)"
      ]
     },
     "execution_count": 104,
     "metadata": {},
     "output_type": "execute_result"
    }
   ],
   "execution_count": 104
  },
  {
   "metadata": {},
   "cell_type": "markdown",
   "source": [
    "Where the columns is prediction and the rows are the true value.\n",
    "i will note that the dataset is not 100% accurate. there are false positives:\n",
    "\n",
    "\n",
    "\n",
    "The GA detection algorithm sometimes fails to detect GAs either:\n",
    "* if GAs are initialized early on the approach and have no or only a short climb phase, \n",
    "* if GAs have a very tight turn radius and only a short leg on the final approach (as usually performed by small general aviation aircraft), or \n",
    "* if GAs directly divert to other airports."
   ],
   "id": "2f757ed88f52da94"
  },
  {
   "metadata": {},
   "cell_type": "code",
   "outputs": [],
   "execution_count": null,
   "source": "",
   "id": "45926619cc3ec4c1"
  }
 ],
 "metadata": {
  "kernelspec": {
   "display_name": "Python 3",
   "language": "python",
   "name": "python3"
  },
  "language_info": {
   "codemirror_mode": {
    "name": "ipython",
    "version": 2
   },
   "file_extension": ".py",
   "mimetype": "text/x-python",
   "name": "python",
   "nbconvert_exporter": "python",
   "pygments_lexer": "ipython2",
   "version": "2.7.6"
  }
 },
 "nbformat": 4,
 "nbformat_minor": 5
}
