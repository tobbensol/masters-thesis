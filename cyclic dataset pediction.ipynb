{
 "cells": [
  {
   "cell_type": "code",
   "id": "initial_id",
   "metadata": {
    "collapsed": true,
    "ExecuteTime": {
     "end_time": "2025-03-05T13:18:09.954969Z",
     "start_time": "2025-03-05T13:18:09.897592Z"
    }
   },
   "source": [
    "%load_ext autoreload\n",
    "%autoreload 2\n",
    "\n",
    "import numpy as np\n",
    "import pandas as pd\n",
    "import gudhi\n",
    "\n",
    "from functions.data_filtering import ICAO_codes, large_gap_filter\n",
    "from functions.data_processing import flight_persistence, sublevelset_persistence, sublevelset_heading_persistence\n",
    "from functions.data_loading import flights_from_query\n",
    "\n",
    "from matplotlib import pyplot as plt\n",
    "from sklearn import preprocessing\n",
    "from sklearn.model_selection import train_test_split\n",
    "from traffic.core import Traffic, Flight\n",
    "from gudhi.representations import Landscape"
   ],
   "outputs": [
    {
     "name": "stdout",
     "output_type": "stream",
     "text": [
      "The autoreload extension is already loaded. To reload it, use:\n",
      "  %reload_ext autoreload\n"
     ]
    }
   ],
   "execution_count": 7
  },
  {
   "metadata": {
    "ExecuteTime": {
     "end_time": "2025-03-05T13:06:31.732368Z",
     "start_time": "2025-03-05T13:06:06.360774Z"
    }
   },
   "cell_type": "code",
   "source": "flights, data = flights_from_query(None, \"./data/GA_dataset.pkl\", load_results=True)",
   "id": "14c2930c22820acc",
   "outputs": [],
   "execution_count": 2
  },
  {
   "metadata": {
    "ExecuteTime": {
     "end_time": "2025-03-05T13:07:11.690006Z",
     "start_time": "2025-03-05T13:06:32.127993Z"
    }
   },
   "cell_type": "code",
   "source": [
    "filtered_flight_data = [(f, d) for f, d in zip(flights, data) if large_gap_filter(f)]\n",
    "flights, data = zip(*filtered_flight_data)  \n",
    "flights = list(flights)\n",
    "data = np.array(data)\n",
    "simple = True\n",
    "\n",
    "labels = data[:, 0]\n",
    "if simple: \n",
    "    labels = (labels != 1).astype(int)\n",
    "\n",
    "outside_data = data[:, 1:]"
   ],
   "id": "62a0e6502c885b4f",
   "outputs": [],
   "execution_count": 3
  },
  {
   "metadata": {
    "ExecuteTime": {
     "end_time": "2025-03-05T13:17:56.984093Z",
     "start_time": "2025-03-05T13:14:13.778106Z"
    }
   },
   "cell_type": "code",
   "source": [
    "persistence, paths = flight_persistence(flights)\n",
    "sub_persistence, sub_paths = sublevelset_persistence(flights)\n",
    "heading_sub_persistence, heading_sub_paths = sublevelset_heading_persistence(flights)"
   ],
   "id": "1dfde9e0c663208b",
   "outputs": [
    {
     "name": "stderr",
     "output_type": "stream",
     "text": [
      "100%|██████████| 7910/7910 [02:19<00:00, 56.63it/s]\n",
      "100%|██████████| 7910/7910 [01:23<00:00, 94.76it/s] \n"
     ]
    }
   ],
   "execution_count": 5
  },
  {
   "metadata": {
    "ExecuteTime": {
     "end_time": "2025-03-05T13:19:25.242028Z",
     "start_time": "2025-03-05T13:19:25.184602Z"
    }
   },
   "cell_type": "code",
   "source": [
    "def persistence_stats(persistences):\n",
    "    dataset = []\n",
    "    for pers in persistences:\n",
    "        births = pers[:, 0]\n",
    "        deaths = pers[:, 1]\n",
    "        lifespans = deaths - births\n",
    "        \n",
    "        data_row = [len(pers)]\n",
    "\n",
    "        for i in [lifespans]:\n",
    "            #get top 5 and pad with 0s if there are less than 5 items\n",
    "            i.sort()\n",
    "            data = i[:5]   \n",
    "            data = np.pad(data, (0, max(0, 5 - len(data))), mode='constant')\n",
    "            \n",
    "            mean = np.mean(i) if len(i) != 0 else 0\n",
    "            median = np.median(i) if len(i) != 0 else 0\n",
    "            \n",
    "            data = list(data)  # Convert back to a list\n",
    "            data.extend([mean, median])\n",
    "            \n",
    "            data_row.extend(data)  # Collect into row\n",
    "        dataset.append(data_row)  \n",
    "    dataset = np.array(dataset)\n",
    "    return dataset"
   ],
   "id": "d29937576f867ea0",
   "outputs": [],
   "execution_count": 10
  },
  {
   "metadata": {
    "ExecuteTime": {
     "end_time": "2025-03-05T13:31:28.015779Z",
     "start_time": "2025-03-05T13:31:27.293263Z"
    }
   },
   "cell_type": "code",
   "source": [
    "pers_stats = persistence_stats(persistence)\n",
    "sub_pers_stats = persistence_stats(sub_persistence)\n",
    "heading_sub_pers_stats = persistence_stats(heading_sub_persistence)"
   ],
   "id": "238508adeab62c65",
   "outputs": [],
   "execution_count": 44
  },
  {
   "metadata": {
    "ExecuteTime": {
     "end_time": "2025-03-05T13:19:30.517565Z",
     "start_time": "2025-03-05T13:19:26.447617Z"
    }
   },
   "cell_type": "code",
   "source": [
    "from tqdm import tqdm\n",
    "baseline = []\n",
    "\n",
    "for flight in tqdm(flights, total=len(flights)):\n",
    "    data = flight.data.copy(deep=True)\n",
    "    \n",
    "    unwrapped = np.unwrap(np.deg2rad(data[\"track\"]), period=2 * np.pi, discont=np.pi)\n",
    "    max_unwrapped = unwrapped.max()\n",
    "    min_unwrapped = unwrapped.min()\n",
    "    diff_unwrapped = max_unwrapped - min_unwrapped\n",
    "    \n",
    "    max_velocity = data[\"groundspeed\"].max()\n",
    "    min_velocity = data[\"groundspeed\"].min()\n",
    "    mean_velocity = data[\"groundspeed\"].mean()\n",
    "    max_heading = data[\"vertical_rate\"].max()\n",
    "    min_heading = data[\"vertical_rate\"].min()\n",
    "    mean_heading = data[\"vertical_rate\"].mean()\n",
    "    longitude_diff = data[\"longitude\"].max() - data[\"longitude\"].min()\n",
    "    latitude_diff = data[\"latitude\"].max() - data[\"latitude\"].min()\n",
    "    \n",
    "    baseline.append([max_unwrapped, min_unwrapped, diff_unwrapped, max_velocity, min_velocity, mean_velocity, max_heading, min_heading, mean_heading, longitude_diff, latitude_diff])"
   ],
   "id": "c82810b54999fbfd",
   "outputs": [
    {
     "name": "stderr",
     "output_type": "stream",
     "text": [
      "100%|██████████| 7910/7910 [00:04<00:00, 1971.53it/s]\n"
     ]
    }
   ],
   "execution_count": 12
  },
  {
   "metadata": {
    "ExecuteTime": {
     "end_time": "2025-03-05T13:19:30.592112Z",
     "start_time": "2025-03-05T13:19:30.529500Z"
    }
   },
   "cell_type": "code",
   "source": "baseline = np.array(baseline)",
   "id": "aa5d1fff1451dd26",
   "outputs": [],
   "execution_count": 13
  },
  {
   "metadata": {
    "ExecuteTime": {
     "end_time": "2025-03-05T13:29:44.065154Z",
     "start_time": "2025-03-05T13:29:38.923555Z"
    }
   },
   "cell_type": "code",
   "source": [
    "resolution = 10\n",
    "n_landscapes = 3\n",
    "landscape = Landscape(resolution=resolution, num_landscapes=n_landscapes)\n",
    "landscapes = []\n",
    "sub_landscapes = []\n",
    "heading_sub_landscapes = []\n",
    "\n",
    "for i in persistence:\n",
    "    landscapes.append(landscape.fit_transform([i]))\n",
    "for i in sub_persistence:\n",
    "    sub_landscapes.append(landscape.fit_transform([i]))\n",
    "for i in heading_sub_persistence:\n",
    "    heading_sub_landscapes.append(landscape.fit_transform([i]))\n",
    "    \n",
    "landscapes = np.array(landscapes)\n",
    "landscapes = landscapes.reshape(landscapes.shape[0], landscapes.shape[2])\n",
    "sub_landscapes = np.array(sub_landscapes)\n",
    "sub_landscapes = sub_landscapes.reshape(sub_landscapes.shape[0], sub_landscapes.shape[2])\n",
    "heading_sub_landscapes = np.array(heading_sub_landscapes)\n",
    "heading_sub_landscapes = heading_sub_landscapes.reshape(heading_sub_landscapes.shape[0], heading_sub_landscapes.shape[2])"
   ],
   "id": "dfcc77623b60c415",
   "outputs": [],
   "execution_count": 30
  },
  {
   "metadata": {
    "ExecuteTime": {
     "end_time": "2025-03-05T13:30:30.609101Z",
     "start_time": "2025-03-05T13:30:30.372092Z"
    }
   },
   "cell_type": "code",
   "source": [
    "diagram = 3001\n",
    "fig, axs = plt.subplots(3, 1, figsize=(5, 15))\n",
    "\n",
    "diagrams = []\n",
    "diagrams.append([\n",
    "    paths[diagram],\n",
    "    persistence[diagram],\n",
    "    landscapes[diagram]\n",
    "])\n",
    "diagrams.append([\n",
    "    sub_paths[diagram],\n",
    "    sub_persistence[diagram],\n",
    "    sub_landscapes[diagram]\n",
    "])\n",
    "diagrams.append([\n",
    "    heading_sub_paths[diagram],\n",
    "    heading_sub_persistence[diagram],\n",
    "    heading_sub_landscapes[diagram]\n",
    "])\n",
    "\n",
    "i = 2\n",
    "\n",
    "path = diagrams[i][0]\n",
    "pers = diagrams[i][1]\n",
    "landscape = diagrams[i][2]\n",
    "\n",
    "axs[0].scatter(path[:, 0], path[:, 1])\n",
    "gudhi.persistence_graphical_tools.plot_persistence_diagram(pers, axes=axs[1])\n",
    "\n",
    "for i in range(n_landscapes):\n",
    "    axs[2].plot(landscape[i*resolution:(i+1)*resolution])"
   ],
   "id": "78ec13c5c3b32c30",
   "outputs": [
    {
     "data": {
      "text/plain": [
       "<Figure size 500x1500 with 3 Axes>"
      ],
      "image/png": "[encoded data removed]"
     },
     "metadata": {},
     "output_type": "display_data"
    }
   ],
   "execution_count": 41
  },
  {
   "metadata": {
    "ExecuteTime": {
     "end_time": "2025-03-05T13:31:18.566696Z",
     "start_time": "2025-03-05T13:31:18.457075Z"
    }
   },
   "cell_type": "code",
   "source": [
    " from sklearn.neighbors import KNeighborsClassifier, KNeighborsRegressor\n",
    "from sklearn.neural_network import MLPClassifier, MLPRegressor\n",
    "from sklearn.dummy import DummyClassifier, DummyRegressor\n",
    "from sklearn.ensemble import RandomForestClassifier, RandomForestRegressor\n",
    "from sklearn.tree import DecisionTreeClassifier, DecisionTreeRegressor\n",
    "\n",
    "from sklearn import svm\n",
    "\n",
    "seed = 69\n",
    "\n",
    "regressors = {\n",
    "    \"Support Vector Machines\" : [svm.SVR(), {\n",
    "        \"C\" : [0.5, 1, 2], \n",
    "        \"degree\": [2, 3, 4],\n",
    "    }],\n",
    "    \"Base line\" : [DummyRegressor(strategy = \"mean\"), {\n",
    "        \n",
    "    }],\n",
    "    \"Multi-layer Perception\" : [MLPRegressor(random_state=seed, max_iter = 5000), {\n",
    "        \"hidden_layer_sizes\" : [10, 20, 30], \n",
    "        \n",
    "    }],\n",
    "    \"K Nearest Neighbors\" : [KNeighborsRegressor(), {\n",
    "        \"n_neighbors\" : [5, 10, 20, 40], \n",
    "        \"p\": [1, 2, 3]\n",
    "    }],\n",
    "    \"Random Forrest Regressor\" : [RandomForestRegressor(random_state=seed), {\n",
    "        \"max_depth\": [3, 6], \n",
    "        \"n_estimators\" : [25, 50, 100]\n",
    "    }],\n",
    "    \"Decision Tree Regressor\" : [DecisionTreeRegressor(random_state=seed), {\n",
    "        \"min_samples_split\" : [2, 3, 4],\n",
    "        \"min_samples_leaf\" : [1, 2, 3]\n",
    "    }],\n",
    "}\n",
    "\n",
    "classifiers = {\n",
    "    \"Support Vector Machines\": [svm.SVC(random_state=seed), {\n",
    "        \"C\": [1, 2, 3],\n",
    "        \"break_ties\": [True, False],\n",
    "        \"probability\": [True, False]\n",
    "    }],\n",
    "    \"Base line\": [DummyClassifier(strategy=\"most_frequent\"), {\n",
    "\n",
    "    }],\n",
    "    \"Multi-layer Perception\": [MLPClassifier(random_state=seed, max_iter=5000), {\n",
    "        \"hidden_layer_sizes\": [10, 20, 30],\n",
    "\n",
    "    }],\n",
    "    \"K Nearest Neighbors\": [KNeighborsClassifier(), {\n",
    "        \"n_neighbors\": [5, 10, 20, 40],\n",
    "        \"p\": [1, 2, 3]\n",
    "    }],\n",
    "    \"Random Forrest Regressor\": [RandomForestClassifier(random_state=seed), {\n",
    "        \"max_depth\": [3, 6],\n",
    "        \"n_estimators\": [50, 100, 300]\n",
    "    }],\n",
    "    \"Decision Tree Regressor\": [DecisionTreeClassifier(random_state=seed), {\n",
    "        \"min_samples_split\": [2, 3, 4],\n",
    "        \"min_samples_leaf\": [1, 2, 3]\n",
    "    }],\n",
    "}"
   ],
   "id": "88519e737f5dffdb",
   "outputs": [],
   "execution_count": 42
  },
  {
   "metadata": {
    "ExecuteTime": {
     "end_time": "2025-03-05T13:34:50.497947Z",
     "start_time": "2025-03-05T13:34:50.431388Z"
    }
   },
   "cell_type": "code",
   "source": [
    "B = [baseline, outside_data]\n",
    "LL = [pers_stats]\n",
    "A = [sub_pers_stats]\n",
    "H = [heading_sub_pers_stats]\n",
    "LL_A_H = LL + A + H\n",
    "B_LL_A_H = B + LL_A_H\n",
    "\n",
    "X = np.concatenate(H, axis= 1)\n",
    "\n",
    "mask = ~np.any(np.isnan(X), axis=1)\n",
    "X = X[mask]\n",
    "Y = labels[mask]\n",
    "\n",
    "indices = np.arange(len(X))\n",
    "\n",
    "x_train, x_test_val, y_train, y_test_val, indices_train, indices_test_val = train_test_split(X, Y, indices, test_size=0.3, random_state=seed)\n",
    "\n",
    "#normalizer = preprocessing.Normalizer()\n",
    "#x_train = normalizer.fit_transform(x_train)\n",
    "#x_test_val = normalizer.transform(x_test_val)\n",
    "\n",
    "x_test, x_val, y_test, y_val, indices_test, indices_val = train_test_split(x_test_val, y_test_val, indices_test_val, test_size=0.5, random_state=seed)"
   ],
   "id": "5ba5d18d060366dd",
   "outputs": [],
   "execution_count": 58
  },
  {
   "metadata": {
    "ExecuteTime": {
     "end_time": "2025-03-05T13:36:08.428575Z",
     "start_time": "2025-03-05T13:34:50.873055Z"
    }
   },
   "cell_type": "code",
   "source": [
    "from sklearn.metrics import balanced_accuracy_score, accuracy_score\n",
    "from sklearn.model_selection import GridSearchCV\n",
    "\n",
    "datalist = []\n",
    "models = classifiers if simple else regressors\n",
    "\n",
    "for i in models.keys():\n",
    "    #does the gridsearch on the models\n",
    "    model = GridSearchCV(models[i][0], models[i][1])\n",
    "    #makes a prediction\n",
    "    prediction = np.floor(model.fit(x_train, y_train).predict(x_test))\n",
    "    #finds out how good that prediction is\n",
    "    \n",
    "    balanced_accuracy = balanced_accuracy_score(y_test, prediction)\n",
    "    datalist.append([model.best_estimator_, balanced_accuracy])"
   ],
   "id": "916292347516ccef",
   "outputs": [],
   "execution_count": 59
  },
  {
   "metadata": {
    "ExecuteTime": {
     "end_time": "2025-03-05T13:36:08.490297Z",
     "start_time": "2025-03-05T13:36:08.435089Z"
    }
   },
   "cell_type": "code",
   "source": [
    "for i, j in datalist:\n",
    "    print(f\"{i.__repr__(): <70}: {j: .3}\")"
   ],
   "id": "f0225509dc39a39e",
   "outputs": [
    {
     "name": "stdout",
     "output_type": "stream",
     "text": [
      "SVC(C=3, break_ties=True, probability=True, random_state=69)          :  0.967\n",
      "DummyClassifier(strategy='most_frequent')                             :  0.5\n",
      "MLPClassifier(hidden_layer_sizes=20, max_iter=5000, random_state=69)  :  0.978\n",
      "KNeighborsClassifier(p=1)                                             :  0.981\n",
      "RandomForestClassifier(max_depth=6, n_estimators=300, random_state=69):  0.981\n",
      "DecisionTreeClassifier(min_samples_leaf=3, random_state=69)           :  0.972\n"
     ]
    }
   ],
   "execution_count": 60
  },
  {
   "metadata": {
    "ExecuteTime": {
     "end_time": "2025-03-05T13:36:08.667636Z",
     "start_time": "2025-03-05T13:36:08.579421Z"
    }
   },
   "cell_type": "code",
   "source": [
    "new_x_train =  np.concatenate((x_train, x_test), axis=0)\n",
    "new_y_train = np.concatenate((y_train, y_test), axis=0)\n",
    "best_model = sorted(datalist, key=lambda x: x[1], reverse=True)[0][0]\n",
    "\n",
    "prediction = np.floor(best_model.fit(new_x_train, new_y_train).predict(x_val))\n",
    "balanced_accuracy = balanced_accuracy_score(y_val, prediction)\n",
    "balanced_accuracy"
   ],
   "id": "8ae7a8ba6db6c24b",
   "outputs": [
    {
     "data": {
      "text/plain": [
       "0.9814916275725096"
      ]
     },
     "execution_count": 61,
     "metadata": {},
     "output_type": "execute_result"
    }
   ],
   "execution_count": 61
  },
  {
   "metadata": {
    "ExecuteTime": {
     "end_time": "2025-03-05T13:36:08.806078Z",
     "start_time": "2025-03-05T13:36:08.748239Z"
    }
   },
   "cell_type": "code",
   "source": [
    "from sklearn.metrics import confusion_matrix\n",
    "confusion_matrix(y_val, prediction)"
   ],
   "id": "60ce7fff9f49aeab",
   "outputs": [
    {
     "data": {
      "text/plain": [
       "array([[624,  12],\n",
       "       [ 10, 541]], dtype=int64)"
      ]
     },
     "execution_count": 62,
     "metadata": {},
     "output_type": "execute_result"
    }
   ],
   "execution_count": 62
  },
  {
   "metadata": {},
   "cell_type": "markdown",
   "source": [
    "Where the columns is prediction and the rows are the true value.\n",
    "i will note that the dataset is not 100% accurate. there are false positives:\n",
    "\n",
    "\n",
    "\n",
    "The GA detection algorithm sometimes fails to detect GAs either:\n",
    "* if GAs are initialized early on the approach and have no or only a short climb phase, \n",
    "* if GAs have a very tight turn radius and only a short leg on the final approach (as usually performed by small general aviation aircraft), or \n",
    "* if GAs directly divert to other airports."
   ],
   "id": "2f757ed88f52da94"
  },
  {
   "metadata": {},
   "cell_type": "markdown",
   "source": [
    "### adding sublevel set height:\n",
    "this doesnt seem to improve the results, and mostly just confuses the models :/\n"
   ],
   "id": "d8063f58db59a7b0"
  },
  {
   "metadata": {
    "ExecuteTime": {
     "end_time": "2025-03-04T16:04:32.146085Z",
     "start_time": "2025-03-04T16:04:32.080284Z"
    }
   },
   "cell_type": "code",
   "source": [
    "false_negatives = np.where(np.logical_and(y_val == 1, prediction == 0))[0]\n",
    "false_positives = np.where(np.logical_and(y_val == 0, prediction == 1))[0]\n",
    "positives = np.where(y_val == 1)[0]\n",
    "\n",
    "\n",
    "index = 0\n",
    "index = indices_val[false_positives[index]]\n",
    "#index = indices_val[false_negatives[index]]\n",
    "\n",
    "fig, axs = plt.subplots(2, 2, figsize=(10, 10))\n",
    "path = paths[index]\n",
    "axs[0, 0].scatter(path[:, 0], path[:, 1])\n",
    "\n",
    "path = sub_paths[index]\n",
    "axs[0, 1].scatter(path[:, 0], path[:, 1])\n",
    "\n",
    "gudhi.persistence_graphical_tools.plot_persistence_diagram(sub_persistence[index], axes=axs[1, 1])\n",
    "gudhi.persistence_graphical_tools.plot_persistence_diagram(persistence[index], axes=axs[1, 0])"
   ],
   "id": "45926619cc3ec4c1",
   "outputs": [
    {
     "ename": "IndexError",
     "evalue": "index 0 is out of bounds for axis 0 with size 0",
     "output_type": "error",
     "traceback": [
      "\u001B[1;31m---------------------------------------------------------------------------\u001B[0m",
      "\u001B[1;31mIndexError\u001B[0m                                Traceback (most recent call last)",
      "Cell \u001B[1;32mIn[18], line 7\u001B[0m\n\u001B[0;32m      3\u001B[0m positives \u001B[38;5;241m=\u001B[39m np\u001B[38;5;241m.\u001B[39mwhere(y_val \u001B[38;5;241m==\u001B[39m \u001B[38;5;241m1\u001B[39m)[\u001B[38;5;241m0\u001B[39m]\n\u001B[0;32m      6\u001B[0m index \u001B[38;5;241m=\u001B[39m \u001B[38;5;241m0\u001B[39m\n\u001B[1;32m----> 7\u001B[0m index \u001B[38;5;241m=\u001B[39m indices_val[\u001B[43mfalse_positives\u001B[49m\u001B[43m[\u001B[49m\u001B[43mindex\u001B[49m\u001B[43m]\u001B[49m]\n\u001B[0;32m      8\u001B[0m \u001B[38;5;66;03m#index = indices_val[false_negatives[index]]\u001B[39;00m\n\u001B[0;32m     10\u001B[0m fig, axs \u001B[38;5;241m=\u001B[39m plt\u001B[38;5;241m.\u001B[39msubplots(\u001B[38;5;241m2\u001B[39m, \u001B[38;5;241m2\u001B[39m, figsize\u001B[38;5;241m=\u001B[39m(\u001B[38;5;241m10\u001B[39m, \u001B[38;5;241m10\u001B[39m))\n",
      "\u001B[1;31mIndexError\u001B[0m: index 0 is out of bounds for axis 0 with size 0"
     ]
    }
   ],
   "execution_count": 18
  },
  {
   "metadata": {
    "ExecuteTime": {
     "end_time": "2025-03-04T16:04:32.146085700Z",
     "start_time": "2025-03-04T14:46:58.134841Z"
    }
   },
   "cell_type": "code",
   "source": [
    "index = 30\n",
    "data = flights[index].data\n",
    "path = np.unwrap(np.deg2rad(data[\"track\"]), period=2 * np.pi, discont=np.pi)\n",
    "\n",
    "x_values = [x / len(path) for x in range(len(path))]\n",
    "plt.scatter(x_values, path)"
   ],
   "id": "ec943608be2c6e56",
   "outputs": [
    {
     "data": {
      "text/plain": [
       "<matplotlib.collections.PathCollection at 0x1a1f570f7a0>"
      ]
     },
     "execution_count": 145,
     "metadata": {},
     "output_type": "execute_result"
    },
    {
     "data": {
      "text/plain": [
       "<Figure size 640x480 with 1 Axes>"
      ],
      "image/png": "[encoded data removed]"
     },
     "metadata": {},
     "output_type": "display_data"
    }
   ],
   "execution_count": 145
  },
  {
   "metadata": {
    "ExecuteTime": {
     "end_time": "2025-03-04T16:04:32.146085700Z",
     "start_time": "2025-03-03T15:42:52.074314Z"
    }
   },
   "cell_type": "code",
   "source": "",
   "id": "da0912be52e693ff",
   "outputs": [],
   "execution_count": null
  }
 ],
 "metadata": {
  "kernelspec": {
   "display_name": "Python 3",
   "language": "python",
   "name": "python3"
  },
  "language_info": {
   "codemirror_mode": {
    "name": "ipython",
    "version": 2
   },
   "file_extension": ".py",
   "mimetype": "text/x-python",
   "name": "python",
   "nbconvert_exporter": "python",
   "pygments_lexer": "ipython2",
   "version": "2.7.6"
  }
 },
 "nbformat": 4,
 "nbformat_minor": 5
}
