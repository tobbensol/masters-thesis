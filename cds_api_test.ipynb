{
 "cells": [
  {
   "cell_type": "code",
   "id": "ada4b40bb39011b",
   "metadata": {
    "ExecuteTime": {
     "end_time": "2024-09-22T10:54:14.088893Z",
     "start_time": "2024-09-22T10:54:13.810278Z"
    }
   },
   "source": [
    "import cdsapi\n",
    "  "
   ],
   "outputs": [],
   "execution_count": 1
  },
  {
   "metadata": {
    "collapsed": true,
    "ExecuteTime": {
     "end_time": "2024-09-22T10:54:15.025034Z",
     "start_time": "2024-09-22T10:54:14.624589Z"
    }
   },
   "cell_type": "code",
   "source": [
    "client = cdsapi.Client()\n",
    "\n",
    "dataset = 'reanalysis-era5-pressure-levels'\n",
    "request = {\n",
    "  'product_type': ['reanalysis'],\n",
    "  'variable': ['geopotential'],\n",
    "  'year': ['2024'],\n",
    "  'month': ['03'],\n",
    "  'day': ['01'],\n",
    "  'time': ['13:00'],\n",
    "  'pressure_level': ['1000'],\n",
    "  'data_format': 'grib',\n",
    "}\n",
    "target = 'download.grib'\n",
    "\n",
    "client.retrieve(dataset, request, target)"
   ],
   "id": "initial_id",
   "outputs": [
    {
     "ename": "HTTPError",
     "evalue": "403 Client Error: Forbidden for url: https://cds-beta.climate.copernicus.eu/api/retrieve/v1/processes/reanalysis-era5-pressure-levels/execution\nrequired licences not accepted\nrequired licences not accepted; please accept the following licences to proceed: [{'id': 'licence-to-use-copernicus-products', 'revision': 12}]",
     "output_type": "error",
     "traceback": [
      "\u001B[1;31m---------------------------------------------------------------------------\u001B[0m",
      "\u001B[1;31mHTTPError\u001B[0m                                 Traceback (most recent call last)",
      "Cell \u001B[1;32mIn[2], line 16\u001B[0m\n\u001B[0;32m      4\u001B[0m request \u001B[38;5;241m=\u001B[39m {\n\u001B[0;32m      5\u001B[0m   \u001B[38;5;124m'\u001B[39m\u001B[38;5;124mproduct_type\u001B[39m\u001B[38;5;124m'\u001B[39m: [\u001B[38;5;124m'\u001B[39m\u001B[38;5;124mreanalysis\u001B[39m\u001B[38;5;124m'\u001B[39m],\n\u001B[0;32m      6\u001B[0m   \u001B[38;5;124m'\u001B[39m\u001B[38;5;124mvariable\u001B[39m\u001B[38;5;124m'\u001B[39m: [\u001B[38;5;124m'\u001B[39m\u001B[38;5;124mgeopotential\u001B[39m\u001B[38;5;124m'\u001B[39m],\n\u001B[1;32m   (...)\u001B[0m\n\u001B[0;32m     12\u001B[0m   \u001B[38;5;124m'\u001B[39m\u001B[38;5;124mdata_format\u001B[39m\u001B[38;5;124m'\u001B[39m: \u001B[38;5;124m'\u001B[39m\u001B[38;5;124mgrib\u001B[39m\u001B[38;5;124m'\u001B[39m,\n\u001B[0;32m     13\u001B[0m }\n\u001B[0;32m     14\u001B[0m target \u001B[38;5;241m=\u001B[39m \u001B[38;5;124m'\u001B[39m\u001B[38;5;124mdownload.grib\u001B[39m\u001B[38;5;124m'\u001B[39m\n\u001B[1;32m---> 16\u001B[0m \u001B[43mclient\u001B[49m\u001B[38;5;241;43m.\u001B[39;49m\u001B[43mretrieve\u001B[49m\u001B[43m(\u001B[49m\u001B[43mdataset\u001B[49m\u001B[43m,\u001B[49m\u001B[43m \u001B[49m\u001B[43mrequest\u001B[49m\u001B[43m,\u001B[49m\u001B[43m \u001B[49m\u001B[43mtarget\u001B[49m\u001B[43m)\u001B[49m\n",
      "File \u001B[1;32m~\\Desktop\\programering\\masters-thesis\\venv\\Lib\\site-packages\\cads_api_client\\legacy_api_client.py:159\u001B[0m, in \u001B[0;36mLegacyApiClient.retrieve\u001B[1;34m(self, name, request, target)\u001B[0m\n\u001B[0;32m    157\u001B[0m submitted: processing\u001B[38;5;241m.\u001B[39mRemote \u001B[38;5;241m|\u001B[39m processing\u001B[38;5;241m.\u001B[39mResults\n\u001B[0;32m    158\u001B[0m \u001B[38;5;28;01mif\u001B[39;00m \u001B[38;5;28mself\u001B[39m\u001B[38;5;241m.\u001B[39mwait_until_complete:\n\u001B[1;32m--> 159\u001B[0m     submitted \u001B[38;5;241m=\u001B[39m \u001B[38;5;28;43mself\u001B[39;49m\u001B[38;5;241;43m.\u001B[39;49m\u001B[43mlogging_decorator\u001B[49m\u001B[43m(\u001B[49m\u001B[38;5;28;43mself\u001B[39;49m\u001B[38;5;241;43m.\u001B[39;49m\u001B[43mclient\u001B[49m\u001B[38;5;241;43m.\u001B[39;49m\u001B[43msubmit_and_wait_on_result\u001B[49m\u001B[43m)\u001B[49m\u001B[43m(\u001B[49m\n\u001B[0;32m    160\u001B[0m \u001B[43m        \u001B[49m\u001B[43mcollection_id\u001B[49m\u001B[38;5;241;43m=\u001B[39;49m\u001B[43mname\u001B[49m\u001B[43m,\u001B[49m\n\u001B[0;32m    161\u001B[0m \u001B[43m        \u001B[49m\u001B[38;5;241;43m*\u001B[39;49m\u001B[38;5;241;43m*\u001B[39;49m\u001B[43mrequest\u001B[49m\u001B[43m,\u001B[49m\n\u001B[0;32m    162\u001B[0m \u001B[43m    \u001B[49m\u001B[43m)\u001B[49m\n\u001B[0;32m    163\u001B[0m \u001B[38;5;28;01melse\u001B[39;00m:\n\u001B[0;32m    164\u001B[0m     submitted \u001B[38;5;241m=\u001B[39m \u001B[38;5;28mself\u001B[39m\u001B[38;5;241m.\u001B[39mlogging_decorator(\u001B[38;5;28mself\u001B[39m\u001B[38;5;241m.\u001B[39mclient\u001B[38;5;241m.\u001B[39msubmit)(\n\u001B[0;32m    165\u001B[0m         collection_id\u001B[38;5;241m=\u001B[39mname,\n\u001B[0;32m    166\u001B[0m         \u001B[38;5;241m*\u001B[39m\u001B[38;5;241m*\u001B[39mrequest,\n\u001B[0;32m    167\u001B[0m     )\n",
      "File \u001B[1;32m~\\Desktop\\programering\\masters-thesis\\venv\\Lib\\site-packages\\cads_api_client\\legacy_api_client.py:142\u001B[0m, in \u001B[0;36mLegacyApiClient.logging_decorator.<locals>.wrapper\u001B[1;34m(*args, **kwargs)\u001B[0m\n\u001B[0;32m    137\u001B[0m \u001B[38;5;129m@functools\u001B[39m\u001B[38;5;241m.\u001B[39mwraps(func)\n\u001B[0;32m    138\u001B[0m \u001B[38;5;28;01mdef\u001B[39;00m \u001B[38;5;21mwrapper\u001B[39m(\u001B[38;5;241m*\u001B[39margs: Any, \u001B[38;5;241m*\u001B[39m\u001B[38;5;241m*\u001B[39mkwargs: Any) \u001B[38;5;241m-\u001B[39m\u001B[38;5;241m>\u001B[39m Any:\n\u001B[0;32m    139\u001B[0m     \u001B[38;5;28;01mwith\u001B[39;00m LoggingContext(\n\u001B[0;32m    140\u001B[0m         logger\u001B[38;5;241m=\u001B[39mprocessing\u001B[38;5;241m.\u001B[39mlogger, quiet\u001B[38;5;241m=\u001B[39m\u001B[38;5;28mself\u001B[39m\u001B[38;5;241m.\u001B[39mquiet, debug\u001B[38;5;241m=\u001B[39m\u001B[38;5;28mself\u001B[39m\u001B[38;5;241m.\u001B[39m_debug\n\u001B[0;32m    141\u001B[0m     ):\n\u001B[1;32m--> 142\u001B[0m         \u001B[38;5;28;01mreturn\u001B[39;00m \u001B[43mfunc\u001B[49m\u001B[43m(\u001B[49m\u001B[38;5;241;43m*\u001B[39;49m\u001B[43margs\u001B[49m\u001B[43m,\u001B[49m\u001B[43m \u001B[49m\u001B[38;5;241;43m*\u001B[39;49m\u001B[38;5;241;43m*\u001B[39;49m\u001B[43mkwargs\u001B[49m\u001B[43m)\u001B[49m\n",
      "File \u001B[1;32m~\\Desktop\\programering\\masters-thesis\\venv\\Lib\\site-packages\\cads_api_client\\api_client.py:132\u001B[0m, in \u001B[0;36mApiClient.submit_and_wait_on_result\u001B[1;34m(self, collection_id, **request)\u001B[0m\n\u001B[0;32m    129\u001B[0m \u001B[38;5;28;01mdef\u001B[39;00m \u001B[38;5;21msubmit_and_wait_on_result\u001B[39m(\n\u001B[0;32m    130\u001B[0m     \u001B[38;5;28mself\u001B[39m, collection_id: \u001B[38;5;28mstr\u001B[39m, \u001B[38;5;241m*\u001B[39m\u001B[38;5;241m*\u001B[39mrequest: Any\n\u001B[0;32m    131\u001B[0m ) \u001B[38;5;241m-\u001B[39m\u001B[38;5;241m>\u001B[39m processing\u001B[38;5;241m.\u001B[39mResults:\n\u001B[1;32m--> 132\u001B[0m     \u001B[38;5;28;01mreturn\u001B[39;00m \u001B[38;5;28;43mself\u001B[39;49m\u001B[38;5;241;43m.\u001B[39;49m\u001B[43mretrieve_api\u001B[49m\u001B[38;5;241;43m.\u001B[39;49m\u001B[43msubmit_and_wait_on_result\u001B[49m\u001B[43m(\u001B[49m\u001B[43mcollection_id\u001B[49m\u001B[43m,\u001B[49m\u001B[43m \u001B[49m\u001B[38;5;241;43m*\u001B[39;49m\u001B[38;5;241;43m*\u001B[39;49m\u001B[43mrequest\u001B[49m\u001B[43m)\u001B[49m\n",
      "File \u001B[1;32m~\\Desktop\\programering\\masters-thesis\\venv\\Lib\\site-packages\\cads_api_client\\processing.py:555\u001B[0m, in \u001B[0;36mProcessing.submit_and_wait_on_result\u001B[1;34m(self, collection_id, **request)\u001B[0m\n\u001B[0;32m    554\u001B[0m \u001B[38;5;28;01mdef\u001B[39;00m \u001B[38;5;21msubmit_and_wait_on_result\u001B[39m(\u001B[38;5;28mself\u001B[39m, collection_id: \u001B[38;5;28mstr\u001B[39m, \u001B[38;5;241m*\u001B[39m\u001B[38;5;241m*\u001B[39mrequest: Any) \u001B[38;5;241m-\u001B[39m\u001B[38;5;241m>\u001B[39m Results:\n\u001B[1;32m--> 555\u001B[0m     remote \u001B[38;5;241m=\u001B[39m \u001B[38;5;28;43mself\u001B[39;49m\u001B[38;5;241;43m.\u001B[39;49m\u001B[43msubmit\u001B[49m\u001B[43m(\u001B[49m\u001B[43mcollection_id\u001B[49m\u001B[43m,\u001B[49m\u001B[43m \u001B[49m\u001B[38;5;241;43m*\u001B[39;49m\u001B[38;5;241;43m*\u001B[39;49m\u001B[43mrequest\u001B[49m\u001B[43m)\u001B[49m\n\u001B[0;32m    556\u001B[0m     remote\u001B[38;5;241m.\u001B[39mwait_on_result()\n\u001B[0;32m    557\u001B[0m     \u001B[38;5;28;01mreturn\u001B[39;00m remote\u001B[38;5;241m.\u001B[39mmake_results()\n",
      "File \u001B[1;32m~\\Desktop\\programering\\masters-thesis\\venv\\Lib\\site-packages\\cads_api_client\\processing.py:551\u001B[0m, in \u001B[0;36mProcessing.submit\u001B[1;34m(self, collection_id, **request)\u001B[0m\n\u001B[0;32m    550\u001B[0m \u001B[38;5;28;01mdef\u001B[39;00m \u001B[38;5;21msubmit\u001B[39m(\u001B[38;5;28mself\u001B[39m, collection_id: \u001B[38;5;28mstr\u001B[39m, \u001B[38;5;241m*\u001B[39m\u001B[38;5;241m*\u001B[39mrequest: Any) \u001B[38;5;241m-\u001B[39m\u001B[38;5;241m>\u001B[39m Remote:\n\u001B[1;32m--> 551\u001B[0m     status_info \u001B[38;5;241m=\u001B[39m \u001B[38;5;28;43mself\u001B[39;49m\u001B[38;5;241;43m.\u001B[39;49m\u001B[43mprocess_execute\u001B[49m\u001B[43m(\u001B[49m\u001B[43mcollection_id\u001B[49m\u001B[43m,\u001B[49m\u001B[43m \u001B[49m\u001B[43mrequest\u001B[49m\u001B[43m)\u001B[49m\n\u001B[0;32m    552\u001B[0m     \u001B[38;5;28;01mreturn\u001B[39;00m status_info\u001B[38;5;241m.\u001B[39mmake_remote()\n",
      "File \u001B[1;32m~\\Desktop\\programering\\masters-thesis\\venv\\Lib\\site-packages\\cads_api_client\\processing.py:532\u001B[0m, in \u001B[0;36mProcessing.process_execute\u001B[1;34m(self, process_id, inputs)\u001B[0m\n\u001B[0;32m    526\u001B[0m \u001B[38;5;28;01mdef\u001B[39;00m \u001B[38;5;21mprocess_execute\u001B[39m(\n\u001B[0;32m    527\u001B[0m     \u001B[38;5;28mself\u001B[39m,\n\u001B[0;32m    528\u001B[0m     process_id: \u001B[38;5;28mstr\u001B[39m,\n\u001B[0;32m    529\u001B[0m     inputs: \u001B[38;5;28mdict\u001B[39m[\u001B[38;5;28mstr\u001B[39m, Any],\n\u001B[0;32m    530\u001B[0m ) \u001B[38;5;241m-\u001B[39m\u001B[38;5;241m>\u001B[39m StatusInfo:\n\u001B[0;32m    531\u001B[0m     url \u001B[38;5;241m=\u001B[39m \u001B[38;5;124mf\u001B[39m\u001B[38;5;124m\"\u001B[39m\u001B[38;5;132;01m{\u001B[39;00m\u001B[38;5;28mself\u001B[39m\u001B[38;5;241m.\u001B[39murl\u001B[38;5;132;01m}\u001B[39;00m\u001B[38;5;124m/processes/\u001B[39m\u001B[38;5;132;01m{\u001B[39;00mprocess_id\u001B[38;5;132;01m}\u001B[39;00m\u001B[38;5;124m/execution\u001B[39m\u001B[38;5;124m\"\u001B[39m\n\u001B[1;32m--> 532\u001B[0m     \u001B[38;5;28;01mreturn\u001B[39;00m \u001B[43mStatusInfo\u001B[49m\u001B[38;5;241;43m.\u001B[39;49m\u001B[43mfrom_request\u001B[49m\u001B[43m(\u001B[49m\n\u001B[0;32m    533\u001B[0m \u001B[43m        \u001B[49m\u001B[38;5;124;43m\"\u001B[39;49m\u001B[38;5;124;43mpost\u001B[39;49m\u001B[38;5;124;43m\"\u001B[39;49m\u001B[43m,\u001B[49m\u001B[43m \u001B[49m\u001B[43murl\u001B[49m\u001B[43m,\u001B[49m\u001B[43m \u001B[49m\u001B[43mjson\u001B[49m\u001B[38;5;241;43m=\u001B[39;49m\u001B[43m{\u001B[49m\u001B[38;5;124;43m\"\u001B[39;49m\u001B[38;5;124;43minputs\u001B[39;49m\u001B[38;5;124;43m\"\u001B[39;49m\u001B[43m:\u001B[49m\u001B[43m \u001B[49m\u001B[43minputs\u001B[49m\u001B[43m}\u001B[49m\u001B[43m,\u001B[49m\u001B[43m \u001B[49m\u001B[38;5;241;43m*\u001B[39;49m\u001B[38;5;241;43m*\u001B[39;49m\u001B[38;5;28;43mself\u001B[39;49m\u001B[38;5;241;43m.\u001B[39;49m\u001B[43mrequest_kwargs\u001B[49m\n\u001B[0;32m    534\u001B[0m \u001B[43m    \u001B[49m\u001B[43m)\u001B[49m\n",
      "File \u001B[1;32m~\\Desktop\\programering\\masters-thesis\\venv\\Lib\\site-packages\\cads_api_client\\processing.py:133\u001B[0m, in \u001B[0;36mApiResponse.from_request\u001B[1;34m(cls, method, url, headers, session, retry_options, request_options, download_options, sleep_max, cleanup, **kwargs)\u001B[0m\n\u001B[0;32m    128\u001B[0m response \u001B[38;5;241m=\u001B[39m robust_request(\n\u001B[0;32m    129\u001B[0m     method, url, headers\u001B[38;5;241m=\u001B[39mheaders, \u001B[38;5;241m*\u001B[39m\u001B[38;5;241m*\u001B[39mrequest_options, \u001B[38;5;241m*\u001B[39m\u001B[38;5;241m*\u001B[39mkwargs\n\u001B[0;32m    130\u001B[0m )\n\u001B[0;32m    131\u001B[0m logger\u001B[38;5;241m.\u001B[39mdebug(\u001B[38;5;124mf\u001B[39m\u001B[38;5;124m\"\u001B[39m\u001B[38;5;124mREPLY \u001B[39m\u001B[38;5;132;01m{\u001B[39;00mresponse\u001B[38;5;241m.\u001B[39mtext\u001B[38;5;132;01m}\u001B[39;00m\u001B[38;5;124m\"\u001B[39m)\n\u001B[1;32m--> 133\u001B[0m \u001B[43mcads_raise_for_status\u001B[49m\u001B[43m(\u001B[49m\u001B[43mresponse\u001B[49m\u001B[43m)\u001B[49m\n\u001B[0;32m    135\u001B[0m \u001B[38;5;28mself\u001B[39m \u001B[38;5;241m=\u001B[39m \u001B[38;5;28mcls\u001B[39m(\n\u001B[0;32m    136\u001B[0m     response,\n\u001B[0;32m    137\u001B[0m     headers\u001B[38;5;241m=\u001B[39mheaders,\n\u001B[1;32m   (...)\u001B[0m\n\u001B[0;32m    143\u001B[0m     cleanup\u001B[38;5;241m=\u001B[39mcleanup,\n\u001B[0;32m    144\u001B[0m )\n\u001B[0;32m    145\u001B[0m \u001B[38;5;28mself\u001B[39m\u001B[38;5;241m.\u001B[39mlog_messages()\n",
      "File \u001B[1;32m~\\Desktop\\programering\\masters-thesis\\venv\\Lib\\site-packages\\cads_api_client\\processing.py:71\u001B[0m, in \u001B[0;36mcads_raise_for_status\u001B[1;34m(response)\u001B[0m\n\u001B[0;32m     64\u001B[0m     \u001B[38;5;28;01melse\u001B[39;00m:\n\u001B[0;32m     65\u001B[0m         message \u001B[38;5;241m=\u001B[39m \u001B[38;5;124m\"\u001B[39m\u001B[38;5;130;01m\\n\u001B[39;00m\u001B[38;5;124m\"\u001B[39m\u001B[38;5;241m.\u001B[39mjoin(\n\u001B[0;32m     66\u001B[0m             [\n\u001B[0;32m     67\u001B[0m                 \u001B[38;5;124mf\u001B[39m\u001B[38;5;124m\"\u001B[39m\u001B[38;5;132;01m{\u001B[39;00mresponse\u001B[38;5;241m.\u001B[39mstatus_code\u001B[38;5;132;01m}\u001B[39;00m\u001B[38;5;124m Client Error: \u001B[39m\u001B[38;5;132;01m{\u001B[39;00mresponse\u001B[38;5;241m.\u001B[39mreason\u001B[38;5;132;01m}\u001B[39;00m\u001B[38;5;124m for url: \u001B[39m\u001B[38;5;132;01m{\u001B[39;00mresponse\u001B[38;5;241m.\u001B[39murl\u001B[38;5;132;01m}\u001B[39;00m\u001B[38;5;124m\"\u001B[39m,\n\u001B[0;32m     68\u001B[0m                 error_json_to_message(error_json),\n\u001B[0;32m     69\u001B[0m             ]\n\u001B[0;32m     70\u001B[0m         )\n\u001B[1;32m---> 71\u001B[0m         \u001B[38;5;28;01mraise\u001B[39;00m requests\u001B[38;5;241m.\u001B[39mexceptions\u001B[38;5;241m.\u001B[39mHTTPError(message, response\u001B[38;5;241m=\u001B[39mresponse)\n\u001B[0;32m     72\u001B[0m response\u001B[38;5;241m.\u001B[39mraise_for_status()\n",
      "\u001B[1;31mHTTPError\u001B[0m: 403 Client Error: Forbidden for url: https://cds-beta.climate.copernicus.eu/api/retrieve/v1/processes/reanalysis-era5-pressure-levels/execution\nrequired licences not accepted\nrequired licences not accepted; please accept the following licences to proceed: [{'id': 'licence-to-use-copernicus-products', 'revision': 12}]"
     ]
    }
   ],
   "execution_count": 2
  },
  {
   "metadata": {},
   "cell_type": "code",
   "outputs": [],
   "execution_count": null,
   "source": "",
   "id": "bcc4b2b8162abf90"
  }
 ],
 "metadata": {
  "kernelspec": {
   "display_name": "Python 3",
   "language": "python",
   "name": "python3"
  },
  "language_info": {
   "codemirror_mode": {
    "name": "ipython",
    "version": 2
   },
   "file_extension": ".py",
   "mimetype": "text/x-python",
   "name": "python",
   "nbconvert_exporter": "python",
   "pygments_lexer": "ipython2",
   "version": "2.7.6"
  }
 },
 "nbformat": 4,
 "nbformat_minor": 5
}
