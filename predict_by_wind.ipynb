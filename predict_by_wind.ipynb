{
 "cells": [
  {
   "cell_type": "code",
   "id": "initial_id",
   "metadata": {
    "collapsed": true,
    "ExecuteTime": {
     "end_time": "2024-10-04T12:19:19.031231Z",
     "start_time": "2024-10-04T12:19:12.509689Z"
    }
   },
   "source": [
    "import numpy as np\n",
    "import pandas as pd\n",
    "\n",
    "import torch\n",
    "import torch.nn as nn\n",
    "import torch.optim as optim\n",
    "from torch.utils.data import TensorDataset, DataLoader\n",
    "\n",
    "from traffic.core import Traffic\n",
    "\n",
    "from sklearn.model_selection import train_test_split\n",
    "\n",
    "from matplotlib import pyplot as plt\n",
    "from datetime import datetime\n",
    "\n",
    "from functions.data_filtering import complete_flight_filter, filter_flights, filter_by_bools\n",
    "from functions.data_processing import get_takeoff_and_landing_directions, prepare_wind_data\n",
    "from functions.data_loading import get_filtered_data_range, get_wind_direction\n",
    "\n",
    "device = (torch.device('cuda')\n",
    "          if torch.cuda.is_available()\n",
    "          else torch.device('cpu'))"
   ],
   "outputs": [],
   "execution_count": 1
  },
  {
   "metadata": {
    "ExecuteTime": {
     "end_time": "2024-10-04T12:19:26.620101Z",
     "start_time": "2024-10-04T12:19:19.039562Z"
    }
   },
   "cell_type": "code",
   "source": [
    "origin = \"bergen\"\n",
    "destination = \"oslo\"\n",
    "filtered_flights: Traffic = get_filtered_data_range(origin, destination, datetime(year=2023, month=1, day=1), datetime(year=2024, month=1, day=1), complete_flight_filter(origin, destination))"
   ],
   "id": "75b30a136653623",
   "outputs": [],
   "execution_count": 2
  },
  {
   "metadata": {
    "ExecuteTime": {
     "end_time": "2024-10-04T12:35:24.999068Z",
     "start_time": "2024-10-04T12:35:11.295170Z"
    }
   },
   "cell_type": "code",
   "source": [
    "directions = list(get_takeoff_and_landing_directions(filtered_flights))\n",
    "dataset = pd.DataFrame(directions)\n",
    "dataset.rename({0: \"start_time\",  1: \"end_time\", 2: \"start_direction\", 3: \"end_direction\"}, axis=1, inplace=True)\n",
    "dataset['start_x'], dataset['start_y']  = np.sin(dataset['start_direction']), np.cos(dataset['start_direction'])\n",
    "dataset['end_x'], dataset['end_y'] = np.sin(dataset['end_direction']), np.cos(dataset['end_direction'])\n",
    "dataset['start_time'] = pd.to_datetime(dataset['start_time']).dt.round(\"s\")\n",
    "dataset['end_time'] = pd.to_datetime(dataset['end_time']).dt.round(\"s\")\n",
    "dataset['start_label'] = ((np.sign(dataset['start_y']) + 1) // 2).astype(int)\n",
    "dataset['end_label'] = ((np.sign(dataset['end_y']) + 1) // 2).astype(int)"
   ],
   "id": "19de2a458f4320f7",
   "outputs": [],
   "execution_count": 11
  },
  {
   "metadata": {
    "ExecuteTime": {
     "end_time": "2024-10-04T12:35:25.019910Z",
     "start_time": "2024-10-04T12:35:25.005252Z"
    }
   },
   "cell_type": "code",
   "source": "dataset",
   "id": "4c3ad4b03148f495",
   "outputs": [
    {
     "data": {
      "text/plain": [
       "                    start_time                  end_time  start_direction  \\\n",
       "0    2023-02-07 20:44:04+00:00 2023-02-07 21:30:00+00:00         2.936878   \n",
       "1    2023-06-21 04:15:14+00:00 2023-06-21 04:50:10+00:00         2.968032   \n",
       "2    2023-06-25 07:02:26+00:00 2023-06-25 07:36:04+00:00         2.968032   \n",
       "3    2023-03-04 08:21:18+00:00 2023-03-04 08:55:38+00:00         6.125815   \n",
       "4    2023-11-29 08:38:32+00:00 2023-11-29 09:18:40+00:00         6.108513   \n",
       "...                        ...                       ...              ...   \n",
       "3214 2023-09-03 16:10:32+00:00 2023-09-03 16:44:30+00:00         2.984176   \n",
       "3215 2023-06-25 09:23:36+00:00 2023-06-25 09:58:28+00:00         2.969402   \n",
       "3216 2023-10-28 14:57:24+00:00 2023-10-28 15:33:56+00:00         2.978186   \n",
       "3217 2023-06-22 08:11:52+00:00 2023-06-22 08:47:14+00:00         2.968170   \n",
       "3218 2023-06-22 18:15:00+00:00 2023-06-22 18:48:04+00:00         2.970354   \n",
       "\n",
       "      end_direction   start_x   start_y     end_x     end_y  start_label  \\\n",
       "0          3.423365  0.203288 -0.979119 -0.278058 -0.960564            0   \n",
       "1          0.270153  0.172691 -0.984976  0.266879  0.963730            0   \n",
       "2          3.425084  0.172691 -0.984976 -0.279710 -0.960085            0   \n",
       "3          0.275272 -0.156721  0.987643  0.271809  0.962351            1   \n",
       "4          0.276035 -0.173785  0.984784  0.272543  0.962144            1   \n",
       "...             ...       ...       ...       ...       ...          ...   \n",
       "3214       3.422004  0.156768 -0.987636 -0.276751 -0.960942            0   \n",
       "3215       3.421892  0.171341 -0.985212 -0.276644 -0.960973            0   \n",
       "3216       0.290734  0.162680 -0.986679  0.286656  0.958034            0   \n",
       "3217       3.421892  0.172555 -0.985000 -0.276644 -0.960973            0   \n",
       "3218       3.423164  0.170403 -0.985374 -0.277865 -0.960620            0   \n",
       "\n",
       "      end_label  \n",
       "0             0  \n",
       "1             1  \n",
       "2             0  \n",
       "3             1  \n",
       "4             1  \n",
       "...         ...  \n",
       "3214          0  \n",
       "3215          0  \n",
       "3216          1  \n",
       "3217          0  \n",
       "3218          0  \n",
       "\n",
       "[3219 rows x 10 columns]"
      ],
      "text/html": [
       "<div>\n",
       "<style scoped>\n",
       "    .dataframe tbody tr th:only-of-type {\n",
       "        vertical-align: middle;\n",
       "    }\n",
       "\n",
       "    .dataframe tbody tr th {\n",
       "        vertical-align: top;\n",
       "    }\n",
       "\n",
       "    .dataframe thead th {\n",
       "        text-align: right;\n",
       "    }\n",
       "</style>\n",
       "<table border=\"1\" class=\"dataframe\">\n",
       "  <thead>\n",
       "    <tr style=\"text-align: right;\">\n",
       "      <th></th>\n",
       "      <th>start_time</th>\n",
       "      <th>end_time</th>\n",
       "      <th>start_direction</th>\n",
       "      <th>end_direction</th>\n",
       "      <th>start_x</th>\n",
       "      <th>start_y</th>\n",
       "      <th>end_x</th>\n",
       "      <th>end_y</th>\n",
       "      <th>start_label</th>\n",
       "      <th>end_label</th>\n",
       "    </tr>\n",
       "  </thead>\n",
       "  <tbody>\n",
       "    <tr>\n",
       "      <th>0</th>\n",
       "      <td>2023-02-07 20:44:04+00:00</td>\n",
       "      <td>2023-02-07 21:30:00+00:00</td>\n",
       "      <td>2.936878</td>\n",
       "      <td>3.423365</td>\n",
       "      <td>0.203288</td>\n",
       "      <td>-0.979119</td>\n",
       "      <td>-0.278058</td>\n",
       "      <td>-0.960564</td>\n",
       "      <td>0</td>\n",
       "      <td>0</td>\n",
       "    </tr>\n",
       "    <tr>\n",
       "      <th>1</th>\n",
       "      <td>2023-06-21 04:15:14+00:00</td>\n",
       "      <td>2023-06-21 04:50:10+00:00</td>\n",
       "      <td>2.968032</td>\n",
       "      <td>0.270153</td>\n",
       "      <td>0.172691</td>\n",
       "      <td>-0.984976</td>\n",
       "      <td>0.266879</td>\n",
       "      <td>0.963730</td>\n",
       "      <td>0</td>\n",
       "      <td>1</td>\n",
       "    </tr>\n",
       "    <tr>\n",
       "      <th>2</th>\n",
       "      <td>2023-06-25 07:02:26+00:00</td>\n",
       "      <td>2023-06-25 07:36:04+00:00</td>\n",
       "      <td>2.968032</td>\n",
       "      <td>3.425084</td>\n",
       "      <td>0.172691</td>\n",
       "      <td>-0.984976</td>\n",
       "      <td>-0.279710</td>\n",
       "      <td>-0.960085</td>\n",
       "      <td>0</td>\n",
       "      <td>0</td>\n",
       "    </tr>\n",
       "    <tr>\n",
       "      <th>3</th>\n",
       "      <td>2023-03-04 08:21:18+00:00</td>\n",
       "      <td>2023-03-04 08:55:38+00:00</td>\n",
       "      <td>6.125815</td>\n",
       "      <td>0.275272</td>\n",
       "      <td>-0.156721</td>\n",
       "      <td>0.987643</td>\n",
       "      <td>0.271809</td>\n",
       "      <td>0.962351</td>\n",
       "      <td>1</td>\n",
       "      <td>1</td>\n",
       "    </tr>\n",
       "    <tr>\n",
       "      <th>4</th>\n",
       "      <td>2023-11-29 08:38:32+00:00</td>\n",
       "      <td>2023-11-29 09:18:40+00:00</td>\n",
       "      <td>6.108513</td>\n",
       "      <td>0.276035</td>\n",
       "      <td>-0.173785</td>\n",
       "      <td>0.984784</td>\n",
       "      <td>0.272543</td>\n",
       "      <td>0.962144</td>\n",
       "      <td>1</td>\n",
       "      <td>1</td>\n",
       "    </tr>\n",
       "    <tr>\n",
       "      <th>...</th>\n",
       "      <td>...</td>\n",
       "      <td>...</td>\n",
       "      <td>...</td>\n",
       "      <td>...</td>\n",
       "      <td>...</td>\n",
       "      <td>...</td>\n",
       "      <td>...</td>\n",
       "      <td>...</td>\n",
       "      <td>...</td>\n",
       "      <td>...</td>\n",
       "    </tr>\n",
       "    <tr>\n",
       "      <th>3214</th>\n",
       "      <td>2023-09-03 16:10:32+00:00</td>\n",
       "      <td>2023-09-03 16:44:30+00:00</td>\n",
       "      <td>2.984176</td>\n",
       "      <td>3.422004</td>\n",
       "      <td>0.156768</td>\n",
       "      <td>-0.987636</td>\n",
       "      <td>-0.276751</td>\n",
       "      <td>-0.960942</td>\n",
       "      <td>0</td>\n",
       "      <td>0</td>\n",
       "    </tr>\n",
       "    <tr>\n",
       "      <th>3215</th>\n",
       "      <td>2023-06-25 09:23:36+00:00</td>\n",
       "      <td>2023-06-25 09:58:28+00:00</td>\n",
       "      <td>2.969402</td>\n",
       "      <td>3.421892</td>\n",
       "      <td>0.171341</td>\n",
       "      <td>-0.985212</td>\n",
       "      <td>-0.276644</td>\n",
       "      <td>-0.960973</td>\n",
       "      <td>0</td>\n",
       "      <td>0</td>\n",
       "    </tr>\n",
       "    <tr>\n",
       "      <th>3216</th>\n",
       "      <td>2023-10-28 14:57:24+00:00</td>\n",
       "      <td>2023-10-28 15:33:56+00:00</td>\n",
       "      <td>2.978186</td>\n",
       "      <td>0.290734</td>\n",
       "      <td>0.162680</td>\n",
       "      <td>-0.986679</td>\n",
       "      <td>0.286656</td>\n",
       "      <td>0.958034</td>\n",
       "      <td>0</td>\n",
       "      <td>1</td>\n",
       "    </tr>\n",
       "    <tr>\n",
       "      <th>3217</th>\n",
       "      <td>2023-06-22 08:11:52+00:00</td>\n",
       "      <td>2023-06-22 08:47:14+00:00</td>\n",
       "      <td>2.968170</td>\n",
       "      <td>3.421892</td>\n",
       "      <td>0.172555</td>\n",
       "      <td>-0.985000</td>\n",
       "      <td>-0.276644</td>\n",
       "      <td>-0.960973</td>\n",
       "      <td>0</td>\n",
       "      <td>0</td>\n",
       "    </tr>\n",
       "    <tr>\n",
       "      <th>3218</th>\n",
       "      <td>2023-06-22 18:15:00+00:00</td>\n",
       "      <td>2023-06-22 18:48:04+00:00</td>\n",
       "      <td>2.970354</td>\n",
       "      <td>3.423164</td>\n",
       "      <td>0.170403</td>\n",
       "      <td>-0.985374</td>\n",
       "      <td>-0.277865</td>\n",
       "      <td>-0.960620</td>\n",
       "      <td>0</td>\n",
       "      <td>0</td>\n",
       "    </tr>\n",
       "  </tbody>\n",
       "</table>\n",
       "<p>3219 rows × 10 columns</p>\n",
       "</div>"
      ]
     },
     "execution_count": 12,
     "metadata": {},
     "output_type": "execute_result"
    }
   ],
   "execution_count": 12
  },
  {
   "metadata": {
    "ExecuteTime": {
     "end_time": "2024-10-04T12:19:57.528643Z",
     "start_time": "2024-10-04T12:19:43.857030Z"
    }
   },
   "cell_type": "code",
   "source": [
    "gardermoen = get_wind_direction(\"GARDERMOEN\")\n",
    "wind_data = prepare_wind_data(gardermoen)"
   ],
   "id": "8b9b35e82a03ebe1",
   "outputs": [],
   "execution_count": 4
  },
  {
   "metadata": {
    "ExecuteTime": {
     "end_time": "2024-10-04T12:50:44.226420Z",
     "start_time": "2024-10-04T12:50:44.219122Z"
    }
   },
   "cell_type": "code",
   "source": "wind_data",
   "id": "53b3afa504f407a7",
   "outputs": [
    {
     "data": {
      "text/plain": [
       "                           wind_direction  wind_speed         x         y  \\\n",
       "time                                                                        \n",
       "2023-01-01 00:00:00+00:00        0.750492    1.200000  0.681998  0.731354   \n",
       "2023-01-01 00:00:01+00:00        0.749575    1.201167  0.681328  0.731978   \n",
       "2023-01-01 00:00:02+00:00        0.748659    1.202333  0.680657  0.732602   \n",
       "2023-01-01 00:00:03+00:00        0.747743    1.203500  0.679985  0.733226   \n",
       "2023-01-01 00:00:04+00:00        0.746826    1.204667  0.679313  0.733848   \n",
       "...                                   ...         ...       ...       ...   \n",
       "2023-12-31 23:49:56+00:00        0.872277    5.100000  0.765795  0.643085   \n",
       "2023-12-31 23:49:57+00:00        0.872374    5.100000  0.765857  0.643010   \n",
       "2023-12-31 23:49:58+00:00        0.872471    5.100000  0.765920  0.642936   \n",
       "2023-12-31 23:49:59+00:00        0.872568    5.100000  0.765982  0.642862   \n",
       "2023-12-31 23:50:00+00:00        0.872665    5.100000  0.766044  0.642788   \n",
       "\n",
       "                           x_scaled  y_scaled  \n",
       "time                                           \n",
       "2023-01-01 00:00:00+00:00  0.818398  0.877624  \n",
       "2023-01-01 00:00:01+00:00  0.818388  0.879228  \n",
       "2023-01-01 00:00:02+00:00  0.818377  0.880832  \n",
       "2023-01-01 00:00:03+00:00  0.818362  0.882437  \n",
       "2023-01-01 00:00:04+00:00  0.818346  0.884043  \n",
       "...                             ...       ...  \n",
       "2023-12-31 23:49:56+00:00  3.905555  3.279732  \n",
       "2023-12-31 23:49:57+00:00  3.905873  3.279353  \n",
       "2023-12-31 23:49:58+00:00  3.906191  3.278974  \n",
       "2023-12-31 23:49:59+00:00  3.906509  3.278596  \n",
       "2023-12-31 23:50:00+00:00  3.906827  3.278217  \n",
       "\n",
       "[31535401 rows x 6 columns]"
      ],
      "text/html": [
       "<div>\n",
       "<style scoped>\n",
       "    .dataframe tbody tr th:only-of-type {\n",
       "        vertical-align: middle;\n",
       "    }\n",
       "\n",
       "    .dataframe tbody tr th {\n",
       "        vertical-align: top;\n",
       "    }\n",
       "\n",
       "    .dataframe thead th {\n",
       "        text-align: right;\n",
       "    }\n",
       "</style>\n",
       "<table border=\"1\" class=\"dataframe\">\n",
       "  <thead>\n",
       "    <tr style=\"text-align: right;\">\n",
       "      <th></th>\n",
       "      <th>wind_direction</th>\n",
       "      <th>wind_speed</th>\n",
       "      <th>x</th>\n",
       "      <th>y</th>\n",
       "      <th>x_scaled</th>\n",
       "      <th>y_scaled</th>\n",
       "    </tr>\n",
       "    <tr>\n",
       "      <th>time</th>\n",
       "      <th></th>\n",
       "      <th></th>\n",
       "      <th></th>\n",
       "      <th></th>\n",
       "      <th></th>\n",
       "      <th></th>\n",
       "    </tr>\n",
       "  </thead>\n",
       "  <tbody>\n",
       "    <tr>\n",
       "      <th>2023-01-01 00:00:00+00:00</th>\n",
       "      <td>0.750492</td>\n",
       "      <td>1.200000</td>\n",
       "      <td>0.681998</td>\n",
       "      <td>0.731354</td>\n",
       "      <td>0.818398</td>\n",
       "      <td>0.877624</td>\n",
       "    </tr>\n",
       "    <tr>\n",
       "      <th>2023-01-01 00:00:01+00:00</th>\n",
       "      <td>0.749575</td>\n",
       "      <td>1.201167</td>\n",
       "      <td>0.681328</td>\n",
       "      <td>0.731978</td>\n",
       "      <td>0.818388</td>\n",
       "      <td>0.879228</td>\n",
       "    </tr>\n",
       "    <tr>\n",
       "      <th>2023-01-01 00:00:02+00:00</th>\n",
       "      <td>0.748659</td>\n",
       "      <td>1.202333</td>\n",
       "      <td>0.680657</td>\n",
       "      <td>0.732602</td>\n",
       "      <td>0.818377</td>\n",
       "      <td>0.880832</td>\n",
       "    </tr>\n",
       "    <tr>\n",
       "      <th>2023-01-01 00:00:03+00:00</th>\n",
       "      <td>0.747743</td>\n",
       "      <td>1.203500</td>\n",
       "      <td>0.679985</td>\n",
       "      <td>0.733226</td>\n",
       "      <td>0.818362</td>\n",
       "      <td>0.882437</td>\n",
       "    </tr>\n",
       "    <tr>\n",
       "      <th>2023-01-01 00:00:04+00:00</th>\n",
       "      <td>0.746826</td>\n",
       "      <td>1.204667</td>\n",
       "      <td>0.679313</td>\n",
       "      <td>0.733848</td>\n",
       "      <td>0.818346</td>\n",
       "      <td>0.884043</td>\n",
       "    </tr>\n",
       "    <tr>\n",
       "      <th>...</th>\n",
       "      <td>...</td>\n",
       "      <td>...</td>\n",
       "      <td>...</td>\n",
       "      <td>...</td>\n",
       "      <td>...</td>\n",
       "      <td>...</td>\n",
       "    </tr>\n",
       "    <tr>\n",
       "      <th>2023-12-31 23:49:56+00:00</th>\n",
       "      <td>0.872277</td>\n",
       "      <td>5.100000</td>\n",
       "      <td>0.765795</td>\n",
       "      <td>0.643085</td>\n",
       "      <td>3.905555</td>\n",
       "      <td>3.279732</td>\n",
       "    </tr>\n",
       "    <tr>\n",
       "      <th>2023-12-31 23:49:57+00:00</th>\n",
       "      <td>0.872374</td>\n",
       "      <td>5.100000</td>\n",
       "      <td>0.765857</td>\n",
       "      <td>0.643010</td>\n",
       "      <td>3.905873</td>\n",
       "      <td>3.279353</td>\n",
       "    </tr>\n",
       "    <tr>\n",
       "      <th>2023-12-31 23:49:58+00:00</th>\n",
       "      <td>0.872471</td>\n",
       "      <td>5.100000</td>\n",
       "      <td>0.765920</td>\n",
       "      <td>0.642936</td>\n",
       "      <td>3.906191</td>\n",
       "      <td>3.278974</td>\n",
       "    </tr>\n",
       "    <tr>\n",
       "      <th>2023-12-31 23:49:59+00:00</th>\n",
       "      <td>0.872568</td>\n",
       "      <td>5.100000</td>\n",
       "      <td>0.765982</td>\n",
       "      <td>0.642862</td>\n",
       "      <td>3.906509</td>\n",
       "      <td>3.278596</td>\n",
       "    </tr>\n",
       "    <tr>\n",
       "      <th>2023-12-31 23:50:00+00:00</th>\n",
       "      <td>0.872665</td>\n",
       "      <td>5.100000</td>\n",
       "      <td>0.766044</td>\n",
       "      <td>0.642788</td>\n",
       "      <td>3.906827</td>\n",
       "      <td>3.278217</td>\n",
       "    </tr>\n",
       "  </tbody>\n",
       "</table>\n",
       "<p>31535401 rows × 6 columns</p>\n",
       "</div>"
      ]
     },
     "execution_count": 13,
     "metadata": {},
     "output_type": "execute_result"
    }
   ],
   "execution_count": 13
  },
  {
   "metadata": {
    "ExecuteTime": {
     "end_time": "2024-10-04T12:50:53.562297Z",
     "start_time": "2024-10-04T12:50:44.992936Z"
    }
   },
   "cell_type": "code",
   "source": [
    "merged_start = pd.merge(wind_data, dataset, how=\"right\", left_on=\"time\", right_on=\"start_time\")\n",
    "merged_end = pd.merge(wind_data, dataset, how=\"right\", left_on=\"time\", right_on=\"end_time\")\n",
    "final_dataset = pd.DataFrame({\n",
    "    'start_wind_x': merged_start['x'],\n",
    "    'start_wind_y': merged_start['y'],\n",
    "    'start_wind_speed': merged_start['wind_speed'],\n",
    "    'end_wind_x': merged_end['x'],\n",
    "    'end_wind_y': merged_end['y'],\n",
    "    'end_wind_speed': merged_end['wind_speed'],\n",
    "    'start_label': dataset['start_label'],\n",
    "    'end_label': dataset['end_label'],\n",
    "})"
   ],
   "id": "a99fb86d7a833453",
   "outputs": [],
   "execution_count": 14
  },
  {
   "metadata": {
    "ExecuteTime": {
     "end_time": "2024-10-04T12:50:53.578146Z",
     "start_time": "2024-10-04T12:50:53.570822Z"
    }
   },
   "cell_type": "code",
   "source": "final_dataset",
   "id": "9c021f2af59b72c0",
   "outputs": [
    {
     "data": {
      "text/plain": [
       "      start_wind_x  start_wind_y  start_wind_speed  end_wind_x  end_wind_y  \\\n",
       "0        -0.167526      0.985868          1.023733   -0.286803    0.957990   \n",
       "1         0.198171      0.980168          1.714500    0.641673    0.766979   \n",
       "2         0.530881      0.847446          0.836500   -0.897181    0.441662   \n",
       "3        -0.636976      0.770884          3.121667   -0.439260    0.898360   \n",
       "4         0.342020      0.939693          7.773333    0.334355    0.942447   \n",
       "...            ...           ...               ...         ...         ...   \n",
       "3214     -0.478385     -0.878150          3.552667   -0.617951   -0.786217   \n",
       "3215     -0.020942     -0.999781          2.660000    0.149996   -0.988687   \n",
       "3216      0.736097      0.676876          1.804000    0.866025    0.500000   \n",
       "3217     -0.885177     -0.465254          3.884667   -0.992042    0.125910   \n",
       "3218     -0.995805     -0.091502          3.675000   -0.999937   -0.011247   \n",
       "\n",
       "      end_wind_speed  start_label  end_label  \n",
       "0           1.000000            0          0  \n",
       "1           2.091667            0          1  \n",
       "2           1.341000            0          0  \n",
       "3           5.797000            1          1  \n",
       "4           8.680000            1          1  \n",
       "...              ...          ...        ...  \n",
       "3214        4.008333            0          0  \n",
       "3215        2.338000            0          0  \n",
       "3216        1.500000            0          1  \n",
       "3217        3.146111            0          0  \n",
       "3218        3.100000            0          0  \n",
       "\n",
       "[3219 rows x 8 columns]"
      ],
      "text/html": [
       "<div>\n",
       "<style scoped>\n",
       "    .dataframe tbody tr th:only-of-type {\n",
       "        vertical-align: middle;\n",
       "    }\n",
       "\n",
       "    .dataframe tbody tr th {\n",
       "        vertical-align: top;\n",
       "    }\n",
       "\n",
       "    .dataframe thead th {\n",
       "        text-align: right;\n",
       "    }\n",
       "</style>\n",
       "<table border=\"1\" class=\"dataframe\">\n",
       "  <thead>\n",
       "    <tr style=\"text-align: right;\">\n",
       "      <th></th>\n",
       "      <th>start_wind_x</th>\n",
       "      <th>start_wind_y</th>\n",
       "      <th>start_wind_speed</th>\n",
       "      <th>end_wind_x</th>\n",
       "      <th>end_wind_y</th>\n",
       "      <th>end_wind_speed</th>\n",
       "      <th>start_label</th>\n",
       "      <th>end_label</th>\n",
       "    </tr>\n",
       "  </thead>\n",
       "  <tbody>\n",
       "    <tr>\n",
       "      <th>0</th>\n",
       "      <td>-0.167526</td>\n",
       "      <td>0.985868</td>\n",
       "      <td>1.023733</td>\n",
       "      <td>-0.286803</td>\n",
       "      <td>0.957990</td>\n",
       "      <td>1.000000</td>\n",
       "      <td>0</td>\n",
       "      <td>0</td>\n",
       "    </tr>\n",
       "    <tr>\n",
       "      <th>1</th>\n",
       "      <td>0.198171</td>\n",
       "      <td>0.980168</td>\n",
       "      <td>1.714500</td>\n",
       "      <td>0.641673</td>\n",
       "      <td>0.766979</td>\n",
       "      <td>2.091667</td>\n",
       "      <td>0</td>\n",
       "      <td>1</td>\n",
       "    </tr>\n",
       "    <tr>\n",
       "      <th>2</th>\n",
       "      <td>0.530881</td>\n",
       "      <td>0.847446</td>\n",
       "      <td>0.836500</td>\n",
       "      <td>-0.897181</td>\n",
       "      <td>0.441662</td>\n",
       "      <td>1.341000</td>\n",
       "      <td>0</td>\n",
       "      <td>0</td>\n",
       "    </tr>\n",
       "    <tr>\n",
       "      <th>3</th>\n",
       "      <td>-0.636976</td>\n",
       "      <td>0.770884</td>\n",
       "      <td>3.121667</td>\n",
       "      <td>-0.439260</td>\n",
       "      <td>0.898360</td>\n",
       "      <td>5.797000</td>\n",
       "      <td>1</td>\n",
       "      <td>1</td>\n",
       "    </tr>\n",
       "    <tr>\n",
       "      <th>4</th>\n",
       "      <td>0.342020</td>\n",
       "      <td>0.939693</td>\n",
       "      <td>7.773333</td>\n",
       "      <td>0.334355</td>\n",
       "      <td>0.942447</td>\n",
       "      <td>8.680000</td>\n",
       "      <td>1</td>\n",
       "      <td>1</td>\n",
       "    </tr>\n",
       "    <tr>\n",
       "      <th>...</th>\n",
       "      <td>...</td>\n",
       "      <td>...</td>\n",
       "      <td>...</td>\n",
       "      <td>...</td>\n",
       "      <td>...</td>\n",
       "      <td>...</td>\n",
       "      <td>...</td>\n",
       "      <td>...</td>\n",
       "    </tr>\n",
       "    <tr>\n",
       "      <th>3214</th>\n",
       "      <td>-0.478385</td>\n",
       "      <td>-0.878150</td>\n",
       "      <td>3.552667</td>\n",
       "      <td>-0.617951</td>\n",
       "      <td>-0.786217</td>\n",
       "      <td>4.008333</td>\n",
       "      <td>0</td>\n",
       "      <td>0</td>\n",
       "    </tr>\n",
       "    <tr>\n",
       "      <th>3215</th>\n",
       "      <td>-0.020942</td>\n",
       "      <td>-0.999781</td>\n",
       "      <td>2.660000</td>\n",
       "      <td>0.149996</td>\n",
       "      <td>-0.988687</td>\n",
       "      <td>2.338000</td>\n",
       "      <td>0</td>\n",
       "      <td>0</td>\n",
       "    </tr>\n",
       "    <tr>\n",
       "      <th>3216</th>\n",
       "      <td>0.736097</td>\n",
       "      <td>0.676876</td>\n",
       "      <td>1.804000</td>\n",
       "      <td>0.866025</td>\n",
       "      <td>0.500000</td>\n",
       "      <td>1.500000</td>\n",
       "      <td>0</td>\n",
       "      <td>1</td>\n",
       "    </tr>\n",
       "    <tr>\n",
       "      <th>3217</th>\n",
       "      <td>-0.885177</td>\n",
       "      <td>-0.465254</td>\n",
       "      <td>3.884667</td>\n",
       "      <td>-0.992042</td>\n",
       "      <td>0.125910</td>\n",
       "      <td>3.146111</td>\n",
       "      <td>0</td>\n",
       "      <td>0</td>\n",
       "    </tr>\n",
       "    <tr>\n",
       "      <th>3218</th>\n",
       "      <td>-0.995805</td>\n",
       "      <td>-0.091502</td>\n",
       "      <td>3.675000</td>\n",
       "      <td>-0.999937</td>\n",
       "      <td>-0.011247</td>\n",
       "      <td>3.100000</td>\n",
       "      <td>0</td>\n",
       "      <td>0</td>\n",
       "    </tr>\n",
       "  </tbody>\n",
       "</table>\n",
       "<p>3219 rows × 8 columns</p>\n",
       "</div>"
      ]
     },
     "execution_count": 15,
     "metadata": {},
     "output_type": "execute_result"
    }
   ],
   "execution_count": 15
  },
  {
   "metadata": {
    "ExecuteTime": {
     "end_time": "2024-10-04T12:51:20.460411Z",
     "start_time": "2024-10-04T12:51:20.456542Z"
    }
   },
   "cell_type": "code",
   "source": [
    "data = final_dataset.iloc[:, 0:6].to_numpy()\n",
    "data"
   ],
   "id": "a4cf1a4d9b08baac",
   "outputs": [
    {
     "data": {
      "text/plain": [
       "array([[-0.16752589,  0.98586768,  1.02373333, -0.28680323,  0.95798951,\n",
       "         1.        ],\n",
       "       [ 0.19817058,  0.98016755,  1.7145    ,  0.64167276,  0.76697853,\n",
       "         2.09166667],\n",
       "       [ 0.530881  ,  0.84744638,  0.8365    , -0.8971813 ,  0.44166245,\n",
       "         1.341     ],\n",
       "       ...,\n",
       "       [ 0.73609709,  0.67687597,  1.804     ,  0.8660254 ,  0.5       ,\n",
       "         1.5       ],\n",
       "       [-0.88517718, -0.46525408,  3.88466667, -0.99204162,  0.1259104 ,\n",
       "         3.14611111],\n",
       "       [-0.99580493, -0.09150162,  3.675     , -0.99993675, -0.01124744,\n",
       "         3.1       ]])"
      ]
     },
     "execution_count": 17,
     "metadata": {},
     "output_type": "execute_result"
    }
   ],
   "execution_count": 17
  },
  {
   "metadata": {
    "ExecuteTime": {
     "end_time": "2024-10-04T12:52:01.641699Z",
     "start_time": "2024-10-04T12:52:01.638326Z"
    }
   },
   "cell_type": "code",
   "source": [
    "labels = final_dataset.iloc[:, 6:8].to_numpy()\n",
    "labels"
   ],
   "id": "5a4ac1fd21fc5b07",
   "outputs": [
    {
     "data": {
      "text/plain": [
       "array([[0, 0],\n",
       "       [0, 1],\n",
       "       [0, 0],\n",
       "       ...,\n",
       "       [0, 1],\n",
       "       [0, 0],\n",
       "       [0, 0]])"
      ]
     },
     "execution_count": 20,
     "metadata": {},
     "output_type": "execute_result"
    }
   ],
   "execution_count": 20
  },
  {
   "metadata": {
    "ExecuteTime": {
     "end_time": "2024-10-04T12:59:54.978341Z",
     "start_time": "2024-10-04T12:59:54.975192Z"
    }
   },
   "cell_type": "code",
   "source": [
    "class MyMLP(nn.Module):\n",
    "    def __init__(self, input_size, output_size):\n",
    "        super().__init__()\n",
    "        self.relu = nn.ReLU()\n",
    "        self.fc1 = nn.Linear(input_size, 8)\n",
    "        self.fc2 = nn.Linear(8, 16) \n",
    "        self.fc3 = nn.Linear(16, output_size)\n",
    "\n",
    "    def forward(self, x):\n",
    "        out = self.relu(self.fc1(x))\n",
    "        out = self.relu(self.fc2(out))\n",
    "        out = self.fc3(out)\n",
    "        return out"
   ],
   "id": "e78a76a9e47c4a02",
   "outputs": [],
   "execution_count": 22
  },
  {
   "metadata": {
    "ExecuteTime": {
     "end_time": "2024-10-04T12:59:55.281244Z",
     "start_time": "2024-10-04T12:59:55.277879Z"
    }
   },
   "cell_type": "code",
   "source": [
    "def train(n_epochs, optimizer, model, train_loader, loss_function):\n",
    "    n_batch = len(train_loader)\n",
    "    losses_train = []\n",
    "    model.train()\n",
    "\n",
    "    for epoch in range(1, n_epochs + 1):\n",
    "        loss_train = 0.0\n",
    "        for data, labels in train_loader:\n",
    "            # Move data to device and convert to float\n",
    "            data = data.to(dtype=torch.float, device=device)\n",
    "            labels = labels.to(dtype=torch.float, device=device)  # Labels are binary (float)\n",
    "\n",
    "            # Forward pass: compute predicted outputs\n",
    "            output = model(data)\n",
    "\n",
    "            # Compute loss (using BCEWithLogitsLoss or BCELoss depending on your model)\n",
    "            loss = loss_function(output, labels)\n",
    "\n",
    "            # Backpropagation and optimization\n",
    "            optimizer.zero_grad()\n",
    "            loss.backward()\n",
    "            optimizer.step()\n",
    "\n",
    "            loss_train += loss.item()\n",
    "\n",
    "        losses_train.append(loss_train / n_batch)\n",
    "\n",
    "        if epoch == 1 or epoch % (n_epochs // 10) == 0:\n",
    "            print('{}  |  Epoch {}  |  Training loss {:.3f}'.format(\n",
    "                datetime.now().time(), epoch, loss_train / n_batch))\n",
    "\n",
    "    return losses_train"
   ],
   "id": "1c87075ded787409",
   "outputs": [],
   "execution_count": 23
  },
  {
   "metadata": {
    "ExecuteTime": {
     "end_time": "2024-10-04T13:39:10.583143Z",
     "start_time": "2024-10-04T13:39:10.579714Z"
    }
   },
   "cell_type": "code",
   "source": [
    "def validate(model, val_loader, loss_function):\n",
    "    model.eval()  # Set model to evaluation mode\n",
    "    val_loss = 0.0\n",
    "    correct = 0\n",
    "    total = 0\n",
    "    \n",
    "    with torch.no_grad():  # No need to compute gradients during validation\n",
    "        for data, labels in val_loader:\n",
    "            # Move data to device\n",
    "            data = data.to(dtype=torch.float, device=device)\n",
    "            labels = labels.to(dtype=torch.float, device=device)  # Labels are binary (float)\n",
    "            \n",
    "            # Forward pass\n",
    "            outputs = model(data)\n",
    "\n",
    "            # Compute validation loss\n",
    "            loss = loss_function(outputs, labels)\n",
    "            val_loss += loss.item()\n",
    "\n",
    "            # Compute accuracy (for each binary output)\n",
    "            predictions = torch.sigmoid(outputs) >= 0.5  # Sigmoid and threshold at 0.5\n",
    "            \n",
    "            total += labels.size(0) * labels.size(1)  # Total number of binary labels\n",
    "            correct += (predictions == labels).sum().item()  # Count correct predictions\n",
    "\n",
    "    avg_val_loss = val_loss / len(val_loader)\n",
    "    accuracy = correct / total  # Accuracy calculation across all binary labels\n",
    "    \n",
    "    return avg_val_loss, accuracy"
   ],
   "id": "b621937f56be7a7d",
   "outputs": [],
   "execution_count": 97
  },
  {
   "metadata": {
    "ExecuteTime": {
     "end_time": "2024-10-04T13:50:57.467314Z",
     "start_time": "2024-10-04T13:50:57.463926Z"
    }
   },
   "cell_type": "code",
   "source": [
    "n_models = 4\n",
    "\n",
    "modelparams = {\n",
    "  f\"model{i}\": {\n",
    "    \"lr\": 0.025,\n",
    "    \"momentum\": 0.9,\n",
    "    \"weight_decay\": 0\n",
    "  } for i in range(n_models)\n",
    "}\n",
    "\n",
    "modelparams[\"model1\"].update({\n",
    "    \"lr\": 0.025,\n",
    "    \"momentum\": 0.50,\n",
    "    \"weight_decay\": 0.0005,\n",
    "})\n",
    "\n",
    "modelparams[\"model2\"].update({\n",
    "    \"lr\": 0.05,\n",
    "    \"momentum\": 0.90,\n",
    "    \"weight_decay\": 0.0025,\n",
    "})\n",
    "modelparams[\"model3\"].update({\n",
    "    \"lr\": 0.025,\n",
    "    \"weight_decay\": 0.001,\n",
    "    \"momentum\" : 0.95\n",
    "})"
   ],
   "id": "533411149e09bb3d",
   "outputs": [],
   "execution_count": 129
  },
  {
   "metadata": {
    "ExecuteTime": {
     "end_time": "2024-10-04T13:50:57.757675Z",
     "start_time": "2024-10-04T13:50:57.754852Z"
    }
   },
   "cell_type": "code",
   "source": [
    "def make_dataloader(data, labels, batch_size = 64, shuffle = True):\n",
    "    data_tensor = torch.from_numpy(data).float()\n",
    "    labels_tensor = torch.from_numpy(labels).float()\n",
    "    \n",
    "    dataset = TensorDataset(data_tensor, labels_tensor)\n",
    "    \n",
    "    return DataLoader(dataset, batch_size=batch_size, shuffle=shuffle)"
   ],
   "id": "f2cd8d476b92a30",
   "outputs": [],
   "execution_count": 130
  },
  {
   "metadata": {
    "ExecuteTime": {
     "end_time": "2024-10-04T13:50:58.043968Z",
     "start_time": "2024-10-04T13:50:58.039661Z"
    }
   },
   "cell_type": "code",
   "source": [
    "train_data, test_val_data, train_labels, test_val_labels = train_test_split(\n",
    "    data, labels, test_size=0.3, random_state=42\n",
    ")\n",
    "test_data, val_data, test_labels, val_labels = train_test_split(\n",
    "    test_val_data, test_val_labels, test_size=0.5, random_state=42\n",
    ")\n",
    "\n",
    "batch_size = 64\n",
    "train_loader = make_dataloader(train_data, train_labels, batch_size=batch_size, shuffle=True)\n",
    "val_loader = make_dataloader(val_data, val_labels, batch_size=batch_size, shuffle=False)"
   ],
   "id": "61150dadc21395bd",
   "outputs": [],
   "execution_count": 131
  },
  {
   "metadata": {
    "ExecuteTime": {
     "end_time": "2024-10-04T13:50:58.311366Z",
     "start_time": "2024-10-04T13:50:58.306343Z"
    }
   },
   "cell_type": "code",
   "source": [
    "first_third_start = np.quantile(test_data[:, 2], 0.33)\n",
    "second_third_start = np.quantile(test_data[:, 2], 0.66)\n",
    "\n",
    "first_third_end = np.quantile(test_data[:, 5], 0.33)\n",
    "second_third_end = np.quantile(test_data[:, 5], 0.66)\n",
    "\n",
    "print(\"3rd quantiles\")\n",
    "print(f\"Start: \\n1st {first_third_start}, 2nd {second_third_start}\")\n",
    "print(f\"End: \\n1st {first_third_end}, 2nd {second_third_end}\")\n",
    "\n",
    "mask_start = (test_data[:, 2] + test_data[:, 5]) < (first_third_end + first_third_start)\n",
    "mask_end = (test_data[:, 2] + test_data[:, 5]) > (second_third_end + second_third_start)\n",
    "mask_mid =  ~mask_start & ~mask_end\n",
    "\n",
    "small_test_data, small_test_labels = test_data[mask_start], test_labels[mask_start]\n",
    "medium_test_data, medium_test_labels = test_data[mask_mid], test_labels[mask_mid]\n",
    "large_test_data, large_test_labels = test_data[mask_end], test_labels[mask_end]\n",
    "\n",
    "small_test_loader = make_dataloader(small_test_data, small_test_labels, batch_size=batch_size, shuffle=False)\n",
    "medium_test_loader = make_dataloader(medium_test_data, medium_test_labels, batch_size=batch_size, shuffle=False)\n",
    "large_test_loader = make_dataloader(large_test_data, large_test_labels, batch_size=batch_size, shuffle=False)"
   ],
   "id": "eae21de512781bd2",
   "outputs": [
    {
     "name": "stdout",
     "output_type": "stream",
     "text": [
      "3rd quantiles\n",
      "Start: \n",
      "1st 2.483432, 2nd 3.68008\n",
      "End: \n",
      "1st 2.5017866666666664, 2nd 3.8655999999999997\n"
     ]
    }
   ],
   "execution_count": 132
  },
  {
   "metadata": {
    "ExecuteTime": {
     "end_time": "2024-10-04T13:51:08.901870Z",
     "start_time": "2024-10-04T13:50:58.650285Z"
    }
   },
   "cell_type": "code",
   "source": [
    "trainedmodels = {}\n",
    "losses = {}\n",
    "loss_function = nn.BCEWithLogitsLoss()\n",
    "\n",
    "for name, params in modelparams.items():\n",
    "  model = MyMLP(len(train_data[0]), len(train_labels[0]))\n",
    "  model.to(device = device)\n",
    "  optimizer = optim.SGD(model.parameters(), **params)\n",
    "\n",
    "  print(f\"{name}: \", \"  |  \".join(map(lambda x: f\"{str(x[0])}: {str(x[1])}\",params.items())))\n",
    "  losses[name]=train(100, optimizer, model, train_loader, loss_function)\n",
    "  trainedmodels[name] = model"
   ],
   "id": "ae5a396db07c9af",
   "outputs": [
    {
     "name": "stdout",
     "output_type": "stream",
     "text": [
      "model0:  lr: 0.025  |  momentum: 0.9  |  weight_decay: 0\n",
      "15:50:58.679561  |  Epoch 1  |  Training loss 0.681\n",
      "15:50:58.889263  |  Epoch 10  |  Training loss 0.417\n",
      "15:50:59.146397  |  Epoch 20  |  Training loss 0.418\n",
      "15:50:59.390975  |  Epoch 30  |  Training loss 0.413\n",
      "15:50:59.642105  |  Epoch 40  |  Training loss 0.412\n",
      "15:50:59.891582  |  Epoch 50  |  Training loss 0.410\n",
      "15:51:00.136258  |  Epoch 60  |  Training loss 0.413\n",
      "15:51:00.370462  |  Epoch 70  |  Training loss 0.413\n",
      "15:51:00.601754  |  Epoch 80  |  Training loss 0.409\n",
      "15:51:00.830225  |  Epoch 90  |  Training loss 0.411\n",
      "15:51:01.073721  |  Epoch 100  |  Training loss 0.407\n",
      "model1:  lr: 0.025  |  momentum: 0.5  |  weight_decay: 0.0005\n",
      "15:51:01.094736  |  Epoch 1  |  Training loss 0.666\n",
      "15:51:01.327542  |  Epoch 10  |  Training loss 0.435\n",
      "15:51:01.568153  |  Epoch 20  |  Training loss 0.426\n",
      "15:51:01.820578  |  Epoch 30  |  Training loss 0.422\n",
      "15:51:02.082899  |  Epoch 40  |  Training loss 0.421\n",
      "15:51:02.333322  |  Epoch 50  |  Training loss 0.416\n",
      "15:51:02.561601  |  Epoch 60  |  Training loss 0.415\n",
      "15:51:02.802752  |  Epoch 70  |  Training loss 0.421\n",
      "15:51:03.046198  |  Epoch 80  |  Training loss 0.414\n",
      "15:51:03.298340  |  Epoch 90  |  Training loss 0.414\n",
      "15:51:03.537086  |  Epoch 100  |  Training loss 0.416\n",
      "model2:  lr: 0.05  |  momentum: 0.9  |  weight_decay: 0.0025\n",
      "15:51:03.560116  |  Epoch 1  |  Training loss 0.588\n",
      "15:51:03.779350  |  Epoch 10  |  Training loss 0.429\n",
      "15:51:04.023649  |  Epoch 20  |  Training loss 0.423\n",
      "15:51:04.277255  |  Epoch 30  |  Training loss 0.422\n",
      "15:51:04.538632  |  Epoch 40  |  Training loss 0.424\n",
      "15:51:04.817686  |  Epoch 50  |  Training loss 0.420\n",
      "15:51:05.090862  |  Epoch 60  |  Training loss 0.419\n",
      "15:51:05.371387  |  Epoch 70  |  Training loss 0.417\n",
      "15:51:05.650501  |  Epoch 80  |  Training loss 0.416\n",
      "15:51:05.911390  |  Epoch 90  |  Training loss 0.414\n",
      "15:51:06.168300  |  Epoch 100  |  Training loss 0.418\n",
      "model3:  lr: 0.025  |  momentum: 0.95  |  weight_decay: 0.001\n",
      "15:51:06.194828  |  Epoch 1  |  Training loss 0.639\n",
      "15:51:06.433430  |  Epoch 10  |  Training loss 0.427\n",
      "15:51:06.699866  |  Epoch 20  |  Training loss 0.418\n",
      "15:51:06.948609  |  Epoch 30  |  Training loss 0.415\n",
      "15:51:07.208970  |  Epoch 40  |  Training loss 0.413\n",
      "15:51:07.473733  |  Epoch 50  |  Training loss 0.409\n",
      "15:51:07.755182  |  Epoch 60  |  Training loss 0.413\n",
      "15:51:08.040479  |  Epoch 70  |  Training loss 0.410\n",
      "15:51:08.337876  |  Epoch 80  |  Training loss 0.416\n",
      "15:51:08.608270  |  Epoch 90  |  Training loss 0.409\n",
      "15:51:08.899772  |  Epoch 100  |  Training loss 0.414\n"
     ]
    }
   ],
   "execution_count": 133
  },
  {
   "metadata": {
    "ExecuteTime": {
     "end_time": "2024-10-04T13:51:08.922896Z",
     "start_time": "2024-10-04T13:51:08.906378Z"
    }
   },
   "cell_type": "code",
   "source": [
    "best_acc = 0\n",
    "best_model = \"\"\n",
    "for name, model in trainedmodels.items():\n",
    "    _, accuracy = validate(model, val_loader, loss_function)\n",
    "    if accuracy > best_acc:\n",
    "        best_model = name\n",
    "        best_acc = accuracy"
   ],
   "id": "9f7651fbfda11f27",
   "outputs": [],
   "execution_count": 134
  },
  {
   "metadata": {
    "ExecuteTime": {
     "end_time": "2024-10-04T13:51:09.016570Z",
     "start_time": "2024-10-04T13:51:09.013570Z"
    }
   },
   "cell_type": "code",
   "source": "print(f\"best model: {best_model}, {best_acc}\")",
   "id": "94b09b9d3f5390fe",
   "outputs": [
    {
     "name": "stdout",
     "output_type": "stream",
     "text": [
      "best model: model3, 0.7929606625258799\n"
     ]
    }
   ],
   "execution_count": 135
  },
  {
   "metadata": {
    "ExecuteTime": {
     "end_time": "2024-10-04T13:51:09.110839Z",
     "start_time": "2024-10-04T13:51:09.103166Z"
    }
   },
   "cell_type": "code",
   "source": [
    "for i, loader in enumerate([small_test_loader, medium_test_loader, large_test_loader]):\n",
    "    _, accuracy = validate(trainedmodels[best_model], loader, loss_function)\n",
    "    print(f\"{i}/3 - {i+1}/3  :  {accuracy}\")"
   ],
   "id": "1f0c7a9d5b42775b",
   "outputs": [
    {
     "name": "stdout",
     "output_type": "stream",
     "text": [
      "0/3 - 1/3  :  0.7484076433121019\n",
      "1/3 - 2/3  :  0.806060606060606\n",
      "2/3 - 3/3  :  0.8881987577639752\n"
     ]
    }
   ],
   "execution_count": 136
  },
  {
   "metadata": {},
   "cell_type": "markdown",
   "source": "#### Results get more accurate as the wind is stronger! ",
   "id": "bc950858ec418e55"
  },
  {
   "metadata": {
    "ExecuteTime": {
     "end_time": "2024-10-03T13:50:06.276636Z",
     "start_time": "2024-10-03T13:50:06.272985Z"
    }
   },
   "cell_type": "code",
   "source": [
    "from sklearn.neighbors import KNeighborsClassifier\n",
    "from sklearn.neural_network import MLPClassifier\n",
    "from sklearn.dummy import DummyClassifier\n",
    "from sklearn.ensemble import RandomForestClassifier\n",
    "from sklearn.tree import DecisionTreeClassifier\n",
    "\n",
    "from sklearn import tree\n",
    "from sklearn import svm\n",
    "\n",
    "models = {\n",
    "    \"Decition Tree\" : [tree.DecisionTreeClassifier(random_state=42), {\n",
    "        \"min_samples_leaf\" : [2, 3],\n",
    "        \"min_samples_split\" : [2, 3]\n",
    "    }],\n",
    "    \"Support Vector Machines\" : [svm.SVC(random_state=42), {\n",
    "        \"C\" : [1, 2, 3], \n",
    "        \"break_ties\": [True, False], \n",
    "        \"probability\": [True, False]\n",
    "    }],\n",
    "    \"Base line\" : [DummyClassifier(strategy = \"most_frequent\"), {\n",
    "        \n",
    "    }],\n",
    "    \"Multi-layer Perception\" : [MLPClassifier(random_state=42, max_iter = 1000), {\n",
    "        \"hidden_layer_sizes\" : [10, 25, 50], \n",
    "    }],\n",
    "    \"K Nearest Neighbors\" : [KNeighborsClassifier(), {\n",
    "        \"n_neighbors\" : [5, 10, 20, 40], \n",
    "        \"p\": [1, 2, 3]\n",
    "    }],\n",
    "    \"Random Forrest Regressor\" : [RandomForestClassifier(random_state=42), {\n",
    "        \"max_depth\": [2, 3], \n",
    "        \"n_estimators\" : [50, 100, 300]\n",
    "    }],\n",
    "    \"Decision Tree Regressor\" : [DecisionTreeClassifier(random_state=42), {\n",
    "        \"min_samples_split\" : [2, 3, 4],\n",
    "        \"min_samples_leaf\" : [1, 2, 3]\n",
    "    }],\n",
    "}"
   ],
   "id": "324083641f80e378",
   "outputs": [],
   "execution_count": 151
  },
  {
   "metadata": {
    "ExecuteTime": {
     "end_time": "2024-10-03T13:50:06.448765Z",
     "start_time": "2024-10-03T13:50:06.443731Z"
    }
   },
   "cell_type": "code",
   "source": [
    "data = final_dataset.iloc[:, 0:4]\n",
    "labels = final_dataset.iloc[:, 4]\n",
    "\n",
    "train_data, test_val_data, train_labels, test_val_labels = train_test_split(\n",
    "    data, labels, test_size=0.3, random_state=42\n",
    ")\n",
    "test_data, val_data, test_labels, val_labels = train_test_split(\n",
    "    test_val_data, test_val_labels, test_size=0.5, random_state=42\n",
    ")"
   ],
   "id": "22e18f7e7bc688cd",
   "outputs": [],
   "execution_count": 152
  },
  {
   "metadata": {
    "ExecuteTime": {
     "end_time": "2024-10-03T13:50:27.810997Z",
     "start_time": "2024-10-03T13:50:06.864742Z"
    }
   },
   "cell_type": "code",
   "source": [
    "from sklearn.metrics import accuracy_score, balanced_accuracy_score\n",
    "from sklearn.model_selection import GridSearchCV\n",
    "\n",
    "datalist = []\n",
    "\n",
    "for i in models.keys():\n",
    "    #does the gridsearch on the models\n",
    "    model = GridSearchCV(models[i][0], models[i][1])\n",
    "    #makes a prediction\n",
    "    prediction = np.clip(np.round(model.fit(train_data, train_labels).predict(test_data)), 0, 6)\n",
    "    #finds out how good that prediction is\n",
    "    error = accuracy_score(test_labels, prediction)\n",
    "    datalist.append([i , error])\n",
    "    \n",
    "    #models[i][1] = model.get_params()"
   ],
   "id": "f57612ca5894b1b1",
   "outputs": [
    {
     "name": "stderr",
     "output_type": "stream",
     "text": [
      "C:\\Users\\tobso\\Desktop\\programering\\masters-thesis\\venv\\Lib\\site-packages\\sklearn\\model_selection\\_split.py:776: UserWarning: The least populated class in y has only 1 members, which is less than n_splits=5.\n",
      "  warnings.warn(\n",
      "C:\\Users\\tobso\\Desktop\\programering\\masters-thesis\\venv\\Lib\\site-packages\\sklearn\\model_selection\\_split.py:776: UserWarning: The least populated class in y has only 1 members, which is less than n_splits=5.\n",
      "  warnings.warn(\n",
      "C:\\Users\\tobso\\Desktop\\programering\\masters-thesis\\venv\\Lib\\site-packages\\sklearn\\model_selection\\_split.py:776: UserWarning: The least populated class in y has only 1 members, which is less than n_splits=5.\n",
      "  warnings.warn(\n",
      "C:\\Users\\tobso\\Desktop\\programering\\masters-thesis\\venv\\Lib\\site-packages\\sklearn\\model_selection\\_split.py:776: UserWarning: The least populated class in y has only 1 members, which is less than n_splits=5.\n",
      "  warnings.warn(\n",
      "C:\\Users\\tobso\\Desktop\\programering\\masters-thesis\\venv\\Lib\\site-packages\\sklearn\\model_selection\\_split.py:776: UserWarning: The least populated class in y has only 1 members, which is less than n_splits=5.\n",
      "  warnings.warn(\n",
      "C:\\Users\\tobso\\Desktop\\programering\\masters-thesis\\venv\\Lib\\site-packages\\sklearn\\model_selection\\_split.py:776: UserWarning: The least populated class in y has only 1 members, which is less than n_splits=5.\n",
      "  warnings.warn(\n",
      "C:\\Users\\tobso\\Desktop\\programering\\masters-thesis\\venv\\Lib\\site-packages\\sklearn\\model_selection\\_split.py:776: UserWarning: The least populated class in y has only 1 members, which is less than n_splits=5.\n",
      "  warnings.warn(\n"
     ]
    }
   ],
   "execution_count": 153
  },
  {
   "metadata": {
    "ExecuteTime": {
     "end_time": "2024-10-03T13:50:31.342570Z",
     "start_time": "2024-10-03T13:50:31.339828Z"
    }
   },
   "cell_type": "code",
   "source": "datalist",
   "id": "12f2b807407c692c",
   "outputs": [
    {
     "data": {
      "text/plain": [
       "[['Decition Tree', 0.5714285714285714],\n",
       " ['Support Vector Machines', 0.6708074534161491],\n",
       " ['Base line', 0.4161490683229814],\n",
       " ['Multi-layer Perception', 0.6625258799171843],\n",
       " ['K Nearest Neighbors', 0.6666666666666666],\n",
       " ['Random Forrest Regressor', 0.6645962732919255],\n",
       " ['Decision Tree Regressor', 0.5714285714285714]]"
      ]
     },
     "execution_count": 155,
     "metadata": {},
     "output_type": "execute_result"
    }
   ],
   "execution_count": 155
  },
  {
   "metadata": {
    "ExecuteTime": {
     "end_time": "2024-10-03T13:43:55.421539Z",
     "start_time": "2024-10-03T13:43:55.419305Z"
    }
   },
   "cell_type": "code",
   "source": "",
   "id": "8810381ad5a8af36",
   "outputs": [],
   "execution_count": null
  }
 ],
 "metadata": {
  "kernelspec": {
   "display_name": "Python 3",
   "language": "python",
   "name": "python3"
  },
  "language_info": {
   "codemirror_mode": {
    "name": "ipython",
    "version": 2
   },
   "file_extension": ".py",
   "mimetype": "text/x-python",
   "name": "python",
   "nbconvert_exporter": "python",
   "pygments_lexer": "ipython2",
   "version": "2.7.6"
  }
 },
 "nbformat": 4,
 "nbformat_minor": 5
}
