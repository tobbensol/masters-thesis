{
 "cells": [
  {
   "cell_type": "code",
   "id": "initial_id",
   "metadata": {
    "collapsed": true,
    "ExecuteTime": {
     "end_time": "2024-10-17T21:19:39.050697Z",
     "start_time": "2024-10-17T21:19:39.035007Z"
    }
   },
   "source": [
    "import numpy as np\n",
    "import pandas as pd\n",
    "\n",
    "import torch\n",
    "import torch.nn as nn\n",
    "import torch.optim as optim\n",
    "from torch.utils.data import TensorDataset, DataLoader\n",
    "\n",
    "from sklearn.model_selection import train_test_split\n",
    "from datetime import datetime\n",
    "\n",
    "from functions.data_filtering import complete_flight_filter, filter_flights, filter_by_bools\n",
    "from functions.data_processing import get_takeoff_and_landing_directions, prepare_wind_data\n",
    "from functions.data_loading import get_filtered_data_range, get_wind_direction, get_data_range\n",
    "\n",
    "device = (torch.device('cuda')\n",
    "          if torch.cuda.is_available()\n",
    "          else torch.device('cpu'))"
   ],
   "outputs": [],
   "execution_count": 3
  },
  {
   "metadata": {
    "ExecuteTime": {
     "end_time": "2024-10-17T21:20:53.912258Z",
     "start_time": "2024-10-17T21:19:39.860621Z"
    }
   },
   "cell_type": "code",
   "source": [
    "origin = \"bergen\"\n",
    "destination = \"oslo\"\n",
    "unfiltered_data, file_name = get_data_range(origin, destination, datetime(year=2023, month=1, day=1), datetime(year=2024, month=1, day=1))\n",
    "print(file_name)\n",
    "filtered_flights, file_name = get_filtered_data_range(unfiltered_data, file_name, complete_flight_filter(origin, destination))"
   ],
   "id": "75b30a136653623",
   "outputs": [
    {
     "name": "stdout",
     "output_type": "stream",
     "text": [
      "bergen-oslo-2023-01-01-2024-01-01.pkl\n"
     ]
    }
   ],
   "execution_count": 4
  },
  {
   "metadata": {
    "ExecuteTime": {
     "end_time": "2024-10-17T21:22:13.898110Z",
     "start_time": "2024-10-17T21:21:37.659514Z"
    }
   },
   "cell_type": "code",
   "source": [
    "directions = list(get_takeoff_and_landing_directions(filtered_flights))\n",
    "dataset = pd.DataFrame(directions)\n",
    "dataset.rename({0: \"start_time\",  1: \"end_time\", 2: \"start_direction\", 3: \"end_direction\"}, axis=1, inplace=True)\n",
    "dataset['start_x'], dataset['start_y']  = np.sin(dataset['start_direction']), np.cos(dataset['start_direction'])\n",
    "dataset['end_x'], dataset['end_y'] = np.sin(dataset['end_direction']), np.cos(dataset['end_direction'])\n",
    "dataset['start_time'] = pd.to_datetime(dataset['start_time']).dt.round(\"s\")\n",
    "dataset['end_time'] = pd.to_datetime(dataset['end_time']).dt.round(\"s\")\n",
    "dataset['start_label'] = ((np.sign(dataset['start_y']) + 1) // 2).astype(int)\n",
    "dataset['end_label'] = ((np.sign(dataset['end_y']) + 1) // 2).astype(int)"
   ],
   "id": "19de2a458f4320f7",
   "outputs": [],
   "execution_count": 5
  },
  {
   "metadata": {
    "ExecuteTime": {
     "end_time": "2024-10-17T21:25:11.668275Z",
     "start_time": "2024-10-17T21:25:11.636796Z"
    }
   },
   "cell_type": "code",
   "source": "dataset.head(5)",
   "id": "4c3ad4b03148f495",
   "outputs": [
    {
     "data": {
      "text/plain": [
       "                 start_time                  end_time  start_direction  \\\n",
       "0 2023-02-07 20:44:04+00:00 2023-02-07 21:30:00+00:00         2.936878   \n",
       "1 2023-06-21 04:15:14+00:00 2023-06-21 04:50:10+00:00         2.968032   \n",
       "2 2023-06-25 07:02:26+00:00 2023-06-25 07:36:04+00:00         2.968032   \n",
       "3 2023-03-04 08:21:18+00:00 2023-03-04 08:55:38+00:00         6.125815   \n",
       "4 2023-11-29 08:38:32+00:00 2023-11-29 09:18:40+00:00         6.108513   \n",
       "\n",
       "   end_direction   start_x   start_y     end_x     end_y  start_label  \\\n",
       "0       3.423365  0.203288 -0.979119 -0.278058 -0.960564            0   \n",
       "1       0.270153  0.172691 -0.984976  0.266879  0.963730            0   \n",
       "2       3.425084  0.172691 -0.984976 -0.279710 -0.960085            0   \n",
       "3       0.275272 -0.156721  0.987643  0.271809  0.962351            1   \n",
       "4       0.276035 -0.173785  0.984784  0.272543  0.962144            1   \n",
       "\n",
       "   end_label  \n",
       "0          0  \n",
       "1          1  \n",
       "2          0  \n",
       "3          1  \n",
       "4          1  "
      ],
      "text/html": [
       "<div>\n",
       "<style scoped>\n",
       "    .dataframe tbody tr th:only-of-type {\n",
       "        vertical-align: middle;\n",
       "    }\n",
       "\n",
       "    .dataframe tbody tr th {\n",
       "        vertical-align: top;\n",
       "    }\n",
       "\n",
       "    .dataframe thead th {\n",
       "        text-align: right;\n",
       "    }\n",
       "</style>\n",
       "<table border=\"1\" class=\"dataframe\">\n",
       "  <thead>\n",
       "    <tr style=\"text-align: right;\">\n",
       "      <th></th>\n",
       "      <th>start_time</th>\n",
       "      <th>end_time</th>\n",
       "      <th>start_direction</th>\n",
       "      <th>end_direction</th>\n",
       "      <th>start_x</th>\n",
       "      <th>start_y</th>\n",
       "      <th>end_x</th>\n",
       "      <th>end_y</th>\n",
       "      <th>start_label</th>\n",
       "      <th>end_label</th>\n",
       "    </tr>\n",
       "  </thead>\n",
       "  <tbody>\n",
       "    <tr>\n",
       "      <th>0</th>\n",
       "      <td>2023-02-07 20:44:04+00:00</td>\n",
       "      <td>2023-02-07 21:30:00+00:00</td>\n",
       "      <td>2.936878</td>\n",
       "      <td>3.423365</td>\n",
       "      <td>0.203288</td>\n",
       "      <td>-0.979119</td>\n",
       "      <td>-0.278058</td>\n",
       "      <td>-0.960564</td>\n",
       "      <td>0</td>\n",
       "      <td>0</td>\n",
       "    </tr>\n",
       "    <tr>\n",
       "      <th>1</th>\n",
       "      <td>2023-06-21 04:15:14+00:00</td>\n",
       "      <td>2023-06-21 04:50:10+00:00</td>\n",
       "      <td>2.968032</td>\n",
       "      <td>0.270153</td>\n",
       "      <td>0.172691</td>\n",
       "      <td>-0.984976</td>\n",
       "      <td>0.266879</td>\n",
       "      <td>0.963730</td>\n",
       "      <td>0</td>\n",
       "      <td>1</td>\n",
       "    </tr>\n",
       "    <tr>\n",
       "      <th>2</th>\n",
       "      <td>2023-06-25 07:02:26+00:00</td>\n",
       "      <td>2023-06-25 07:36:04+00:00</td>\n",
       "      <td>2.968032</td>\n",
       "      <td>3.425084</td>\n",
       "      <td>0.172691</td>\n",
       "      <td>-0.984976</td>\n",
       "      <td>-0.279710</td>\n",
       "      <td>-0.960085</td>\n",
       "      <td>0</td>\n",
       "      <td>0</td>\n",
       "    </tr>\n",
       "    <tr>\n",
       "      <th>3</th>\n",
       "      <td>2023-03-04 08:21:18+00:00</td>\n",
       "      <td>2023-03-04 08:55:38+00:00</td>\n",
       "      <td>6.125815</td>\n",
       "      <td>0.275272</td>\n",
       "      <td>-0.156721</td>\n",
       "      <td>0.987643</td>\n",
       "      <td>0.271809</td>\n",
       "      <td>0.962351</td>\n",
       "      <td>1</td>\n",
       "      <td>1</td>\n",
       "    </tr>\n",
       "    <tr>\n",
       "      <th>4</th>\n",
       "      <td>2023-11-29 08:38:32+00:00</td>\n",
       "      <td>2023-11-29 09:18:40+00:00</td>\n",
       "      <td>6.108513</td>\n",
       "      <td>0.276035</td>\n",
       "      <td>-0.173785</td>\n",
       "      <td>0.984784</td>\n",
       "      <td>0.272543</td>\n",
       "      <td>0.962144</td>\n",
       "      <td>1</td>\n",
       "      <td>1</td>\n",
       "    </tr>\n",
       "  </tbody>\n",
       "</table>\n",
       "</div>"
      ]
     },
     "execution_count": 33,
     "metadata": {},
     "output_type": "execute_result"
    }
   ],
   "execution_count": 33
  },
  {
   "metadata": {
    "ExecuteTime": {
     "end_time": "2024-10-17T21:22:39.201118Z",
     "start_time": "2024-10-17T21:22:14.184350Z"
    }
   },
   "cell_type": "code",
   "source": [
    "gardermoen = get_wind_direction(\"GARDERMOEN\")\n",
    "wind_data = prepare_wind_data(gardermoen)"
   ],
   "id": "8b9b35e82a03ebe1",
   "outputs": [],
   "execution_count": 7
  },
  {
   "metadata": {
    "ExecuteTime": {
     "end_time": "2024-10-17T21:25:05.503330Z",
     "start_time": "2024-10-17T21:25:05.479952Z"
    }
   },
   "cell_type": "code",
   "source": "wind_data.head(5)",
   "id": "53b3afa504f407a7",
   "outputs": [
    {
     "data": {
      "text/plain": [
       "                           wind_direction  wind_speed         x         y  \\\n",
       "time                                                                        \n",
       "2023-01-01 00:00:00+00:00        0.750492    1.200000  0.681998  0.731354   \n",
       "2023-01-01 00:00:01+00:00        0.749575    1.201167  0.681328  0.731978   \n",
       "2023-01-01 00:00:02+00:00        0.748659    1.202333  0.680657  0.732602   \n",
       "2023-01-01 00:00:03+00:00        0.747743    1.203500  0.679985  0.733226   \n",
       "2023-01-01 00:00:04+00:00        0.746826    1.204667  0.679313  0.733848   \n",
       "\n",
       "                           x_scaled  y_scaled  \n",
       "time                                           \n",
       "2023-01-01 00:00:00+00:00  0.818398  0.877624  \n",
       "2023-01-01 00:00:01+00:00  0.818388  0.879228  \n",
       "2023-01-01 00:00:02+00:00  0.818377  0.880832  \n",
       "2023-01-01 00:00:03+00:00  0.818362  0.882437  \n",
       "2023-01-01 00:00:04+00:00  0.818346  0.884043  "
      ],
      "text/html": [
       "<div>\n",
       "<style scoped>\n",
       "    .dataframe tbody tr th:only-of-type {\n",
       "        vertical-align: middle;\n",
       "    }\n",
       "\n",
       "    .dataframe tbody tr th {\n",
       "        vertical-align: top;\n",
       "    }\n",
       "\n",
       "    .dataframe thead th {\n",
       "        text-align: right;\n",
       "    }\n",
       "</style>\n",
       "<table border=\"1\" class=\"dataframe\">\n",
       "  <thead>\n",
       "    <tr style=\"text-align: right;\">\n",
       "      <th></th>\n",
       "      <th>wind_direction</th>\n",
       "      <th>wind_speed</th>\n",
       "      <th>x</th>\n",
       "      <th>y</th>\n",
       "      <th>x_scaled</th>\n",
       "      <th>y_scaled</th>\n",
       "    </tr>\n",
       "    <tr>\n",
       "      <th>time</th>\n",
       "      <th></th>\n",
       "      <th></th>\n",
       "      <th></th>\n",
       "      <th></th>\n",
       "      <th></th>\n",
       "      <th></th>\n",
       "    </tr>\n",
       "  </thead>\n",
       "  <tbody>\n",
       "    <tr>\n",
       "      <th>2023-01-01 00:00:00+00:00</th>\n",
       "      <td>0.750492</td>\n",
       "      <td>1.200000</td>\n",
       "      <td>0.681998</td>\n",
       "      <td>0.731354</td>\n",
       "      <td>0.818398</td>\n",
       "      <td>0.877624</td>\n",
       "    </tr>\n",
       "    <tr>\n",
       "      <th>2023-01-01 00:00:01+00:00</th>\n",
       "      <td>0.749575</td>\n",
       "      <td>1.201167</td>\n",
       "      <td>0.681328</td>\n",
       "      <td>0.731978</td>\n",
       "      <td>0.818388</td>\n",
       "      <td>0.879228</td>\n",
       "    </tr>\n",
       "    <tr>\n",
       "      <th>2023-01-01 00:00:02+00:00</th>\n",
       "      <td>0.748659</td>\n",
       "      <td>1.202333</td>\n",
       "      <td>0.680657</td>\n",
       "      <td>0.732602</td>\n",
       "      <td>0.818377</td>\n",
       "      <td>0.880832</td>\n",
       "    </tr>\n",
       "    <tr>\n",
       "      <th>2023-01-01 00:00:03+00:00</th>\n",
       "      <td>0.747743</td>\n",
       "      <td>1.203500</td>\n",
       "      <td>0.679985</td>\n",
       "      <td>0.733226</td>\n",
       "      <td>0.818362</td>\n",
       "      <td>0.882437</td>\n",
       "    </tr>\n",
       "    <tr>\n",
       "      <th>2023-01-01 00:00:04+00:00</th>\n",
       "      <td>0.746826</td>\n",
       "      <td>1.204667</td>\n",
       "      <td>0.679313</td>\n",
       "      <td>0.733848</td>\n",
       "      <td>0.818346</td>\n",
       "      <td>0.884043</td>\n",
       "    </tr>\n",
       "  </tbody>\n",
       "</table>\n",
       "</div>"
      ]
     },
     "execution_count": 32,
     "metadata": {},
     "output_type": "execute_result"
    }
   ],
   "execution_count": 32
  },
  {
   "metadata": {
    "ExecuteTime": {
     "end_time": "2024-10-17T21:23:02.747024Z",
     "start_time": "2024-10-17T21:22:39.401166Z"
    }
   },
   "cell_type": "code",
   "source": [
    "merged_start = pd.merge(wind_data, dataset, how=\"right\", left_on=\"time\", right_on=\"start_time\")\n",
    "merged_end = pd.merge(wind_data, dataset, how=\"right\", left_on=\"time\", right_on=\"end_time\")\n",
    "final_dataset = pd.DataFrame({\n",
    "    'start_wind_x': merged_start['x'],\n",
    "    'start_wind_y': merged_start['y'],\n",
    "    'start_wind_speed': merged_start['wind_speed'],\n",
    "    'end_wind_x': merged_end['x'],\n",
    "    'end_wind_y': merged_end['y'],\n",
    "    'end_wind_speed': merged_end['wind_speed'],\n",
    "    'start_label': dataset['start_label'],\n",
    "    'end_label': dataset['end_label'],\n",
    "})"
   ],
   "id": "a99fb86d7a833453",
   "outputs": [],
   "execution_count": 9
  },
  {
   "metadata": {
    "ExecuteTime": {
     "end_time": "2024-10-17T21:24:53.271180Z",
     "start_time": "2024-10-17T21:24:53.246589Z"
    }
   },
   "cell_type": "code",
   "source": "final_dataset.head(5)",
   "id": "9c021f2af59b72c0",
   "outputs": [
    {
     "data": {
      "text/plain": [
       "   start_wind_x  start_wind_y  start_wind_speed  end_wind_x  end_wind_y  \\\n",
       "0     -0.167526      0.985868          1.023733   -0.286803    0.957990   \n",
       "1      0.198171      0.980168          1.714500    0.641673    0.766979   \n",
       "2      0.530881      0.847446          0.836500   -0.897181    0.441662   \n",
       "3     -0.636976      0.770884          3.121667   -0.439260    0.898360   \n",
       "4      0.342020      0.939693          7.773333    0.334355    0.942447   \n",
       "\n",
       "   end_wind_speed  start_label  end_label  \n",
       "0        1.000000            0          0  \n",
       "1        2.091667            0          1  \n",
       "2        1.341000            0          0  \n",
       "3        5.797000            1          1  \n",
       "4        8.680000            1          1  "
      ],
      "text/html": [
       "<div>\n",
       "<style scoped>\n",
       "    .dataframe tbody tr th:only-of-type {\n",
       "        vertical-align: middle;\n",
       "    }\n",
       "\n",
       "    .dataframe tbody tr th {\n",
       "        vertical-align: top;\n",
       "    }\n",
       "\n",
       "    .dataframe thead th {\n",
       "        text-align: right;\n",
       "    }\n",
       "</style>\n",
       "<table border=\"1\" class=\"dataframe\">\n",
       "  <thead>\n",
       "    <tr style=\"text-align: right;\">\n",
       "      <th></th>\n",
       "      <th>start_wind_x</th>\n",
       "      <th>start_wind_y</th>\n",
       "      <th>start_wind_speed</th>\n",
       "      <th>end_wind_x</th>\n",
       "      <th>end_wind_y</th>\n",
       "      <th>end_wind_speed</th>\n",
       "      <th>start_label</th>\n",
       "      <th>end_label</th>\n",
       "    </tr>\n",
       "  </thead>\n",
       "  <tbody>\n",
       "    <tr>\n",
       "      <th>0</th>\n",
       "      <td>-0.167526</td>\n",
       "      <td>0.985868</td>\n",
       "      <td>1.023733</td>\n",
       "      <td>-0.286803</td>\n",
       "      <td>0.957990</td>\n",
       "      <td>1.000000</td>\n",
       "      <td>0</td>\n",
       "      <td>0</td>\n",
       "    </tr>\n",
       "    <tr>\n",
       "      <th>1</th>\n",
       "      <td>0.198171</td>\n",
       "      <td>0.980168</td>\n",
       "      <td>1.714500</td>\n",
       "      <td>0.641673</td>\n",
       "      <td>0.766979</td>\n",
       "      <td>2.091667</td>\n",
       "      <td>0</td>\n",
       "      <td>1</td>\n",
       "    </tr>\n",
       "    <tr>\n",
       "      <th>2</th>\n",
       "      <td>0.530881</td>\n",
       "      <td>0.847446</td>\n",
       "      <td>0.836500</td>\n",
       "      <td>-0.897181</td>\n",
       "      <td>0.441662</td>\n",
       "      <td>1.341000</td>\n",
       "      <td>0</td>\n",
       "      <td>0</td>\n",
       "    </tr>\n",
       "    <tr>\n",
       "      <th>3</th>\n",
       "      <td>-0.636976</td>\n",
       "      <td>0.770884</td>\n",
       "      <td>3.121667</td>\n",
       "      <td>-0.439260</td>\n",
       "      <td>0.898360</td>\n",
       "      <td>5.797000</td>\n",
       "      <td>1</td>\n",
       "      <td>1</td>\n",
       "    </tr>\n",
       "    <tr>\n",
       "      <th>4</th>\n",
       "      <td>0.342020</td>\n",
       "      <td>0.939693</td>\n",
       "      <td>7.773333</td>\n",
       "      <td>0.334355</td>\n",
       "      <td>0.942447</td>\n",
       "      <td>8.680000</td>\n",
       "      <td>1</td>\n",
       "      <td>1</td>\n",
       "    </tr>\n",
       "  </tbody>\n",
       "</table>\n",
       "</div>"
      ]
     },
     "execution_count": 31,
     "metadata": {},
     "output_type": "execute_result"
    }
   ],
   "execution_count": 31
  },
  {
   "metadata": {
    "ExecuteTime": {
     "end_time": "2024-10-17T21:26:00.571767Z",
     "start_time": "2024-10-17T21:26:00.565393Z"
    }
   },
   "cell_type": "code",
   "source": [
    "data = final_dataset.iloc[:, 0:6].to_numpy()\n",
    "labels = final_dataset.iloc[:, 6:8].to_numpy()"
   ],
   "id": "a4cf1a4d9b08baac",
   "outputs": [],
   "execution_count": 34
  },
  {
   "metadata": {
    "ExecuteTime": {
     "end_time": "2024-10-17T21:23:03.784231Z",
     "start_time": "2024-10-17T21:23:03.768588Z"
    }
   },
   "cell_type": "code",
   "source": [
    "class MyMLP(nn.Module):\n",
    "    def __init__(self, input_size, output_size):\n",
    "        super().__init__()\n",
    "        self.relu = nn.ReLU()\n",
    "        self.fc1 = nn.Linear(input_size, 8)\n",
    "        self.fc2 = nn.Linear(8, 16) \n",
    "        self.fc3 = nn.Linear(16, output_size)\n",
    "\n",
    "    def forward(self, x):\n",
    "        out = self.relu(self.fc1(x))\n",
    "        out = self.relu(self.fc2(out))\n",
    "        out = self.fc3(out)\n",
    "        return out"
   ],
   "id": "e78a76a9e47c4a02",
   "outputs": [],
   "execution_count": 13
  },
  {
   "metadata": {
    "ExecuteTime": {
     "end_time": "2024-10-17T21:23:04.094645Z",
     "start_time": "2024-10-17T21:23:04.082275Z"
    }
   },
   "cell_type": "code",
   "source": [
    "def train(n_epochs, optimizer, model, train_loader, loss_function):\n",
    "    n_batch = len(train_loader)\n",
    "    losses_train = []\n",
    "    model.train()\n",
    "\n",
    "    for epoch in range(1, n_epochs + 1):\n",
    "        loss_train = 0.0\n",
    "        for data, labels in train_loader:\n",
    "            # Move data to device and convert to float\n",
    "            data = data.to(dtype=torch.float, device=device)\n",
    "            labels = labels.to(dtype=torch.float, device=device)  # Labels are binary (float)\n",
    "\n",
    "            # Forward pass: compute predicted outputs\n",
    "            output = model(data)\n",
    "\n",
    "            # Compute loss (using BCEWithLogitsLoss or BCELoss depending on your model)\n",
    "            loss = loss_function(output, labels)\n",
    "\n",
    "            # Backpropagation and optimization\n",
    "            optimizer.zero_grad()\n",
    "            loss.backward()\n",
    "            optimizer.step()\n",
    "\n",
    "            loss_train += loss.item()\n",
    "\n",
    "        losses_train.append(loss_train / n_batch)\n",
    "\n",
    "        if epoch == 1 or epoch % (n_epochs // 10) == 0:\n",
    "            print('{}  |  Epoch {}  |  Training loss {:.3f}'.format(\n",
    "                datetime.now().time(), epoch, loss_train / n_batch))\n",
    "\n",
    "    return losses_train"
   ],
   "id": "1c87075ded787409",
   "outputs": [],
   "execution_count": 14
  },
  {
   "metadata": {
    "ExecuteTime": {
     "end_time": "2024-10-17T21:23:04.158603Z",
     "start_time": "2024-10-17T21:23:04.135350Z"
    }
   },
   "cell_type": "code",
   "source": [
    "def validate(model, val_loader, loss_function):\n",
    "    model.eval()  # Set model to evaluation mode\n",
    "    val_loss = 0.0\n",
    "    correct = 0\n",
    "    total = 0\n",
    "    \n",
    "    with torch.no_grad():  # No need to compute gradients during validation\n",
    "        for data, labels in val_loader:\n",
    "            # Move data to device\n",
    "            data = data.to(dtype=torch.float, device=device)\n",
    "            labels = labels.to(dtype=torch.float, device=device)  # Labels are binary (float)\n",
    "            \n",
    "            # Forward pass\n",
    "            outputs = model(data)\n",
    "\n",
    "            # Compute validation loss\n",
    "            loss = loss_function(outputs, labels)\n",
    "            val_loss += loss.item()\n",
    "\n",
    "            # Compute accuracy (for each binary output)\n",
    "            predictions = torch.sigmoid(outputs) >= 0.5  # Sigmoid and threshold at 0.5\n",
    "            \n",
    "            total += labels.size(0) * labels.size(1)  # Total number of binary labels\n",
    "            correct += (predictions == labels).sum().item()  # Count correct predictions\n",
    "\n",
    "    avg_val_loss = val_loss / len(val_loader)\n",
    "    accuracy = correct / total  # Accuracy calculation across all binary labels\n",
    "    \n",
    "    return avg_val_loss, accuracy"
   ],
   "id": "b621937f56be7a7d",
   "outputs": [],
   "execution_count": 15
  },
  {
   "metadata": {
    "ExecuteTime": {
     "end_time": "2024-10-17T21:23:04.237446Z",
     "start_time": "2024-10-17T21:23:04.221650Z"
    }
   },
   "cell_type": "code",
   "source": [
    "n_models = 4\n",
    "\n",
    "modelparams = {\n",
    "  f\"model{i}\": {\n",
    "    \"lr\": 0.025,\n",
    "    \"momentum\": 0.9,\n",
    "    \"weight_decay\": 0\n",
    "  } for i in range(n_models)\n",
    "}\n",
    "\n",
    "modelparams[\"model1\"].update({\n",
    "    \"lr\": 0.025,\n",
    "    \"momentum\": 0.50,\n",
    "    \"weight_decay\": 0.0005,\n",
    "})\n",
    "\n",
    "modelparams[\"model2\"].update({\n",
    "    \"lr\": 0.05,\n",
    "    \"momentum\": 0.90,\n",
    "    \"weight_decay\": 0.0025,\n",
    "})\n",
    "modelparams[\"model3\"].update({\n",
    "    \"lr\": 0.025,\n",
    "    \"weight_decay\": 0.001,\n",
    "    \"momentum\" : 0.95\n",
    "})"
   ],
   "id": "533411149e09bb3d",
   "outputs": [],
   "execution_count": 16
  },
  {
   "metadata": {
    "ExecuteTime": {
     "end_time": "2024-10-17T21:23:04.370147Z",
     "start_time": "2024-10-17T21:23:04.354352Z"
    }
   },
   "cell_type": "code",
   "source": [
    "def make_dataloader(data, labels, batch_size = 64, shuffle = True):\n",
    "    data_tensor = torch.from_numpy(data).float()\n",
    "    labels_tensor = torch.from_numpy(labels).float()\n",
    "    \n",
    "    dataset = TensorDataset(data_tensor, labels_tensor)\n",
    "    \n",
    "    return DataLoader(dataset, batch_size=batch_size, shuffle=shuffle)"
   ],
   "id": "f2cd8d476b92a30",
   "outputs": [],
   "execution_count": 17
  },
  {
   "metadata": {
    "ExecuteTime": {
     "end_time": "2024-10-17T21:23:04.512593Z",
     "start_time": "2024-10-17T21:23:04.448928Z"
    }
   },
   "cell_type": "code",
   "source": [
    "train_data, test_val_data, train_labels, test_val_labels = train_test_split(\n",
    "    data, labels, test_size=0.3, random_state=42\n",
    ")\n",
    "test_data, val_data, test_labels, val_labels = train_test_split(\n",
    "    test_val_data, test_val_labels, test_size=0.5, random_state=42\n",
    ")\n",
    "\n",
    "batch_size = 64\n",
    "train_loader = make_dataloader(train_data, train_labels, batch_size=batch_size, shuffle=True)\n",
    "val_loader = make_dataloader(val_data, val_labels, batch_size=batch_size, shuffle=False)"
   ],
   "id": "61150dadc21395bd",
   "outputs": [],
   "execution_count": 18
  },
  {
   "metadata": {
    "ExecuteTime": {
     "end_time": "2024-10-17T21:23:04.646518Z",
     "start_time": "2024-10-17T21:23:04.619432Z"
    }
   },
   "cell_type": "code",
   "source": [
    "first_third_start = np.quantile(test_data[:, 2], 0.33)\n",
    "second_third_start = np.quantile(test_data[:, 2], 0.66)\n",
    "\n",
    "first_third_end = np.quantile(test_data[:, 5], 0.33)\n",
    "second_third_end = np.quantile(test_data[:, 5], 0.66)\n",
    "\n",
    "print(\"3rd quantiles\")\n",
    "print(f\"Start: \\n1st {first_third_start}, 2nd {second_third_start}\")\n",
    "print(f\"End: \\n1st {first_third_end}, 2nd {second_third_end}\")\n",
    "\n",
    "mask_start = (test_data[:, 2] + test_data[:, 5]) < (first_third_end + first_third_start)\n",
    "mask_end = (test_data[:, 2] + test_data[:, 5]) > (second_third_end + second_third_start)\n",
    "mask_mid =  ~mask_start & ~mask_end\n",
    "\n",
    "small_test_data, small_test_labels = test_data[mask_start], test_labels[mask_start]\n",
    "medium_test_data, medium_test_labels = test_data[mask_mid], test_labels[mask_mid]\n",
    "large_test_data, large_test_labels = test_data[mask_end], test_labels[mask_end]\n",
    "\n",
    "small_test_loader = make_dataloader(small_test_data, small_test_labels, batch_size=batch_size, shuffle=False)\n",
    "medium_test_loader = make_dataloader(medium_test_data, medium_test_labels, batch_size=batch_size, shuffle=False)\n",
    "large_test_loader = make_dataloader(large_test_data, large_test_labels, batch_size=batch_size, shuffle=False)"
   ],
   "id": "eae21de512781bd2",
   "outputs": [
    {
     "name": "stdout",
     "output_type": "stream",
     "text": [
      "3rd quantiles\n",
      "Start: \n",
      "1st 2.483432, 2nd 3.68008\n",
      "End: \n",
      "1st 2.5017866666666664, 2nd 3.8655999999999997\n"
     ]
    }
   ],
   "execution_count": 19
  },
  {
   "metadata": {
    "ExecuteTime": {
     "end_time": "2024-10-17T21:23:32.164973Z",
     "start_time": "2024-10-17T21:23:04.758053Z"
    }
   },
   "cell_type": "code",
   "source": [
    "trainedmodels = {}\n",
    "losses = {}\n",
    "loss_function = nn.BCEWithLogitsLoss()\n",
    "\n",
    "for name, params in modelparams.items():\n",
    "  model = MyMLP(len(train_data[0]), len(train_labels[0]))\n",
    "  model.to(device = device)\n",
    "  optimizer = optim.SGD(model.parameters(), **params)\n",
    "\n",
    "  print(f\"{name}: \", \"  |  \".join(map(lambda x: f\"{str(x[0])}: {str(x[1])}\",params.items())))\n",
    "  losses[name]=train(100, optimizer, model, train_loader, loss_function)\n",
    "  trainedmodels[name] = model"
   ],
   "id": "ae5a396db07c9af",
   "outputs": [
    {
     "name": "stdout",
     "output_type": "stream",
     "text": [
      "model0:  lr: 0.025  |  momentum: 0.9  |  weight_decay: 0\n",
      "23:23:07.611364  |  Epoch 1  |  Training loss 0.680\n",
      "23:23:08.450705  |  Epoch 10  |  Training loss 0.424\n",
      "23:23:09.226098  |  Epoch 20  |  Training loss 0.422\n",
      "23:23:09.992796  |  Epoch 30  |  Training loss 0.419\n",
      "23:23:10.927033  |  Epoch 40  |  Training loss 0.412\n",
      "23:23:11.757669  |  Epoch 50  |  Training loss 0.410\n",
      "23:23:12.518307  |  Epoch 60  |  Training loss 0.413\n",
      "23:23:13.277831  |  Epoch 70  |  Training loss 0.410\n",
      "23:23:14.019733  |  Epoch 80  |  Training loss 0.405\n",
      "23:23:14.574784  |  Epoch 90  |  Training loss 0.408\n",
      "23:23:15.188199  |  Epoch 100  |  Training loss 0.407\n",
      "model1:  lr: 0.025  |  momentum: 0.5  |  weight_decay: 0.0005\n",
      "23:23:15.235456  |  Epoch 1  |  Training loss 0.690\n",
      "23:23:15.731723  |  Epoch 10  |  Training loss 0.455\n",
      "23:23:16.384466  |  Epoch 20  |  Training loss 0.430\n",
      "23:23:17.001853  |  Epoch 30  |  Training loss 0.426\n",
      "23:23:17.582167  |  Epoch 40  |  Training loss 0.418\n",
      "23:23:18.120020  |  Epoch 50  |  Training loss 0.419\n",
      "23:23:18.659486  |  Epoch 60  |  Training loss 0.415\n",
      "23:23:19.274722  |  Epoch 70  |  Training loss 0.413\n",
      "23:23:19.815252  |  Epoch 80  |  Training loss 0.413\n",
      "23:23:20.415188  |  Epoch 90  |  Training loss 0.413\n",
      "23:23:21.065190  |  Epoch 100  |  Training loss 0.414\n",
      "model2:  lr: 0.05  |  momentum: 0.9  |  weight_decay: 0.0025\n",
      "23:23:21.168185  |  Epoch 1  |  Training loss 0.685\n",
      "23:23:21.696487  |  Epoch 10  |  Training loss 0.428\n",
      "23:23:22.286737  |  Epoch 20  |  Training loss 0.425\n",
      "23:23:22.870555  |  Epoch 30  |  Training loss 0.422\n",
      "23:23:23.418561  |  Epoch 40  |  Training loss 0.419\n",
      "23:23:23.959009  |  Epoch 50  |  Training loss 0.425\n",
      "23:23:24.534172  |  Epoch 60  |  Training loss 0.418\n",
      "23:23:25.085117  |  Epoch 70  |  Training loss 0.423\n",
      "23:23:25.640402  |  Epoch 80  |  Training loss 0.423\n",
      "23:23:26.215079  |  Epoch 90  |  Training loss 0.421\n",
      "23:23:26.762155  |  Epoch 100  |  Training loss 0.421\n",
      "model3:  lr: 0.025  |  momentum: 0.95  |  weight_decay: 0.001\n",
      "23:23:26.809492  |  Epoch 1  |  Training loss 0.640\n",
      "23:23:27.308304  |  Epoch 10  |  Training loss 0.422\n",
      "23:23:27.859371  |  Epoch 20  |  Training loss 0.414\n",
      "23:23:28.364721  |  Epoch 30  |  Training loss 0.416\n",
      "23:23:28.893648  |  Epoch 40  |  Training loss 0.414\n",
      "23:23:29.430262  |  Epoch 50  |  Training loss 0.409\n",
      "23:23:29.957114  |  Epoch 60  |  Training loss 0.415\n",
      "23:23:30.475199  |  Epoch 70  |  Training loss 0.413\n",
      "23:23:31.013992  |  Epoch 80  |  Training loss 0.412\n",
      "23:23:31.604360  |  Epoch 90  |  Training loss 0.414\n",
      "23:23:32.150465  |  Epoch 100  |  Training loss 0.418\n"
     ]
    }
   ],
   "execution_count": 20
  },
  {
   "metadata": {
    "ExecuteTime": {
     "end_time": "2024-10-17T21:23:32.313661Z",
     "start_time": "2024-10-17T21:23:32.263667Z"
    }
   },
   "cell_type": "code",
   "source": [
    "best_acc = 0\n",
    "best_model = \"\"\n",
    "for name, model in trainedmodels.items():\n",
    "    _, accuracy = validate(model, val_loader, loss_function)\n",
    "    if accuracy > best_acc:\n",
    "        best_model = name\n",
    "        best_acc = accuracy"
   ],
   "id": "9f7651fbfda11f27",
   "outputs": [],
   "execution_count": 21
  },
  {
   "metadata": {
    "ExecuteTime": {
     "end_time": "2024-10-17T21:23:32.427470Z",
     "start_time": "2024-10-17T21:23:32.413113Z"
    }
   },
   "cell_type": "code",
   "source": "print(f\"best model: {best_model}, {best_acc}\")",
   "id": "94b09b9d3f5390fe",
   "outputs": [
    {
     "name": "stdout",
     "output_type": "stream",
     "text": [
      "best model: model2, 0.7939958592132506\n"
     ]
    }
   ],
   "execution_count": 22
  },
  {
   "metadata": {
    "ExecuteTime": {
     "end_time": "2024-10-17T21:23:32.554176Z",
     "start_time": "2024-10-17T21:23:32.524791Z"
    }
   },
   "cell_type": "code",
   "source": [
    "for i, loader in enumerate([small_test_loader, medium_test_loader, large_test_loader]):\n",
    "    _, accuracy = validate(trainedmodels[best_model], loader, loss_function)\n",
    "    print(f\"({i}/3 - {i+1}/3)  :  {accuracy}\")"
   ],
   "id": "1f0c7a9d5b42775b",
   "outputs": [
    {
     "name": "stdout",
     "output_type": "stream",
     "text": [
      "(0/3 - 1/3)  :  0.7547770700636943\n",
      "(1/3 - 2/3)  :  0.8\n",
      "(2/3 - 3/3)  :  0.8881987577639752\n"
     ]
    }
   ],
   "execution_count": 23
  },
  {
   "metadata": {},
   "cell_type": "markdown",
   "source": "#### Results get more accurate as the wind is stronger! ",
   "id": "bc950858ec418e55"
  },
  {
   "metadata": {
    "ExecuteTime": {
     "end_time": "2024-10-17T21:23:33.853756Z",
     "start_time": "2024-10-17T21:23:32.650653Z"
    }
   },
   "cell_type": "code",
   "source": [
    "from sklearn.neural_network import MLPClassifier\n",
    "from sklearn.dummy import DummyClassifier\n",
    "from sklearn.ensemble import RandomForestClassifier\n",
    "from sklearn.tree import DecisionTreeClassifier\n",
    "from sklearn.neighbors import KNeighborsClassifier\n",
    "from sklearn.base import BaseEstimator\n",
    "\n",
    "models = {\n",
    "    \"Base line\" : [DummyClassifier(strategy = \"most_frequent\"), {\n",
    "    \n",
    "    }],\n",
    "    \"Multi-layer Perception\" : [MLPClassifier(random_state=42, max_iter = 1000), {\n",
    "        \"hidden_layer_sizes\" : [10, 25, 50], \n",
    "    }],\n",
    "    \"K Nearest Neighbors\" : [KNeighborsClassifier(), {\n",
    "        \"n_neighbors\" : [5, 10, 20, 40], \n",
    "        \"p\": [1, 2, 3]\n",
    "    }],\n",
    "    \"Random Forrest Classifier\" : [RandomForestClassifier(random_state=42), {\n",
    "        \"max_depth\": [2, 3], \n",
    "        \"n_estimators\" : [50, 100, 300]\n",
    "    }],\n",
    "    \"Decision Tree Classifier\" : [DecisionTreeClassifier(random_state=42), {\n",
    "        \"min_samples_split\" : [2, 3, 4],\n",
    "        \"min_samples_leaf\" : [1, 2, 3]\n",
    "    }],\n",
    "}"
   ],
   "id": "324083641f80e378",
   "outputs": [],
   "execution_count": 24
  },
  {
   "metadata": {
    "ExecuteTime": {
     "end_time": "2024-10-17T21:23:59.314371Z",
     "start_time": "2024-10-17T21:23:33.951029Z"
    }
   },
   "cell_type": "code",
   "source": [
    "from sklearn.metrics import accuracy_score\n",
    "from sklearn.model_selection import GridSearchCV\n",
    "\n",
    "datalist = []\n",
    "\n",
    "for i in models.keys():\n",
    "    #does the gridsearch on the models\n",
    "    model = GridSearchCV(models[i][0], models[i][1])\n",
    "    #makes a prediction\n",
    "    prediction = model.fit(train_data, train_labels).predict(test_data)\n",
    "    #finds out how good that prediction is\n",
    "    \n",
    "    total = len(test_labels) * len(test_labels[0])  # Total number of binary labels\n",
    "    correct = (prediction == test_labels).sum()\n",
    "    accuracy = correct/total\n",
    "    datalist.append([model.best_estimator_, accuracy])"
   ],
   "id": "f57612ca5894b1b1",
   "outputs": [],
   "execution_count": 25
  },
  {
   "metadata": {
    "ExecuteTime": {
     "end_time": "2024-10-17T21:23:59.424652Z",
     "start_time": "2024-10-17T21:23:59.410792Z"
    }
   },
   "cell_type": "code",
   "source": [
    "for i, j in datalist:\n",
    "    print(f\"{i.__repr__(): <70}: {j: .3}\")"
   ],
   "id": "49174dedffd31fa5",
   "outputs": [
    {
     "name": "stdout",
     "output_type": "stream",
     "text": [
      "DummyClassifier(strategy='most_frequent')                             :  0.55\n",
      "MLPClassifier(hidden_layer_sizes=50, max_iter=1000, random_state=42)  :  0.811\n",
      "KNeighborsClassifier(n_neighbors=40, p=3)                             :  0.822\n",
      "RandomForestClassifier(max_depth=3, n_estimators=50, random_state=42) :  0.821\n",
      "DecisionTreeClassifier(min_samples_leaf=2, random_state=42)           :  0.751\n"
     ]
    }
   ],
   "execution_count": 26
  },
  {
   "metadata": {
    "ExecuteTime": {
     "end_time": "2024-10-17T21:23:59.552189Z",
     "start_time": "2024-10-17T21:23:59.536482Z"
    }
   },
   "cell_type": "code",
   "source": "best_model = sorted(datalist, key=lambda x: x[1], reverse=True)[0][0]",
   "id": "8810381ad5a8af36",
   "outputs": [],
   "execution_count": 27
  },
  {
   "metadata": {
    "ExecuteTime": {
     "end_time": "2024-10-17T21:24:16.183724Z",
     "start_time": "2024-10-17T21:24:16.072666Z"
    }
   },
   "cell_type": "code",
   "source": [
    "for i, (data, labels) in enumerate([(small_test_data, small_test_labels), (medium_test_data, medium_test_labels), (large_test_data,large_test_labels)]):\n",
    "    prediction = best_model.predict(data)\n",
    "    \n",
    "    total = len(labels) * len(labels[0])  # Total number of binary labels\n",
    "    correct = (prediction == labels).sum()\n",
    "    accuracy = correct/total\n",
    "    \n",
    "    print(f\"({i}/3 - {i+1}/3)  :  {accuracy: .3}\")"
   ],
   "id": "2c2d3f57bbc33621",
   "outputs": [
    {
     "name": "stdout",
     "output_type": "stream",
     "text": [
      "(0/3 - 1/3)  :   0.758\n",
      "(1/3 - 2/3)  :   0.818\n",
      "(2/3 - 3/3)  :   0.888\n"
     ]
    }
   ],
   "execution_count": 30
  },
  {
   "metadata": {},
   "cell_type": "code",
   "outputs": [],
   "execution_count": null,
   "source": "",
   "id": "c2d529c547dda4ad"
  },
  {
   "metadata": {},
   "cell_type": "code",
   "outputs": [],
   "execution_count": null,
   "source": "",
   "id": "8b9a08a9dedd5aeb"
  }
 ],
 "metadata": {
  "kernelspec": {
   "display_name": "Python 3",
   "language": "python",
   "name": "python3"
  },
  "language_info": {
   "codemirror_mode": {
    "name": "ipython",
    "version": 2
   },
   "file_extension": ".py",
   "mimetype": "text/x-python",
   "name": "python",
   "nbconvert_exporter": "python",
   "pygments_lexer": "ipython2",
   "version": "2.7.6"
  }
 },
 "nbformat": 4,
 "nbformat_minor": 5
}
